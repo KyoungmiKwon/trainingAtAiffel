{
 "cells": [
  {
   "cell_type": "markdown",
   "metadata": {},
   "source": []
  },
  {
   "cell_type": "code",
   "execution_count": null,
   "metadata": {},
   "outputs": [],
   "source": [
    "# 라이브러리 불러오기 \n",
    "import pandas as pd \n",
    "from scipy import stats\n",
    "import numpy as np\n",
    "import matplotlib.pyplot as plt \n",
    "import seaborn as sns\n",
    "from sklearn.preprocessing import StandardScaler  \n",
    "from sklearn.decomposition import PCA\n",
    "from sklearn.cluster import KMeans\n",
    "from collections import Counter\n",
    "import plotly.graph_objects as go\n",
    "from sklearn.neighbors import KNeighborsClassifier # kNN 분류기\n",
    "\n",
    "# 경고 무시\n",
    "import warnings\n",
    "warnings.simplefilter('ignore')\n",
    "# Unicode warning 제거 (폰트관련 경고 메세지)\n",
    "plt.rcParams['axes.unicode_minus']=False\n",
    "# 한글 폰트 설정\n",
    "plt.rcParams['font.family'] = \"NanumGothic\"\n",
    "\n"
   ]
  },
  {
   "cell_type": "markdown",
   "metadata": {},
   "source": [
    "## 01. 이상 데이터 분석 및 처리"
   ]
  },
  {
   "cell_type": "code",
   "execution_count": 2,
   "metadata": {},
   "outputs": [
    {
     "data": {
      "text/html": [
       "<div>\n",
       "<style scoped>\n",
       "    .dataframe tbody tr th:only-of-type {\n",
       "        vertical-align: middle;\n",
       "    }\n",
       "\n",
       "    .dataframe tbody tr th {\n",
       "        vertical-align: top;\n",
       "    }\n",
       "\n",
       "    .dataframe thead th {\n",
       "        text-align: right;\n",
       "    }\n",
       "</style>\n",
       "<table border=\"1\" class=\"dataframe\">\n",
       "  <thead>\n",
       "    <tr style=\"text-align: right;\">\n",
       "      <th></th>\n",
       "      <th>CustomerID</th>\n",
       "      <th>purchase_cnt</th>\n",
       "      <th>item_cnt</th>\n",
       "      <th>recency</th>\n",
       "      <th>user_total</th>\n",
       "      <th>user_average</th>\n",
       "      <th>unique_products</th>\n",
       "      <th>average_interval</th>\n",
       "      <th>total_transactions</th>\n",
       "      <th>cancel_frequency</th>\n",
       "      <th>cancel_rate</th>\n",
       "    </tr>\n",
       "  </thead>\n",
       "  <tbody>\n",
       "    <tr>\n",
       "      <th>0</th>\n",
       "      <td>17715</td>\n",
       "      <td>1</td>\n",
       "      <td>384</td>\n",
       "      <td>200</td>\n",
       "      <td>326.4</td>\n",
       "      <td>326.4</td>\n",
       "      <td>1</td>\n",
       "      <td>0.0</td>\n",
       "      <td>1</td>\n",
       "      <td>0</td>\n",
       "      <td>0.0</td>\n",
       "    </tr>\n",
       "    <tr>\n",
       "      <th>1</th>\n",
       "      <td>18174</td>\n",
       "      <td>1</td>\n",
       "      <td>50</td>\n",
       "      <td>7</td>\n",
       "      <td>104.0</td>\n",
       "      <td>104.0</td>\n",
       "      <td>1</td>\n",
       "      <td>0.0</td>\n",
       "      <td>1</td>\n",
       "      <td>0</td>\n",
       "      <td>0.0</td>\n",
       "    </tr>\n",
       "    <tr>\n",
       "      <th>2</th>\n",
       "      <td>17925</td>\n",
       "      <td>1</td>\n",
       "      <td>72</td>\n",
       "      <td>372</td>\n",
       "      <td>244.1</td>\n",
       "      <td>244.1</td>\n",
       "      <td>1</td>\n",
       "      <td>0.0</td>\n",
       "      <td>1</td>\n",
       "      <td>0</td>\n",
       "      <td>0.0</td>\n",
       "    </tr>\n",
       "    <tr>\n",
       "      <th>3</th>\n",
       "      <td>16737</td>\n",
       "      <td>1</td>\n",
       "      <td>288</td>\n",
       "      <td>53</td>\n",
       "      <td>417.6</td>\n",
       "      <td>417.6</td>\n",
       "      <td>1</td>\n",
       "      <td>0.0</td>\n",
       "      <td>1</td>\n",
       "      <td>0</td>\n",
       "      <td>0.0</td>\n",
       "    </tr>\n",
       "    <tr>\n",
       "      <th>4</th>\n",
       "      <td>17382</td>\n",
       "      <td>1</td>\n",
       "      <td>24</td>\n",
       "      <td>65</td>\n",
       "      <td>50.4</td>\n",
       "      <td>50.4</td>\n",
       "      <td>1</td>\n",
       "      <td>0.0</td>\n",
       "      <td>1</td>\n",
       "      <td>0</td>\n",
       "      <td>0.0</td>\n",
       "    </tr>\n",
       "  </tbody>\n",
       "</table>\n",
       "</div>"
      ],
      "text/plain": [
       "   CustomerID  purchase_cnt  item_cnt  recency  user_total  user_average  \\\n",
       "0       17715             1       384      200       326.4         326.4   \n",
       "1       18174             1        50        7       104.0         104.0   \n",
       "2       17925             1        72      372       244.1         244.1   \n",
       "3       16737             1       288       53       417.6         417.6   \n",
       "4       17382             1        24       65        50.4          50.4   \n",
       "\n",
       "   unique_products  average_interval  total_transactions  cancel_frequency  \\\n",
       "0                1               0.0                   1                 0   \n",
       "1                1               0.0                   1                 0   \n",
       "2                1               0.0                   1                 0   \n",
       "3                1               0.0                   1                 0   \n",
       "4                1               0.0                   1                 0   \n",
       "\n",
       "   cancel_rate  \n",
       "0          0.0  \n",
       "1          0.0  \n",
       "2          0.0  \n",
       "3          0.0  \n",
       "4          0.0  "
      ]
     },
     "execution_count": 2,
     "metadata": {},
     "output_type": "execute_result"
    }
   ],
   "source": [
    "# 데이터 불러오기\n",
    "user_data = pd.read_csv('/Users/kwonkyoungmi/workspaces/workspace_Python/data/user_data.csv')\n",
    "\n",
    "# 데이터의 상위 5번째 행까지 출력\n",
    "user_data.head()"
   ]
  },
  {
   "cell_type": "code",
   "execution_count": 3,
   "metadata": {},
   "outputs": [
    {
     "data": {
      "text/html": [
       "<div>\n",
       "<style scoped>\n",
       "    .dataframe tbody tr th:only-of-type {\n",
       "        vertical-align: middle;\n",
       "    }\n",
       "\n",
       "    .dataframe tbody tr th {\n",
       "        vertical-align: top;\n",
       "    }\n",
       "\n",
       "    .dataframe thead th {\n",
       "        text-align: right;\n",
       "    }\n",
       "</style>\n",
       "<table border=\"1\" class=\"dataframe\">\n",
       "  <thead>\n",
       "    <tr style=\"text-align: right;\">\n",
       "      <th></th>\n",
       "      <th>CustomerID</th>\n",
       "      <th>purchase_cnt</th>\n",
       "      <th>item_cnt</th>\n",
       "      <th>recency</th>\n",
       "      <th>user_total</th>\n",
       "      <th>user_average</th>\n",
       "      <th>unique_products</th>\n",
       "      <th>average_interval</th>\n",
       "      <th>total_transactions</th>\n",
       "      <th>cancel_frequency</th>\n",
       "      <th>cancel_rate</th>\n",
       "    </tr>\n",
       "  </thead>\n",
       "  <tbody>\n",
       "    <tr>\n",
       "      <th>mean</th>\n",
       "      <td>15300.241403</td>\n",
       "      <td>91.603164</td>\n",
       "      <td>1117.375287</td>\n",
       "      <td>91.707703</td>\n",
       "      <td>1894.605181</td>\n",
       "      <td>32.892595</td>\n",
       "      <td>61.169188</td>\n",
       "      <td>3.348764</td>\n",
       "      <td>91.603164</td>\n",
       "      <td>1.949794</td>\n",
       "      <td>2.927453</td>\n",
       "    </tr>\n",
       "    <tr>\n",
       "      <th>std</th>\n",
       "      <td>1721.771258</td>\n",
       "      <td>228.297181</td>\n",
       "      <td>4669.107687</td>\n",
       "      <td>100.972922</td>\n",
       "      <td>8266.047438</td>\n",
       "      <td>180.930242</td>\n",
       "      <td>85.366739</td>\n",
       "      <td>11.328177</td>\n",
       "      <td>228.297181</td>\n",
       "      <td>7.171468</td>\n",
       "      <td>9.873250</td>\n",
       "    </tr>\n",
       "    <tr>\n",
       "      <th>min</th>\n",
       "      <td>12346.000000</td>\n",
       "      <td>1.000000</td>\n",
       "      <td>-303.000000</td>\n",
       "      <td>0.000000</td>\n",
       "      <td>-1192.200000</td>\n",
       "      <td>-238.400000</td>\n",
       "      <td>1.000000</td>\n",
       "      <td>0.000000</td>\n",
       "      <td>1.000000</td>\n",
       "      <td>0.000000</td>\n",
       "      <td>0.000000</td>\n",
       "    </tr>\n",
       "    <tr>\n",
       "      <th>max</th>\n",
       "      <td>18287.000000</td>\n",
       "      <td>7800.000000</td>\n",
       "      <td>196556.000000</td>\n",
       "      <td>373.000000</td>\n",
       "      <td>278778.000000</td>\n",
       "      <td>9904.900000</td>\n",
       "      <td>1791.000000</td>\n",
       "      <td>309.000000</td>\n",
       "      <td>7800.000000</td>\n",
       "      <td>222.000000</td>\n",
       "      <td>100.000000</td>\n",
       "    </tr>\n",
       "  </tbody>\n",
       "</table>\n",
       "</div>"
      ],
      "text/plain": [
       "        CustomerID  purchase_cnt       item_cnt     recency     user_total  \\\n",
       "mean  15300.241403     91.603164    1117.375287   91.707703    1894.605181   \n",
       "std    1721.771258    228.297181    4669.107687  100.972922    8266.047438   \n",
       "min   12346.000000      1.000000    -303.000000    0.000000   -1192.200000   \n",
       "max   18287.000000   7800.000000  196556.000000  373.000000  278778.000000   \n",
       "\n",
       "      user_average  unique_products  average_interval  total_transactions  \\\n",
       "mean     32.892595        61.169188          3.348764           91.603164   \n",
       "std     180.930242        85.366739         11.328177          228.297181   \n",
       "min    -238.400000         1.000000          0.000000            1.000000   \n",
       "max    9904.900000      1791.000000        309.000000         7800.000000   \n",
       "\n",
       "      cancel_frequency  cancel_rate  \n",
       "mean          1.949794     2.927453  \n",
       "std           7.171468     9.873250  \n",
       "min           0.000000     0.000000  \n",
       "max         222.000000   100.000000  "
      ]
     },
     "execution_count": 3,
     "metadata": {},
     "output_type": "execute_result"
    }
   ],
   "source": [
    "# 평균, 표준편차, 최솟값, 최댓값 확인\n",
    "\n",
    "user_data.describe()\n",
    "user_data.describe().loc[['mean', 'std', 'min', 'max']]\n"
   ]
  },
  {
   "cell_type": "code",
   "execution_count": 4,
   "metadata": {},
   "outputs": [
    {
     "data": {
      "text/plain": [
       "array([[ 0.39691051,  0.1570877 ,  1.07261145, ...,  0.39691051,\n",
       "         0.27191327,  0.29653746],\n",
       "       [ 0.39691051,  0.22862991,  0.83901122, ...,  0.39691051,\n",
       "         0.27191327,  0.29653746],\n",
       "       [ 0.39691051,  0.22391755,  2.77623373, ...,  0.39691051,\n",
       "         0.27191327,  0.29653746],\n",
       "       ...,\n",
       "       [10.45422645,  7.83015045,  0.90834469, ..., 10.45422645,\n",
       "        15.34732197,  0.16131765],\n",
       "       [33.76861921,  4.60432497,  0.8984399 , ..., 33.76861921,\n",
       "        18.27592858,  0.12332236],\n",
       "       [25.03338825, 16.21601152,  0.8984399 , ..., 25.03338825,\n",
       "        30.6876423 ,  0.09041089]])"
      ]
     },
     "execution_count": 4,
     "metadata": {},
     "output_type": "execute_result"
    }
   ],
   "source": [
    "# Z-score 계산 \n",
    "z_scores = stats.zscore(user_data.iloc[:, 1:], axis=0)  \n",
    "\n",
    "# Z-score 절대값 계산\n",
    "z_scores = np.abs(z_scores)\n",
    "\n",
    "# Z-score 출력\n",
    "z_scores"
   ]
  },
  {
   "cell_type": "code",
   "execution_count": 5,
   "metadata": {},
   "outputs": [
    {
     "data": {
      "text/html": [
       "<div>\n",
       "<style scoped>\n",
       "    .dataframe tbody tr th:only-of-type {\n",
       "        vertical-align: middle;\n",
       "    }\n",
       "\n",
       "    .dataframe tbody tr th {\n",
       "        vertical-align: top;\n",
       "    }\n",
       "\n",
       "    .dataframe thead th {\n",
       "        text-align: right;\n",
       "    }\n",
       "</style>\n",
       "<table border=\"1\" class=\"dataframe\">\n",
       "  <thead>\n",
       "    <tr style=\"text-align: right;\">\n",
       "      <th></th>\n",
       "      <th>CustomerID</th>\n",
       "      <th>purchase_cnt</th>\n",
       "      <th>item_cnt</th>\n",
       "      <th>recency</th>\n",
       "      <th>user_total</th>\n",
       "      <th>user_average</th>\n",
       "      <th>unique_products</th>\n",
       "      <th>average_interval</th>\n",
       "      <th>total_transactions</th>\n",
       "      <th>cancel_frequency</th>\n",
       "      <th>cancel_rate</th>\n",
       "      <th>outlier</th>\n",
       "    </tr>\n",
       "  </thead>\n",
       "  <tbody>\n",
       "    <tr>\n",
       "      <th>0</th>\n",
       "      <td>17715</td>\n",
       "      <td>1</td>\n",
       "      <td>384</td>\n",
       "      <td>200</td>\n",
       "      <td>326.4</td>\n",
       "      <td>326.4</td>\n",
       "      <td>1</td>\n",
       "      <td>0.0</td>\n",
       "      <td>1</td>\n",
       "      <td>0</td>\n",
       "      <td>0.0</td>\n",
       "      <td>0</td>\n",
       "    </tr>\n",
       "    <tr>\n",
       "      <th>1</th>\n",
       "      <td>18174</td>\n",
       "      <td>1</td>\n",
       "      <td>50</td>\n",
       "      <td>7</td>\n",
       "      <td>104.0</td>\n",
       "      <td>104.0</td>\n",
       "      <td>1</td>\n",
       "      <td>0.0</td>\n",
       "      <td>1</td>\n",
       "      <td>0</td>\n",
       "      <td>0.0</td>\n",
       "      <td>0</td>\n",
       "    </tr>\n",
       "    <tr>\n",
       "      <th>2</th>\n",
       "      <td>17925</td>\n",
       "      <td>1</td>\n",
       "      <td>72</td>\n",
       "      <td>372</td>\n",
       "      <td>244.1</td>\n",
       "      <td>244.1</td>\n",
       "      <td>1</td>\n",
       "      <td>0.0</td>\n",
       "      <td>1</td>\n",
       "      <td>0</td>\n",
       "      <td>0.0</td>\n",
       "      <td>0</td>\n",
       "    </tr>\n",
       "    <tr>\n",
       "      <th>3</th>\n",
       "      <td>16737</td>\n",
       "      <td>1</td>\n",
       "      <td>288</td>\n",
       "      <td>53</td>\n",
       "      <td>417.6</td>\n",
       "      <td>417.6</td>\n",
       "      <td>1</td>\n",
       "      <td>0.0</td>\n",
       "      <td>1</td>\n",
       "      <td>0</td>\n",
       "      <td>0.0</td>\n",
       "      <td>0</td>\n",
       "    </tr>\n",
       "    <tr>\n",
       "      <th>4</th>\n",
       "      <td>17382</td>\n",
       "      <td>1</td>\n",
       "      <td>24</td>\n",
       "      <td>65</td>\n",
       "      <td>50.4</td>\n",
       "      <td>50.4</td>\n",
       "      <td>1</td>\n",
       "      <td>0.0</td>\n",
       "      <td>1</td>\n",
       "      <td>0</td>\n",
       "      <td>0.0</td>\n",
       "      <td>0</td>\n",
       "    </tr>\n",
       "  </tbody>\n",
       "</table>\n",
       "</div>"
      ],
      "text/plain": [
       "   CustomerID  purchase_cnt  item_cnt  recency  user_total  user_average  \\\n",
       "0       17715             1       384      200       326.4         326.4   \n",
       "1       18174             1        50        7       104.0         104.0   \n",
       "2       17925             1        72      372       244.1         244.1   \n",
       "3       16737             1       288       53       417.6         417.6   \n",
       "4       17382             1        24       65        50.4          50.4   \n",
       "\n",
       "   unique_products  average_interval  total_transactions  cancel_frequency  \\\n",
       "0                1               0.0                   1                 0   \n",
       "1                1               0.0                   1                 0   \n",
       "2                1               0.0                   1                 0   \n",
       "3                1               0.0                   1                 0   \n",
       "4                1               0.0                   1                 0   \n",
       "\n",
       "   cancel_rate  outlier  \n",
       "0          0.0        0  \n",
       "1          0.0        0  \n",
       "2          0.0        0  \n",
       "3          0.0        0  \n",
       "4          0.0        0  "
      ]
     },
     "execution_count": 5,
     "metadata": {},
     "output_type": "execute_result"
    }
   ],
   "source": [
    "# 임계값(threshold) 설정\n",
    "threshold = 3\n",
    "\n",
    "# z-score 기준으로 이상치를 찾아서 outlier 컬럼에 이상치 여부 기입 (0: 정상, 1:이상치)\n",
    "user_data['outlier'] = (z_scores > threshold).any(axis=1).astype(int)\n",
    "'''\n",
    "`.any(axis=1)` 함수는 는 각 행(axis = 1)에 대해 True가 하나라도 있으면 True를 반환, 그렇지 않으면 False를 반환\n",
    "'''\n",
    "\n",
    "user_data.head()"
   ]
  },
  {
   "cell_type": "code",
   "execution_count": 6,
   "metadata": {},
   "outputs": [
    {
     "data": {
      "image/png": "[encoded data removed]",
      "text/plain": [
       "<Figure size 300x400 with 1 Axes>"
      ]
     },
     "metadata": {},
     "output_type": "display_data"
    }
   ],
   "source": [
    "# user_data['outlier']을 활용하여 이상치 여부에 따른 확률 계산\n",
    "# value_counts()는 열의 고윳값의 개수를 반환하지만 normalize=True를 사용하면 열에 있는 값의 개수 비율(상대적 빈도 0 ~ 1 범위)을 반환함 \n",
    "outlier_percentage = pd.value_counts(user_data['outlier'], normalize=True) * 100\n",
    "\n",
    "# 시각화 자료 크기 조정\n",
    "plt.figure(figsize=(3, 4))\n",
    "\n",
    "# outlier_percentage라는 데이터로 bar chart 시각화\n",
    "# x축 값을 0과 1로 지정\n",
    "bars = plt.bar(['0', '1'], outlier_percentage)\n",
    "\n",
    "# 퍼센트(%) 표시\n",
    "for bar in bars:\n",
    "    yval = bar.get_height()\n",
    "    plt.text(bar.get_x() + bar.get_width()/2, yval/2, f'{yval:.2f}%', fontsize=10, va='center', ha='center')\n",
    "\n",
    "plt.title('Normal(0) vs Outlier(1)') # 표 제목\n",
    "plt.yticks(ticks=np.arange(0, 101, 10)) # y축 표기 (0~100까지 10단위로 증가)\n",
    "plt.ylabel('Percentage (%)') # y축 범례\n",
    "plt.xlabel('Outlier') # x축 범례\n",
    "plt.show() # 출력"
   ]
  },
  {
   "cell_type": "code",
   "execution_count": 7,
   "metadata": {},
   "outputs": [
    {
     "data": {
      "text/html": [
       "<div>\n",
       "<style scoped>\n",
       "    .dataframe tbody tr th:only-of-type {\n",
       "        vertical-align: middle;\n",
       "    }\n",
       "\n",
       "    .dataframe tbody tr th {\n",
       "        vertical-align: top;\n",
       "    }\n",
       "\n",
       "    .dataframe thead th {\n",
       "        text-align: right;\n",
       "    }\n",
       "</style>\n",
       "<table border=\"1\" class=\"dataframe\">\n",
       "  <thead>\n",
       "    <tr style=\"text-align: right;\">\n",
       "      <th></th>\n",
       "      <th>CustomerID</th>\n",
       "      <th>purchase_cnt</th>\n",
       "      <th>item_cnt</th>\n",
       "      <th>recency</th>\n",
       "      <th>user_total</th>\n",
       "      <th>user_average</th>\n",
       "      <th>unique_products</th>\n",
       "      <th>average_interval</th>\n",
       "      <th>total_transactions</th>\n",
       "      <th>cancel_frequency</th>\n",
       "      <th>cancel_rate</th>\n",
       "    </tr>\n",
       "  </thead>\n",
       "  <tbody>\n",
       "    <tr>\n",
       "      <th>0</th>\n",
       "      <td>17715</td>\n",
       "      <td>1</td>\n",
       "      <td>384</td>\n",
       "      <td>200</td>\n",
       "      <td>326.4</td>\n",
       "      <td>326.4</td>\n",
       "      <td>1</td>\n",
       "      <td>0.0</td>\n",
       "      <td>1</td>\n",
       "      <td>0</td>\n",
       "      <td>0.0</td>\n",
       "    </tr>\n",
       "    <tr>\n",
       "      <th>1</th>\n",
       "      <td>18174</td>\n",
       "      <td>1</td>\n",
       "      <td>50</td>\n",
       "      <td>7</td>\n",
       "      <td>104.0</td>\n",
       "      <td>104.0</td>\n",
       "      <td>1</td>\n",
       "      <td>0.0</td>\n",
       "      <td>1</td>\n",
       "      <td>0</td>\n",
       "      <td>0.0</td>\n",
       "    </tr>\n",
       "    <tr>\n",
       "      <th>2</th>\n",
       "      <td>17925</td>\n",
       "      <td>1</td>\n",
       "      <td>72</td>\n",
       "      <td>372</td>\n",
       "      <td>244.1</td>\n",
       "      <td>244.1</td>\n",
       "      <td>1</td>\n",
       "      <td>0.0</td>\n",
       "      <td>1</td>\n",
       "      <td>0</td>\n",
       "      <td>0.0</td>\n",
       "    </tr>\n",
       "    <tr>\n",
       "      <th>3</th>\n",
       "      <td>16737</td>\n",
       "      <td>1</td>\n",
       "      <td>288</td>\n",
       "      <td>53</td>\n",
       "      <td>417.6</td>\n",
       "      <td>417.6</td>\n",
       "      <td>1</td>\n",
       "      <td>0.0</td>\n",
       "      <td>1</td>\n",
       "      <td>0</td>\n",
       "      <td>0.0</td>\n",
       "    </tr>\n",
       "    <tr>\n",
       "      <th>4</th>\n",
       "      <td>17382</td>\n",
       "      <td>1</td>\n",
       "      <td>24</td>\n",
       "      <td>65</td>\n",
       "      <td>50.4</td>\n",
       "      <td>50.4</td>\n",
       "      <td>1</td>\n",
       "      <td>0.0</td>\n",
       "      <td>1</td>\n",
       "      <td>0</td>\n",
       "      <td>0.0</td>\n",
       "    </tr>\n",
       "  </tbody>\n",
       "</table>\n",
       "</div>"
      ],
      "text/plain": [
       "   CustomerID  purchase_cnt  item_cnt  recency  user_total  user_average  \\\n",
       "0       17715             1       384      200       326.4         326.4   \n",
       "1       18174             1        50        7       104.0         104.0   \n",
       "2       17925             1        72      372       244.1         244.1   \n",
       "3       16737             1       288       53       417.6         417.6   \n",
       "4       17382             1        24       65        50.4          50.4   \n",
       "\n",
       "   unique_products  average_interval  total_transactions  cancel_frequency  \\\n",
       "0                1               0.0                   1                 0   \n",
       "1                1               0.0                   1                 0   \n",
       "2                1               0.0                   1                 0   \n",
       "3                1               0.0                   1                 0   \n",
       "4                1               0.0                   1                 0   \n",
       "\n",
       "   cancel_rate  \n",
       "0          0.0  \n",
       "1          0.0  \n",
       "2          0.0  \n",
       "3          0.0  \n",
       "4          0.0  "
      ]
     },
     "execution_count": 7,
     "metadata": {},
     "output_type": "execute_result"
    }
   ],
   "source": [
    "# 정상 데이터만 필터링 \n",
    "user_data = user_data[user_data['outlier'] == 0] \n",
    "\n",
    "# outlier 컬럼 삭제 \n",
    "user_data = user_data.drop(columns=['outlier'])\n",
    "\n",
    "# DataFrame의 인덱스를 리셋하고, 이전 인덱스를 컬럼으로 추가하지 않음\n",
    "user_data.reset_index(inplace=True, drop=True)\n",
    "'''\n",
    "inplace=True:\n",
    "    inplace=True를 설정하면 원본 데이터프레임(user_data)이 직접 수정\n",
    "    inplace=False(기본값)일 경우, 수정된 데이터프레임을 반환하지만 원본은 변경되지 않음\n",
    "'''\n",
    "user_data.head()"
   ]
  },
  {
   "cell_type": "markdown",
   "metadata": {},
   "source": [
    "## 02.변수 간 상관관계분석"
   ]
  },
  {
   "cell_type": "markdown",
   "metadata": {},
   "source": [
    "다중공선성 (MultiCollinearity)\n",
    "> 회귀분석에서 사용된 모형의 일부 예측 변수가 ~~다른 예측 변수와 상관 정도가 높아~~, 데이터 분석 시 부정적인 영향을 미치는 현상     \n",
    "여러 개의 변수들이 서로 영향을 주고 있다면, 하나의 영향력을 검증 할 때, 다른 하나의 영향력을 완벽히 통제할 수 없음      \n",
    ">> - 각 변수의 영향력을 분리해서 추정하기 어려워짐 \n",
    ">> - 작은 데이터의 변화에도 모델의 변수 예측값이 크게 달리질 수 있음\n",
    ">> -  실제로 유의미한 결과를 도출하기 어려우며, 해석하기도 어려움       \n",
    "\n",
    "> 다중공선성 문제 해결 방법 : 문제가 있는 변수를 찾아서\n",
    ">> - 하나만 선택\n",
    ">> - 두 변수를 결합하여 새로운 변수 생성 (차원축소기술)\n",
    "\n",
    "\n",
    "회귀분석\n",
    "> 독립 변수와 종속 변수 사이의 상관관계를 나타내는 것"
   ]
  },
  {
   "cell_type": "code",
   "execution_count": 8,
   "metadata": {},
   "outputs": [
    {
     "data": {
      "image/png": "[encoded data removed]",
      "text/plain": [
       "<Figure size 800x600 with 2 Axes>"
      ]
     },
     "metadata": {},
     "output_type": "display_data"
    }
   ],
   "source": [
    "'''상관계수를 시각화 하여 다중공선성 문제 여부 확인'''\n",
    "\n",
    "# 'CustomerID' 열을 제외(drop)하고 상관 관계 행렬 계산(corr())\n",
    "corr = user_data.drop(columns=['CustomerID']).corr()\n",
    "\n",
    "# 행렬이 대각선을 기준으로 대칭이기 때문에 하단만 표시하기 위한 마스크 생성\n",
    "mask = np.zeros_like(corr) # np.zeros_like()는 0으로 가득찬 array 생성, 크기는 corr와 동일   \n",
    "mask[np.triu_indices_from(mask, k=1)] = True # array의 대각선 영역과 그 윗 부분에 True가 들어가도록 설정\n",
    "\n",
    "# 히트맵 그리기\n",
    "plt.figure(figsize=(8, 6))\n",
    "sns.heatmap(corr, mask=mask, cmap='Greys', annot=True, fmt='.2f')\n",
    "plt.show()"
   ]
  },
  {
   "cell_type": "markdown",
   "metadata": {},
   "source": [
    "### 다중공선성 문제 처리 방법\n",
    "->  차원축소\n",
    "\n",
    "> steps : feature scalering  -> Dimensionality Reduction"
   ]
  },
  {
   "cell_type": "markdown",
   "metadata": {},
   "source": [
    "## 03. feature 스케일링"
   ]
  },
  {
   "cell_type": "markdown",
   "metadata": {},
   "source": [
    "피쳐 스케일링 :  독립변수나 특징들의 ~~범위~~를 정규화\n",
    "\n",
    "> 종류 (연속형 데이터)\n",
    "> - standard scaler : 평균 0, 분산 1\n",
    "> - min max scaler : 최소값 0, 최대값 1\n",
    "> - Robust scaler : 중앙값과 사분위수를 사용하여 변환\n",
    "> - Normalizer : 샘플의 벡터 크기가 1이 되도록"
   ]
  },
  {
   "cell_type": "code",
   "execution_count": 9,
   "metadata": {},
   "outputs": [],
   "source": [
    "# standard scaler 객체 생성\n",
    "scaler = StandardScaler()"
   ]
  },
  {
   "cell_type": "code",
   "execution_count": 10,
   "metadata": {},
   "outputs": [
    {
     "data": {
      "text/html": [
       "<div>\n",
       "<style scoped>\n",
       "    .dataframe tbody tr th:only-of-type {\n",
       "        vertical-align: middle;\n",
       "    }\n",
       "\n",
       "    .dataframe tbody tr th {\n",
       "        vertical-align: top;\n",
       "    }\n",
       "\n",
       "    .dataframe thead th {\n",
       "        text-align: right;\n",
       "    }\n",
       "</style>\n",
       "<table border=\"1\" class=\"dataframe\">\n",
       "  <thead>\n",
       "    <tr style=\"text-align: right;\">\n",
       "      <th></th>\n",
       "      <th>CustomerID</th>\n",
       "      <th>purchase_cnt</th>\n",
       "      <th>item_cnt</th>\n",
       "      <th>recency</th>\n",
       "      <th>user_total</th>\n",
       "      <th>user_average</th>\n",
       "      <th>unique_products</th>\n",
       "      <th>average_interval</th>\n",
       "      <th>total_transactions</th>\n",
       "      <th>cancel_frequency</th>\n",
       "      <th>cancel_rate</th>\n",
       "    </tr>\n",
       "  </thead>\n",
       "  <tbody>\n",
       "    <tr>\n",
       "      <th>0</th>\n",
       "      <td>17715</td>\n",
       "      <td>-0.810174</td>\n",
       "      <td>-0.328003</td>\n",
       "      <td>1.080361</td>\n",
       "      <td>-0.490602</td>\n",
       "      <td>7.453246</td>\n",
       "      <td>-0.961986</td>\n",
       "      <td>-0.577561</td>\n",
       "      <td>-0.810174</td>\n",
       "      <td>-0.428276</td>\n",
       "      <td>-0.443038</td>\n",
       "    </tr>\n",
       "    <tr>\n",
       "      <th>1</th>\n",
       "      <td>18174</td>\n",
       "      <td>-0.810174</td>\n",
       "      <td>-0.614216</td>\n",
       "      <td>-0.852875</td>\n",
       "      <td>-0.604139</td>\n",
       "      <td>1.951578</td>\n",
       "      <td>-0.961986</td>\n",
       "      <td>-0.577561</td>\n",
       "      <td>-0.810174</td>\n",
       "      <td>-0.428276</td>\n",
       "      <td>-0.443038</td>\n",
       "    </tr>\n",
       "    <tr>\n",
       "      <th>2</th>\n",
       "      <td>17925</td>\n",
       "      <td>-0.810174</td>\n",
       "      <td>-0.595364</td>\n",
       "      <td>2.803245</td>\n",
       "      <td>-0.532617</td>\n",
       "      <td>5.417332</td>\n",
       "      <td>-0.961986</td>\n",
       "      <td>-0.577561</td>\n",
       "      <td>-0.810174</td>\n",
       "      <td>-0.428276</td>\n",
       "      <td>-0.443038</td>\n",
       "    </tr>\n",
       "    <tr>\n",
       "      <th>3</th>\n",
       "      <td>16737</td>\n",
       "      <td>-0.810174</td>\n",
       "      <td>-0.410268</td>\n",
       "      <td>-0.392104</td>\n",
       "      <td>-0.444044</td>\n",
       "      <td>9.709326</td>\n",
       "      <td>-0.961986</td>\n",
       "      <td>-0.577561</td>\n",
       "      <td>-0.810174</td>\n",
       "      <td>-0.428276</td>\n",
       "      <td>-0.443038</td>\n",
       "    </tr>\n",
       "    <tr>\n",
       "      <th>4</th>\n",
       "      <td>17382</td>\n",
       "      <td>-0.810174</td>\n",
       "      <td>-0.636496</td>\n",
       "      <td>-0.271903</td>\n",
       "      <td>-0.631503</td>\n",
       "      <td>0.625637</td>\n",
       "      <td>-0.961986</td>\n",
       "      <td>-0.577561</td>\n",
       "      <td>-0.810174</td>\n",
       "      <td>-0.428276</td>\n",
       "      <td>-0.443038</td>\n",
       "    </tr>\n",
       "  </tbody>\n",
       "</table>\n",
       "</div>"
      ],
      "text/plain": [
       "   CustomerID  purchase_cnt  item_cnt   recency  user_total  user_average  \\\n",
       "0       17715     -0.810174 -0.328003  1.080361   -0.490602      7.453246   \n",
       "1       18174     -0.810174 -0.614216 -0.852875   -0.604139      1.951578   \n",
       "2       17925     -0.810174 -0.595364  2.803245   -0.532617      5.417332   \n",
       "3       16737     -0.810174 -0.410268 -0.392104   -0.444044      9.709326   \n",
       "4       17382     -0.810174 -0.636496 -0.271903   -0.631503      0.625637   \n",
       "\n",
       "   unique_products  average_interval  total_transactions  cancel_frequency  \\\n",
       "0        -0.961986         -0.577561           -0.810174         -0.428276   \n",
       "1        -0.961986         -0.577561           -0.810174         -0.428276   \n",
       "2        -0.961986         -0.577561           -0.810174         -0.428276   \n",
       "3        -0.961986         -0.577561           -0.810174         -0.428276   \n",
       "4        -0.961986         -0.577561           -0.810174         -0.428276   \n",
       "\n",
       "   cancel_rate  \n",
       "0    -0.443038  \n",
       "1    -0.443038  \n",
       "2    -0.443038  \n",
       "3    -0.443038  \n",
       "4    -0.443038  "
      ]
     },
     "execution_count": 10,
     "metadata": {},
     "output_type": "execute_result"
    }
   ],
   "source": [
    "# 원본 데이터에 영향을 주지 않기 위해 복사 \n",
    "data = user_data.copy()\n",
    "\n",
    "# CustomerID를 제외한 데이터에 스케일링 적용\n",
    "columns_list = data.iloc[:, 1:].columns # iloc: 데이터 특정 값 추출, columns: 데이터프레임의 열 이름 조회 \n",
    "data[columns_list] = scaler.fit_transform(data[columns_list])\n",
    "\n",
    "'''\n",
    "scaler.fit_transform() 함수 : fit_transform() 함수는 fit()과 transform()을 연속적으로 수행하는 편리한 방법\n",
    "                             fit_transform()을 사용하면 원본 데이터는 변경되지 않고, 스케일링된 데이터가 새로운 변수(data)에 저장됨\n",
    "\n",
    "    1. fit(): 데이터를 기반으로 스케일링 매개변수(평균, 표준편차 등)를 계산\n",
    "    2. transform(): 계산된 매개변수를 사용하여 데이터를 변환(스케일링)    \n",
    "'''\n",
    "# 스케일링된 데이터 확인\n",
    "data.head()\n"
   ]
  },
  {
   "cell_type": "markdown",
   "metadata": {},
   "source": [
    "## 04. 차원축소"
   ]
  },
  {
   "cell_type": "markdown",
   "metadata": {},
   "source": [
    "차원 축소 :  다차원 데이터의 차원을 축소하여 새로운 차원이 데이터 생성\n",
    "\n",
    "> 차원축소의 필요성\n",
    "> - 다중공선성 식별\n",
    "> - 노이즈 감소\n",
    "> - 시각화 향상\n",
    "> - 계산 효율성 향상\n",
    "\n",
    "> 차원 축소의 종류 :  PCA, ICA, ISOMAP, t-SNE, UMAP\n",
    "\n",
    "PCA (principal component analysis) 주성분분석  \n",
    "> 고차원 데이터의 주요 특징들은 유지하면서 차원을 줄이는 기술   \n",
    "> 데이터의 feature 수를 줄이면서도 정보를 최대한 보존하는 방식으로 압축     \n",
    "> 주성분들은 원본데이터의 분산을 최대한 포착-         \n",
    "- 특징 1) 데이터 내의 선형관계를 잘 포찰       2) 다중공선성이 있는 데이터셋에 효율적\n",
    "\n",
    "엘보우 포인트 : 누적 설명 분산이 크게 증가하지 않는 지점\n",
    "\n",
    "\n",
    "\n"
   ]
  },
  {
   "cell_type": "code",
   "execution_count": 11,
   "metadata": {},
   "outputs": [],
   "source": [
    "# CustomerID를 인덱스로 지정  \n",
    "data.set_index('CustomerID', inplace=True)\n",
    "\n",
    "# PCA 적용\n",
    "pca = PCA().fit(data)"
   ]
  },
  {
   "cell_type": "code",
   "execution_count": 12,
   "metadata": {},
   "outputs": [],
   "source": [
    "# Explained Variance의 누적합 계산  \n",
    "explained_variance_ratio = pca.explained_variance_ratio_ # explained_variance_ratio_: Explained Variance 비율을 계산해 주는 함수\n",
    "cumulative_explained_variance = np.cumsum(explained_variance_ratio) # cumsum: 각 원소의 누적합을 계산하는 함수"
   ]
  },
  {
   "cell_type": "code",
   "execution_count": 13,
   "metadata": {},
   "outputs": [
    {
     "data": {
      "image/png": "[encoded data removed]",
      "text/plain": [
       "<Figure size 1500x800 with 1 Axes>"
      ]
     },
     "metadata": {},
     "output_type": "display_data"
    }
   ],
   "source": [
    "plt.figure(figsize=(15, 8)) \n",
    "\n",
    "# 각 성분의 설명된 분포에 대한 막대 그래프\n",
    "barplot = sns.barplot(x=list(range(1, len(cumulative_explained_variance) + 1)), y=explained_variance_ratio, alpha=0.8)\n",
    "\n",
    "# 누적 분포에 대한 선 그래프\n",
    "lineplot, = plt.plot(range(0, len(cumulative_explained_variance)), cumulative_explained_variance, marker='o', linestyle='--', linewidth=2)\n",
    "\n",
    "# 레이블과 제목 설정\n",
    "plt.xlabel('Number of Components', fontsize=14)\n",
    "plt.ylabel('Explained Variance', fontsize=14)\n",
    "plt.title('Cumulative Variance vs. Number of Components', fontsize=18)\n",
    "\n",
    "# 눈금 및 범례 사용자 정의\n",
    "plt.xticks(range(0, len(cumulative_explained_variance)))\n",
    "plt.legend(handles=[barplot.patches[0], lineplot],\n",
    "           labels=['Explained Variance', 'Cumulative Explained Variance'])  \n",
    "\n",
    "# 두 그래프의 분산 값 표시\n",
    "x_offset = -0.3 # x축 위치 조정\n",
    "y_offset = 0.01 # y축 위치 조정\n",
    "\n",
    "# 각 성분의 설명된 분포에 대한 막대 그래프에 값 표시\n",
    "for i, (ev_ratio, cum_ev_ratio) in enumerate(zip(explained_variance_ratio, cumulative_explained_variance)):\n",
    "    plt.text(i, ev_ratio, f\"{ev_ratio:.2f}\", ha=\"center\", va=\"bottom\", fontsize=10)\n",
    "    if i > 0:\n",
    "        plt.text(i + x_offset, cum_ev_ratio + y_offset, f\"{cum_ev_ratio:.2f}\", ha=\"center\", va=\"bottom\", fontsize=10)\n",
    "\n",
    "''' \n",
    "zip(): 두 개 이상의 iterable 객체를 묶어주는 함수\n",
    "enumerate(): iterable 객체를 인덱스와 함께 반환하는 함수\n",
    "i: 인덱스\n",
    "ev_ratio: 설명된 분포(각 주성분이 데이터의 분산을 얼마나 설명하는지)\n",
    "cum_ev_ratio: 누적 분포 (누적된 분산 설명 비율)\n",
    "'''\n",
    "\n",
    "plt.grid(axis='both')   \n",
    "plt.show()"
   ]
  },
  {
   "cell_type": "code",
   "execution_count": 14,
   "metadata": {},
   "outputs": [],
   "source": [
    "# 6개의 주성분을 유지하는 PCA 선언 \n",
    "pca = PCA(n_components=6)\n",
    "\n",
    "# 기존 data를 pca에 fit_transform\n",
    "data_pca = pca.fit_transform(data)\n",
    "\n",
    "# 압축된 데이터 셋 생성\n",
    "data_pca = pd.DataFrame(data_pca, columns=['PC'+str(i+1) for i in range(pca.n_components_)])\n",
    "\n",
    "# 인덱스로 빼 두었던 CustomerID 다시 추가\n",
    "data_pca.index = data.index"
   ]
  },
  {
   "cell_type": "code",
   "execution_count": 15,
   "metadata": {},
   "outputs": [
    {
     "data": {
      "text/html": [
       "<div>\n",
       "<style scoped>\n",
       "    .dataframe tbody tr th:only-of-type {\n",
       "        vertical-align: middle;\n",
       "    }\n",
       "\n",
       "    .dataframe tbody tr th {\n",
       "        vertical-align: top;\n",
       "    }\n",
       "\n",
       "    .dataframe thead th {\n",
       "        text-align: right;\n",
       "    }\n",
       "</style>\n",
       "<table border=\"1\" class=\"dataframe\">\n",
       "  <thead>\n",
       "    <tr style=\"text-align: right;\">\n",
       "      <th></th>\n",
       "      <th>PC1</th>\n",
       "      <th>PC2</th>\n",
       "      <th>PC3</th>\n",
       "      <th>PC4</th>\n",
       "      <th>PC5</th>\n",
       "      <th>PC6</th>\n",
       "    </tr>\n",
       "    <tr>\n",
       "      <th>CustomerID</th>\n",
       "      <th></th>\n",
       "      <th></th>\n",
       "      <th></th>\n",
       "      <th></th>\n",
       "      <th></th>\n",
       "      <th></th>\n",
       "    </tr>\n",
       "  </thead>\n",
       "  <tbody>\n",
       "    <tr>\n",
       "      <th>17715</th>\n",
       "      <td>-2.056335</td>\n",
       "      <td>2.526757</td>\n",
       "      <td>4.366491</td>\n",
       "      <td>3.114148</td>\n",
       "      <td>0.051275</td>\n",
       "      <td>4.511948</td>\n",
       "    </tr>\n",
       "    <tr>\n",
       "      <th>18174</th>\n",
       "      <td>-1.592061</td>\n",
       "      <td>0.443320</td>\n",
       "      <td>1.245962</td>\n",
       "      <td>0.173797</td>\n",
       "      <td>-1.285609</td>\n",
       "      <td>1.472905</td>\n",
       "    </tr>\n",
       "    <tr>\n",
       "      <th>17925</th>\n",
       "      <td>-2.470006</td>\n",
       "      <td>1.566864</td>\n",
       "      <td>2.941112</td>\n",
       "      <td>3.614607</td>\n",
       "      <td>1.232439</td>\n",
       "      <td>2.972921</td>\n",
       "    </tr>\n",
       "    <tr>\n",
       "      <th>16737</th>\n",
       "      <td>-1.836602</td>\n",
       "      <td>3.503738</td>\n",
       "      <td>5.797649</td>\n",
       "      <td>2.775546</td>\n",
       "      <td>-0.903634</td>\n",
       "      <td>6.296835</td>\n",
       "    </tr>\n",
       "    <tr>\n",
       "      <th>17382</th>\n",
       "      <td>-1.687145</td>\n",
       "      <td>-0.122366</td>\n",
       "      <td>0.410849</td>\n",
       "      <td>0.169956</td>\n",
       "      <td>-0.906111</td>\n",
       "      <td>0.511552</td>\n",
       "    </tr>\n",
       "  </tbody>\n",
       "</table>\n",
       "</div>"
      ],
      "text/plain": [
       "                 PC1       PC2       PC3       PC4       PC5       PC6\n",
       "CustomerID                                                            \n",
       "17715      -2.056335  2.526757  4.366491  3.114148  0.051275  4.511948\n",
       "18174      -1.592061  0.443320  1.245962  0.173797 -1.285609  1.472905\n",
       "17925      -2.470006  1.566864  2.941112  3.614607  1.232439  2.972921\n",
       "16737      -1.836602  3.503738  5.797649  2.775546 -0.903634  6.296835\n",
       "17382      -1.687145 -0.122366  0.410849  0.169956 -0.906111  0.511552"
      ]
     },
     "execution_count": 15,
     "metadata": {},
     "output_type": "execute_result"
    }
   ],
   "source": [
    "data_pca.head()"
   ]
  },
  {
   "cell_type": "markdown",
   "metadata": {},
   "source": [
    "### PCA"
   ]
  },
  {
   "cell_type": "markdown",
   "metadata": {},
   "source": [
    "주성분 분석 (PCA, Principal Component Analysis)\n",
    "\n",
    "주성분 분석(PCA)은 **고차원 데이터의 분산을 최대한 보존하면서 더 낮은 차원의 새로운 변수(주성분, Principal Components)를 찾아내는 차원 축소(dimensionality reduction) 기법**입니다. 복잡하고 많은 변수로 이루어진 데이터를 이해하기 쉽고 시각화하기 용이한 저차원 데이터로 변환하는 데 널리 사용됩니다.\n",
    "\n",
    "**PCA의 핵심 아이디어:**\n",
    "\n",
    "* **분산 최대화:** 데이터의 분산이 크다는 것은 정보의 손실이 적다는 의미입니다. PCA는 데이터의 분산을 가장 잘 설명하는 방향(주성분)을 순서대로 찾아냅니다.\n",
    "* **직교성:** 찾아낸 주성분들은 서로 직교(orthogonal, 선형적으로 독립)합니다. 이는 각 주성분이 서로 중복되는 정보를 담고 있지 않다는 것을 의미합니다.\n",
    "\n",
    "**PCA의 작동 원리:**\n",
    "\n",
    "1.  **데이터 표준화 (Standardization):** 변수들의 스케일이 다르면 분산에 미치는 영향이 달라지므로, 일반적으로 PCA를 적용하기 전에 데이터를 평균이 0이고 분산이 1이 되도록 표준화합니다.\n",
    "2.  **공분산 행렬 계산 (Covariance Matrix):** 데이터의 변수들 간의 공분산을 나타내는 행렬을 계산합니다. 공분산은 두 변수가 함께 변하는 정도를 나타냅니다.\n",
    "3.  **고유값(Eigenvalue)과 고유 벡터(Eigenvector) 계산:** 공분산 행렬의 고유값과 고유 벡터를 계산합니다.\n",
    "    * **고유 벡터:** 데이터의 분산이 가장 큰 방향을 나타냅니다. PCA에서는 이 고유 벡터들이 주성분이 됩니다.\n",
    "    * **고유값:** 각 고유 벡터(주성분)가 설명하는 데이터의 분산 크기를 나타냅니다. 고유값이 클수록 해당 주성분이 데이터의 정보를 더 많이 담고 있습니다.\n",
    "4.  **주성분 선택 및 투영 (Projection):** 고유값을 기준으로 내림차순으로 정렬하고, 분석 목적에 따라 중요한 상위 k개의 주성분을 선택합니다. 원래의 고차원 데이터를 선택된 k개의 주성분 벡터에 투영(project)하여 k차원의 새로운 데이터셋을 얻습니다.\n",
    "\n",
    "**PCA의 장점:**\n",
    "\n",
    "* **차원 축소:** 고차원 데이터를 저차원으로 줄여 데이터 분석 및 모델링의 효율성을 높이고 시각화를 용이하게 합니다.\n",
    "* **다중 공선성 해결:** 변수들 간의 높은 상관관계(다중 공선성) 문제를 완화하여 모델의 안정성을 높일 수 있습니다.\n",
    "* **노이즈 감소:** 분산이 작은 주성분은 노이즈 성분을 많이 포함할 가능성이 있으므로, 이를 제거하여 데이터의 신호(signal)를 강조할 수 있습니다.\n",
    "* **정보 손실 최소화:** 분산이 큰 주성분을 우선적으로 선택하므로, 데이터의 중요한 정보 손실을 최소화하면서 차원을 축소할 수 있습니다.\n",
    "\n",
    "**PCA의 단점:**\n",
    "\n",
    "* **해석의 어려움:** 새롭게 생성된 주성분들은 원래 변수들의 선형 결합으로 이루어지기 때문에, 각 주성분이 구체적으로 어떤 의미를 가지는지 해석하기 어려울 수 있습니다.\n",
    "* **비선형 관계 포착 불가:** PCA는 선형적인 차원 축소 기법이므로, 데이터에 존재하는 비선형적인 관계는 제대로 포착하지 못할 수 있습니다.\n",
    "* **스케일링 의존성:** 변수들의 스케일에 민감하게 반응하므로, PCA 적용 전에 적절한 데이터 표준화가 필요합니다.\n",
    "* **정보 손실 가능성:** 차원을 축소하는 과정에서 불가피하게 일부 정보 손실이 발생할 수 있습니다.\n",
    "\n",
    "**PCA의 활용 분야:**\n",
    "\n",
    "* **이미지 압축 및 특징 추출:** 이미지 데이터의 차원을 줄여 저장 공간을 효율적으로 사용하고, 이미지의 주요 특징을 추출하여 패턴 인식 등에 활용됩니다.\n",
    "* **얼굴 인식:** 고차원 얼굴 이미지 데이터를 저차원의 주성분으로 변환하여 얼굴 특징을 추출하고 인식하는 데 사용됩니다.\n",
    "* **유전자 데이터 분석:** 수많은 유전자 발현 데이터의 차원을 축소하여 주요 유전자 그룹을 식별하고 질병과의 연관성을 분석하는 데 활용됩니다.\n",
    "* **금융 데이터 분석:** 주식 가격, 경제 지표 등 고차원 금융 데이터의 차원을 축소하여 투자 전략 개발 및 위험 관리 등에 활용됩니다.\n",
    "* **추천 시스템:** 사용자-아이템 상호작용 데이터의 차원을 축소하여 사용자 및 아이템의 잠재 요인을 발견하고 추천 성능을 향상시키는 데 사용됩니다.\n",
    "\n",
    "\n",
    "\n",
    "\n",
    "> PCA(주성분 분석)에서 **분산이 크다는 것이 정보의 손실이 적다는 의미**인 이유는 다음과 같이 설명할 수 있습니다.\n",
    "\n",
    "> **1. 분산은 데이터의 '퍼짐 정도'를 나타냅니다.**\n",
    "> * 분산이 크다는 것은 데이터 값들이 평균으로부터 멀리 떨어져 넓게 퍼져 있다는 의미입니다.\n",
    ">* 이는 데이터 안에 다양한 변화와 개별적인 특성이 많이 존재한다는 것을 시사합니다.\n",
    "\n",
    "> **2. 정보는 '차이'와 '변화'에서 비롯됩니다.**\n",
    "> * 만약 모든 데이터 포인트가 동일한 값을 가진다면 (분산이 0), 그 데이터셋에는 아무런 정보가 없다고 볼 수 있습니다. 예측이나 분류 등 어떤 분석을 하더라도 의미 있는 결과를 얻을 수 없기 때문입니다.\n",
    ">* 데이터에 차이가 많고 변화가 클수록, 그 데이터를 통해 더 많은 것을 학습하고 이해할 수 있는 잠재력이 커집니다. 즉, 정보량이 많다고 해석할 수 있습니다.\n",
    "\n",
    ">**3. PCA는 분산을 최대한 보존하는 새로운 축을 찾습니다.**\n",
    ">* PCA의 핵심 목표는 고차원 데이터를 저차원으로 축소하되, 원래 데이터의 **분산을 최대한 많이 유지**하는 새로운 주성분(축)을 찾는 것입니다.\n",
    ">* 분산을 많이 유지한다는 것은 데이터의 중요한 '차이'와 '변화'를 새로운 저차원 공간에서도 가능한 한 많이 보존한다는 의미입니다.\n",
    "\n",
    ">**4. 분산을 적게 유지하는 것은 정보 손실을 의미합니다.**\n",
    ">* 만약 PCA가 분산이 작은 방향으로 데이터를 투영한다면, 원래 데이터에 존재하던 중요한 변화나 특성들이 압축 과정에서 사라지게 됩니다. 이는 정보의 손실로 이어집니다.\n",
    ">* 극단적인 예로, 분산이 거의 없는 방향으로 투영하면 모든 데이터 포인트가 거의 동일한 값으로 표현되어 원래 데이터의 다양성을 잃게 됩니다.\n",
    "\n",
    ">**비유를 들어보면:**\n",
    ">* **분산이 큰 데이터:** 여러 가지 색깔과 다양한 무늬가 있는 천 조각\n",
    ">* **분산이 작은 데이터:** 거의 단색이고 무늬가 거의 없는 천 조각\n",
    "\n",
    ">PCA를 통해 이 천 조각을 더 작은 크기로 잘라낸다고 생각해 봅시다.\n",
    "\n",
    ">* **분산이 큰 천 조각**에서 원래의 다양한 색깔과 무늬를 가능한 한 많이 유지하면서 자르는 것이 정보 손실을 최소화하는 방법입니다.\n",
    ">* **분산이 작은 천 조각**은 이미 정보가 적기 때문에 어떻게 잘라도 잃을 정보가 많지 않겠지만, 중요한 특징 자체가 별로 없습니다.\n",
    "\n",
    ">따라서 PCA는 데이터의 '다양성'과 '특성'을 나타내는 '분산'을 최대한 보존함으로써 차원 축소 과정에서의 정보 손실을 최소화하려고 노력하는 것입니다. 분산이 크다는 것은 그만큼 데이터에 중요한 정보가 많이 담겨 있을 가능성이 높다는 것을 의미하며, PCA는 이러한 정보를 최대한 유지하는 방향으로 데이터를 압축합니다."
   ]
  },
  {
   "cell_type": "code",
   "execution_count": null,
   "metadata": {},
   "outputs": [
    {
     "name": "stdout",
     "output_type": "stream",
     "text": [
      "설명된 분산 비율: [0.26386183 0.22838409 0.19433259 0.16565351 0.14776798]\n"
     ]
    },
    {
     "data": {
      "image/png": "[encoded data removed]",
      "text/plain": [
       "<Figure size 640x480 with 1 Axes>"
      ]
     },
     "metadata": {},
     "output_type": "display_data"
    },
    {
     "name": "stdout",
     "output_type": "stream",
     "text": [
      "\n",
      "원본 데이터 형태: (100, 5)\n",
      "2개의 주성분으로 축소된 데이터 형태: (100, 2)\n"
     ]
    }
   ],
   "source": [
    "# 예시\n",
    "import numpy as np\n",
    "from sklearn.preprocessing import StandardScaler\n",
    "from sklearn.decomposition import PCA\n",
    "import matplotlib.pyplot as plt\n",
    "\n",
    "# Unicode warning 제거 (폰트관련 경고 메세지)\n",
    "plt.rcParams['axes.unicode_minus']=False\n",
    "# 한글 폰트 설정\n",
    "plt.rcParams['font.family'] = \"NanumGothic\"\n",
    "\n",
    "\n",
    "# 예시 데이터 생성\n",
    "np.random.seed(0)\n",
    "X = np.random.rand(100, 5)\n",
    "\n",
    "# 데이터 표준화\n",
    "scaler = StandardScaler()\n",
    "X_scaled = scaler.fit_transform(X)\n",
    "\n",
    "# PCA 모델 생성 및 학습\n",
    "pca = PCA()\n",
    "pca.fit(X_scaled)\n",
    "\n",
    "# 설명된 분산 비율 확인\n",
    "explained_variance_ratio = pca.explained_variance_ratio_\n",
    "print(\"설명된 분산 비율:\", explained_variance_ratio)\n",
    "\n",
    "# 누적 설명된 분산 비율 시각화\n",
    "cumulative_explained_variance = np.cumsum(explained_variance_ratio)\n",
    "plt.plot(range(1, len(cumulative_explained_variance) + 1), cumulative_explained_variance, marker='o')\n",
    "plt.xlabel('주성분 개수')\n",
    "plt.ylabel('누적 설명된 분산 비율')\n",
    "plt.title('주성분 개수에 따른 누적 설명된 분산 비율')\n",
    "plt.grid(True)\n",
    "plt.show()\n",
    "\n",
    "# 원하는 주성분 개수로 차원 축소\n",
    "n_components = 2\n",
    "pca_reduced = PCA(n_components=n_components)\n",
    "X_reduced = pca_reduced.fit_transform(X_scaled)\n",
    "\n",
    "print(\"\\n원본 데이터 형태:\", X_scaled.shape)\n",
    "print(f\"{n_components}개의 주성분으로 축소된 데이터 형태:\", X_reduced.shape)"
   ]
  },
  {
   "cell_type": "markdown",
   "metadata": {},
   "source": [
    "## 05. K-means Clustering"
   ]
  },
  {
   "cell_type": "markdown",
   "metadata": {},
   "source": [
    "지정된 그룹 수(K)로 데이터를 클러스터링하는 비지도 학습 알고리즘        \n",
    "각 군집의 평균을 확용하여 K개 군집(cluster)으로 묶는 방식       \n",
    "각 데이터 포인트를 가장 가까운 중심으로 할당한 다음 모든 할당된 포인트의 평균을 계산하여 중심을 업데이트        \n",
    "> (주의) 실행 할 때 마다 클러스터에 다른 레이블 할당 => 각 클러스터의 샘플빈도를 기반으로 레이블을 교환하는 추가 단계 수행 for 일관된 레이블 할당\n",
    "\n"
   ]
  },
  {
   "cell_type": "code",
   "execution_count": 16,
   "metadata": {},
   "outputs": [],
   "source": [
    "# k=3개의 클러스터로 K-Means 클러스터링 적용\n",
    "kmeans = KMeans(n_clusters=3, init='k-means++', n_init=10, max_iter=100, random_state=0)\n",
    "kmeans.fit(data_pca)    \n",
    "\n",
    "'''\n",
    "n_clusters=3: 클러스터의 개수를 3으로 설정\n",
    "init='k-means++': 초기 클러스터 중심을 효율적으로 선택하는 방법을 사용\n",
    "n_init=10: K-Means 알고리즘을 10번 실행하여 최적의 결과를 선택\n",
    "max_iter=100: 최대 반복 횟수를 100\n",
    "random_state=0: 결과 재현성을 위해 난수 시드를 고정\n",
    "'''\n",
    "\n",
    "# 각 클러스터의 빈도수 구하기\n",
    "cluster_frequencies = Counter(kmeans.labels_) \n",
    "\n",
    "# 빈도수에 기반하여 이전 레이블에서 새 레이블로의 매핑 생성\n",
    "label_mapping = {label: new_label for new_label, (label, _) in \n",
    "                 enumerate(cluster_frequencies.most_common())}\n",
    "\n",
    "'''\n",
    "`.most_common(n)`\n",
    "Python의 collections.Counter 클래스에서 제공하는 메서드로, 요소의 빈도수를 기준으로 내림차순 정렬된 리스트를 반환\n",
    "n을 지정하지 않으면 모든 요소를 반환\n",
    "\n",
    "`for new_label, (label, _) in enumerate(...)`\n",
    "new_label: 새로 매핑될 레이블(0, 1, 2, ...).\n",
    "(label, _): 기존 클러스터 레이블(label)과 해당 빈도수(_)를 언패킹합니다. 빈도수는 사용하지 않으므로 _로 처리합니다.\n",
    "'''\n",
    "\n",
    "# 매핑을 적용하여 새 레이블 얻기\n",
    "new_labels = np.array([label_mapping[label] for label in kmeans.labels_])\n",
    "\n",
    "# 원래 데이터셋에 새 클러스터 레이블 추가\n",
    "user_data['cluster'] = new_labels\n",
    "\n",
    "# PCA 버전의 데이터셋에 새 클러스터 레이블 추가\n",
    "data_pca['cluster'] = new_labels"
   ]
  },
  {
   "cell_type": "code",
   "execution_count": 17,
   "metadata": {},
   "outputs": [
    {
     "data": {
      "text/html": [
       "<div>\n",
       "<style scoped>\n",
       "    .dataframe tbody tr th:only-of-type {\n",
       "        vertical-align: middle;\n",
       "    }\n",
       "\n",
       "    .dataframe tbody tr th {\n",
       "        vertical-align: top;\n",
       "    }\n",
       "\n",
       "    .dataframe thead th {\n",
       "        text-align: right;\n",
       "    }\n",
       "</style>\n",
       "<table border=\"1\" class=\"dataframe\">\n",
       "  <thead>\n",
       "    <tr style=\"text-align: right;\">\n",
       "      <th></th>\n",
       "      <th>CustomerID</th>\n",
       "      <th>purchase_cnt</th>\n",
       "      <th>item_cnt</th>\n",
       "      <th>recency</th>\n",
       "      <th>user_total</th>\n",
       "      <th>user_average</th>\n",
       "      <th>unique_products</th>\n",
       "      <th>average_interval</th>\n",
       "      <th>total_transactions</th>\n",
       "      <th>cancel_frequency</th>\n",
       "      <th>cancel_rate</th>\n",
       "      <th>cluster</th>\n",
       "    </tr>\n",
       "  </thead>\n",
       "  <tbody>\n",
       "    <tr>\n",
       "      <th>0</th>\n",
       "      <td>17715</td>\n",
       "      <td>1</td>\n",
       "      <td>384</td>\n",
       "      <td>200</td>\n",
       "      <td>326.4</td>\n",
       "      <td>326.4</td>\n",
       "      <td>1</td>\n",
       "      <td>0.0</td>\n",
       "      <td>1</td>\n",
       "      <td>0</td>\n",
       "      <td>0.0</td>\n",
       "      <td>0</td>\n",
       "    </tr>\n",
       "    <tr>\n",
       "      <th>1</th>\n",
       "      <td>18174</td>\n",
       "      <td>1</td>\n",
       "      <td>50</td>\n",
       "      <td>7</td>\n",
       "      <td>104.0</td>\n",
       "      <td>104.0</td>\n",
       "      <td>1</td>\n",
       "      <td>0.0</td>\n",
       "      <td>1</td>\n",
       "      <td>0</td>\n",
       "      <td>0.0</td>\n",
       "      <td>0</td>\n",
       "    </tr>\n",
       "    <tr>\n",
       "      <th>2</th>\n",
       "      <td>17925</td>\n",
       "      <td>1</td>\n",
       "      <td>72</td>\n",
       "      <td>372</td>\n",
       "      <td>244.1</td>\n",
       "      <td>244.1</td>\n",
       "      <td>1</td>\n",
       "      <td>0.0</td>\n",
       "      <td>1</td>\n",
       "      <td>0</td>\n",
       "      <td>0.0</td>\n",
       "      <td>0</td>\n",
       "    </tr>\n",
       "    <tr>\n",
       "      <th>3</th>\n",
       "      <td>16737</td>\n",
       "      <td>1</td>\n",
       "      <td>288</td>\n",
       "      <td>53</td>\n",
       "      <td>417.6</td>\n",
       "      <td>417.6</td>\n",
       "      <td>1</td>\n",
       "      <td>0.0</td>\n",
       "      <td>1</td>\n",
       "      <td>0</td>\n",
       "      <td>0.0</td>\n",
       "      <td>0</td>\n",
       "    </tr>\n",
       "    <tr>\n",
       "      <th>4</th>\n",
       "      <td>17382</td>\n",
       "      <td>1</td>\n",
       "      <td>24</td>\n",
       "      <td>65</td>\n",
       "      <td>50.4</td>\n",
       "      <td>50.4</td>\n",
       "      <td>1</td>\n",
       "      <td>0.0</td>\n",
       "      <td>1</td>\n",
       "      <td>0</td>\n",
       "      <td>0.0</td>\n",
       "      <td>0</td>\n",
       "    </tr>\n",
       "  </tbody>\n",
       "</table>\n",
       "</div>"
      ],
      "text/plain": [
       "   CustomerID  purchase_cnt  item_cnt  recency  user_total  user_average  \\\n",
       "0       17715             1       384      200       326.4         326.4   \n",
       "1       18174             1        50        7       104.0         104.0   \n",
       "2       17925             1        72      372       244.1         244.1   \n",
       "3       16737             1       288       53       417.6         417.6   \n",
       "4       17382             1        24       65        50.4          50.4   \n",
       "\n",
       "   unique_products  average_interval  total_transactions  cancel_frequency  \\\n",
       "0                1               0.0                   1                 0   \n",
       "1                1               0.0                   1                 0   \n",
       "2                1               0.0                   1                 0   \n",
       "3                1               0.0                   1                 0   \n",
       "4                1               0.0                   1                 0   \n",
       "\n",
       "   cancel_rate  cluster  \n",
       "0          0.0        0  \n",
       "1          0.0        0  \n",
       "2          0.0        0  \n",
       "3          0.0        0  \n",
       "4          0.0        0  "
      ]
     },
     "execution_count": 17,
     "metadata": {},
     "output_type": "execute_result"
    }
   ],
   "source": [
    "# K-Means 분류된 결과 보기\n",
    "user_data.head()"
   ]
  },
  {
   "cell_type": "code",
   "execution_count": 18,
   "metadata": {},
   "outputs": [
    {
     "data": {
      "text/plain": [
       "cluster\n",
       "0    3033\n",
       "1     583\n",
       "2     508\n",
       "Name: count, dtype: int64"
      ]
     },
     "execution_count": 18,
     "metadata": {},
     "output_type": "execute_result"
    }
   ],
   "source": [
    "# 각 군집별로 몇 명의 고객이 있는지 확인\n",
    "user_data.value_counts('cluster')"
   ]
  },
  {
   "cell_type": "markdown",
   "metadata": {},
   "source": [
    "## 06. 시각화 및 결과 분석"
   ]
  },
  {
   "cell_type": "code",
   "execution_count": 19,
   "metadata": {},
   "outputs": [
    {
     "data": {
      "image/png": "[encoded data removed]",
      "text/plain": [
       "<Figure size 640x480 with 1 Axes>"
      ]
     },
     "metadata": {},
     "output_type": "display_data"
    }
   ],
   "source": [
    "# 각 클러스터 별 데이터 분리 \n",
    "cluster_0 = data_pca[data_pca['cluster'] == 0]\n",
    "cluster_1 = data_pca[data_pca['cluster'] == 1]\n",
    "cluster_2 = data_pca[data_pca['cluster'] == 2]\n",
    "\n",
    "\n",
    "# 클러스터 별 시각화\n",
    "plt.scatter(cluster_0['PC1'], cluster_0['PC2'], color = 'orange', alpha = 0.7, label = 'Group1')\n",
    "plt.scatter(cluster_1['PC1'], cluster_1['PC2'], color = 'red', alpha = 0.7, label = 'Group2')\n",
    "plt.scatter(cluster_2['PC1'], cluster_2['PC2'], color = 'green', alpha = 0.7, label = 'Group3')\n",
    "\n",
    "plt.xlabel('PC1')\n",
    "plt.ylabel('PC2')\n",
    "plt.legend()\n",
    "plt.show()"
   ]
  },
  {
   "cell_type": "code",
   "execution_count": 20,
   "metadata": {},
   "outputs": [
    {
     "data": {
      "application/vnd.plotly.v1+json": {
       "config": {
        "plotlyServerURL": "https://plot.ly"
       },
       "data": [
        {
         "marker": {
          "color": "red",
          "opacity": 0.4,
          "size": 5
         },
         "mode": "markers",
         "name": "Group 1",
         "type": "scatter3d",
         "x": {
          "bdata": "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",
          "dtype": "f8"
         },
         "y": {
          "bdata": "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",
          "dtype": "f8"
         },
         "z": {
          "bdata": "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",
          "dtype": "f8"
         }
        },
        {
         "marker": {
          "color": "blue",
          "opacity": 0.4,
          "size": 5
         },
         "mode": "markers",
         "name": "Group 2",
         "type": "scatter3d",
         "x": {
          "bdata": "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",
          "dtype": "f8"
         },
         "y": {
          "bdata": "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",
          "dtype": "f8"
         },
         "z": {
          "bdata": "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",
          "dtype": "f8"
         }
        },
        {
         "marker": {
          "color": "green",
          "opacity": 0.4,
          "size": 5
         },
         "mode": "markers",
         "name": "Group 3",
         "type": "scatter3d",
         "x": {
          "bdata": "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",
          "dtype": "f8"
         },
         "y": {
          "bdata": "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",
          "dtype": "f8"
         },
         "z": {
          "bdata": "hnUE0UUzI0BtRa/e59scQJbfFcZNDQ1Ay93uCr9mEED+5btWe+ABQOIN8pprqRNA7qjwL/wDBkCEH8qB0qsKQB2nTosOZvQ/npk86Vm5IkBlCRyjuXH9PxpbMZKLVQ5APzOfLwwDF0Ai3nbDRYUCQGV0wdEMzfY/dxtiHe3q/D87rJgCqhcGQOlQ8J+3gPE/m+XF9Z2iA0DrHwdM2NkZQLvLR47WdwFA9DrTP/uX9j/aupz0BeUAQC13JLxsZvQ/BUOf5+lW9T/iURDNck7zP6D1j20VQQBAsRPFFoQhA0Bkws+fj3fvP4/CrJPPVf4/5CcC746T8j9VX08oScL7Px9VIBLh3Pw/7AiMQZXvDUA6SiA75FL3P9Tm2wV+PvM/i/sKQMV+AUCYEkqlP1z6P7phqxrtmgpA8StMieYd9T9Ur2tHfkz6P/3oTG9k5vM/3mlYNdws/j+TTJgixD78Pzu83k4w1PY/TUwokSNf9D8sMPK+C8X4P+ZB0UDH+O4/FThTztOQCEDhE+vHRDD5P8gXnX+cK+8/J6tFyF02BEDy9BZTvxD4Py4CS8FnmPk/T4yXVCgU9z9xpzQas3H0P56Tf7LwJvw/iDiH7priE0De89A1ZnXsPwFh5+rNgQFAsJVn4dP08D/I3J9wjGoDQC6GkBgcuhFAXqese+e18T+5FcvuRy/9PxEMb8PhYAFAnXWNasfuF0DI+rlRKyUMwLaREZoPJhVAislpainB77+gn7arj58DwNUv+wJO9uu/bvDxwAXx1j++YtRTxPYAwHcCtC1Havu/+L6gJl2Rxb/Vik9znrn7v0+g+LkMXP2/oTDlGW0+AMDn8/JXMFTJP5sSJpZUPcA/HZvanPFJ2j8Xq1KUtc/bvzWZ3FJSl/u/pRCLkR444j86FPYBPW34vx8sVJpoz+s/9qnixYN80z+N4y8WT7vpvwoTHzHhXto/mFlz7eZ/+798o+M3WHfzv9fnqJkc0cy/aMRriBje9L+1BpDvbf7xv2S/w2ZROvu/BuG5SyUtAED606WfeVT1v8ig6lLKAfa/+tRa1X1L079djnZn6fjyv6DNhwU89Ou/lVB1+XJSC0CsYFLbu93uvxH4L2dkPfO/YHIW9SAG87/bBgpX6R6Ivzeo1IC3hw1AzQIOTZ8A4j/kbrUVyjzbv9oB5Kf6ys+/r5EewDYs5L+JGx+9lz3QvynQ78wbitI/8o1H2e3o8T+0HBtUunLoP6i1rQnss+E/ev4Uwsq86D+GakyEm6f1P+ij5inwAd2/1TPPYwI63r9aokH/96HivzH66h/M6uA/BjiJe6todD8ZsbqapNPoP+43LFM2c+O/eQ0qxPvO4z/6vPi8n2LYP6ZwTV4Swdm/SqyZ4otOzL8/MFSWH9HWP7nQnOnmp9y/qm9eprFj6j+my/jqdwugP8oEGQ1nDqO/ZPR6653BpD9Rheuhr/XHP/sZuePzaJ8/97sqQOqf6T/cxpLig/blP3XSujknO88/3gj3Vsg/jD+PcEKnG2TnPzQ0pC5nMRHAJmc5tZTCAcDt2ky+p6sRwFJrEAtORgvAE1vI1pttDsDrrnc6E6j7v3lijhKvqQbAYEVSLcK9BcBMbcjRfMXyPwjqngp3XAbAX1zlA0n7BMBiDm3Pc/Lyv0BiayJkYvu/A2DOSIbPBMAeMGWQrBb4v26inQsaDfS/hGojBYM6/r/OYBkH0H7kv/ykFodFx98/y686UYVBAcB888buPyHcv/XY13r6SAHA1nrL7kdC/r/cnRnUfJv+vy4oWfcJK/y/eXEYWOiXrD9xXzEZonLzv5G1ftHIVvu/jYrf7ilM/b9bvSda5rP+v/czDoBAo+i/cqy/v0J3/r8erYDDgaTCv06GtxYXCPy/fMzr1IA45b/8Zrcddqvxv9MX1IcOzfy/1bgLV+Ok/78a8AFXepH+vwgzpayv7/S/JBtC5irZ6r+YSnz1YHL2v4dtU+Sa+vu/GCYCVJj6+L8PkvJEFKf9vxBOegeNaPy//MtfmX8t8r+D0rCszS75vwN3X6jh/fq/LxKWWk05+r/u15cJiTr7vxz5pNOWK+a/sMXFMfSG5r8HVQ1vtMn0v7svudeiBfG/ztjSKon08r+tlHxbMmjxv0cu7NXz+bE/GByQ5bRg5b8MlWUtxp7ov7SrAtFdedu/hiSbUUWGxb83VDGZXbbov0gjPviAGuo/qQWpPBHq7L83pLWmv9/mvw74famOkuK/E0+b5gcG2r/LuJJU3wPpvzA0abCEBbQ/CLU2jd4KDEC+9mXs4Hfev8SCmetF8uG/S2UJWpJD5r9mj0Fk25jUv8DNezb67dY/TOlVukyT2b8JaoIceLiNv6/74dwEtLM/pIQsHu5R4L/SYPowqobVv3EQCbfIv9y/Lr9dP/F97T8lmZ9tqWG+Py1OW4Z3xdm/yENhe5scAECGFtk6ZYv7P3WFyIHzmwzAevpHmW7HDMDJ0jHHpI/3v2/xp1UmYQPACE9mkmODB8DrAmxfHxEHwCEkcN1KlwTA7ANGOg+/+L/EvN9TgHYFwEAQNOGDIQXA9YGVlEycBMDvwwt1fPYDwMTa/pRmYQTAQQ5jDHhc/b+af8igvBMBwIIOzjBaIQDAH1vQ+HAV9b8gv6BJpkHxv7/QFcIcAv2/WurT/lHh+r+Kt4Beyir3v0oBgtdGwvq/vU4jk3YW/L/DIIXL+lruv38pw50/Rv6/WBuR52+f778i8Rg3WkHxv/eQIrfMoPC/0K4ndSyH/r9RGlxNiOT5v5b1ilAsnP2/qB8W1tjJ/r+BaN4e2qvyv4YvEw8wZPm/z2QGQqXz2r/QIz56IND2vzYRSUXLc/W/C7k98kie+r/cMbVT8Sbsv74fbqTmBfO/TWwPtT5x+r/9yzoxxGnrvx2jwNLUYPS/nhaHvQzA9L8QelSWE8Dyv00JJ2eaVfS//dubxaAp9b/8f5EFWnbfvzArdfhM/PO/h5gbRcNA8b8MKngYBDLdv/rWzolmUeq/mYN875J04b9HP/mDBqXtv4+6hL4E2vE/wWmFw9yk6z85UYRUDCfiv4zRzQ3njee/wR9Vh3ww4r9+sQFwkiXKPzxDPpKL8xDA/19zjR+tB8CsOeviSZ4KwMWb4rDx2QjAAyb3U1faCcBr8UALpGH5v3WUjn88+gDA1PxMAKonBsAUgfBv3kkGwLcXplFlbOi/Xxm+5xpEBkDchKBsGuf5vySbmxxSiuy/qRh+i0rjAsDj37BuBQP7v/EBfGupuQLAemj938hO9780GXIreKv7v5p7fMKKtADACfLXONv49L88eEDdfMfzv9tnQtx26uu/DhvwfaVr9b/UGi1Wk4b5v64zn7xCRve/lkRUqX7k7b8W0OZ702z3v9vU5DNAM/a/riVCLtWs3r+hI7TDYnryvzp3AOQ8hfq/PUSkvoR19r9Zwc03OBf4vwTftwxGTvS/41bVw+Ek9r8ExADOoKX2v0Mjl+Jvvva/GVUz29K09b9u0Lgawk/xv70nceSILfC/5i6vDE1Y7b9dl4M1o4nrv9OvRJUj9/s/XydrIhPO47/V8WIvwn7gv10dnvUOkOu/wkNLnvbB8r/LfEonhfrov8NwPJIMpO6/ml9kFdWx5b/gB095E17TPyfRCu7OQNS/74lwhvKb5b+ayX6kYgnkv+R0kxmbWOK/Lk3DLRL+4L9PXBxJfZ4UwK9K1odqtxLANTEIb6mPAsAnCpwkrVAGwBybeBhK8gXAxIbWIay6BcAno35K60YEwN8Cldvv7gLAGjcYq9iDAcBUpFuBphH7v5FQSt9IggPAMEQie5xp/b94Oxo2c5z+v65MUe959/u/QxEDEx4h/L/a3PJ8luD8v81Mv0qRTvO/ALCHx6nQ97+Vd6I1dmD6v8QccoTbSfu/d/Ffx2TI97+B4fb8eL/zvyeaYttT6PG/d16uj4Vu+L+EsrJYL5fzv1aLbj+91eq/9Goo41sF87/+D1ksMc/xvxIYj9mhHOS/M/DlaDyT/L9Fyk3KD1zpvyl8pqAJtPC/ZSNebN/M7L+0rQN4SxHuvyk0qAnaIfC/Qky9GH5A67+GA6q838Hwv1Y0IMm9vuO/ZimQ/ktH87+a2Kckg87qvzBgYxrDLwfACN59YNpP+r+HHylQDX0PwNuE6Th7SgnAHgsd6Dc6C8DzFPn+AD/8v5RruA5kIQLALt7pS7fP/b//W6/C0/X/vyxhaAcSUfi/jtNBcCUr2L8ZFKlJ/W7xvywpwD3Wi/G/FJ9J0gAg+L/pD92sXRXyv1SE6+6au/W/3R/W7AvY/L/TJHog+zjfv1JYSQQW9/W/CC1YqAxbsb8zLkjyzMryv/2SeN5Z4OS/ciecK2ia7r8ssLDH/T7wvyVybgtU2ui/WFH7JBMn77/0Od8wF6ISwB3OYJ7PZhDA25F7MLem9b/8Td0sez0JwId94yeBVQzAbokb1lve979aPvR1zwcHwDwSdevcoQHANM1d06Tu/79MkJHiSU/+vx4z+yU4B/2/23RmOAjy/L8QvV74wqn2v786FPTQ0Pe/ybBs/r20xT+kuRoQdr34v1ojMGvEL/a/NTub3XjE97+ZGmsNxBDyv7d5EtpzlPa/cz7DDN56+b/RoMjBaP0UwNlXB3RrogzAvsf8iyixCcDTjwgJ+WEKwEzGJMXkmgbA5DoP0MwuBsCpAolMAhgHwIbQPt+AjQHAaiLFPh7HAcAUw7kARM8BwL1jodP+jwHA8iOtEVbq87+roGTYzOjjv78LI2f+T/y//33F4exM8L+OmymoJhsAwJRrfl4mb/O/CwTsBFwA/7+KsKDv7ZgAwA8YiCAH+AXAMJ1IWQjEAMDerTxl3BwCwNfR3OVrhPK/hvsjXLWxCMCgmE+7kLkHwDCA/vSqLwTApvPi6uqB/79sgYi230wUwIUIySsN4xDATma0qakwDMAIkQsOlfMJwFvNZ9mvoQLAaUMhPwpFAMDpU2y69f4BwFRR/JgzOAHAU53QfXzE/r9lP7Fc8MMXwLSB0d39TxLACC5VGgOqDMA/bdk5/3IOwKSupNrGzAnAUcnAs+fZAMD3817btx8CwCdkSxoxHALAdshwvglDAcBF2FfTxdQFwBdEaNEnNwXAPII/Jl0hBMBN5zAhIGYRwFV2Oz37OBDAZ+qUu3KnEMDo0w8EjLAKwJA/0j0xDwrAUk5KDj5LBcCxDoX7hCoIwNGWKDKTERPAvH+0zxjjFcBTu2WJ5YcPwKdsXya28BDAvuqX+vwHEMATXyJ1rmQJwHj4SSd8WAbAtadRIylCCsAD/OjmJTMQwCyRVwREDA3AQ+5SH1iCEsBQLCMthIMQwEP6H+PmUAvAZH/py+T5GcApyZvmrwwSwBwjrwP8axHAwz0K1pwgG8Ca1YzbFDcbwErD9LxpIhfACwgPpgr4EMA=",
          "dtype": "f8"
         }
        }
       ],
       "layout": {
        "height": 800,
        "scene": {
         "xaxis": {
          "backgroundcolor": "grey",
          "gridcolor": "white",
          "title": {
           "text": "PC1"
          }
         },
         "yaxis": {
          "backgroundcolor": "grey",
          "gridcolor": "white",
          "title": {
           "text": "PC2"
          }
         },
         "zaxis": {
          "backgroundcolor": "grey",
          "gridcolor": "white",
          "title": {
           "text": "PC3"
          }
         }
        },
        "template": {
         "data": {
          "bar": [
           {
            "error_x": {
             "color": "#2a3f5f"
            },
            "error_y": {
             "color": "#2a3f5f"
            },
            "marker": {
             "line": {
              "color": "#E5ECF6",
              "width": 0.5
             },
             "pattern": {
              "fillmode": "overlay",
              "size": 10,
              "solidity": 0.2
             }
            },
            "type": "bar"
           }
          ],
          "barpolar": [
           {
            "marker": {
             "line": {
              "color": "#E5ECF6",
              "width": 0.5
             },
             "pattern": {
              "fillmode": "overlay",
              "size": 10,
              "solidity": 0.2
             }
            },
            "type": "barpolar"
           }
          ],
          "carpet": [
           {
            "aaxis": {
             "endlinecolor": "#2a3f5f",
             "gridcolor": "white",
             "linecolor": "white",
             "minorgridcolor": "white",
             "startlinecolor": "#2a3f5f"
            },
            "baxis": {
             "endlinecolor": "#2a3f5f",
             "gridcolor": "white",
             "linecolor": "white",
             "minorgridcolor": "white",
             "startlinecolor": "#2a3f5f"
            },
            "type": "carpet"
           }
          ],
          "choropleth": [
           {
            "colorbar": {
             "outlinewidth": 0,
             "ticks": ""
            },
            "type": "choropleth"
           }
          ],
          "contour": [
           {
            "colorbar": {
             "outlinewidth": 0,
             "ticks": ""
            },
            "colorscale": [
             [
              0,
              "#0d0887"
             ],
             [
              0.1111111111111111,
              "#46039f"
             ],
             [
              0.2222222222222222,
              "#7201a8"
             ],
             [
              0.3333333333333333,
              "#9c179e"
             ],
             [
              0.4444444444444444,
              "#bd3786"
             ],
             [
              0.5555555555555556,
              "#d8576b"
             ],
             [
              0.6666666666666666,
              "#ed7953"
             ],
             [
              0.7777777777777778,
              "#fb9f3a"
             ],
             [
              0.8888888888888888,
              "#fdca26"
             ],
             [
              1,
              "#f0f921"
             ]
            ],
            "type": "contour"
           }
          ],
          "contourcarpet": [
           {
            "colorbar": {
             "outlinewidth": 0,
             "ticks": ""
            },
            "type": "contourcarpet"
           }
          ],
          "heatmap": [
           {
            "colorbar": {
             "outlinewidth": 0,
             "ticks": ""
            },
            "colorscale": [
             [
              0,
              "#0d0887"
             ],
             [
              0.1111111111111111,
              "#46039f"
             ],
             [
              0.2222222222222222,
              "#7201a8"
             ],
             [
              0.3333333333333333,
              "#9c179e"
             ],
             [
              0.4444444444444444,
              "#bd3786"
             ],
             [
              0.5555555555555556,
              "#d8576b"
             ],
             [
              0.6666666666666666,
              "#ed7953"
             ],
             [
              0.7777777777777778,
              "#fb9f3a"
             ],
             [
              0.8888888888888888,
              "#fdca26"
             ],
             [
              1,
              "#f0f921"
             ]
            ],
            "type": "heatmap"
           }
          ],
          "histogram": [
           {
            "marker": {
             "pattern": {
              "fillmode": "overlay",
              "size": 10,
              "solidity": 0.2
             }
            },
            "type": "histogram"
           }
          ],
          "histogram2d": [
           {
            "colorbar": {
             "outlinewidth": 0,
             "ticks": ""
            },
            "colorscale": [
             [
              0,
              "#0d0887"
             ],
             [
              0.1111111111111111,
              "#46039f"
             ],
             [
              0.2222222222222222,
              "#7201a8"
             ],
             [
              0.3333333333333333,
              "#9c179e"
             ],
             [
              0.4444444444444444,
              "#bd3786"
             ],
             [
              0.5555555555555556,
              "#d8576b"
             ],
             [
              0.6666666666666666,
              "#ed7953"
             ],
             [
              0.7777777777777778,
              "#fb9f3a"
             ],
             [
              0.8888888888888888,
              "#fdca26"
             ],
             [
              1,
              "#f0f921"
             ]
            ],
            "type": "histogram2d"
           }
          ],
          "histogram2dcontour": [
           {
            "colorbar": {
             "outlinewidth": 0,
             "ticks": ""
            },
            "colorscale": [
             [
              0,
              "#0d0887"
             ],
             [
              0.1111111111111111,
              "#46039f"
             ],
             [
              0.2222222222222222,
              "#7201a8"
             ],
             [
              0.3333333333333333,
              "#9c179e"
             ],
             [
              0.4444444444444444,
              "#bd3786"
             ],
             [
              0.5555555555555556,
              "#d8576b"
             ],
             [
              0.6666666666666666,
              "#ed7953"
             ],
             [
              0.7777777777777778,
              "#fb9f3a"
             ],
             [
              0.8888888888888888,
              "#fdca26"
             ],
             [
              1,
              "#f0f921"
             ]
            ],
            "type": "histogram2dcontour"
           }
          ],
          "mesh3d": [
           {
            "colorbar": {
             "outlinewidth": 0,
             "ticks": ""
            },
            "type": "mesh3d"
           }
          ],
          "parcoords": [
           {
            "line": {
             "colorbar": {
              "outlinewidth": 0,
              "ticks": ""
             }
            },
            "type": "parcoords"
           }
          ],
          "pie": [
           {
            "automargin": true,
            "type": "pie"
           }
          ],
          "scatter": [
           {
            "fillpattern": {
             "fillmode": "overlay",
             "size": 10,
             "solidity": 0.2
            },
            "type": "scatter"
           }
          ],
          "scatter3d": [
           {
            "line": {
             "colorbar": {
              "outlinewidth": 0,
              "ticks": ""
             }
            },
            "marker": {
             "colorbar": {
              "outlinewidth": 0,
              "ticks": ""
             }
            },
            "type": "scatter3d"
           }
          ],
          "scattercarpet": [
           {
            "marker": {
             "colorbar": {
              "outlinewidth": 0,
              "ticks": ""
             }
            },
            "type": "scattercarpet"
           }
          ],
          "scattergeo": [
           {
            "marker": {
             "colorbar": {
              "outlinewidth": 0,
              "ticks": ""
             }
            },
            "type": "scattergeo"
           }
          ],
          "scattergl": [
           {
            "marker": {
             "colorbar": {
              "outlinewidth": 0,
              "ticks": ""
             }
            },
            "type": "scattergl"
           }
          ],
          "scattermap": [
           {
            "marker": {
             "colorbar": {
              "outlinewidth": 0,
              "ticks": ""
             }
            },
            "type": "scattermap"
           }
          ],
          "scattermapbox": [
           {
            "marker": {
             "colorbar": {
              "outlinewidth": 0,
              "ticks": ""
             }
            },
            "type": "scattermapbox"
           }
          ],
          "scatterpolar": [
           {
            "marker": {
             "colorbar": {
              "outlinewidth": 0,
              "ticks": ""
             }
            },
            "type": "scatterpolar"
           }
          ],
          "scatterpolargl": [
           {
            "marker": {
             "colorbar": {
              "outlinewidth": 0,
              "ticks": ""
             }
            },
            "type": "scatterpolargl"
           }
          ],
          "scatterternary": [
           {
            "marker": {
             "colorbar": {
              "outlinewidth": 0,
              "ticks": ""
             }
            },
            "type": "scatterternary"
           }
          ],
          "surface": [
           {
            "colorbar": {
             "outlinewidth": 0,
             "ticks": ""
            },
            "colorscale": [
             [
              0,
              "#0d0887"
             ],
             [
              0.1111111111111111,
              "#46039f"
             ],
             [
              0.2222222222222222,
              "#7201a8"
             ],
             [
              0.3333333333333333,
              "#9c179e"
             ],
             [
              0.4444444444444444,
              "#bd3786"
             ],
             [
              0.5555555555555556,
              "#d8576b"
             ],
             [
              0.6666666666666666,
              "#ed7953"
             ],
             [
              0.7777777777777778,
              "#fb9f3a"
             ],
             [
              0.8888888888888888,
              "#fdca26"
             ],
             [
              1,
              "#f0f921"
             ]
            ],
            "type": "surface"
           }
          ],
          "table": [
           {
            "cells": {
             "fill": {
              "color": "#EBF0F8"
             },
             "line": {
              "color": "white"
             }
            },
            "header": {
             "fill": {
              "color": "#C8D4E3"
             },
             "line": {
              "color": "white"
             }
            },
            "type": "table"
           }
          ]
         },
         "layout": {
          "annotationdefaults": {
           "arrowcolor": "#2a3f5f",
           "arrowhead": 0,
           "arrowwidth": 1
          },
          "autotypenumbers": "strict",
          "coloraxis": {
           "colorbar": {
            "outlinewidth": 0,
            "ticks": ""
           }
          },
          "colorscale": {
           "diverging": [
            [
             0,
             "#8e0152"
            ],
            [
             0.1,
             "#c51b7d"
            ],
            [
             0.2,
             "#de77ae"
            ],
            [
             0.3,
             "#f1b6da"
            ],
            [
             0.4,
             "#fde0ef"
            ],
            [
             0.5,
             "#f7f7f7"
            ],
            [
             0.6,
             "#e6f5d0"
            ],
            [
             0.7,
             "#b8e186"
            ],
            [
             0.8,
             "#7fbc41"
            ],
            [
             0.9,
             "#4d9221"
            ],
            [
             1,
             "#276419"
            ]
           ],
           "sequential": [
            [
             0,
             "#0d0887"
            ],
            [
             0.1111111111111111,
             "#46039f"
            ],
            [
             0.2222222222222222,
             "#7201a8"
            ],
            [
             0.3333333333333333,
             "#9c179e"
            ],
            [
             0.4444444444444444,
             "#bd3786"
            ],
            [
             0.5555555555555556,
             "#d8576b"
            ],
            [
             0.6666666666666666,
             "#ed7953"
            ],
            [
             0.7777777777777778,
             "#fb9f3a"
            ],
            [
             0.8888888888888888,
             "#fdca26"
            ],
            [
             1,
             "#f0f921"
            ]
           ],
           "sequentialminus": [
            [
             0,
             "#0d0887"
            ],
            [
             0.1111111111111111,
             "#46039f"
            ],
            [
             0.2222222222222222,
             "#7201a8"
            ],
            [
             0.3333333333333333,
             "#9c179e"
            ],
            [
             0.4444444444444444,
             "#bd3786"
            ],
            [
             0.5555555555555556,
             "#d8576b"
            ],
            [
             0.6666666666666666,
             "#ed7953"
            ],
            [
             0.7777777777777778,
             "#fb9f3a"
            ],
            [
             0.8888888888888888,
             "#fdca26"
            ],
            [
             1,
             "#f0f921"
            ]
           ]
          },
          "colorway": [
           "#636efa",
           "#EF553B",
           "#00cc96",
           "#ab63fa",
           "#FFA15A",
           "#19d3f3",
           "#FF6692",
           "#B6E880",
           "#FF97FF",
           "#FECB52"
          ],
          "font": {
           "color": "#2a3f5f"
          },
          "geo": {
           "bgcolor": "white",
           "lakecolor": "white",
           "landcolor": "#E5ECF6",
           "showlakes": true,
           "showland": true,
           "subunitcolor": "white"
          },
          "hoverlabel": {
           "align": "left"
          },
          "hovermode": "closest",
          "mapbox": {
           "style": "light"
          },
          "paper_bgcolor": "white",
          "plot_bgcolor": "#E5ECF6",
          "polar": {
           "angularaxis": {
            "gridcolor": "white",
            "linecolor": "white",
            "ticks": ""
           },
           "bgcolor": "#E5ECF6",
           "radialaxis": {
            "gridcolor": "white",
            "linecolor": "white",
            "ticks": ""
           }
          },
          "scene": {
           "xaxis": {
            "backgroundcolor": "#E5ECF6",
            "gridcolor": "white",
            "gridwidth": 2,
            "linecolor": "white",
            "showbackground": true,
            "ticks": "",
            "zerolinecolor": "white"
           },
           "yaxis": {
            "backgroundcolor": "#E5ECF6",
            "gridcolor": "white",
            "gridwidth": 2,
            "linecolor": "white",
            "showbackground": true,
            "ticks": "",
            "zerolinecolor": "white"
           },
           "zaxis": {
            "backgroundcolor": "#E5ECF6",
            "gridcolor": "white",
            "gridwidth": 2,
            "linecolor": "white",
            "showbackground": true,
            "ticks": "",
            "zerolinecolor": "white"
           }
          },
          "shapedefaults": {
           "line": {
            "color": "#2a3f5f"
           }
          },
          "ternary": {
           "aaxis": {
            "gridcolor": "white",
            "linecolor": "white",
            "ticks": ""
           },
           "baxis": {
            "gridcolor": "white",
            "linecolor": "white",
            "ticks": ""
           },
           "bgcolor": "#E5ECF6",
           "caxis": {
            "gridcolor": "white",
            "linecolor": "white",
            "ticks": ""
           }
          },
          "title": {
           "x": 0.05
          },
          "xaxis": {
           "automargin": true,
           "gridcolor": "white",
           "linecolor": "white",
           "ticks": "",
           "title": {
            "standoff": 15
           },
           "zerolinecolor": "white",
           "zerolinewidth": 2
          },
          "yaxis": {
           "automargin": true,
           "gridcolor": "white",
           "linecolor": "white",
           "ticks": "",
           "title": {
            "standoff": 15
           },
           "zerolinecolor": "white",
           "zerolinewidth": 2
          }
         }
        },
        "title": {
         "text": "3D Visualization of Customer Clusters in PCA Space",
         "x": 0.5
        },
        "width": 900
       }
      }
     },
     "metadata": {},
     "output_type": "display_data"
    }
   ],
   "source": [
    "# 색상 지정 \n",
    "colors = ['red', 'blue', 'green']\n",
    "\n",
    "# 각 클러스터별 데이터 분릴\n",
    "cluster_0 = data_pca[data_pca['cluster'] == 0]\n",
    "cluster_1 = data_pca[data_pca['cluster'] == 1]\n",
    "cluster_2 = data_pca[data_pca['cluster'] == 2]\n",
    "\n",
    "# 3D 시각화\n",
    "fig = go.Figure()\n",
    "\n",
    "# 각 클러스터별 데이터 표기 \n",
    "fig.add_trace(go.Scatter3d(x=cluster_0['PC1'], y=cluster_0['PC2'], z=cluster_0['PC3'], \n",
    "                           mode='markers', marker=dict(color=colors[0], size=5, opacity=0.4), name='Group 1'))\n",
    "fig.add_trace(go.Scatter3d(x=cluster_1['PC1'], y=cluster_1['PC2'], z=cluster_1['PC3'], \n",
    "                           mode='markers', marker=dict(color=colors[1], size=5, opacity=0.4), name='Group 2'))\n",
    "fig.add_trace(go.Scatter3d(x=cluster_2['PC1'], y=cluster_2['PC2'], z=cluster_2['PC3'], \n",
    "                           mode='markers', marker=dict(color=colors[2], size=5, opacity=0.4), name='Group 3'))\n",
    "\n",
    "# 범례 및 제목 영역 설정\n",
    "fig.update_layout(\n",
    "    title=dict(text='3D Visualization of Customer Clusters in PCA Space', x=0.5),\n",
    "    scene=dict(\n",
    "        xaxis=dict(backgroundcolor=\"grey\", gridcolor='white', title='PC1'),\n",
    "        yaxis=dict(backgroundcolor=\"grey\", gridcolor='white', title='PC2'),\n",
    "        zaxis=dict(backgroundcolor=\"grey\", gridcolor='white', title='PC3'),\n",
    "    ),\n",
    "    width=900,\n",
    "    height=800\n",
    ")\n",
    "\n",
    "fig.show()"
   ]
  },
  {
   "cell_type": "markdown",
   "metadata": {},
   "source": [
    "### code 탐색"
   ]
  },
  {
   "cell_type": "code",
   "execution_count": 21,
   "metadata": {},
   "outputs": [
    {
     "data": {
      "text/html": [
       "<style>#sk-container-id-1 {\n",
       "  /* Definition of color scheme common for light and dark mode */\n",
       "  --sklearn-color-text: #000;\n",
       "  --sklearn-color-text-muted: #666;\n",
       "  --sklearn-color-line: gray;\n",
       "  /* Definition of color scheme for unfitted estimators */\n",
       "  --sklearn-color-unfitted-level-0: #fff5e6;\n",
       "  --sklearn-color-unfitted-level-1: #f6e4d2;\n",
       "  --sklearn-color-unfitted-level-2: #ffe0b3;\n",
       "  --sklearn-color-unfitted-level-3: chocolate;\n",
       "  /* Definition of color scheme for fitted estimators */\n",
       "  --sklearn-color-fitted-level-0: #f0f8ff;\n",
       "  --sklearn-color-fitted-level-1: #d4ebff;\n",
       "  --sklearn-color-fitted-level-2: #b3dbfd;\n",
       "  --sklearn-color-fitted-level-3: cornflowerblue;\n",
       "\n",
       "  /* Specific color for light theme */\n",
       "  --sklearn-color-text-on-default-background: var(--sg-text-color, var(--theme-code-foreground, var(--jp-content-font-color1, black)));\n",
       "  --sklearn-color-background: var(--sg-background-color, var(--theme-background, var(--jp-layout-color0, white)));\n",
       "  --sklearn-color-border-box: var(--sg-text-color, var(--theme-code-foreground, var(--jp-content-font-color1, black)));\n",
       "  --sklearn-color-icon: #696969;\n",
       "\n",
       "  @media (prefers-color-scheme: dark) {\n",
       "    /* Redefinition of color scheme for dark theme */\n",
       "    --sklearn-color-text-on-default-background: var(--sg-text-color, var(--theme-code-foreground, var(--jp-content-font-color1, white)));\n",
       "    --sklearn-color-background: var(--sg-background-color, var(--theme-background, var(--jp-layout-color0, #111)));\n",
       "    --sklearn-color-border-box: var(--sg-text-color, var(--theme-code-foreground, var(--jp-content-font-color1, white)));\n",
       "    --sklearn-color-icon: #878787;\n",
       "  }\n",
       "}\n",
       "\n",
       "#sk-container-id-1 {\n",
       "  color: var(--sklearn-color-text);\n",
       "}\n",
       "\n",
       "#sk-container-id-1 pre {\n",
       "  padding: 0;\n",
       "}\n",
       "\n",
       "#sk-container-id-1 input.sk-hidden--visually {\n",
       "  border: 0;\n",
       "  clip: rect(1px 1px 1px 1px);\n",
       "  clip: rect(1px, 1px, 1px, 1px);\n",
       "  height: 1px;\n",
       "  margin: -1px;\n",
       "  overflow: hidden;\n",
       "  padding: 0;\n",
       "  position: absolute;\n",
       "  width: 1px;\n",
       "}\n",
       "\n",
       "#sk-container-id-1 div.sk-dashed-wrapped {\n",
       "  border: 1px dashed var(--sklearn-color-line);\n",
       "  margin: 0 0.4em 0.5em 0.4em;\n",
       "  box-sizing: border-box;\n",
       "  padding-bottom: 0.4em;\n",
       "  background-color: var(--sklearn-color-background);\n",
       "}\n",
       "\n",
       "#sk-container-id-1 div.sk-container {\n",
       "  /* jupyter's `normalize.less` sets `[hidden] { display: none; }`\n",
       "     but bootstrap.min.css set `[hidden] { display: none !important; }`\n",
       "     so we also need the `!important` here to be able to override the\n",
       "     default hidden behavior on the sphinx rendered scikit-learn.org.\n",
       "     See: https://github.com/scikit-learn/scikit-learn/issues/21755 */\n",
       "  display: inline-block !important;\n",
       "  position: relative;\n",
       "}\n",
       "\n",
       "#sk-container-id-1 div.sk-text-repr-fallback {\n",
       "  display: none;\n",
       "}\n",
       "\n",
       "div.sk-parallel-item,\n",
       "div.sk-serial,\n",
       "div.sk-item {\n",
       "  /* draw centered vertical line to link estimators */\n",
       "  background-image: linear-gradient(var(--sklearn-color-text-on-default-background), var(--sklearn-color-text-on-default-background));\n",
       "  background-size: 2px 100%;\n",
       "  background-repeat: no-repeat;\n",
       "  background-position: center center;\n",
       "}\n",
       "\n",
       "/* Parallel-specific style estimator block */\n",
       "\n",
       "#sk-container-id-1 div.sk-parallel-item::after {\n",
       "  content: \"\";\n",
       "  width: 100%;\n",
       "  border-bottom: 2px solid var(--sklearn-color-text-on-default-background);\n",
       "  flex-grow: 1;\n",
       "}\n",
       "\n",
       "#sk-container-id-1 div.sk-parallel {\n",
       "  display: flex;\n",
       "  align-items: stretch;\n",
       "  justify-content: center;\n",
       "  background-color: var(--sklearn-color-background);\n",
       "  position: relative;\n",
       "}\n",
       "\n",
       "#sk-container-id-1 div.sk-parallel-item {\n",
       "  display: flex;\n",
       "  flex-direction: column;\n",
       "}\n",
       "\n",
       "#sk-container-id-1 div.sk-parallel-item:first-child::after {\n",
       "  align-self: flex-end;\n",
       "  width: 50%;\n",
       "}\n",
       "\n",
       "#sk-container-id-1 div.sk-parallel-item:last-child::after {\n",
       "  align-self: flex-start;\n",
       "  width: 50%;\n",
       "}\n",
       "\n",
       "#sk-container-id-1 div.sk-parallel-item:only-child::after {\n",
       "  width: 0;\n",
       "}\n",
       "\n",
       "/* Serial-specific style estimator block */\n",
       "\n",
       "#sk-container-id-1 div.sk-serial {\n",
       "  display: flex;\n",
       "  flex-direction: column;\n",
       "  align-items: center;\n",
       "  background-color: var(--sklearn-color-background);\n",
       "  padding-right: 1em;\n",
       "  padding-left: 1em;\n",
       "}\n",
       "\n",
       "\n",
       "/* Toggleable style: style used for estimator/Pipeline/ColumnTransformer box that is\n",
       "clickable and can be expanded/collapsed.\n",
       "- Pipeline and ColumnTransformer use this feature and define the default style\n",
       "- Estimators will overwrite some part of the style using the `sk-estimator` class\n",
       "*/\n",
       "\n",
       "/* Pipeline and ColumnTransformer style (default) */\n",
       "\n",
       "#sk-container-id-1 div.sk-toggleable {\n",
       "  /* Default theme specific background. It is overwritten whether we have a\n",
       "  specific estimator or a Pipeline/ColumnTransformer */\n",
       "  background-color: var(--sklearn-color-background);\n",
       "}\n",
       "\n",
       "/* Toggleable label */\n",
       "#sk-container-id-1 label.sk-toggleable__label {\n",
       "  cursor: pointer;\n",
       "  display: flex;\n",
       "  width: 100%;\n",
       "  margin-bottom: 0;\n",
       "  padding: 0.5em;\n",
       "  box-sizing: border-box;\n",
       "  text-align: center;\n",
       "  align-items: start;\n",
       "  justify-content: space-between;\n",
       "  gap: 0.5em;\n",
       "}\n",
       "\n",
       "#sk-container-id-1 label.sk-toggleable__label .caption {\n",
       "  font-size: 0.6rem;\n",
       "  font-weight: lighter;\n",
       "  color: var(--sklearn-color-text-muted);\n",
       "}\n",
       "\n",
       "#sk-container-id-1 label.sk-toggleable__label-arrow:before {\n",
       "  /* Arrow on the left of the label */\n",
       "  content: \"▸\";\n",
       "  float: left;\n",
       "  margin-right: 0.25em;\n",
       "  color: var(--sklearn-color-icon);\n",
       "}\n",
       "\n",
       "#sk-container-id-1 label.sk-toggleable__label-arrow:hover:before {\n",
       "  color: var(--sklearn-color-text);\n",
       "}\n",
       "\n",
       "/* Toggleable content - dropdown */\n",
       "\n",
       "#sk-container-id-1 div.sk-toggleable__content {\n",
       "  max-height: 0;\n",
       "  max-width: 0;\n",
       "  overflow: hidden;\n",
       "  text-align: left;\n",
       "  /* unfitted */\n",
       "  background-color: var(--sklearn-color-unfitted-level-0);\n",
       "}\n",
       "\n",
       "#sk-container-id-1 div.sk-toggleable__content.fitted {\n",
       "  /* fitted */\n",
       "  background-color: var(--sklearn-color-fitted-level-0);\n",
       "}\n",
       "\n",
       "#sk-container-id-1 div.sk-toggleable__content pre {\n",
       "  margin: 0.2em;\n",
       "  border-radius: 0.25em;\n",
       "  color: var(--sklearn-color-text);\n",
       "  /* unfitted */\n",
       "  background-color: var(--sklearn-color-unfitted-level-0);\n",
       "}\n",
       "\n",
       "#sk-container-id-1 div.sk-toggleable__content.fitted pre {\n",
       "  /* unfitted */\n",
       "  background-color: var(--sklearn-color-fitted-level-0);\n",
       "}\n",
       "\n",
       "#sk-container-id-1 input.sk-toggleable__control:checked~div.sk-toggleable__content {\n",
       "  /* Expand drop-down */\n",
       "  max-height: 200px;\n",
       "  max-width: 100%;\n",
       "  overflow: auto;\n",
       "}\n",
       "\n",
       "#sk-container-id-1 input.sk-toggleable__control:checked~label.sk-toggleable__label-arrow:before {\n",
       "  content: \"▾\";\n",
       "}\n",
       "\n",
       "/* Pipeline/ColumnTransformer-specific style */\n",
       "\n",
       "#sk-container-id-1 div.sk-label input.sk-toggleable__control:checked~label.sk-toggleable__label {\n",
       "  color: var(--sklearn-color-text);\n",
       "  background-color: var(--sklearn-color-unfitted-level-2);\n",
       "}\n",
       "\n",
       "#sk-container-id-1 div.sk-label.fitted input.sk-toggleable__control:checked~label.sk-toggleable__label {\n",
       "  background-color: var(--sklearn-color-fitted-level-2);\n",
       "}\n",
       "\n",
       "/* Estimator-specific style */\n",
       "\n",
       "/* Colorize estimator box */\n",
       "#sk-container-id-1 div.sk-estimator input.sk-toggleable__control:checked~label.sk-toggleable__label {\n",
       "  /* unfitted */\n",
       "  background-color: var(--sklearn-color-unfitted-level-2);\n",
       "}\n",
       "\n",
       "#sk-container-id-1 div.sk-estimator.fitted input.sk-toggleable__control:checked~label.sk-toggleable__label {\n",
       "  /* fitted */\n",
       "  background-color: var(--sklearn-color-fitted-level-2);\n",
       "}\n",
       "\n",
       "#sk-container-id-1 div.sk-label label.sk-toggleable__label,\n",
       "#sk-container-id-1 div.sk-label label {\n",
       "  /* The background is the default theme color */\n",
       "  color: var(--sklearn-color-text-on-default-background);\n",
       "}\n",
       "\n",
       "/* On hover, darken the color of the background */\n",
       "#sk-container-id-1 div.sk-label:hover label.sk-toggleable__label {\n",
       "  color: var(--sklearn-color-text);\n",
       "  background-color: var(--sklearn-color-unfitted-level-2);\n",
       "}\n",
       "\n",
       "/* Label box, darken color on hover, fitted */\n",
       "#sk-container-id-1 div.sk-label.fitted:hover label.sk-toggleable__label.fitted {\n",
       "  color: var(--sklearn-color-text);\n",
       "  background-color: var(--sklearn-color-fitted-level-2);\n",
       "}\n",
       "\n",
       "/* Estimator label */\n",
       "\n",
       "#sk-container-id-1 div.sk-label label {\n",
       "  font-family: monospace;\n",
       "  font-weight: bold;\n",
       "  display: inline-block;\n",
       "  line-height: 1.2em;\n",
       "}\n",
       "\n",
       "#sk-container-id-1 div.sk-label-container {\n",
       "  text-align: center;\n",
       "}\n",
       "\n",
       "/* Estimator-specific */\n",
       "#sk-container-id-1 div.sk-estimator {\n",
       "  font-family: monospace;\n",
       "  border: 1px dotted var(--sklearn-color-border-box);\n",
       "  border-radius: 0.25em;\n",
       "  box-sizing: border-box;\n",
       "  margin-bottom: 0.5em;\n",
       "  /* unfitted */\n",
       "  background-color: var(--sklearn-color-unfitted-level-0);\n",
       "}\n",
       "\n",
       "#sk-container-id-1 div.sk-estimator.fitted {\n",
       "  /* fitted */\n",
       "  background-color: var(--sklearn-color-fitted-level-0);\n",
       "}\n",
       "\n",
       "/* on hover */\n",
       "#sk-container-id-1 div.sk-estimator:hover {\n",
       "  /* unfitted */\n",
       "  background-color: var(--sklearn-color-unfitted-level-2);\n",
       "}\n",
       "\n",
       "#sk-container-id-1 div.sk-estimator.fitted:hover {\n",
       "  /* fitted */\n",
       "  background-color: var(--sklearn-color-fitted-level-2);\n",
       "}\n",
       "\n",
       "/* Specification for estimator info (e.g. \"i\" and \"?\") */\n",
       "\n",
       "/* Common style for \"i\" and \"?\" */\n",
       "\n",
       ".sk-estimator-doc-link,\n",
       "a:link.sk-estimator-doc-link,\n",
       "a:visited.sk-estimator-doc-link {\n",
       "  float: right;\n",
       "  font-size: smaller;\n",
       "  line-height: 1em;\n",
       "  font-family: monospace;\n",
       "  background-color: var(--sklearn-color-background);\n",
       "  border-radius: 1em;\n",
       "  height: 1em;\n",
       "  width: 1em;\n",
       "  text-decoration: none !important;\n",
       "  margin-left: 0.5em;\n",
       "  text-align: center;\n",
       "  /* unfitted */\n",
       "  border: var(--sklearn-color-unfitted-level-1) 1pt solid;\n",
       "  color: var(--sklearn-color-unfitted-level-1);\n",
       "}\n",
       "\n",
       ".sk-estimator-doc-link.fitted,\n",
       "a:link.sk-estimator-doc-link.fitted,\n",
       "a:visited.sk-estimator-doc-link.fitted {\n",
       "  /* fitted */\n",
       "  border: var(--sklearn-color-fitted-level-1) 1pt solid;\n",
       "  color: var(--sklearn-color-fitted-level-1);\n",
       "}\n",
       "\n",
       "/* On hover */\n",
       "div.sk-estimator:hover .sk-estimator-doc-link:hover,\n",
       ".sk-estimator-doc-link:hover,\n",
       "div.sk-label-container:hover .sk-estimator-doc-link:hover,\n",
       ".sk-estimator-doc-link:hover {\n",
       "  /* unfitted */\n",
       "  background-color: var(--sklearn-color-unfitted-level-3);\n",
       "  color: var(--sklearn-color-background);\n",
       "  text-decoration: none;\n",
       "}\n",
       "\n",
       "div.sk-estimator.fitted:hover .sk-estimator-doc-link.fitted:hover,\n",
       ".sk-estimator-doc-link.fitted:hover,\n",
       "div.sk-label-container:hover .sk-estimator-doc-link.fitted:hover,\n",
       ".sk-estimator-doc-link.fitted:hover {\n",
       "  /* fitted */\n",
       "  background-color: var(--sklearn-color-fitted-level-3);\n",
       "  color: var(--sklearn-color-background);\n",
       "  text-decoration: none;\n",
       "}\n",
       "\n",
       "/* Span, style for the box shown on hovering the info icon */\n",
       ".sk-estimator-doc-link span {\n",
       "  display: none;\n",
       "  z-index: 9999;\n",
       "  position: relative;\n",
       "  font-weight: normal;\n",
       "  right: .2ex;\n",
       "  padding: .5ex;\n",
       "  margin: .5ex;\n",
       "  width: min-content;\n",
       "  min-width: 20ex;\n",
       "  max-width: 50ex;\n",
       "  color: var(--sklearn-color-text);\n",
       "  box-shadow: 2pt 2pt 4pt #999;\n",
       "  /* unfitted */\n",
       "  background: var(--sklearn-color-unfitted-level-0);\n",
       "  border: .5pt solid var(--sklearn-color-unfitted-level-3);\n",
       "}\n",
       "\n",
       ".sk-estimator-doc-link.fitted span {\n",
       "  /* fitted */\n",
       "  background: var(--sklearn-color-fitted-level-0);\n",
       "  border: var(--sklearn-color-fitted-level-3);\n",
       "}\n",
       "\n",
       ".sk-estimator-doc-link:hover span {\n",
       "  display: block;\n",
       "}\n",
       "\n",
       "/* \"?\"-specific style due to the `<a>` HTML tag */\n",
       "\n",
       "#sk-container-id-1 a.estimator_doc_link {\n",
       "  float: right;\n",
       "  font-size: 1rem;\n",
       "  line-height: 1em;\n",
       "  font-family: monospace;\n",
       "  background-color: var(--sklearn-color-background);\n",
       "  border-radius: 1rem;\n",
       "  height: 1rem;\n",
       "  width: 1rem;\n",
       "  text-decoration: none;\n",
       "  /* unfitted */\n",
       "  color: var(--sklearn-color-unfitted-level-1);\n",
       "  border: var(--sklearn-color-unfitted-level-1) 1pt solid;\n",
       "}\n",
       "\n",
       "#sk-container-id-1 a.estimator_doc_link.fitted {\n",
       "  /* fitted */\n",
       "  border: var(--sklearn-color-fitted-level-1) 1pt solid;\n",
       "  color: var(--sklearn-color-fitted-level-1);\n",
       "}\n",
       "\n",
       "/* On hover */\n",
       "#sk-container-id-1 a.estimator_doc_link:hover {\n",
       "  /* unfitted */\n",
       "  background-color: var(--sklearn-color-unfitted-level-3);\n",
       "  color: var(--sklearn-color-background);\n",
       "  text-decoration: none;\n",
       "}\n",
       "\n",
       "#sk-container-id-1 a.estimator_doc_link.fitted:hover {\n",
       "  /* fitted */\n",
       "  background-color: var(--sklearn-color-fitted-level-3);\n",
       "}\n",
       "</style><div id=\"sk-container-id-1\" class=\"sk-top-container\"><div class=\"sk-text-repr-fallback\"><pre>KMeans(max_iter=100, n_clusters=3, n_init=10, random_state=0)</pre><b>In a Jupyter environment, please rerun this cell to show the HTML representation or trust the notebook. <br />On GitHub, the HTML representation is unable to render, please try loading this page with nbviewer.org.</b></div><div class=\"sk-container\" hidden><div class=\"sk-item\"><div class=\"sk-estimator fitted sk-toggleable\"><input class=\"sk-toggleable__control sk-hidden--visually\" id=\"sk-estimator-id-1\" type=\"checkbox\" checked><label for=\"sk-estimator-id-1\" class=\"sk-toggleable__label fitted sk-toggleable__label-arrow\"><div><div>KMeans</div></div><div><a class=\"sk-estimator-doc-link fitted\" rel=\"noreferrer\" target=\"_blank\" href=\"https://scikit-learn.org/1.6/modules/generated/sklearn.cluster.KMeans.html\">?<span>Documentation for KMeans</span></a><span class=\"sk-estimator-doc-link fitted\">i<span>Fitted</span></span></div></label><div class=\"sk-toggleable__content fitted\"><pre>KMeans(max_iter=100, n_clusters=3, n_init=10, random_state=0)</pre></div> </div></div></div></div>"
      ],
      "text/plain": [
       "KMeans(max_iter=100, n_clusters=3, n_init=10, random_state=0)"
      ]
     },
     "execution_count": 21,
     "metadata": {},
     "output_type": "execute_result"
    }
   ],
   "source": [
    "'''\n",
    "n_clusters=3: 클러스터의 개수를 3으로 설정\n",
    "init='k-means++': 초기 클러스터 중심을 효율적으로 선택하는 방법을 사용\n",
    "n_init=10: K-Means 알고리즘을 10번 실행하여 최적의 결과를 선택\n",
    "max_iter=100: 최대 반복 횟수를 100\n",
    "random_state=0: 결과 재현성을 위해 난수 시드를 고정\n",
    "'''\n",
    "\n",
    "kmeans = KMeans(n_clusters=3, init='k-means++', n_init=10, max_iter=100, random_state=0)\n",
    "kmeans.fit(data_pca)    \n"
   ]
  },
  {
   "cell_type": "code",
   "execution_count": 22,
   "metadata": {},
   "outputs": [
    {
     "data": {
      "text/plain": [
       "array([0, 0, 0, ..., 1, 2, 2], dtype=int32)"
      ]
     },
     "execution_count": 22,
     "metadata": {},
     "output_type": "execute_result"
    }
   ],
   "source": [
    "kmeans.labels_\n"
   ]
  },
  {
   "cell_type": "code",
   "execution_count": 23,
   "metadata": {},
   "outputs": [
    {
     "data": {
      "text/plain": [
       "Counter({0: 3033, 1: 583, 2: 508})"
      ]
     },
     "execution_count": 23,
     "metadata": {},
     "output_type": "execute_result"
    }
   ],
   "source": [
    "Counter(kmeans.labels_)"
   ]
  },
  {
   "cell_type": "code",
   "execution_count": 24,
   "metadata": {},
   "outputs": [
    {
     "data": {
      "text/plain": [
       "collections.Counter"
      ]
     },
     "execution_count": 24,
     "metadata": {},
     "output_type": "execute_result"
    }
   ],
   "source": [
    "cluster_frequencies = Counter(kmeans.labels_) \n",
    "type(cluster_frequencies)"
   ]
  },
  {
   "cell_type": "code",
   "execution_count": 25,
   "metadata": {},
   "outputs": [
    {
     "data": {
      "text/plain": [
       "{0: 0, 1: 1, 2: 2}"
      ]
     },
     "execution_count": 25,
     "metadata": {},
     "output_type": "execute_result"
    }
   ],
   "source": [
    "# 빈도수에 기반하여 이전 레이블에서 새 레이블로의 매핑 생성\n",
    "label_mapping = {label: new_label for new_label, (label, _) in \n",
    "                 enumerate(cluster_frequencies.most_common())}\n",
    "\n",
    "label_mapping"
   ]
  },
  {
   "cell_type": "code",
   "execution_count": 26,
   "metadata": {},
   "outputs": [
    {
     "data": {
      "text/plain": [
       "array([0, 0, 0, ..., 1, 2, 2])"
      ]
     },
     "execution_count": 26,
     "metadata": {},
     "output_type": "execute_result"
    }
   ],
   "source": [
    "# 매핑을 적용하여 새 레이블 얻기\n",
    "np.array([label_mapping[label] for label in kmeans.labels_])\n",
    "\n",
    "# for label in kmeans.labels_:\n",
    "#     print(label_mapping[label], end=' ')\n"
   ]
  },
  {
   "cell_type": "markdown",
   "metadata": {},
   "source": [
    "## 추가) KNN"
   ]
  },
  {
   "cell_type": "markdown",
   "metadata": {},
   "source": [
    "k-nearest neighbors, k-최근접 이웃      \n",
    "- 별도의 훈련시간이 필요하지 않음"
   ]
  },
  {
   "cell_type": "code",
   "execution_count": 27,
   "metadata": {},
   "outputs": [],
   "source": [
    "# kNN 분류기 모델 생성\n",
    "knn_cls = KNeighborsClassifier()"
   ]
  }
 ],
 "metadata": {
  "kernelspec": {
   "display_name": "3.12.2",
   "language": "python",
   "name": "python3"
  },
  "language_info": {
   "codemirror_mode": {
    "name": "ipython",
    "version": 3
   },
   "file_extension": ".py",
   "mimetype": "text/x-python",
   "name": "python",
   "nbconvert_exporter": "python",
   "pygments_lexer": "ipython3",
   "version": "3.12.2"
  }
 },
 "nbformat": 4,
 "nbformat_minor": 2
}
