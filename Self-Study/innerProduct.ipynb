{
 "cells": [
  {
   "cell_type": "markdown",
   "metadata": {},
   "source": [
    "# 내적\n",
    "\n",
    "- 백터의 길이\n",
    "- 벡터 사이의 관계"
   ]
  },
  {
   "cell_type": "code",
   "execution_count": 2,
   "metadata": {},
   "outputs": [],
   "source": [
    "import numpy as np"
   ]
  },
  {
   "cell_type": "code",
   "execution_count": 3,
   "metadata": {},
   "outputs": [
    {
     "name": "stdout",
     "output_type": "stream",
     "text": [
      "32\n"
     ]
    }
   ],
   "source": [
    "#9.5.1 : 기본내적 실습\n",
    "\n",
    "a = [1, 2, 3]\n",
    "b = [4, 5, 6]\n",
    "n = len(a)\n",
    "result = 0 # 내적의 결과를 저장할 변수\n",
    "for i in range(n):\n",
    "    result += a[i] * b[i]\n",
    "print(result)"
   ]
  },
  {
   "cell_type": "code",
   "execution_count": 4,
   "metadata": {},
   "outputs": [
    {
     "name": "stdout",
     "output_type": "stream",
     "text": [
      "32\n",
      "14\n"
     ]
    }
   ],
   "source": [
    "def inner_product(a, b):\n",
    "    '''\n",
    "    벡터의 내적\n",
    "    입력값: 내적할 두 벡터 리스트 a, b\n",
    "    출력값: 내적의 결과\n",
    "    a와 b는 같은 길이의 리스트여야 한다.\n",
    "    내적은 두 벡터의 같은 인덱스의 원소를 곱한 후 모두 더한 값이다.\n",
    "    '''\n",
    "    n = len(a)\n",
    "    result = 0 # 내적의 결과를 저장할 변수\n",
    "    for i in range(n):\n",
    "        result += a[i] * b[i]\n",
    "    return result\n",
    "\n",
    "print(inner_product(a, b))\n",
    "print(inner_product([1, 2], [4, 5]))"
   ]
  },
  {
   "cell_type": "code",
   "execution_count": 29,
   "metadata": {},
   "outputs": [],
   "source": [
    "# 9.5.2 : 그램 슈미트 과정을 이용한 QR 분해\n",
    "\n",
    "A = [[1,0,1],[0,1,1],[1,2,0]]\n",
    "\n",
    "n = len(A) # 행렬 A의 행의 개수\n",
    "p = len(A[0]) # 행렬 A의 열의 개수\n",
    "a1 = [] # 행렬 A의 1열에 해당하는 열벡터\n",
    "a2 = [] # 행렬 A의 2열에 해당하는 열벡터\n",
    "a3 = [] # 행렬 A의 3열에 해당하는 열벡터\n",
    "\n",
    "# 행렬 A의 열벡터 분해\n",
    "for i in range(n):\n",
    "    a1.append(A[i][0])\n",
    "    a2.append(A[i][1])\n",
    "    a3.append(A[i][2])"
   ]
  },
  {
   "cell_type": "code",
   "execution_count": 30,
   "metadata": {},
   "outputs": [
    {
     "name": "stdout",
     "output_type": "stream",
     "text": [
      "[1, 0, 1]\n",
      "[0, 1, 2]\n",
      "[1, 1, 0]\n"
     ]
    }
   ],
   "source": [
    "# # 행렬 A의 열벡터 분해 확인\n",
    "print(a1);print(a2);print(a3)"
   ]
  },
  {
   "cell_type": "code",
   "execution_count": 38,
   "metadata": {},
   "outputs": [
    {
     "name": "stdout",
     "output_type": "stream",
     "text": [
      "[1, 0, 1]\n",
      "[-1.0, 1.0, 1.0]\n",
      "[0.5, 1.0, -0.5]\n"
     ]
    }
   ],
   "source": [
    "# 벡터 u1구하기\n",
    "\n",
    "u1 = a1\n",
    "print(u1)\n",
    "\n",
    "# 벡터 u2구하기\n",
    "scalar = inner_product(a2, u1) / inner_product(u1, u1)\n",
    "u2 = [a2[i] - scalar * u1[i] for i in range(len(a2))]\n",
    "print(u2)\n",
    "\n",
    "# 벡터 u3구하기\n",
    "scalar = inner_product(a3, u1) / inner_product(u1, u1)\n",
    "u3 = [a3[i] - scalar * u1[i] for i in range(len(a3))]\n",
    "print(u3)"
   ]
  },
  {
   "cell_type": "markdown",
   "metadata": {},
   "source": [
    "### 벡터 u2 구하기\n",
    "\n",
    "$$\n",
    "\\mathbf{u}_2 = \\mathbf{a}_2 - \\frac{\\langle \\mathbf{a}_2, \\mathbf{u}_1 \\rangle}{\\|\\mathbf{u}_1\\|^2} \\mathbf{u}_1\n",
    "$$\n",
    "\n",
    "- a2 와 u1의 내적값\n",
    "- 벡터 u1의 norm(길이)의 제곱값"
   ]
  },
  {
   "cell_type": "code",
   "execution_count": 37,
   "metadata": {},
   "outputs": [
    {
     "name": "stdout",
     "output_type": "stream",
     "text": [
      "2\n",
      "1.4142135623730951\n",
      "[-0.9999999999999998, 1.0, 1.0000000000000002]\n"
     ]
    }
   ],
   "source": [
    "u1 = a1\n",
    "\n",
    "# a2 와 u1의 내적값\n",
    "dp21 = 0 # a2와 u1의 내적값 초기값 선언\n",
    "for i in range(0, len(u1)): # a2와 u1의 i번째 원소에 대해\n",
    "    temp = a2[i] * u1[i] # a2와 u1의 i번째 원소를 곱한 후 temp에 저장\n",
    "    dp21 += temp # dp21에 각 벡터의 원소의 곱 temp를 더함\n",
    "print(dp21)\n",
    "\n",
    "\n",
    "# 벡터 u1의 길이인 norm 구하기\n",
    "norm_u1 = 0 # norm_u1 초기값 선언\n",
    "for i in range(0, len(u1)): # u1의 i번째 원소에 대해\n",
    "    norm_u1 += u1[i]**2 # u1의 i번째 원소를 제곱한 후 norm_u1에 저장\n",
    "norm_u1 = norm_u1**0.5 # norm_u1을 제곱근으로 변환\n",
    "print(norm_u1) # norm_u1을 제곱근으로 변환하여 출력\n",
    "\n",
    "# u2 벡터 구하기\n",
    "u2 = [a2[i] - (dp21 / norm_u1**2) * u1[i] for i in range(len(a2))]\n",
    "print(u2)\n"
   ]
  },
  {
   "cell_type": "markdown",
   "metadata": {},
   "source": [
    "### 벡터 u3 구하기\n",
    "\n",
    "\n",
    "$$\n",
    "\\mathbf{u}_3 = \\mathbf{a}_3 - \\frac{\\langle \\mathbf{a}_3, \\mathbf{u}_1 \\rangle}{\\|\\mathbf{u}_1\\|^2} \\mathbf{u}_1 - \\frac{\\langle \\mathbf{a}_3, \\mathbf{u}_2 \\rangle}{\\|\\mathbf{u}_2\\|^2} \\mathbf{u}_2\n",
    "$$\n",
    "\n",
    "- a3 와 u1의 내적값, a3 와 u2의 내적값\n",
    "- 벡터 u1과 벡터 u2의 norm(길이)의 제곱값"
   ]
  },
  {
   "cell_type": "code",
   "execution_count": 46,
   "metadata": {},
   "outputs": [
    {
     "name": "stdout",
     "output_type": "stream",
     "text": [
      "[1, 0, 1]\n",
      "[1, 1, 0]\n",
      "[-1.0, 1.0, 1.0]\n",
      "[1, 1, 0]\n"
     ]
    }
   ],
   "source": [
    "u1 = a1\n",
    "print(u1)\n",
    "print(a3)\n",
    "print(u2)\n",
    "print(a3)\n"
   ]
  },
  {
   "cell_type": "code",
   "execution_count": 48,
   "metadata": {},
   "outputs": [
    {
     "name": "stdout",
     "output_type": "stream",
     "text": [
      "1\n",
      "0.0\n",
      "1.7320508075688772\n"
     ]
    }
   ],
   "source": [
    "# a3와 u1의 내적값\n",
    "dp31 = 0 # a3와 u1의 내적값 초기값 선언\n",
    "for i in range(0, len(u1)): # a3와 u1의 i번째 원소에 대해\n",
    "    temp = a3[i] * u1[i] # a3와 u1의 i번째 원소를 곱한 후 temp에 저장\n",
    "    dp31 += temp # dp31에 각 벡터의 원소의 곱 temp를 더함\n",
    "    # print(i, temp, dp31)\n",
    "print(dp31)\n",
    "\n",
    "# a3와 u2의 내적값\n",
    "dp32 = 0 # a3와 u2의 내적값 초기값 선언\n",
    "for i in range(0, len(u2)): # a3와 u2의 i번째 원소에 대해\n",
    "    temp = a3[i] * u2[i] # a3와 u2의 i번째 원소를 곱한 후 temp에 저장\n",
    "    dp32 += temp # dp32에 각 벡터의 원소의 곱 temp를 더함\n",
    "    # print(i, temp, dp32)\n",
    "print(dp32)\n",
    "\n",
    "# 벡터 u2의 길이인 norm_u2 구하기\n",
    "norm_u2 = 0 # norm_u2 초기값 선언\n",
    "for i in range(0, len(u2)): # u2의 i번째 원소에 대해\n",
    "    norm_u2 += u2[i]**2 # u2의 i번째 원소를 제곱한 후 norm_u2에 저장\n",
    "norm_u2 = norm_u2**0.5 # norm_u2을 제곱근으로 변환\n",
    "print(norm_u2) # norm_u2을 제곱근으로 변환하여 출력"
   ]
  },
  {
   "cell_type": "code",
   "execution_count": 49,
   "metadata": {},
   "outputs": [
    {
     "name": "stdout",
     "output_type": "stream",
     "text": [
      "[0.5000000000000001, 1.0, -0.4999999999999999]\n"
     ]
    }
   ],
   "source": [
    "# u3 벡터 구하기\n",
    "u3 = [a3[i] - (dp31 / norm_u1**2) * u1[i] - (dp32 / norm_u2**2) * u2[i] for i in range(len(a3))]\n",
    "print(u3)"
   ]
  },
  {
   "cell_type": "code",
   "execution_count": 50,
   "metadata": {},
   "outputs": [
    {
     "name": "stdout",
     "output_type": "stream",
     "text": [
      "1.224744871391589\n"
     ]
    }
   ],
   "source": [
    "# u3의 길이 구하기\n",
    "norm_u3 = 0 # norm_u3 초기값 선언\n",
    "for i in range(0, len(u3)): # u3의 i번째 원소에 대해\n",
    "    norm_u3 += u3[i]**2 # u3의 i번째 원소를 제곱한 후 norm_u3에 저장\n",
    "norm_u3 = norm_u3**0.5 # norm_u3을 제곱근으로 변환\n",
    "print(norm_u3) # norm_u3을 제곱근으로 변환하여 출력"
   ]
  },
  {
   "cell_type": "markdown",
   "metadata": {},
   "source": [
    "### 정규 직교 벡터\n",
    "\n",
    "\n",
    "$$\n",
    "\\mathbf{v}_1 = \\frac{1}{\\|\\mathbf{u}_1\\|} \\mathbf{u}_1\n",
    "$$\n",
    "\n",
    "$$\n",
    "\\mathbf{v}_2 = \\frac{1}{\\|\\mathbf{u}_2\\|} \\mathbf{u}_2\n",
    "$$\n",
    "\n",
    "$$\n",
    "\\mathbf{v}_3 = \\frac{1}{\\|\\mathbf{u}_3\\|} \\mathbf{u}_3\n",
    "$$"
   ]
  },
  {
   "cell_type": "code",
   "execution_count": 52,
   "metadata": {},
   "outputs": [
    {
     "name": "stdout",
     "output_type": "stream",
     "text": [
      "[0.7071067811865475, 0.0, 0.7071067811865475]\n",
      "[-0.5773502691896258, 0.5773502691896258, 0.5773502691896258]\n",
      "[0.40824829046386313, 0.8164965809277261, -0.40824829046386296]\n"
     ]
    }
   ],
   "source": [
    "# 정규 직교 벡터 구하기\n",
    "v1 = [u1[i] / norm_u1 for i in range(len(u1))]\n",
    "v2 = [u2[i] / norm_u2 for i in range(len(u2))]\n",
    "v3 = [u3[i] / norm_u3 for i in range(len(u3))]\n",
    "print(v1)   \n",
    "print(v2)\n",
    "print(v3)"
   ]
  },
  {
   "cell_type": "markdown",
   "metadata": {},
   "source": [
    "## QR 분해\n",
    "\n",
    "A = QR ; 행렮 A의 열벡터끼리 모두 선형독립일 때, 크기 큰 행렬의 고유값 구할 때 씀\n",
    "\n",
    "- Q : nxp 행렬, 정규직교벡터\n",
    "- R : 가역상삼각행렬"
   ]
  },
  {
   "cell_type": "code",
   "execution_count": 53,
   "metadata": {},
   "outputs": [
    {
     "name": "stdout",
     "output_type": "stream",
     "text": [
      "[[ 0.70710678 -0.57735027  0.40824829]\n",
      " [ 0.          0.57735027  0.81649658]\n",
      " [ 0.70710678  0.57735027 -0.40824829]]\n"
     ]
    }
   ],
   "source": [
    "# 행렬 Q 구하기\n",
    "Q = np.zeros((n, p)) # 행렬 Q 초기화\n",
    "for i in range(n): # 행렬 Q의 i번째 행에 대해\n",
    "    Q[i][0] = v1[i] # 행렬 Q의 i번째 행의 0번째 열에 v1을 저장\n",
    "    Q[i][1] = v2[i] # 행렬 Q의 i번째 행의 1번째 열에 v2을 저장\n",
    "    Q[i][2] = v3[i] # 행렬 Q의 i번째 행의 2번째 열에 v3을 저장\n",
    "print(Q) # 행렬 Q 출력"
   ]
  },
  {
   "cell_type": "code",
   "execution_count": 58,
   "metadata": {},
   "outputs": [
    {
     "name": "stdout",
     "output_type": "stream",
     "text": [
      "[[1.41421356 1.41421356 0.70710678]\n",
      " [0.         1.73205081 0.        ]\n",
      " [0.         0.         1.22474487]]\n"
     ]
    }
   ],
   "source": [
    "# 행렬 R 구하기\n",
    "R = np.zeros((p, p)) # 행렬 R 초기화\n",
    "\n",
    "for i in range(p): # 행렬 R의 i번째 행에 대해\n",
    "    R[0][0] += a1[i]*v1[i] \n",
    "    R[0][1] += a2[i]*v1[i] \n",
    "    R[0][2] += a3[i]*v1[i] \n",
    "    R[1][1] += a2[i]*v2[i] \n",
    "    R[1][2] += a3[i]*v2[i] \n",
    "    R[2][2] += a3[i]*v3[i] \n",
    "print(R) # 행렬 R 출력"
   ]
  },
  {
   "cell_type": "markdown",
   "metadata": {},
   "source": [
    "## 넘파이로 간단히 계산 실습"
   ]
  },
  {
   "cell_type": "code",
   "execution_count": 60,
   "metadata": {},
   "outputs": [
    {
     "name": "stdout",
     "output_type": "stream",
     "text": [
      "32\n",
      "[[-0.70710678  0.57735027 -0.40824829]\n",
      " [-0.         -0.57735027 -0.81649658]\n",
      " [-0.70710678 -0.57735027  0.40824829]]\n",
      "[[-1.41421356 -1.41421356 -0.70710678]\n",
      " [ 0.         -1.73205081  0.        ]\n",
      " [ 0.          0.         -1.22474487]]\n"
     ]
    }
   ],
   "source": [
    "# 기본 내적\n",
    "print(np.inner(a,b))\n",
    "\n",
    "# QR 분해\n",
    "Q, R = np.linalg.qr(A)\n",
    "print(Q)\n",
    "print(R)"
   ]
  }
 ],
 "metadata": {
  "kernelspec": {
   "display_name": "3.12.2",
   "language": "python",
   "name": "python3"
  },
  "language_info": {
   "codemirror_mode": {
    "name": "ipython",
    "version": 3
   },
   "file_extension": ".py",
   "mimetype": "text/x-python",
   "name": "python",
   "nbconvert_exporter": "python",
   "pygments_lexer": "ipython3",
   "version": "3.12.2"
  }
 },
 "nbformat": 4,
 "nbformat_minor": 2
}
