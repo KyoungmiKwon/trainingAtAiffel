{
 "cells": [
  {
   "cell_type": "markdown",
   "metadata": {},
   "source": [
    "`DataPreprocessing`"
   ]
  },
  {
   "cell_type": "code",
   "execution_count": 2,
   "metadata": {},
   "outputs": [],
   "source": [
    "import pandas as pd \n",
    "import numpy as np\n",
    "import os\n",
    "\n",
    "pd.set_option('display.max_columns', None)\n",
    "pd.set_option('display.max_rows', None)"
   ]
  },
  {
   "cell_type": "markdown",
   "metadata": {},
   "source": [
    "#### load Data"
   ]
  },
  {
   "cell_type": "code",
   "execution_count": 18,
   "metadata": {},
   "outputs": [],
   "source": [
    "PATH = '/Users/kwonkyoungmi/workspaces/workspace_Python/Git_AtAiffel/datathon/data/MentalHealth'\n",
    "data = pd.read_csv(os.path.join(PATH,'df_6000(3).csv'))"
   ]
  },
  {
   "cell_type": "code",
   "execution_count": 19,
   "metadata": {},
   "outputs": [
    {
     "data": {
      "text/plain": [
       "id                         0\n",
       "name                       0\n",
       "gender                     0\n",
       "age                        0\n",
       "age_group                  0\n",
       "profession                 0\n",
       "cgpa                       0\n",
       "degree                     0\n",
       "urban_rural                0\n",
       "city                       0\n",
       "work_study_pressure        0\n",
       "work_study_satisfaction    0\n",
       "financial_stress           0\n",
       "sleep_duration             0\n",
       "dietary_habits             0\n",
       "work_study_hours           0\n",
       "family_mh_history          0\n",
       "suicidal_thoughts          0\n",
       "depression                 0\n",
       "dtype: int64"
      ]
     },
     "execution_count": 19,
     "metadata": {},
     "output_type": "execute_result"
    }
   ],
   "source": [
    "# 결측값 확인\n",
    "data.isnull().sum()"
   ]
  },
  {
   "cell_type": "code",
   "execution_count": 20,
   "metadata": {},
   "outputs": [
    {
     "name": "stdout",
     "output_type": "stream",
     "text": [
      "<class 'pandas.core.frame.DataFrame'>\n",
      "RangeIndex: 6000 entries, 0 to 5999\n",
      "Data columns (total 19 columns):\n",
      " #   Column                   Non-Null Count  Dtype  \n",
      "---  ------                   --------------  -----  \n",
      " 0   id                       6000 non-null   int64  \n",
      " 1   name                     6000 non-null   object \n",
      " 2   gender                   6000 non-null   int64  \n",
      " 3   age                      6000 non-null   float64\n",
      " 4   age_group                6000 non-null   object \n",
      " 5   profession               6000 non-null   object \n",
      " 6   cgpa                     6000 non-null   float64\n",
      " 7   degree                   6000 non-null   object \n",
      " 8   urban_rural              6000 non-null   object \n",
      " 9   city                     6000 non-null   object \n",
      " 10  work_study_pressure      6000 non-null   float64\n",
      " 11  work_study_satisfaction  6000 non-null   float64\n",
      " 12  financial_stress         6000 non-null   float64\n",
      " 13  sleep_duration           6000 non-null   object \n",
      " 14  dietary_habits           6000 non-null   object \n",
      " 15  work_study_hours         6000 non-null   float64\n",
      " 16  family_mh_history        6000 non-null   int64  \n",
      " 17  suicidal_thoughts        6000 non-null   int64  \n",
      " 18  depression               6000 non-null   int64  \n",
      "dtypes: float64(6), int64(5), object(8)\n",
      "memory usage: 890.8+ KB\n"
     ]
    }
   ],
   "source": [
    "data.info()"
   ]
  },
  {
   "cell_type": "code",
   "execution_count": 21,
   "metadata": {},
   "outputs": [
    {
     "data": {
      "text/plain": [
       "gender\n",
       "0    3362\n",
       "1    2638\n",
       "Name: count, dtype: int64"
      ]
     },
     "execution_count": 21,
     "metadata": {},
     "output_type": "execute_result"
    }
   ],
   "source": [
    "data['gender'].value_counts()"
   ]
  },
  {
   "cell_type": "code",
   "execution_count": 26,
   "metadata": {},
   "outputs": [
    {
     "data": {
      "text/plain": [
       "age_group\n",
       "46-55    1624\n",
       "36-45    1431\n",
       "26-35    1090\n",
       "18-25    1048\n",
       "56-65     807\n",
       "Name: count, dtype: int64"
      ]
     },
     "execution_count": 26,
     "metadata": {},
     "output_type": "execute_result"
    }
   ],
   "source": [
    "data['age_group'].value_counts()"
   ]
  },
  {
   "cell_type": "markdown",
   "metadata": {},
   "source": [
    "## 데이터 탐색하기"
   ]
  },
  {
   "cell_type": "code",
   "execution_count": 23,
   "metadata": {},
   "outputs": [
    {
     "data": {
      "text/plain": [
       "Index(['id', 'name', 'gender', 'age', 'age_group', 'profession', 'cgpa',\n",
       "       'degree', 'urban_rural', 'city', 'work_study_pressure',\n",
       "       'work_study_satisfaction', 'financial_stress', 'sleep_duration',\n",
       "       'dietary_habits', 'work_study_hours', 'family_mh_history',\n",
       "       'suicidal_thoughts', 'depression'],\n",
       "      dtype='object')"
      ]
     },
     "execution_count": 23,
     "metadata": {},
     "output_type": "execute_result"
    }
   ],
   "source": [
    "data.columns"
   ]
  },
  {
   "cell_type": "code",
   "execution_count": 27,
   "metadata": {},
   "outputs": [
    {
     "data": {
      "text/html": [
       "<div>\n",
       "<style scoped>\n",
       "    .dataframe tbody tr th:only-of-type {\n",
       "        vertical-align: middle;\n",
       "    }\n",
       "\n",
       "    .dataframe tbody tr th {\n",
       "        vertical-align: top;\n",
       "    }\n",
       "\n",
       "    .dataframe thead th {\n",
       "        text-align: right;\n",
       "    }\n",
       "</style>\n",
       "<table border=\"1\" class=\"dataframe\">\n",
       "  <thead>\n",
       "    <tr style=\"text-align: right;\">\n",
       "      <th></th>\n",
       "      <th>id</th>\n",
       "      <th>gender</th>\n",
       "      <th>age</th>\n",
       "      <th>cgpa</th>\n",
       "      <th>work_study_pressure</th>\n",
       "      <th>work_study_satisfaction</th>\n",
       "      <th>financial_stress</th>\n",
       "      <th>work_study_hours</th>\n",
       "      <th>family_mh_history</th>\n",
       "      <th>suicidal_thoughts</th>\n",
       "      <th>depression</th>\n",
       "    </tr>\n",
       "  </thead>\n",
       "  <tbody>\n",
       "    <tr>\n",
       "      <th>count</th>\n",
       "      <td>6000.000000</td>\n",
       "      <td>6000.000000</td>\n",
       "      <td>6000.000000</td>\n",
       "      <td>6000.000000</td>\n",
       "      <td>6000.000000</td>\n",
       "      <td>6000.000000</td>\n",
       "      <td>6000.000000</td>\n",
       "      <td>6000.000000</td>\n",
       "      <td>6000.000000</td>\n",
       "      <td>6000.000000</td>\n",
       "      <td>6000.000000</td>\n",
       "    </tr>\n",
       "    <tr>\n",
       "      <th>mean</th>\n",
       "      <td>71056.539500</td>\n",
       "      <td>0.439667</td>\n",
       "      <td>40.420333</td>\n",
       "      <td>1.514138</td>\n",
       "      <td>3.000000</td>\n",
       "      <td>2.997000</td>\n",
       "      <td>2.997833</td>\n",
       "      <td>6.286167</td>\n",
       "      <td>0.511667</td>\n",
       "      <td>0.504333</td>\n",
       "      <td>0.179500</td>\n",
       "    </tr>\n",
       "    <tr>\n",
       "      <th>std</th>\n",
       "      <td>40925.509348</td>\n",
       "      <td>0.496388</td>\n",
       "      <td>12.458191</td>\n",
       "      <td>3.104369</td>\n",
       "      <td>1.398091</td>\n",
       "      <td>1.399399</td>\n",
       "      <td>1.422263</td>\n",
       "      <td>3.808240</td>\n",
       "      <td>0.499906</td>\n",
       "      <td>0.500023</td>\n",
       "      <td>0.383802</td>\n",
       "    </tr>\n",
       "    <tr>\n",
       "      <th>min</th>\n",
       "      <td>2.000000</td>\n",
       "      <td>0.000000</td>\n",
       "      <td>18.000000</td>\n",
       "      <td>0.000000</td>\n",
       "      <td>1.000000</td>\n",
       "      <td>1.000000</td>\n",
       "      <td>1.000000</td>\n",
       "      <td>0.000000</td>\n",
       "      <td>0.000000</td>\n",
       "      <td>0.000000</td>\n",
       "      <td>0.000000</td>\n",
       "    </tr>\n",
       "    <tr>\n",
       "      <th>25%</th>\n",
       "      <td>35341.500000</td>\n",
       "      <td>0.000000</td>\n",
       "      <td>30.000000</td>\n",
       "      <td>0.000000</td>\n",
       "      <td>2.000000</td>\n",
       "      <td>2.000000</td>\n",
       "      <td>2.000000</td>\n",
       "      <td>3.000000</td>\n",
       "      <td>0.000000</td>\n",
       "      <td>0.000000</td>\n",
       "      <td>0.000000</td>\n",
       "    </tr>\n",
       "    <tr>\n",
       "      <th>50%</th>\n",
       "      <td>72535.000000</td>\n",
       "      <td>0.000000</td>\n",
       "      <td>42.000000</td>\n",
       "      <td>0.000000</td>\n",
       "      <td>3.000000</td>\n",
       "      <td>3.000000</td>\n",
       "      <td>3.000000</td>\n",
       "      <td>6.500000</td>\n",
       "      <td>1.000000</td>\n",
       "      <td>1.000000</td>\n",
       "      <td>0.000000</td>\n",
       "    </tr>\n",
       "    <tr>\n",
       "      <th>75%</th>\n",
       "      <td>107340.250000</td>\n",
       "      <td>1.000000</td>\n",
       "      <td>51.000000</td>\n",
       "      <td>0.000000</td>\n",
       "      <td>4.000000</td>\n",
       "      <td>4.000000</td>\n",
       "      <td>4.000000</td>\n",
       "      <td>10.000000</td>\n",
       "      <td>1.000000</td>\n",
       "      <td>1.000000</td>\n",
       "      <td>0.000000</td>\n",
       "    </tr>\n",
       "    <tr>\n",
       "      <th>max</th>\n",
       "      <td>140654.000000</td>\n",
       "      <td>1.000000</td>\n",
       "      <td>60.000000</td>\n",
       "      <td>9.970000</td>\n",
       "      <td>5.000000</td>\n",
       "      <td>5.000000</td>\n",
       "      <td>5.000000</td>\n",
       "      <td>12.000000</td>\n",
       "      <td>1.000000</td>\n",
       "      <td>1.000000</td>\n",
       "      <td>1.000000</td>\n",
       "    </tr>\n",
       "  </tbody>\n",
       "</table>\n",
       "</div>"
      ],
      "text/plain": [
       "                  id       gender          age         cgpa  \\\n",
       "count    6000.000000  6000.000000  6000.000000  6000.000000   \n",
       "mean    71056.539500     0.439667    40.420333     1.514138   \n",
       "std     40925.509348     0.496388    12.458191     3.104369   \n",
       "min         2.000000     0.000000    18.000000     0.000000   \n",
       "25%     35341.500000     0.000000    30.000000     0.000000   \n",
       "50%     72535.000000     0.000000    42.000000     0.000000   \n",
       "75%    107340.250000     1.000000    51.000000     0.000000   \n",
       "max    140654.000000     1.000000    60.000000     9.970000   \n",
       "\n",
       "       work_study_pressure  work_study_satisfaction  financial_stress  \\\n",
       "count          6000.000000              6000.000000       6000.000000   \n",
       "mean              3.000000                 2.997000          2.997833   \n",
       "std               1.398091                 1.399399          1.422263   \n",
       "min               1.000000                 1.000000          1.000000   \n",
       "25%               2.000000                 2.000000          2.000000   \n",
       "50%               3.000000                 3.000000          3.000000   \n",
       "75%               4.000000                 4.000000          4.000000   \n",
       "max               5.000000                 5.000000          5.000000   \n",
       "\n",
       "       work_study_hours  family_mh_history  suicidal_thoughts   depression  \n",
       "count       6000.000000        6000.000000        6000.000000  6000.000000  \n",
       "mean           6.286167           0.511667           0.504333     0.179500  \n",
       "std            3.808240           0.499906           0.500023     0.383802  \n",
       "min            0.000000           0.000000           0.000000     0.000000  \n",
       "25%            3.000000           0.000000           0.000000     0.000000  \n",
       "50%            6.500000           1.000000           1.000000     0.000000  \n",
       "75%           10.000000           1.000000           1.000000     0.000000  \n",
       "max           12.000000           1.000000           1.000000     1.000000  "
      ]
     },
     "execution_count": 27,
     "metadata": {},
     "output_type": "execute_result"
    }
   ],
   "source": [
    "data.describe()"
   ]
  },
  {
   "cell_type": "code",
   "execution_count": 31,
   "metadata": {},
   "outputs": [
    {
     "data": {
      "text/plain": [
       "urban_rural  city         \n",
       "rural        Srinagar         448\n",
       "             Meerut           443\n",
       "             Ludhiana         439\n",
       "             Visakhapatnam    426\n",
       "             Rajkot           425\n",
       "             Agra             424\n",
       "             Varanasi         395\n",
       "urban        Ahmedabad        510\n",
       "             Pune             497\n",
       "             Mumbai           481\n",
       "             Hyderabad        426\n",
       "             Chennai          375\n",
       "             Bangalore        370\n",
       "             Delhi            341\n",
       "Name: count, dtype: int64"
      ]
     },
     "execution_count": 31,
     "metadata": {},
     "output_type": "execute_result"
    }
   ],
   "source": [
    "data.groupby('urban_rural')['city'].value_counts()"
   ]
  },
  {
   "cell_type": "code",
   "execution_count": 32,
   "metadata": {},
   "outputs": [
    {
     "data": {
      "text/plain": [
       "urban_rural\n",
       "rural    3000\n",
       "urban    3000\n",
       "Name: count, dtype: int64"
      ]
     },
     "execution_count": 32,
     "metadata": {},
     "output_type": "execute_result"
    }
   ],
   "source": [
    "data.urban_rural.value_counts()"
   ]
  },
  {
   "cell_type": "markdown",
   "metadata": {},
   "source": [
    "### 조사인구특성\n",
    "- urban_rural 기준으로 \"gender, age_group, profession, degree\"의 빈도수와 비율을 계산하여 비교 - 막대 그래프, 파이 차트, 스택 바 차트       \n",
    "- 동일성 검정 (카이제곱검정)        "
   ]
  },
  {
   "cell_type": "code",
   "execution_count": 40,
   "metadata": {},
   "outputs": [],
   "source": [
    "demo = ['gender','age_group','urban_rural','degree']\n",
    "urban = data[data['urban_rural'] == 'urban']\n",
    "rural = data[data['urban_rural'] == 'rural']"
   ]
  },
  {
   "cell_type": "code",
   "execution_count": null,
   "metadata": {},
   "outputs": [],
   "source": [
    "import matplotlib.pyplot as plt\n",
    "import seaborn as sns\n",
    "\n",
    "df = data.copy()\n",
    "\n",
    "target_variables = ['gender', 'age_group', 'profession', 'degree']\n",
    "group_column = 'urban_rural' \n"
   ]
  },
  {
   "cell_type": "markdown",
   "metadata": {},
   "source": [
    "#### 동일성 검정"
   ]
  },
  {
   "cell_type": "code",
   "execution_count": 44,
   "metadata": {},
   "outputs": [
    {
     "name": "stdout",
     "output_type": "stream",
     "text": [
      "\n",
      "카이제곱 통계량: 0.1522\n",
      "p-value: 0.6964\n",
      "rural' 그룹과 'urban' 그룹에서 'gender'의 분포는 동일\n",
      "\n",
      "카이제곱 통계량: 6.9028\n",
      "p-value: 0.1411\n",
      "rural' 그룹과 'urban' 그룹에서 'age_group'의 분포는 동일\n",
      "\n",
      "카이제곱 통계량: 45.4954\n",
      "p-value: 0.1102\n",
      "rural' 그룹과 'urban' 그룹에서 'profession'의 분포는 동일\n",
      "\n",
      "카이제곱 통계량: 90.1776\n",
      "p-value: 0.0000\n",
      "'rural' 그룹과 'urban' 그룹에서 'degree'의 분포는 다름\n"
     ]
    }
   ],
   "source": [
    "def chi2_test(dataframe, group_col, target_col, alpha=0.05):\n",
    "    \"\"\"\n",
    "    Perform Chi-squared test of independence between two categorical variables.\n",
    "\n",
    "    Args:\n",
    "        dataframe (pd.DataFrame): The DataFrame containing the data.\n",
    "        group_col (str): The column name for the grouping variable.\n",
    "        target_col (str): The column name for the target variable.\n",
    "        alpha (float): Significance level for the test (default is 0.05)\n",
    "\n",
    "    if p_value < alpha: two colums are significantly related. = diffrent distribution\n",
    "       p_value > alpha: two colums are not significantly related. = similar distribution\n",
    "    \"\"\"\n",
    "\n",
    "    # 그룹 컬럼의 고유 값 확인 (두 개여야 함)\n",
    "    unique_groups = dataframe[group_col].unique()\n",
    "    group1_name, group2_name = unique_groups[0], unique_groups[1]\n",
    "\n",
    "    # Create contingency table\n",
    "    import pandas as pd\n",
    "    from scipy.stats import chi2_contingency    \n",
    "    contingency_table = pd.crosstab(dataframe[group_col], dataframe[target_col])\n",
    "\n",
    "    # Perform Chi-squared test\n",
    "    chi2, p_value, dof, expected = chi2_contingency(contingency_table)\n",
    "    print(f\"\\n카이제곱 통계량: {chi2:.4f}\")\n",
    "    print(f\"p-value: {p_value:.4f}\")\n",
    "    # 검정 결과 해석\n",
    "    if p_value < alpha:\n",
    "        print(f\"'{group1_name}' 그룹과 '{group2_name}' 그룹에서 '{target_col}'의 분포는 다름\")\n",
    "    else:\n",
    "        print(f\"{group1_name}' 그룹과 '{group2_name}' 그룹에서 '{target_col}'의 분포는 동일\")\n",
    "\n",
    "\n",
    "target_variables = ['gender', 'age_group', 'profession', 'degree']\n",
    "\n",
    "for var in target_variables:\n",
    "    chi2_test(data, 'urban_rural', var)"
   ]
  },
  {
   "cell_type": "code",
   "execution_count": 69,
   "metadata": {},
   "outputs": [],
   "source": [
    "def independent_t_test(dataframe, group_col, target_col, alpha=0.05):\n",
    "    \"\"\"\n",
    "    두 독립 그룹 간에 특정 연속형 변수의 평균 차이를 독립표본 t-검정으로 검정합니다.\n",
    "    등분산성(Levene's test)을 먼저 확인한 후, 그 결과에 따라 적절한 t-검정을 수행합니다.\n",
    "\n",
    "    Args:\n",
    "        dataframe (pd.DataFrame): 분석할 데이터프레임\n",
    "        group_col (str): 두 그룹을 나누는 기준 컬럼 (예: 'urban_rural')\n",
    "                         이 컬럼은 정확히 두 개의 고유한 값을 가져야 합니다\n",
    "        target_col (str): 평균 차이를 검정할 연속형 변수 컬럼 (예: 'age', 'cgpa')\n",
    "        alpha (float, optional): 유의수준 (기본값: 0.05)\n",
    "    \"\"\"\n",
    "    print(f\"\\n--- '{group_col}' 그룹 간 '{target_col}' 평균 차이 독립표본 t-검정 ---\\n\")\n",
    "\n",
    "    from scipy import stats\n",
    "\n",
    "    # 그룹 컬럼의 고유 값 확인\n",
    "    unique_groups = dataframe[group_col].unique()\n",
    "\n",
    "    group1_name, group2_name = unique_groups[0], unique_groups[1]\n",
    "\n",
    "    # 각 그룹별 데이터 추출 및 결측치 제거\n",
    "    group1_data = dataframe[dataframe[group_col] == group1_name][target_col].dropna()\n",
    "    group2_data = dataframe[dataframe[group_col] == group2_name][target_col].dropna()\n",
    "\n",
    "    # 그룹별 기술 통계량 (평균, 표준편차) 확인\n",
    "    print(f\"  '{group1_name}' 그룹 '{target_col}' 평균: {group1_data.mean():.2f}, (표준편차: {group1_data.std():.2f}, N={len(group1_data)})\")\n",
    "    print(f\"  '{group2_name}' 그룹 '{target_col}' 평균: {group2_data.mean():.2f}, (표준편차: {group2_data.std():.2f}, N={len(group2_data)})\")\n",
    "\n",
    "    # 1. 등분산성 검정 (Levene's test)\n",
    "    # 귀무가설 (H0): 두 그룹의 분산이 동일하다.\n",
    "    # 대립가설 (H1): 두 그룹의 분산이 다르다.\n",
    "    levene_stat, levene_p_value = stats.levene(group1_data, group2_data)\n",
    "    print(f\"\\n  Levene's Test (등분산성 검정) => 통계량: {levene_stat:.4f}, p-value: {levene_p_value:.4f}\")\n",
    "\n",
    "    # 2. 독립표본 t-검정 수행\n",
    "    # p-value가 유의수준(0.05)보다 작으면 귀무가설 기각\n",
    "    if levene_p_value > alpha: # 등분산 가정이 충족될 경우 (p > alpha)\n",
    "        # 등분산 가정 하에 t-검정\n",
    "        t_stat, p_value = stats.ttest_ind(group1_data, group2_data, equal_var=True)\n",
    "        print(\"  --> 분산이 동일하다는 가정 하에 t-검정 (Equal variances assumed)\")\n",
    "    else: # 등분산 가정이 충족되지 않을 경우 (p <= alpha)\n",
    "        # 등분산 가정을 하지 않는 웰치(Welch)의 t-검정\n",
    "        t_stat, p_value = stats.ttest_ind(group1_data, group2_data, equal_var=False)\n",
    "        print(\"  --> 분산이 동일하지 않다는 가정 하에 t-검정 (Welch's t-test)\")\n",
    "\n",
    "    if p_value < alpha:\n",
    "        print(f\"\\n t-통계량: {t_stat:.4f}, p-value ({p_value:.4f}) : '{group1_name}' 그룹과 '{group2_name}' 그룹의 '{target_col}' 평균은 통계적으로 유의미하게 다릅니다.\")\n",
    "    else:\n",
    "        print(f\"\\n t-통계량: {t_stat:.4f}, p-value ({p_value:.4f}) : '{group1_name}' 그룹과 '{group2_name}' 그룹의 '{target_col}' 평균이 통계적으로 유의미하게 다르다고 말하기 어려움\")\n"
   ]
  },
  {
   "cell_type": "markdown",
   "metadata": {},
   "source": [
    "### 라이프스타일 비교 - urban_rural 그룹별 sleep_duration, dietary_habits, work_study_hours\n",
    "\n",
    "- 라이프스타일 특성  : 평균,중앙값,표준분포 및 분포  (범주형 vs 수치형 : Box plot, Violin plot)        \n",
    "\n",
    "- 라이프스타일 검정 (동일성)"
   ]
  },
  {
   "cell_type": "code",
   "execution_count": 53,
   "metadata": {},
   "outputs": [
    {
     "name": "stdout",
     "output_type": "stream",
     "text": [
      "<class 'pandas.core.frame.DataFrame'>\n",
      "RangeIndex: 6000 entries, 0 to 5999\n",
      "Data columns (total 19 columns):\n",
      " #   Column                   Non-Null Count  Dtype  \n",
      "---  ------                   --------------  -----  \n",
      " 0   id                       6000 non-null   int64  \n",
      " 1   name                     6000 non-null   object \n",
      " 2   gender                   6000 non-null   int64  \n",
      " 3   age                      6000 non-null   float64\n",
      " 4   age_group                6000 non-null   object \n",
      " 5   profession               6000 non-null   object \n",
      " 6   cgpa                     6000 non-null   float64\n",
      " 7   degree                   6000 non-null   object \n",
      " 8   urban_rural              6000 non-null   object \n",
      " 9   city                     6000 non-null   object \n",
      " 10  work_study_pressure      6000 non-null   float64\n",
      " 11  work_study_satisfaction  6000 non-null   float64\n",
      " 12  financial_stress         6000 non-null   float64\n",
      " 13  sleep_duration           6000 non-null   object \n",
      " 14  dietary_habits           6000 non-null   object \n",
      " 15  work_study_hours         6000 non-null   float64\n",
      " 16  family_mh_history        6000 non-null   int64  \n",
      " 17  suicidal_thoughts        6000 non-null   int64  \n",
      " 18  depression               6000 non-null   int64  \n",
      "dtypes: float64(6), int64(5), object(8)\n",
      "memory usage: 890.8+ KB\n"
     ]
    }
   ],
   "source": [
    "df.info()"
   ]
  },
  {
   "cell_type": "code",
   "execution_count": null,
   "metadata": {},
   "outputs": [],
   "source": [
    "# 라이프 스타일은 다르게 나오는 것이 좋음"
   ]
  },
  {
   "cell_type": "code",
   "execution_count": 54,
   "metadata": {},
   "outputs": [
    {
     "name": "stdout",
     "output_type": "stream",
     "text": [
      "\n",
      "카이제곱 통계량: 8.5972\n",
      "p-value: 0.0136\n",
      "'rural' 그룹과 'urban' 그룹에서 'sleep_duration'의 분포는 다름\n",
      "\n",
      "카이제곱 통계량: 0.7817\n",
      "p-value: 0.6765\n",
      "rural' 그룹과 'urban' 그룹에서 'dietary_habits'의 분포는 동일\n"
     ]
    }
   ],
   "source": [
    "target_variables = ['sleep_duration', 'dietary_habits']\n",
    "\n",
    "for var in target_variables:\n",
    "    chi2_test(df, 'urban_rural', var)"
   ]
  },
  {
   "cell_type": "code",
   "execution_count": 70,
   "metadata": {},
   "outputs": [
    {
     "name": "stdout",
     "output_type": "stream",
     "text": [
      "\n",
      "--- 'urban_rural' 그룹 간 'work_study_hours' 평균 차이 독립표본 t-검정 ---\n",
      "\n",
      "  'rural' 그룹 'work_study_hours' 평균: 6.38, (표준편차: 3.80, N=3000)\n",
      "  'urban' 그룹 'work_study_hours' 평균: 6.19, (표준편차: 3.82, N=3000)\n",
      "\n",
      "  Levene's Test (등분산성 검정) => 통계량: 0.7897, p-value: 0.3742\n",
      "  --> 분산이 동일하다는 가정 하에 t-검정 (Equal variances assumed)\n",
      "\n",
      " t-통계량: 1.8954, p-value (0.0581) : 'rural' 그룹과 'urban' 그룹의 'work_study_hours' 평균이 통계적으로 유의미하게 다르다고 말하기 어려움\n"
     ]
    }
   ],
   "source": [
    "independent_t_test(df, 'urban_rural', 'work_study_hours')"
   ]
  },
  {
   "cell_type": "markdown",
   "metadata": {},
   "source": [
    "### 스트레스지표 비교 - urban_rural 그룹별 work_study_pressure, financial_stress \n",
    "- 지역별 스트레스 특성 : 평균 및 분포 비교      \n",
    "- 스트레스 검정 (동일성)"
   ]
  },
  {
   "cell_type": "code",
   "execution_count": 72,
   "metadata": {},
   "outputs": [
    {
     "name": "stdout",
     "output_type": "stream",
     "text": [
      "\n",
      "--- 'urban_rural' 그룹 간 'work_study_pressure' 평균 차이 독립표본 t-검정 ---\n",
      "\n",
      "  'rural' 그룹 'work_study_pressure' 평균: 3.01, (표준편차: 1.40, N=3000)\n",
      "  'urban' 그룹 'work_study_pressure' 평균: 2.99, (표준편차: 1.40, N=3000)\n",
      "\n",
      "  Levene's Test (등분산성 검정) => 통계량: 0.0559, p-value: 0.8131\n",
      "  --> 분산이 동일하다는 가정 하에 t-검정 (Equal variances assumed)\n",
      "\n",
      " t-통계량: 0.4247, p-value (0.6710) : 'rural' 그룹과 'urban' 그룹의 'work_study_pressure' 평균이 통계적으로 유의미하게 다르다고 말하기 어려움\n",
      "\n",
      "--- 'urban_rural' 그룹 간 'financial_stress' 평균 차이 독립표본 t-검정 ---\n",
      "\n",
      "  'rural' 그룹 'financial_stress' 평균: 2.99, (표준편차: 1.42, N=3000)\n",
      "  'urban' 그룹 'financial_stress' 평균: 3.01, (표준편차: 1.42, N=3000)\n",
      "\n",
      "  Levene's Test (등분산성 검정) => 통계량: 0.0252, p-value: 0.8738\n",
      "  --> 분산이 동일하다는 가정 하에 t-검정 (Equal variances assumed)\n",
      "\n",
      " t-통계량: -0.4084, p-value (0.6830) : 'rural' 그룹과 'urban' 그룹의 'financial_stress' 평균이 통계적으로 유의미하게 다르다고 말하기 어려움\n",
      "\n",
      "--- 'urban_rural' 그룹 간 'work_study_satisfaction' 평균 차이 독립표본 t-검정 ---\n",
      "\n",
      "  'rural' 그룹 'work_study_satisfaction' 평균: 3.02, (표준편차: 1.40, N=3000)\n",
      "  'urban' 그룹 'work_study_satisfaction' 평균: 2.98, (표준편차: 1.40, N=3000)\n",
      "\n",
      "  Levene's Test (등분산성 검정) => 통계량: 0.0111, p-value: 0.9160\n",
      "  --> 분산이 동일하다는 가정 하에 t-검정 (Equal variances assumed)\n",
      "\n",
      " t-통계량: 1.0702, p-value (0.2846) : 'rural' 그룹과 'urban' 그룹의 'work_study_satisfaction' 평균이 통계적으로 유의미하게 다르다고 말하기 어려움\n"
     ]
    }
   ],
   "source": [
    "# 스트레스 지표는 다르게 나오는 것이 좋음\n",
    "target_variables = ['work_study_pressure', 'financial_stress', 'work_study_satisfaction']\n",
    "\n",
    "for var in target_variables:\n",
    "    independent_t_test(df, 'urban_rural', var)"
   ]
  },
  {
   "cell_type": "markdown",
   "metadata": {},
   "source": [
    "### 정신건강지표 비교 - urban_rural 그룹별 suidial_thoughts, depression\n",
    "- 정신건강지표 특성 : 발생률(비율)비교, study_work_satisfaction의 평균 및 분포를 비교 (범주형 vs 범주형 : stacked bar chart)          \n",
    "- 정신건강 검정(동일성)"
   ]
  },
  {
   "cell_type": "code",
   "execution_count": 52,
   "metadata": {},
   "outputs": [
    {
     "name": "stdout",
     "output_type": "stream",
     "text": [
      "\n",
      "카이제곱 통계량: 0.0167\n",
      "p-value: 0.8973\n",
      "rural' 그룹과 'urban' 그룹에서 'suicidal_thoughts'의 분포는 동일\n",
      "\n",
      "카이제곱 통계량: 0.5477\n",
      "p-value: 0.4593\n",
      "rural' 그룹과 'urban' 그룹에서 'depression'의 분포는 동일\n"
     ]
    }
   ],
   "source": [
    "# 정신건강 지표는 다르게 나오는 것이 좋음 - 가설은 도시가 더 좋을 것이다.\n",
    "# 스트레스 지표는 다르게 나오는 것이 좋음\n",
    "target_variables = ['suicidal_thoughts', 'depression']\n",
    "\n",
    "for var in target_variables:\n",
    "    chi2_test(df, 'urban_rural', var)"
   ]
  },
  {
   "cell_type": "markdown",
   "metadata": {},
   "source": [
    "### 상관 분석\n",
    "- urban_rural 그룹별 : sleep_duration, dietary_habits(수치화 후),work_study_hours 와 depression, suidial_thoughts, work_study_satisfaction 간의 상관관계              \n",
    "- 전체 데이터에서의 상관관계                "
   ]
  },
  {
   "cell_type": "code",
   "execution_count": null,
   "metadata": {},
   "outputs": [],
   "source": []
  }
 ],
 "metadata": {
  "kernelspec": {
   "display_name": "3.12.3",
   "language": "python",
   "name": "python3"
  },
  "language_info": {
   "codemirror_mode": {
    "name": "ipython",
    "version": 3
   },
   "file_extension": ".py",
   "mimetype": "text/x-python",
   "name": "python",
   "nbconvert_exporter": "python",
   "pygments_lexer": "ipython3",
   "version": "3.12.3"
  }
 },
 "nbformat": 4,
 "nbformat_minor": 2
}
