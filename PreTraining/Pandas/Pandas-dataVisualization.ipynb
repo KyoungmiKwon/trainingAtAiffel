{
 "cells": [
  {
   "cell_type": "markdown",
   "metadata": {},
   "source": [
    "###### 설치"
   ]
  },
  {
   "cell_type": "code",
   "execution_count": null,
   "metadata": {},
   "outputs": [
    {
     "name": "stdout",
     "output_type": "stream",
     "text": [
      "Requirement already satisfied: setuptools in /Users/kwonkyoungmi/.pyenv/versions/3.12.2/lib/python3.12/site-packages (75.8.0)\n",
      "Collecting twine\n",
      "  Downloading twine-6.1.0-py3-none-any.whl.metadata (3.7 kB)\n",
      "Collecting readme-renderer>=35.0 (from twine)\n",
      "  Downloading readme_renderer-44.0-py3-none-any.whl.metadata (2.8 kB)\n",
      "Requirement already satisfied: requests>=2.20 in /Users/kwonkyoungmi/.pyenv/versions/3.12.2/lib/python3.12/site-packages (from twine) (2.32.3)\n",
      "Collecting requests-toolbelt!=0.9.0,>=0.8.0 (from twine)\n",
      "  Downloading requests_toolbelt-1.0.0-py2.py3-none-any.whl.metadata (14 kB)\n",
      "Requirement already satisfied: urllib3>=1.26.0 in /Users/kwonkyoungmi/.pyenv/versions/3.12.2/lib/python3.12/site-packages (from twine) (2.3.0)\n",
      "Collecting keyring>=15.1 (from twine)\n",
      "  Downloading keyring-25.6.0-py3-none-any.whl.metadata (20 kB)\n",
      "Collecting rfc3986>=1.4.0 (from twine)\n",
      "  Downloading rfc3986-2.0.0-py2.py3-none-any.whl.metadata (6.6 kB)\n",
      "Collecting rich>=12.0.0 (from twine)\n",
      "  Downloading rich-13.9.4-py3-none-any.whl.metadata (18 kB)\n",
      "Requirement already satisfied: packaging>=24.0 in /Users/kwonkyoungmi/.pyenv/versions/3.12.2/lib/python3.12/site-packages (from twine) (24.2)\n",
      "Collecting id (from twine)\n",
      "  Downloading id-1.5.0-py3-none-any.whl.metadata (5.2 kB)\n",
      "Collecting jaraco.classes (from keyring>=15.1->twine)\n",
      "  Downloading jaraco.classes-3.4.0-py3-none-any.whl.metadata (2.6 kB)\n",
      "Collecting jaraco.functools (from keyring>=15.1->twine)\n",
      "  Downloading jaraco.functools-4.1.0-py3-none-any.whl.metadata (2.9 kB)\n",
      "Collecting jaraco.context (from keyring>=15.1->twine)\n",
      "  Downloading jaraco.context-6.0.1-py3-none-any.whl.metadata (4.1 kB)\n",
      "Collecting nh3>=0.2.14 (from readme-renderer>=35.0->twine)\n",
      "  Downloading nh3-0.2.21-cp38-abi3-macosx_10_12_x86_64.macosx_11_0_arm64.macosx_10_12_universal2.whl.metadata (2.0 kB)\n",
      "Collecting docutils>=0.21.2 (from readme-renderer>=35.0->twine)\n",
      "  Downloading docutils-0.21.2-py3-none-any.whl.metadata (2.8 kB)\n",
      "Requirement already satisfied: Pygments>=2.5.1 in /Users/kwonkyoungmi/.pyenv/versions/3.12.2/lib/python3.12/site-packages (from readme-renderer>=35.0->twine) (2.19.1)\n",
      "Requirement already satisfied: charset-normalizer<4,>=2 in /Users/kwonkyoungmi/.pyenv/versions/3.12.2/lib/python3.12/site-packages (from requests>=2.20->twine) (3.4.1)\n",
      "Requirement already satisfied: idna<4,>=2.5 in /Users/kwonkyoungmi/.pyenv/versions/3.12.2/lib/python3.12/site-packages (from requests>=2.20->twine) (3.10)\n",
      "Requirement already satisfied: certifi>=2017.4.17 in /Users/kwonkyoungmi/.pyenv/versions/3.12.2/lib/python3.12/site-packages (from requests>=2.20->twine) (2025.1.31)\n",
      "Collecting markdown-it-py>=2.2.0 (from rich>=12.0.0->twine)\n",
      "  Downloading markdown_it_py-3.0.0-py3-none-any.whl.metadata (6.9 kB)\n",
      "Collecting mdurl~=0.1 (from markdown-it-py>=2.2.0->rich>=12.0.0->twine)\n",
      "  Downloading mdurl-0.1.2-py3-none-any.whl.metadata (1.6 kB)\n",
      "Requirement already satisfied: more-itertools in /Users/kwonkyoungmi/.pyenv/versions/3.12.2/lib/python3.12/site-packages (from jaraco.classes->keyring>=15.1->twine) (10.6.0)\n",
      "Downloading twine-6.1.0-py3-none-any.whl (40 kB)\n",
      "\u001b[2K   \u001b[90m━━━━━━━━━━━━━━━━━━━━━━━━━━━━━━━━━━━━━━━━\u001b[0m \u001b[32m40.8/40.8 kB\u001b[0m \u001b[31m1.3 MB/s\u001b[0m eta \u001b[36m0:00:00\u001b[0m\n",
      "\u001b[?25hDownloading keyring-25.6.0-py3-none-any.whl (39 kB)\n",
      "Downloading readme_renderer-44.0-py3-none-any.whl (13 kB)\n",
      "Downloading requests_toolbelt-1.0.0-py2.py3-none-any.whl (54 kB)\n",
      "\u001b[2K   \u001b[90m━━━━━━━━━━━━━━━━━━━━━━━━━━━━━━━━━━━━━━━━\u001b[0m \u001b[32m54.5/54.5 kB\u001b[0m \u001b[31m1.6 MB/s\u001b[0m eta \u001b[36m0:00:00\u001b[0m\n",
      "\u001b[?25hDownloading rfc3986-2.0.0-py2.py3-none-any.whl (31 kB)\n",
      "Downloading rich-13.9.4-py3-none-any.whl (242 kB)\n",
      "\u001b[2K   \u001b[90m━━━━━━━━━━━━━━━━━━━━━━━━━━━━━━━━━━━━━━━━\u001b[0m \u001b[32m242.4/242.4 kB\u001b[0m \u001b[31m4.4 MB/s\u001b[0m eta \u001b[36m0:00:00\u001b[0ma \u001b[36m0:00:01\u001b[0m\n",
      "\u001b[?25hDownloading id-1.5.0-py3-none-any.whl (13 kB)\n",
      "Downloading docutils-0.21.2-py3-none-any.whl (587 kB)\n",
      "\u001b[2K   \u001b[90m━━━━━━━━━━━━━━━━━━━━━━━━━━━━━━━━━━━━━━━━\u001b[0m \u001b[32m587.4/587.4 kB\u001b[0m \u001b[31m7.2 MB/s\u001b[0m eta \u001b[36m0:00:00\u001b[0m00:01\u001b[0m00:01\u001b[0m\n",
      "\u001b[?25hDownloading markdown_it_py-3.0.0-py3-none-any.whl (87 kB)\n",
      "\u001b[2K   \u001b[90m━━━━━━━━━━━━━━━━━━━━━━━━━━━━━━━━━━━━━━━━\u001b[0m \u001b[32m87.5/87.5 kB\u001b[0m \u001b[31m3.0 MB/s\u001b[0m eta \u001b[36m0:00:00\u001b[0m\n",
      "\u001b[?25hDownloading nh3-0.2.21-cp38-abi3-macosx_10_12_x86_64.macosx_11_0_arm64.macosx_10_12_universal2.whl (1.3 MB)\n",
      "\u001b[2K   \u001b[90m━━━━━━━━━━━━━━━━━━━━━━━━━━━━━━━━━━━━━━━━\u001b[0m \u001b[32m1.3/1.3 MB\u001b[0m \u001b[31m4.4 MB/s\u001b[0m eta \u001b[36m0:00:00\u001b[0m00:01\u001b[0m00:01\u001b[0m\n",
      "\u001b[?25hDownloading jaraco.classes-3.4.0-py3-none-any.whl (6.8 kB)\n",
      "Downloading jaraco.context-6.0.1-py3-none-any.whl (6.8 kB)\n",
      "Downloading jaraco.functools-4.1.0-py3-none-any.whl (10 kB)\n",
      "Downloading mdurl-0.1.2-py3-none-any.whl (10.0 kB)\n",
      "Installing collected packages: rfc3986, nh3, mdurl, jaraco.functools, jaraco.context, jaraco.classes, docutils, requests-toolbelt, readme-renderer, markdown-it-py, keyring, id, rich, twine\n",
      "Successfully installed docutils-0.21.2 id-1.5.0 jaraco.classes-3.4.0 jaraco.context-6.0.1 jaraco.functools-4.1.0 keyring-25.6.0 markdown-it-py-3.0.0 mdurl-0.1.2 nh3-0.2.21 readme-renderer-44.0 requests-toolbelt-1.0.0 rfc3986-2.0.0 rich-13.9.4 twine-6.1.0\n",
      "\n",
      "\u001b[1m[\u001b[0m\u001b[34;49mnotice\u001b[0m\u001b[1;39;49m]\u001b[0m\u001b[39;49m A new release of pip is available: \u001b[0m\u001b[31;49m24.0\u001b[0m\u001b[39;49m -> \u001b[0m\u001b[32;49m25.0.1\u001b[0m\n",
      "\u001b[1m[\u001b[0m\u001b[34;49mnotice\u001b[0m\u001b[1;39;49m]\u001b[0m\u001b[39;49m To update, run: \u001b[0m\u001b[32;49mpip install --upgrade pip\u001b[0m\n",
      "Note: you may need to restart the kernel to use updated packages.\n"
     ]
    }
   ],
   "source": [
    "# %pip install setuptools twine\n",
    "\n",
    "# https://github.com/braincrew/cds\n"
   ]
  },
  {
   "cell_type": "code",
   "execution_count": null,
   "metadata": {},
   "outputs": [
    {
     "name": "stdout",
     "output_type": "stream",
     "text": [
      "Collecting mySUNI\n",
      "  Downloading mySUNI-2.0.2-py3-none-any.whl.metadata (503 bytes)\n",
      "Requirement already satisfied: tqdm in /Users/kwonkyoungmi/.pyenv/versions/3.12.2/lib/python3.12/site-packages (from mySUNI) (4.67.1)\n",
      "Collecting scikit-learn (from mySUNI)\n",
      "  Downloading scikit_learn-1.6.1-cp312-cp312-macosx_10_13_x86_64.whl.metadata (31 kB)\n",
      "Requirement already satisfied: pandas in /Users/kwonkyoungmi/.pyenv/versions/3.12.2/lib/python3.12/site-packages (from mySUNI) (2.2.3)\n",
      "Requirement already satisfied: matplotlib in /Users/kwonkyoungmi/.pyenv/versions/3.12.2/lib/python3.12/site-packages (from mySUNI) (3.10.0)\n",
      "Requirement already satisfied: seaborn in /Users/kwonkyoungmi/.pyenv/versions/3.12.2/lib/python3.12/site-packages (from mySUNI) (0.13.2)\n",
      "Collecting jupyter (from mySUNI)\n",
      "  Downloading jupyter-1.1.1-py2.py3-none-any.whl.metadata (2.0 kB)\n",
      "Requirement already satisfied: ipywidgets in /Users/kwonkyoungmi/.pyenv/versions/3.12.2/lib/python3.12/site-packages (from mySUNI) (8.1.5)\n",
      "Requirement already satisfied: requests in /Users/kwonkyoungmi/.pyenv/versions/3.12.2/lib/python3.12/site-packages (from mySUNI) (2.32.3)\n",
      "Requirement already satisfied: comm>=0.1.3 in /Users/kwonkyoungmi/.pyenv/versions/3.12.2/lib/python3.12/site-packages (from ipywidgets->mySUNI) (0.2.2)\n",
      "Requirement already satisfied: ipython>=6.1.0 in /Users/kwonkyoungmi/.pyenv/versions/3.12.2/lib/python3.12/site-packages (from ipywidgets->mySUNI) (8.32.0)\n",
      "Requirement already satisfied: traitlets>=4.3.1 in /Users/kwonkyoungmi/.pyenv/versions/3.12.2/lib/python3.12/site-packages (from ipywidgets->mySUNI) (5.14.3)\n",
      "Requirement already satisfied: widgetsnbextension~=4.0.12 in /Users/kwonkyoungmi/.pyenv/versions/3.12.2/lib/python3.12/site-packages (from ipywidgets->mySUNI) (4.0.13)\n",
      "Requirement already satisfied: jupyterlab-widgets~=3.0.12 in /Users/kwonkyoungmi/.pyenv/versions/3.12.2/lib/python3.12/site-packages (from ipywidgets->mySUNI) (3.0.13)\n",
      "Collecting notebook (from jupyter->mySUNI)\n",
      "  Downloading notebook-7.3.2-py3-none-any.whl.metadata (10 kB)\n",
      "Collecting jupyter-console (from jupyter->mySUNI)\n",
      "  Downloading jupyter_console-6.6.3-py3-none-any.whl.metadata (5.8 kB)\n",
      "Collecting nbconvert (from jupyter->mySUNI)\n",
      "  Downloading nbconvert-7.16.6-py3-none-any.whl.metadata (8.5 kB)\n",
      "Requirement already satisfied: ipykernel in /Users/kwonkyoungmi/.pyenv/versions/3.12.2/lib/python3.12/site-packages (from jupyter->mySUNI) (6.29.5)\n",
      "Collecting jupyterlab (from jupyter->mySUNI)\n",
      "  Downloading jupyterlab-4.3.5-py3-none-any.whl.metadata (16 kB)\n",
      "Requirement already satisfied: contourpy>=1.0.1 in /Users/kwonkyoungmi/.pyenv/versions/3.12.2/lib/python3.12/site-packages (from matplotlib->mySUNI) (1.3.1)\n",
      "Requirement already satisfied: cycler>=0.10 in /Users/kwonkyoungmi/.pyenv/versions/3.12.2/lib/python3.12/site-packages (from matplotlib->mySUNI) (0.12.1)\n",
      "Requirement already satisfied: fonttools>=4.22.0 in /Users/kwonkyoungmi/.pyenv/versions/3.12.2/lib/python3.12/site-packages (from matplotlib->mySUNI) (4.56.0)\n",
      "Requirement already satisfied: kiwisolver>=1.3.1 in /Users/kwonkyoungmi/.pyenv/versions/3.12.2/lib/python3.12/site-packages (from matplotlib->mySUNI) (1.4.8)\n",
      "Requirement already satisfied: numpy>=1.23 in /Users/kwonkyoungmi/.pyenv/versions/3.12.2/lib/python3.12/site-packages (from matplotlib->mySUNI) (1.26.4)\n",
      "Requirement already satisfied: packaging>=20.0 in /Users/kwonkyoungmi/.pyenv/versions/3.12.2/lib/python3.12/site-packages (from matplotlib->mySUNI) (24.2)\n",
      "Requirement already satisfied: pillow>=8 in /Users/kwonkyoungmi/.pyenv/versions/3.12.2/lib/python3.12/site-packages (from matplotlib->mySUNI) (11.1.0)\n",
      "Requirement already satisfied: pyparsing>=2.3.1 in /Users/kwonkyoungmi/.pyenv/versions/3.12.2/lib/python3.12/site-packages (from matplotlib->mySUNI) (3.2.1)\n",
      "Requirement already satisfied: python-dateutil>=2.7 in /Users/kwonkyoungmi/.pyenv/versions/3.12.2/lib/python3.12/site-packages (from matplotlib->mySUNI) (2.9.0.post0)\n",
      "Requirement already satisfied: pytz>=2020.1 in /Users/kwonkyoungmi/.pyenv/versions/3.12.2/lib/python3.12/site-packages (from pandas->mySUNI) (2025.1)\n",
      "Requirement already satisfied: tzdata>=2022.7 in /Users/kwonkyoungmi/.pyenv/versions/3.12.2/lib/python3.12/site-packages (from pandas->mySUNI) (2025.1)\n",
      "Requirement already satisfied: charset-normalizer<4,>=2 in /Users/kwonkyoungmi/.pyenv/versions/3.12.2/lib/python3.12/site-packages (from requests->mySUNI) (3.4.1)\n",
      "Requirement already satisfied: idna<4,>=2.5 in /Users/kwonkyoungmi/.pyenv/versions/3.12.2/lib/python3.12/site-packages (from requests->mySUNI) (3.10)\n",
      "Requirement already satisfied: urllib3<3,>=1.21.1 in /Users/kwonkyoungmi/.pyenv/versions/3.12.2/lib/python3.12/site-packages (from requests->mySUNI) (2.3.0)\n",
      "Requirement already satisfied: certifi>=2017.4.17 in /Users/kwonkyoungmi/.pyenv/versions/3.12.2/lib/python3.12/site-packages (from requests->mySUNI) (2025.1.31)\n",
      "Requirement already satisfied: scipy>=1.6.0 in /Users/kwonkyoungmi/.pyenv/versions/3.12.2/lib/python3.12/site-packages (from scikit-learn->mySUNI) (1.15.2)\n",
      "Collecting joblib>=1.2.0 (from scikit-learn->mySUNI)\n",
      "  Downloading joblib-1.4.2-py3-none-any.whl.metadata (5.4 kB)\n",
      "Collecting threadpoolctl>=3.1.0 (from scikit-learn->mySUNI)\n",
      "  Downloading threadpoolctl-3.5.0-py3-none-any.whl.metadata (13 kB)\n",
      "Requirement already satisfied: decorator in /Users/kwonkyoungmi/.pyenv/versions/3.12.2/lib/python3.12/site-packages (from ipython>=6.1.0->ipywidgets->mySUNI) (5.1.1)\n",
      "Requirement already satisfied: jedi>=0.16 in /Users/kwonkyoungmi/.pyenv/versions/3.12.2/lib/python3.12/site-packages (from ipython>=6.1.0->ipywidgets->mySUNI) (0.19.2)\n",
      "Requirement already satisfied: matplotlib-inline in /Users/kwonkyoungmi/.pyenv/versions/3.12.2/lib/python3.12/site-packages (from ipython>=6.1.0->ipywidgets->mySUNI) (0.1.7)\n",
      "Requirement already satisfied: pexpect>4.3 in /Users/kwonkyoungmi/.pyenv/versions/3.12.2/lib/python3.12/site-packages (from ipython>=6.1.0->ipywidgets->mySUNI) (4.9.0)\n",
      "Requirement already satisfied: prompt_toolkit<3.1.0,>=3.0.41 in /Users/kwonkyoungmi/.pyenv/versions/3.12.2/lib/python3.12/site-packages (from ipython>=6.1.0->ipywidgets->mySUNI) (3.0.50)\n",
      "Requirement already satisfied: pygments>=2.4.0 in /Users/kwonkyoungmi/.pyenv/versions/3.12.2/lib/python3.12/site-packages (from ipython>=6.1.0->ipywidgets->mySUNI) (2.19.1)\n",
      "Requirement already satisfied: stack_data in /Users/kwonkyoungmi/.pyenv/versions/3.12.2/lib/python3.12/site-packages (from ipython>=6.1.0->ipywidgets->mySUNI) (0.6.3)\n",
      "Requirement already satisfied: six>=1.5 in /Users/kwonkyoungmi/.pyenv/versions/3.12.2/lib/python3.12/site-packages (from python-dateutil>=2.7->matplotlib->mySUNI) (1.17.0)\n",
      "Requirement already satisfied: appnope in /Users/kwonkyoungmi/.pyenv/versions/3.12.2/lib/python3.12/site-packages (from ipykernel->jupyter->mySUNI) (0.1.4)\n",
      "Requirement already satisfied: debugpy>=1.6.5 in /Users/kwonkyoungmi/.pyenv/versions/3.12.2/lib/python3.12/site-packages (from ipykernel->jupyter->mySUNI) (1.8.12)\n",
      "Requirement already satisfied: jupyter-client>=6.1.12 in /Users/kwonkyoungmi/.pyenv/versions/3.12.2/lib/python3.12/site-packages (from ipykernel->jupyter->mySUNI) (8.6.3)\n",
      "Requirement already satisfied: jupyter-core!=5.0.*,>=4.12 in /Users/kwonkyoungmi/.pyenv/versions/3.12.2/lib/python3.12/site-packages (from ipykernel->jupyter->mySUNI) (5.7.2)\n",
      "Requirement already satisfied: nest-asyncio in /Users/kwonkyoungmi/.pyenv/versions/3.12.2/lib/python3.12/site-packages (from ipykernel->jupyter->mySUNI) (1.6.0)\n",
      "Requirement already satisfied: psutil in /Users/kwonkyoungmi/.pyenv/versions/3.12.2/lib/python3.12/site-packages (from ipykernel->jupyter->mySUNI) (7.0.0)\n",
      "Requirement already satisfied: pyzmq>=24 in /Users/kwonkyoungmi/.pyenv/versions/3.12.2/lib/python3.12/site-packages (from ipykernel->jupyter->mySUNI) (26.2.1)\n",
      "Requirement already satisfied: tornado>=6.1 in /Users/kwonkyoungmi/.pyenv/versions/3.12.2/lib/python3.12/site-packages (from ipykernel->jupyter->mySUNI) (6.4.2)\n",
      "Collecting async-lru>=1.0.0 (from jupyterlab->jupyter->mySUNI)\n",
      "  Downloading async_lru-2.0.4-py3-none-any.whl.metadata (4.5 kB)\n",
      "Collecting httpx>=0.25.0 (from jupyterlab->jupyter->mySUNI)\n",
      "  Downloading httpx-0.28.1-py3-none-any.whl.metadata (7.1 kB)\n",
      "Requirement already satisfied: jinja2>=3.0.3 in /Users/kwonkyoungmi/.pyenv/versions/3.12.2/lib/python3.12/site-packages (from jupyterlab->jupyter->mySUNI) (3.1.5)\n",
      "Collecting jupyter-lsp>=2.0.0 (from jupyterlab->jupyter->mySUNI)\n",
      "  Downloading jupyter_lsp-2.2.5-py3-none-any.whl.metadata (1.8 kB)\n",
      "Collecting jupyter-server<3,>=2.4.0 (from jupyterlab->jupyter->mySUNI)\n",
      "  Downloading jupyter_server-2.15.0-py3-none-any.whl.metadata (8.4 kB)\n",
      "Collecting jupyterlab-server<3,>=2.27.1 (from jupyterlab->jupyter->mySUNI)\n",
      "  Downloading jupyterlab_server-2.27.3-py3-none-any.whl.metadata (5.9 kB)\n",
      "Collecting notebook-shim>=0.2 (from jupyterlab->jupyter->mySUNI)\n",
      "  Downloading notebook_shim-0.2.4-py3-none-any.whl.metadata (4.0 kB)\n",
      "Requirement already satisfied: setuptools>=40.8.0 in /Users/kwonkyoungmi/.pyenv/versions/3.12.2/lib/python3.12/site-packages (from jupyterlab->jupyter->mySUNI) (75.8.0)\n",
      "Requirement already satisfied: beautifulsoup4 in /Users/kwonkyoungmi/.pyenv/versions/3.12.2/lib/python3.12/site-packages (from nbconvert->jupyter->mySUNI) (4.13.3)\n",
      "Collecting bleach!=5.0.0 (from bleach[css]!=5.0.0->nbconvert->jupyter->mySUNI)\n",
      "  Downloading bleach-6.2.0-py3-none-any.whl.metadata (30 kB)\n",
      "Collecting defusedxml (from nbconvert->jupyter->mySUNI)\n",
      "  Downloading defusedxml-0.7.1-py2.py3-none-any.whl.metadata (32 kB)\n",
      "Collecting jupyterlab-pygments (from nbconvert->jupyter->mySUNI)\n",
      "  Downloading jupyterlab_pygments-0.3.0-py3-none-any.whl.metadata (4.4 kB)\n",
      "Requirement already satisfied: markupsafe>=2.0 in /Users/kwonkyoungmi/.pyenv/versions/3.12.2/lib/python3.12/site-packages (from nbconvert->jupyter->mySUNI) (3.0.2)\n",
      "Collecting mistune<4,>=2.0.3 (from nbconvert->jupyter->mySUNI)\n",
      "  Downloading mistune-3.1.2-py3-none-any.whl.metadata (1.7 kB)\n",
      "Collecting nbclient>=0.5.0 (from nbconvert->jupyter->mySUNI)\n",
      "  Downloading nbclient-0.10.2-py3-none-any.whl.metadata (8.3 kB)\n",
      "Collecting nbformat>=5.7 (from nbconvert->jupyter->mySUNI)\n",
      "  Downloading nbformat-5.10.4-py3-none-any.whl.metadata (3.6 kB)\n",
      "Collecting pandocfilters>=1.4.1 (from nbconvert->jupyter->mySUNI)\n",
      "  Downloading pandocfilters-1.5.1-py2.py3-none-any.whl.metadata (9.0 kB)\n",
      "Collecting webencodings (from bleach!=5.0.0->bleach[css]!=5.0.0->nbconvert->jupyter->mySUNI)\n",
      "  Downloading webencodings-0.5.1-py2.py3-none-any.whl.metadata (2.1 kB)\n",
      "Collecting tinycss2<1.5,>=1.1.0 (from bleach[css]!=5.0.0->nbconvert->jupyter->mySUNI)\n",
      "  Downloading tinycss2-1.4.0-py3-none-any.whl.metadata (3.0 kB)\n",
      "Collecting anyio (from httpx>=0.25.0->jupyterlab->jupyter->mySUNI)\n",
      "  Downloading anyio-4.8.0-py3-none-any.whl.metadata (4.6 kB)\n",
      "Collecting httpcore==1.* (from httpx>=0.25.0->jupyterlab->jupyter->mySUNI)\n",
      "  Downloading httpcore-1.0.7-py3-none-any.whl.metadata (21 kB)\n",
      "Collecting h11<0.15,>=0.13 (from httpcore==1.*->httpx>=0.25.0->jupyterlab->jupyter->mySUNI)\n",
      "  Downloading h11-0.14.0-py3-none-any.whl.metadata (8.2 kB)\n",
      "Requirement already satisfied: parso<0.9.0,>=0.8.4 in /Users/kwonkyoungmi/.pyenv/versions/3.12.2/lib/python3.12/site-packages (from jedi>=0.16->ipython>=6.1.0->ipywidgets->mySUNI) (0.8.4)\n",
      "Requirement already satisfied: platformdirs>=2.5 in /Users/kwonkyoungmi/.pyenv/versions/3.12.2/lib/python3.12/site-packages (from jupyter-core!=5.0.*,>=4.12->ipykernel->jupyter->mySUNI) (4.3.6)\n",
      "Collecting argon2-cffi>=21.1 (from jupyter-server<3,>=2.4.0->jupyterlab->jupyter->mySUNI)\n",
      "  Downloading argon2_cffi-23.1.0-py3-none-any.whl.metadata (5.2 kB)\n",
      "Collecting jupyter-events>=0.11.0 (from jupyter-server<3,>=2.4.0->jupyterlab->jupyter->mySUNI)\n",
      "  Downloading jupyter_events-0.12.0-py3-none-any.whl.metadata (5.8 kB)\n",
      "Collecting jupyter-server-terminals>=0.4.4 (from jupyter-server<3,>=2.4.0->jupyterlab->jupyter->mySUNI)\n",
      "  Downloading jupyter_server_terminals-0.5.3-py3-none-any.whl.metadata (5.6 kB)\n",
      "Collecting overrides>=5.0 (from jupyter-server<3,>=2.4.0->jupyterlab->jupyter->mySUNI)\n",
      "  Downloading overrides-7.7.0-py3-none-any.whl.metadata (5.8 kB)\n",
      "Collecting prometheus-client>=0.9 (from jupyter-server<3,>=2.4.0->jupyterlab->jupyter->mySUNI)\n",
      "  Downloading prometheus_client-0.21.1-py3-none-any.whl.metadata (1.8 kB)\n",
      "Collecting send2trash>=1.8.2 (from jupyter-server<3,>=2.4.0->jupyterlab->jupyter->mySUNI)\n",
      "  Downloading Send2Trash-1.8.3-py3-none-any.whl.metadata (4.0 kB)\n",
      "Collecting terminado>=0.8.3 (from jupyter-server<3,>=2.4.0->jupyterlab->jupyter->mySUNI)\n",
      "  Downloading terminado-0.18.1-py3-none-any.whl.metadata (5.8 kB)\n",
      "Collecting websocket-client>=1.7 (from jupyter-server<3,>=2.4.0->jupyterlab->jupyter->mySUNI)\n",
      "  Downloading websocket_client-1.8.0-py3-none-any.whl.metadata (8.0 kB)\n",
      "Collecting babel>=2.10 (from jupyterlab-server<3,>=2.27.1->jupyterlab->jupyter->mySUNI)\n",
      "  Downloading babel-2.17.0-py3-none-any.whl.metadata (2.0 kB)\n",
      "Collecting json5>=0.9.0 (from jupyterlab-server<3,>=2.27.1->jupyterlab->jupyter->mySUNI)\n",
      "  Downloading json5-0.10.0-py3-none-any.whl.metadata (34 kB)\n",
      "Collecting jsonschema>=4.18.0 (from jupyterlab-server<3,>=2.27.1->jupyterlab->jupyter->mySUNI)\n",
      "  Downloading jsonschema-4.23.0-py3-none-any.whl.metadata (7.9 kB)\n",
      "Collecting fastjsonschema>=2.15 (from nbformat>=5.7->nbconvert->jupyter->mySUNI)\n",
      "  Downloading fastjsonschema-2.21.1-py3-none-any.whl.metadata (2.2 kB)\n",
      "Requirement already satisfied: ptyprocess>=0.5 in /Users/kwonkyoungmi/.pyenv/versions/3.12.2/lib/python3.12/site-packages (from pexpect>4.3->ipython>=6.1.0->ipywidgets->mySUNI) (0.7.0)\n",
      "Requirement already satisfied: wcwidth in /Users/kwonkyoungmi/.pyenv/versions/3.12.2/lib/python3.12/site-packages (from prompt_toolkit<3.1.0,>=3.0.41->ipython>=6.1.0->ipywidgets->mySUNI) (0.2.13)\n",
      "Requirement already satisfied: soupsieve>1.2 in /Users/kwonkyoungmi/.pyenv/versions/3.12.2/lib/python3.12/site-packages (from beautifulsoup4->nbconvert->jupyter->mySUNI) (2.6)\n",
      "Requirement already satisfied: typing-extensions>=4.0.0 in /Users/kwonkyoungmi/.pyenv/versions/3.12.2/lib/python3.12/site-packages (from beautifulsoup4->nbconvert->jupyter->mySUNI) (4.12.2)\n",
      "Requirement already satisfied: executing>=1.2.0 in /Users/kwonkyoungmi/.pyenv/versions/3.12.2/lib/python3.12/site-packages (from stack_data->ipython>=6.1.0->ipywidgets->mySUNI) (2.2.0)\n",
      "Requirement already satisfied: asttokens>=2.1.0 in /Users/kwonkyoungmi/.pyenv/versions/3.12.2/lib/python3.12/site-packages (from stack_data->ipython>=6.1.0->ipywidgets->mySUNI) (3.0.0)\n",
      "Requirement already satisfied: pure-eval in /Users/kwonkyoungmi/.pyenv/versions/3.12.2/lib/python3.12/site-packages (from stack_data->ipython>=6.1.0->ipywidgets->mySUNI) (0.2.3)\n",
      "Collecting sniffio>=1.1 (from anyio->httpx>=0.25.0->jupyterlab->jupyter->mySUNI)\n",
      "  Downloading sniffio-1.3.1-py3-none-any.whl.metadata (3.9 kB)\n",
      "Collecting argon2-cffi-bindings (from argon2-cffi>=21.1->jupyter-server<3,>=2.4.0->jupyterlab->jupyter->mySUNI)\n",
      "  Downloading argon2_cffi_bindings-21.2.0-cp38-abi3-macosx_10_9_universal2.whl.metadata (6.7 kB)\n",
      "Collecting attrs>=22.2.0 (from jsonschema>=4.18.0->jupyterlab-server<3,>=2.27.1->jupyterlab->jupyter->mySUNI)\n",
      "  Downloading attrs-25.1.0-py3-none-any.whl.metadata (10 kB)\n",
      "Collecting jsonschema-specifications>=2023.03.6 (from jsonschema>=4.18.0->jupyterlab-server<3,>=2.27.1->jupyterlab->jupyter->mySUNI)\n",
      "  Downloading jsonschema_specifications-2024.10.1-py3-none-any.whl.metadata (3.0 kB)\n",
      "Collecting referencing>=0.28.4 (from jsonschema>=4.18.0->jupyterlab-server<3,>=2.27.1->jupyterlab->jupyter->mySUNI)\n",
      "  Downloading referencing-0.36.2-py3-none-any.whl.metadata (2.8 kB)\n",
      "Collecting rpds-py>=0.7.1 (from jsonschema>=4.18.0->jupyterlab-server<3,>=2.27.1->jupyterlab->jupyter->mySUNI)\n",
      "  Downloading rpds_py-0.23.1-cp312-cp312-macosx_10_12_x86_64.whl.metadata (4.1 kB)\n",
      "Collecting python-json-logger>=2.0.4 (from jupyter-events>=0.11.0->jupyter-server<3,>=2.4.0->jupyterlab->jupyter->mySUNI)\n",
      "  Downloading python_json_logger-3.3.0-py3-none-any.whl.metadata (4.0 kB)\n",
      "Collecting pyyaml>=5.3 (from jupyter-events>=0.11.0->jupyter-server<3,>=2.4.0->jupyterlab->jupyter->mySUNI)\n",
      "  Downloading PyYAML-6.0.2-cp312-cp312-macosx_10_9_x86_64.whl.metadata (2.1 kB)\n",
      "Collecting rfc3339-validator (from jupyter-events>=0.11.0->jupyter-server<3,>=2.4.0->jupyterlab->jupyter->mySUNI)\n",
      "  Downloading rfc3339_validator-0.1.4-py2.py3-none-any.whl.metadata (1.5 kB)\n",
      "Collecting rfc3986-validator>=0.1.1 (from jupyter-events>=0.11.0->jupyter-server<3,>=2.4.0->jupyterlab->jupyter->mySUNI)\n",
      "  Downloading rfc3986_validator-0.1.1-py2.py3-none-any.whl.metadata (1.7 kB)\n",
      "Collecting fqdn (from jsonschema[format-nongpl]>=4.18.0->jupyter-events>=0.11.0->jupyter-server<3,>=2.4.0->jupyterlab->jupyter->mySUNI)\n",
      "  Downloading fqdn-1.5.1-py3-none-any.whl.metadata (1.4 kB)\n",
      "Collecting isoduration (from jsonschema[format-nongpl]>=4.18.0->jupyter-events>=0.11.0->jupyter-server<3,>=2.4.0->jupyterlab->jupyter->mySUNI)\n",
      "  Downloading isoduration-20.11.0-py3-none-any.whl.metadata (5.7 kB)\n",
      "Collecting jsonpointer>1.13 (from jsonschema[format-nongpl]>=4.18.0->jupyter-events>=0.11.0->jupyter-server<3,>=2.4.0->jupyterlab->jupyter->mySUNI)\n",
      "  Downloading jsonpointer-3.0.0-py2.py3-none-any.whl.metadata (2.3 kB)\n",
      "Collecting uri-template (from jsonschema[format-nongpl]>=4.18.0->jupyter-events>=0.11.0->jupyter-server<3,>=2.4.0->jupyterlab->jupyter->mySUNI)\n",
      "  Downloading uri_template-1.3.0-py3-none-any.whl.metadata (8.8 kB)\n",
      "Collecting webcolors>=24.6.0 (from jsonschema[format-nongpl]>=4.18.0->jupyter-events>=0.11.0->jupyter-server<3,>=2.4.0->jupyterlab->jupyter->mySUNI)\n",
      "  Downloading webcolors-24.11.1-py3-none-any.whl.metadata (2.2 kB)\n",
      "Requirement already satisfied: cffi>=1.0.1 in /Users/kwonkyoungmi/.pyenv/versions/3.12.2/lib/python3.12/site-packages (from argon2-cffi-bindings->argon2-cffi>=21.1->jupyter-server<3,>=2.4.0->jupyterlab->jupyter->mySUNI) (1.17.1)\n",
      "Requirement already satisfied: pycparser in /Users/kwonkyoungmi/.pyenv/versions/3.12.2/lib/python3.12/site-packages (from cffi>=1.0.1->argon2-cffi-bindings->argon2-cffi>=21.1->jupyter-server<3,>=2.4.0->jupyterlab->jupyter->mySUNI) (2.22)\n",
      "Collecting arrow>=0.15.0 (from isoduration->jsonschema[format-nongpl]>=4.18.0->jupyter-events>=0.11.0->jupyter-server<3,>=2.4.0->jupyterlab->jupyter->mySUNI)\n",
      "  Downloading arrow-1.3.0-py3-none-any.whl.metadata (7.5 kB)\n",
      "Collecting types-python-dateutil>=2.8.10 (from arrow>=0.15.0->isoduration->jsonschema[format-nongpl]>=4.18.0->jupyter-events>=0.11.0->jupyter-server<3,>=2.4.0->jupyterlab->jupyter->mySUNI)\n",
      "  Downloading types_python_dateutil-2.9.0.20241206-py3-none-any.whl.metadata (2.1 kB)\n",
      "Downloading mySUNI-2.0.2-py3-none-any.whl (22 kB)\n",
      "Downloading jupyter-1.1.1-py2.py3-none-any.whl (2.7 kB)\n",
      "Downloading scikit_learn-1.6.1-cp312-cp312-macosx_10_13_x86_64.whl (12.1 MB)\n",
      "\u001b[2K   \u001b[90m━━━━━━━━━━━━━━━━━━━━━━━━━━━━━━━━━━━━━━━━\u001b[0m \u001b[32m12.1/12.1 MB\u001b[0m \u001b[31m8.2 MB/s\u001b[0m eta \u001b[36m0:00:00\u001b[0m00:01\u001b[0m00:01\u001b[0m\n",
      "\u001b[?25hDownloading joblib-1.4.2-py3-none-any.whl (301 kB)\n",
      "\u001b[2K   \u001b[90m━━━━━━━━━━━━━━━━━━━━━━━━━━━━━━━━━━━━━━━━\u001b[0m \u001b[32m301.8/301.8 kB\u001b[0m \u001b[31m5.4 MB/s\u001b[0m eta \u001b[36m0:00:00\u001b[0m:00:01\u001b[0m\n",
      "\u001b[?25hDownloading threadpoolctl-3.5.0-py3-none-any.whl (18 kB)\n",
      "Downloading jupyter_console-6.6.3-py3-none-any.whl (24 kB)\n",
      "Downloading jupyterlab-4.3.5-py3-none-any.whl (11.7 MB)\n",
      "\u001b[2K   \u001b[90m━━━━━━━━━━━━━━━━━━━━━━━━━━━━━━━━━━━━━━━━\u001b[0m \u001b[32m11.7/11.7 MB\u001b[0m \u001b[31m6.0 MB/s\u001b[0m eta \u001b[36m0:00:00\u001b[0m00:01\u001b[0m00:01\u001b[0m\n",
      "\u001b[?25hDownloading nbconvert-7.16.6-py3-none-any.whl (258 kB)\n",
      "\u001b[2K   \u001b[90m━━━━━━━━━━━━━━━━━━━━━━━━━━━━━━━━━━━━━━━━\u001b[0m \u001b[32m258.5/258.5 kB\u001b[0m \u001b[31m4.3 MB/s\u001b[0m eta \u001b[36m0:00:00\u001b[0ma \u001b[36m0:00:01\u001b[0m\n",
      "\u001b[?25hDownloading notebook-7.3.2-py3-none-any.whl (13.2 MB)\n",
      "\u001b[2K   \u001b[90m━━━━━━━━━━━━━━━━━━━━━━━━━━━━━━━━━━━━━━━━\u001b[0m \u001b[32m13.2/13.2 MB\u001b[0m \u001b[31m6.0 MB/s\u001b[0m eta \u001b[36m0:00:00\u001b[0m00:01\u001b[0m00:01\u001b[0m\n",
      "\u001b[?25hDownloading async_lru-2.0.4-py3-none-any.whl (6.1 kB)\n",
      "Downloading bleach-6.2.0-py3-none-any.whl (163 kB)\n",
      "\u001b[2K   \u001b[90m━━━━━━━━━━━━━━━━━━━━━━━━━━━━━━━━━━━━━━━━\u001b[0m \u001b[32m163.4/163.4 kB\u001b[0m \u001b[31m3.4 MB/s\u001b[0m eta \u001b[36m0:00:00\u001b[0ma \u001b[36m0:00:01\u001b[0m\n",
      "\u001b[?25hDownloading httpx-0.28.1-py3-none-any.whl (73 kB)\n",
      "\u001b[2K   \u001b[90m━━━━━━━━━━━━━━━━━━━━━━━━━━━━━━━━━━━━━━━━\u001b[0m \u001b[32m73.5/73.5 kB\u001b[0m \u001b[31m2.1 MB/s\u001b[0m eta \u001b[36m0:00:00\u001b[0m\n",
      "\u001b[?25hDownloading httpcore-1.0.7-py3-none-any.whl (78 kB)\n",
      "\u001b[2K   \u001b[90m━━━━━━━━━━━━━━━━━━━━━━━━━━━━━━━━━━━━━━━━\u001b[0m \u001b[32m78.6/78.6 kB\u001b[0m \u001b[31m2.2 MB/s\u001b[0m eta \u001b[36m0:00:00\u001b[0m\n",
      "\u001b[?25hDownloading jupyter_lsp-2.2.5-py3-none-any.whl (69 kB)\n",
      "\u001b[2K   \u001b[90m━━━━━━━━━━━━━━━━━━━━━━━━━━━━━━━━━━━━━━━━\u001b[0m \u001b[32m69.1/69.1 kB\u001b[0m \u001b[31m2.1 MB/s\u001b[0m eta \u001b[36m0:00:00\u001b[0m\n",
      "\u001b[?25hDownloading jupyter_server-2.15.0-py3-none-any.whl (385 kB)\n",
      "\u001b[2K   \u001b[90m━━━━━━━━━━━━━━━━━━━━━━━━━━━━━━━━━━━━━━━━\u001b[0m \u001b[32m385.8/385.8 kB\u001b[0m \u001b[31m6.1 MB/s\u001b[0m eta \u001b[36m0:00:00\u001b[0ma \u001b[36m0:00:01\u001b[0m\n",
      "\u001b[?25hDownloading jupyterlab_server-2.27.3-py3-none-any.whl (59 kB)\n",
      "\u001b[2K   \u001b[90m━━━━━━━━━━━━━━━━━━━━━━━━━━━━━━━━━━━━━━━━\u001b[0m \u001b[32m59.7/59.7 kB\u001b[0m \u001b[31m1.6 MB/s\u001b[0m eta \u001b[36m0:00:00\u001b[0m\n",
      "\u001b[?25hDownloading mistune-3.1.2-py3-none-any.whl (53 kB)\n",
      "\u001b[2K   \u001b[90m━━━━━━━━━━━━━━━━━━━━━━━━━━━━━━━━━━━━━━━━\u001b[0m \u001b[32m53.7/53.7 kB\u001b[0m \u001b[31m1.4 MB/s\u001b[0m eta \u001b[36m0:00:00\u001b[0m\n",
      "\u001b[?25hDownloading nbclient-0.10.2-py3-none-any.whl (25 kB)\n",
      "Downloading nbformat-5.10.4-py3-none-any.whl (78 kB)\n",
      "\u001b[2K   \u001b[90m━━━━━━━━━━━━━━━━━━━━━━━━━━━━━━━━━━━━━━━━\u001b[0m \u001b[32m78.5/78.5 kB\u001b[0m \u001b[31m2.4 MB/s\u001b[0m eta \u001b[36m0:00:00\u001b[0m\n",
      "\u001b[?25hDownloading notebook_shim-0.2.4-py3-none-any.whl (13 kB)\n",
      "Downloading pandocfilters-1.5.1-py2.py3-none-any.whl (8.7 kB)\n",
      "Downloading defusedxml-0.7.1-py2.py3-none-any.whl (25 kB)\n",
      "Downloading jupyterlab_pygments-0.3.0-py3-none-any.whl (15 kB)\n",
      "Downloading anyio-4.8.0-py3-none-any.whl (96 kB)\n",
      "\u001b[2K   \u001b[90m━━━━━━━━━━━━━━━━━━━━━━━━━━━━━━━━━━━━━━━━\u001b[0m \u001b[32m96.0/96.0 kB\u001b[0m \u001b[31m2.7 MB/s\u001b[0m eta \u001b[36m0:00:00\u001b[0m\n",
      "\u001b[?25hDownloading argon2_cffi-23.1.0-py3-none-any.whl (15 kB)\n",
      "Downloading babel-2.17.0-py3-none-any.whl (10.2 MB)\n",
      "\u001b[2K   \u001b[90m━━━━━━━━━━━━━━━━━━━━━━━━━━━━━━━━━━━━━━━━\u001b[0m \u001b[32m10.2/10.2 MB\u001b[0m \u001b[31m8.9 MB/s\u001b[0m eta \u001b[36m0:00:00\u001b[0m00:01\u001b[0m0:01\u001b[0mm\n",
      "\u001b[?25hDownloading fastjsonschema-2.21.1-py3-none-any.whl (23 kB)\n",
      "Downloading json5-0.10.0-py3-none-any.whl (34 kB)\n",
      "Downloading jsonschema-4.23.0-py3-none-any.whl (88 kB)\n",
      "\u001b[2K   \u001b[90m━━━━━━━━━━━━━━━━━━━━━━━━━━━━━━━━━━━━━━━━\u001b[0m \u001b[32m88.5/88.5 kB\u001b[0m \u001b[31m2.5 MB/s\u001b[0m eta \u001b[36m0:00:00\u001b[0m\n",
      "\u001b[?25hDownloading jupyter_events-0.12.0-py3-none-any.whl (19 kB)\n",
      "Downloading jupyter_server_terminals-0.5.3-py3-none-any.whl (13 kB)\n",
      "Downloading overrides-7.7.0-py3-none-any.whl (17 kB)\n",
      "Downloading prometheus_client-0.21.1-py3-none-any.whl (54 kB)\n",
      "\u001b[2K   \u001b[90m━━━━━━━━━━━━━━━━━━━━━━━━━━━━━━━━━━━━━━━━\u001b[0m \u001b[32m54.7/54.7 kB\u001b[0m \u001b[31m1.4 MB/s\u001b[0m eta \u001b[36m0:00:00\u001b[0m\n",
      "\u001b[?25hDownloading Send2Trash-1.8.3-py3-none-any.whl (18 kB)\n",
      "Downloading terminado-0.18.1-py3-none-any.whl (14 kB)\n",
      "Downloading tinycss2-1.4.0-py3-none-any.whl (26 kB)\n",
      "Downloading webencodings-0.5.1-py2.py3-none-any.whl (11 kB)\n",
      "Downloading websocket_client-1.8.0-py3-none-any.whl (58 kB)\n",
      "\u001b[2K   \u001b[90m━━━━━━━━━━━━━━━━━━━━━━━━━━━━━━━━━━━━━━━━\u001b[0m \u001b[32m58.8/58.8 kB\u001b[0m \u001b[31m1.5 MB/s\u001b[0m eta \u001b[36m0:00:00\u001b[0m\n",
      "\u001b[?25hDownloading attrs-25.1.0-py3-none-any.whl (63 kB)\n",
      "\u001b[2K   \u001b[90m━━━━━━━━━━━━━━━━━━━━━━━━━━━━━━━━━━━━━━━━\u001b[0m \u001b[32m63.2/63.2 kB\u001b[0m \u001b[31m1.7 MB/s\u001b[0m eta \u001b[36m0:00:00\u001b[0m\n",
      "\u001b[?25hDownloading h11-0.14.0-py3-none-any.whl (58 kB)\n",
      "\u001b[2K   \u001b[90m━━━━━━━━━━━━━━━━━━━━━━━━━━━━━━━━━━━━━━━━\u001b[0m \u001b[32m58.3/58.3 kB\u001b[0m \u001b[31m1.6 MB/s\u001b[0m eta \u001b[36m0:00:00\u001b[0m\n",
      "\u001b[?25hDownloading jsonschema_specifications-2024.10.1-py3-none-any.whl (18 kB)\n",
      "Downloading python_json_logger-3.3.0-py3-none-any.whl (15 kB)\n",
      "Downloading PyYAML-6.0.2-cp312-cp312-macosx_10_9_x86_64.whl (183 kB)\n",
      "\u001b[2K   \u001b[90m━━━━━━━━━━━━━━━━━━━━━━━━━━━━━━━━━━━━━━━━\u001b[0m \u001b[32m183.9/183.9 kB\u001b[0m \u001b[31m3.9 MB/s\u001b[0m eta \u001b[36m0:00:00\u001b[0mta \u001b[36m0:00:01\u001b[0m\n",
      "\u001b[?25hDownloading referencing-0.36.2-py3-none-any.whl (26 kB)\n",
      "Downloading rfc3986_validator-0.1.1-py2.py3-none-any.whl (4.2 kB)\n",
      "Downloading rpds_py-0.23.1-cp312-cp312-macosx_10_12_x86_64.whl (364 kB)\n",
      "\u001b[2K   \u001b[90m━━━━━━━━━━━━━━━━━━━━━━━━━━━━━━━━━━━━━━━━\u001b[0m \u001b[32m364.4/364.4 kB\u001b[0m \u001b[31m4.3 MB/s\u001b[0m eta \u001b[36m0:00:00\u001b[0ma \u001b[36m0:00:01\u001b[0m\n",
      "\u001b[?25hDownloading sniffio-1.3.1-py3-none-any.whl (10 kB)\n",
      "Downloading argon2_cffi_bindings-21.2.0-cp38-abi3-macosx_10_9_universal2.whl (53 kB)\n",
      "\u001b[2K   \u001b[90m━━━━━━━━━━━━━━━━━━━━━━━━━━━━━━━━━━━━━━━━\u001b[0m \u001b[32m53.1/53.1 kB\u001b[0m \u001b[31m1.5 MB/s\u001b[0m eta \u001b[36m0:00:00\u001b[0m\n",
      "\u001b[?25hDownloading rfc3339_validator-0.1.4-py2.py3-none-any.whl (3.5 kB)\n",
      "Downloading jsonpointer-3.0.0-py2.py3-none-any.whl (7.6 kB)\n",
      "Downloading webcolors-24.11.1-py3-none-any.whl (14 kB)\n",
      "Downloading fqdn-1.5.1-py3-none-any.whl (9.1 kB)\n",
      "Downloading isoduration-20.11.0-py3-none-any.whl (11 kB)\n",
      "Downloading uri_template-1.3.0-py3-none-any.whl (11 kB)\n",
      "Downloading arrow-1.3.0-py3-none-any.whl (66 kB)\n",
      "\u001b[2K   \u001b[90m━━━━━━━━━━━━━━━━━━━━━━━━━━━━━━━━━━━━━━━━\u001b[0m \u001b[32m66.4/66.4 kB\u001b[0m \u001b[31m1.7 MB/s\u001b[0m eta \u001b[36m0:00:00\u001b[0m\n",
      "\u001b[?25hDownloading types_python_dateutil-2.9.0.20241206-py3-none-any.whl (14 kB)\n",
      "Installing collected packages: webencodings, fastjsonschema, websocket-client, webcolors, uri-template, types-python-dateutil, tinycss2, threadpoolctl, terminado, sniffio, send2trash, rpds-py, rfc3986-validator, rfc3339-validator, pyyaml, python-json-logger, prometheus-client, pandocfilters, overrides, mistune, jupyterlab-pygments, jsonpointer, json5, joblib, h11, fqdn, defusedxml, bleach, babel, attrs, async-lru, scikit-learn, referencing, jupyter-server-terminals, httpcore, arrow, argon2-cffi-bindings, anyio, jsonschema-specifications, isoduration, httpx, argon2-cffi, jupyter-console, jsonschema, nbformat, nbclient, jupyter-events, nbconvert, jupyter-server, notebook-shim, jupyterlab-server, jupyter-lsp, jupyterlab, notebook, jupyter, mySUNI\n",
      "Successfully installed anyio-4.8.0 argon2-cffi-23.1.0 argon2-cffi-bindings-21.2.0 arrow-1.3.0 async-lru-2.0.4 attrs-25.1.0 babel-2.17.0 bleach-6.2.0 defusedxml-0.7.1 fastjsonschema-2.21.1 fqdn-1.5.1 h11-0.14.0 httpcore-1.0.7 httpx-0.28.1 isoduration-20.11.0 joblib-1.4.2 json5-0.10.0 jsonpointer-3.0.0 jsonschema-4.23.0 jsonschema-specifications-2024.10.1 jupyter-1.1.1 jupyter-console-6.6.3 jupyter-events-0.12.0 jupyter-lsp-2.2.5 jupyter-server-2.15.0 jupyter-server-terminals-0.5.3 jupyterlab-4.3.5 jupyterlab-pygments-0.3.0 jupyterlab-server-2.27.3 mistune-3.1.2 mySUNI-2.0.2 nbclient-0.10.2 nbconvert-7.16.6 nbformat-5.10.4 notebook-7.3.2 notebook-shim-0.2.4 overrides-7.7.0 pandocfilters-1.5.1 prometheus-client-0.21.1 python-json-logger-3.3.0 pyyaml-6.0.2 referencing-0.36.2 rfc3339-validator-0.1.4 rfc3986-validator-0.1.1 rpds-py-0.23.1 scikit-learn-1.6.1 send2trash-1.8.3 sniffio-1.3.1 terminado-0.18.1 threadpoolctl-3.5.0 tinycss2-1.4.0 types-python-dateutil-2.9.0.20241206 uri-template-1.3.0 webcolors-24.11.1 webencodings-0.5.1 websocket-client-1.8.0\n",
      "\n",
      "\u001b[1m[\u001b[0m\u001b[34;49mnotice\u001b[0m\u001b[1;39;49m]\u001b[0m\u001b[39;49m A new release of pip is available: \u001b[0m\u001b[31;49m24.0\u001b[0m\u001b[39;49m -> \u001b[0m\u001b[32;49m25.0.1\u001b[0m\n",
      "\u001b[1m[\u001b[0m\u001b[34;49mnotice\u001b[0m\u001b[1;39;49m]\u001b[0m\u001b[39;49m To update, run: \u001b[0m\u001b[32;49mpip install --upgrade pip\u001b[0m\n",
      "Note: you may need to restart the kernel to use updated packages.\n"
     ]
    }
   ],
   "source": [
    "# %pip install mySUNI\n",
    "\n",
    "# https://pypi.org/project/mySUNI/"
   ]
  },
  {
   "cell_type": "markdown",
   "metadata": {},
   "source": [
    "#"
   ]
  },
  {
   "cell_type": "code",
   "execution_count": null,
   "metadata": {},
   "outputs": [],
   "source": [
    "import matplotlib.pyplot as plt \n",
    "import pandas as pd\n",
    "import numpy as np\n",
    "\n",
    "from IPython.display import Image\n",
    "\n",
    "import warnings\n",
    "warnings.filterwarnings('ignore')\n",
    "\n",
    "from mySUNI import cds\n",
    "\n",
    "# Unicode warning 제거 (폰트관련 경고 메세지)\n",
    "plt.rcParams['axes.unicode_minus']=False\n",
    "\n",
    "# 한글 폰트 설정\n",
    "plt.rcParams['font.family'] = \"NanumGothic\"\n",
    "\n",
    "# 그래프 출력 사이즈 설정\n",
    "plt.rcParams[\"figure.figsize\"] = (4 ,3)"
   ]
  },
  {
   "cell_type": "markdown",
   "metadata": {},
   "source": [
    "###### for font setting"
   ]
  },
  {
   "cell_type": "code",
   "execution_count": null,
   "metadata": {},
   "outputs": [
    {
     "name": "stdout",
     "output_type": "stream",
     "text": [
      "/Users/kwonkyoungmi/.matplotlib\n"
     ]
    }
   ],
   "source": [
    "# Matplotlib 구성 디렉토리 확인\n",
    "import matplotlib as mpl\n",
    "print(mpl.get_configdir())"
   ]
  },
  {
   "cell_type": "code",
   "execution_count": null,
   "metadata": {},
   "outputs": [
    {
     "name": "stdout",
     "output_type": "stream",
     "text": [
      "STIXGeneral /Users/kwonkyoungmi/.pyenv/versions/3.12.2/lib/python3.12/site-packages/matplotlib/mpl-data/fonts/ttf/STIXGeneralBol.ttf\n",
      "cmex10 /Users/kwonkyoungmi/.pyenv/versions/3.12.2/lib/python3.12/site-packages/matplotlib/mpl-data/fonts/ttf/cmex10.ttf\n",
      "cmr10 /Users/kwonkyoungmi/.pyenv/versions/3.12.2/lib/python3.12/site-packages/matplotlib/mpl-data/fonts/ttf/cmr10.ttf\n",
      "STIXSizeOneSym /Users/kwonkyoungmi/.pyenv/versions/3.12.2/lib/python3.12/site-packages/matplotlib/mpl-data/fonts/ttf/STIXSizOneSymBol.ttf\n",
      "STIXSizeFourSym /Users/kwonkyoungmi/.pyenv/versions/3.12.2/lib/python3.12/site-packages/matplotlib/mpl-data/fonts/ttf/STIXSizFourSymBol.ttf\n",
      "DejaVu Sans /Users/kwonkyoungmi/.pyenv/versions/3.12.2/lib/python3.12/site-packages/matplotlib/mpl-data/fonts/ttf/DejaVuSans-BoldOblique.ttf\n",
      "DejaVu Serif /Users/kwonkyoungmi/.pyenv/versions/3.12.2/lib/python3.12/site-packages/matplotlib/mpl-data/fonts/ttf/DejaVuSerif-Bold.ttf\n",
      "STIXNonUnicode /Users/kwonkyoungmi/.pyenv/versions/3.12.2/lib/python3.12/site-packages/matplotlib/mpl-data/fonts/ttf/STIXNonUniIta.ttf\n",
      "DejaVu Sans Mono /Users/kwonkyoungmi/.pyenv/versions/3.12.2/lib/python3.12/site-packages/matplotlib/mpl-data/fonts/ttf/DejaVuSansMono-Bold.ttf\n",
      "DejaVu Serif /Users/kwonkyoungmi/.pyenv/versions/3.12.2/lib/python3.12/site-packages/matplotlib/mpl-data/fonts/ttf/DejaVuSerif.ttf\n",
      "STIXSizeThreeSym /Users/kwonkyoungmi/.pyenv/versions/3.12.2/lib/python3.12/site-packages/matplotlib/mpl-data/fonts/ttf/STIXSizThreeSymReg.ttf\n",
      "STIXNonUnicode /Users/kwonkyoungmi/.pyenv/versions/3.12.2/lib/python3.12/site-packages/matplotlib/mpl-data/fonts/ttf/STIXNonUni.ttf\n",
      "STIXSizeThreeSym /Users/kwonkyoungmi/.pyenv/versions/3.12.2/lib/python3.12/site-packages/matplotlib/mpl-data/fonts/ttf/STIXSizThreeSymBol.ttf\n",
      "cmsy10 /Users/kwonkyoungmi/.pyenv/versions/3.12.2/lib/python3.12/site-packages/matplotlib/mpl-data/fonts/ttf/cmsy10.ttf\n",
      "STIXSizeTwoSym /Users/kwonkyoungmi/.pyenv/versions/3.12.2/lib/python3.12/site-packages/matplotlib/mpl-data/fonts/ttf/STIXSizTwoSymReg.ttf\n",
      "DejaVu Sans Display /Users/kwonkyoungmi/.pyenv/versions/3.12.2/lib/python3.12/site-packages/matplotlib/mpl-data/fonts/ttf/DejaVuSansDisplay.ttf\n",
      "DejaVu Serif /Users/kwonkyoungmi/.pyenv/versions/3.12.2/lib/python3.12/site-packages/matplotlib/mpl-data/fonts/ttf/DejaVuSerif-BoldItalic.ttf\n",
      "DejaVu Sans /Users/kwonkyoungmi/.pyenv/versions/3.12.2/lib/python3.12/site-packages/matplotlib/mpl-data/fonts/ttf/DejaVuSans.ttf\n",
      "STIXSizeFourSym /Users/kwonkyoungmi/.pyenv/versions/3.12.2/lib/python3.12/site-packages/matplotlib/mpl-data/fonts/ttf/STIXSizFourSymReg.ttf\n",
      "STIXSizeOneSym /Users/kwonkyoungmi/.pyenv/versions/3.12.2/lib/python3.12/site-packages/matplotlib/mpl-data/fonts/ttf/STIXSizOneSymReg.ttf\n",
      "DejaVu Serif /Users/kwonkyoungmi/.pyenv/versions/3.12.2/lib/python3.12/site-packages/matplotlib/mpl-data/fonts/ttf/DejaVuSerif-Italic.ttf\n",
      "STIXSizeFiveSym /Users/kwonkyoungmi/.pyenv/versions/3.12.2/lib/python3.12/site-packages/matplotlib/mpl-data/fonts/ttf/STIXSizFiveSymReg.ttf\n",
      "cmmi10 /Users/kwonkyoungmi/.pyenv/versions/3.12.2/lib/python3.12/site-packages/matplotlib/mpl-data/fonts/ttf/cmmi10.ttf\n",
      "STIXSizeTwoSym /Users/kwonkyoungmi/.pyenv/versions/3.12.2/lib/python3.12/site-packages/matplotlib/mpl-data/fonts/ttf/STIXSizTwoSymBol.ttf\n",
      "DejaVu Sans Mono /Users/kwonkyoungmi/.pyenv/versions/3.12.2/lib/python3.12/site-packages/matplotlib/mpl-data/fonts/ttf/DejaVuSansMono.ttf\n",
      "STIXNonUnicode /Users/kwonkyoungmi/.pyenv/versions/3.12.2/lib/python3.12/site-packages/matplotlib/mpl-data/fonts/ttf/STIXNonUniBolIta.ttf\n",
      "DejaVu Sans Mono /Users/kwonkyoungmi/.pyenv/versions/3.12.2/lib/python3.12/site-packages/matplotlib/mpl-data/fonts/ttf/DejaVuSansMono-BoldOblique.ttf\n",
      "DejaVu Serif Display /Users/kwonkyoungmi/.pyenv/versions/3.12.2/lib/python3.12/site-packages/matplotlib/mpl-data/fonts/ttf/DejaVuSerifDisplay.ttf\n",
      "cmtt10 /Users/kwonkyoungmi/.pyenv/versions/3.12.2/lib/python3.12/site-packages/matplotlib/mpl-data/fonts/ttf/cmtt10.ttf\n",
      "STIXGeneral /Users/kwonkyoungmi/.pyenv/versions/3.12.2/lib/python3.12/site-packages/matplotlib/mpl-data/fonts/ttf/STIXGeneralBolIta.ttf\n",
      "STIXGeneral /Users/kwonkyoungmi/.pyenv/versions/3.12.2/lib/python3.12/site-packages/matplotlib/mpl-data/fonts/ttf/STIXGeneral.ttf\n",
      "STIXNonUnicode /Users/kwonkyoungmi/.pyenv/versions/3.12.2/lib/python3.12/site-packages/matplotlib/mpl-data/fonts/ttf/STIXNonUniBol.ttf\n",
      "STIXGeneral /Users/kwonkyoungmi/.pyenv/versions/3.12.2/lib/python3.12/site-packages/matplotlib/mpl-data/fonts/ttf/STIXGeneralItalic.ttf\n",
      "cmb10 /Users/kwonkyoungmi/.pyenv/versions/3.12.2/lib/python3.12/site-packages/matplotlib/mpl-data/fonts/ttf/cmb10.ttf\n",
      "DejaVu Sans /Users/kwonkyoungmi/.pyenv/versions/3.12.2/lib/python3.12/site-packages/matplotlib/mpl-data/fonts/ttf/DejaVuSans-Oblique.ttf\n",
      "DejaVu Sans /Users/kwonkyoungmi/.pyenv/versions/3.12.2/lib/python3.12/site-packages/matplotlib/mpl-data/fonts/ttf/DejaVuSans-Bold.ttf\n",
      "cmss10 /Users/kwonkyoungmi/.pyenv/versions/3.12.2/lib/python3.12/site-packages/matplotlib/mpl-data/fonts/ttf/cmss10.ttf\n",
      "DejaVu Sans Mono /Users/kwonkyoungmi/.pyenv/versions/3.12.2/lib/python3.12/site-packages/matplotlib/mpl-data/fonts/ttf/DejaVuSansMono-Oblique.ttf\n",
      "Noto Sans Sundanese /System/Library/Fonts/Supplemental/NotoSansSundanese-Regular.ttf\n",
      "Waseem /System/Library/Fonts/Supplemental/Waseem.ttc\n",
      "Muna /System/Library/Fonts/Supplemental/Muna.ttc\n",
      "STIXIntegralsUpD /System/Library/Fonts/Supplemental/STIXIntUpDBol.otf\n",
      "Plantagenet Cherokee /System/Library/Fonts/Supplemental/PlantagenetCherokee.ttf\n",
      "Chalkboard /System/Library/Fonts/Supplemental/Chalkboard.ttc\n",
      "Trattatello /System/Library/Fonts/Supplemental/Trattatello.ttf\n",
      "Optima /System/Library/Fonts/Optima.ttc\n",
      "Savoye LET /System/Library/Fonts/Supplemental/Savoye LET.ttc\n",
      "PT Serif Caption /System/Library/Fonts/Supplemental/PTSerifCaption.ttc\n",
      "Kai /System/Library/AssetsV2/com_apple_MobileAsset_Font7/28f00a24ba19995bab7249993e6e35d11011074a.asset/AssetData/Kai.ttf\n",
      "Webdings /System/Library/Fonts/Supplemental/Webdings.ttf\n",
      "STIXIntegralsUpSm /System/Library/Fonts/Supplemental/STIXIntUpSmBol.otf\n",
      "Diwan Thuluth /System/Library/Fonts/Supplemental/Diwan Thuluth.ttf\n",
      ".CJK Symbols Fallback HK /System/Library/Fonts/CJKSymbolsFallback.ttc\n",
      "Noto Sans Gunjala Gondi /System/Library/Fonts/Supplemental/NotoSansGunjalaGondi-Regular.otf\n",
      "Farisi /System/Library/Fonts/Supplemental/Farisi.ttf\n",
      "Noto Sans Coptic /System/Library/Fonts/Supplemental/NotoSansCoptic-Regular.ttf\n",
      "Noto Sans Tifinagh /System/Library/Fonts/Supplemental/NotoSansTifinagh-Regular.otf\n",
      "Georgia /System/Library/Fonts/Supplemental/Georgia Bold.ttf\n",
      "Hiragino Sans /System/Library/Fonts/ヒラギノ角ゴシック W4.ttc\n",
      "Menlo /System/Library/Fonts/Menlo.ttc\n",
      "Baoli SC /System/Library/AssetsV2/com_apple_MobileAsset_Font7/9d5450ee93f17da1eacfa01b5e7b598f9e2dda2b.asset/AssetData/Baoli.ttc\n",
      "STIXNonUnicode /System/Library/Fonts/Supplemental/STIXNonUniIta.otf\n",
      "Noto Sans Lycian /System/Library/Fonts/Supplemental/NotoSansLycian-Regular.ttf\n",
      "Tahoma /System/Library/Fonts/Supplemental/Tahoma Bold.ttf\n",
      "Al Nile /System/Library/Fonts/Supplemental/Al Nile.ttc\n",
      "Telugu MN /System/Library/Fonts/Supplemental/Telugu MN.ttc\n",
      "Silom /System/Library/Fonts/Supplemental/Silom.ttf\n",
      "Copperplate /System/Library/Fonts/Supplemental/Copperplate.ttc\n",
      "Apple Braille /System/Library/Fonts/Apple Braille Outline 6 Dot.ttf\n",
      "Noto Sans Old Italic /System/Library/Fonts/Supplemental/NotoSansOldItalic-Regular.ttf\n",
      "PCMyungjo /System/Library/AssetsV2/com_apple_MobileAsset_Font7/c2cf5e684236b5395fd48d6ccf0e3b3191ce83a0.asset/AssetData/PCmyoungjo.ttf\n",
      "Noto Sans Inscriptional Parthian /System/Library/Fonts/Supplemental/NotoSansInscriptionalParthian-Regular.ttf\n",
      "Brush Script MT /System/Library/Fonts/Supplemental/Brush Script.ttf\n",
      "Noto Sans Cham /System/Library/Fonts/Supplemental/NotoSansCham-Regular.ttf\n",
      "STIXIntegralsUpD /System/Library/Fonts/Supplemental/STIXIntUpDReg.otf\n",
      "Wingdings 3 /System/Library/Fonts/Supplemental/Wingdings 3.ttf\n",
      "Georgia /System/Library/Fonts/Supplemental/Georgia Bold Italic.ttf\n",
      "Arial Narrow /System/Library/Fonts/Supplemental/Arial Narrow.ttf\n",
      "Hiragino Sans CNS /System/Library/AssetsV2/com_apple_MobileAsset_Font7/32d11e548996658757774d88f9220993653017ea.asset/AssetData/Hiragino_Sans_CNS.ttc\n",
      "BM Jua /System/Library/AssetsV2/com_apple_MobileAsset_Font7/5b2f5f0b003344b2c67ce463e76d2485bb43d054.asset/AssetData/BMJua-Regular.otf\n",
      "Noto Sans Osage /System/Library/Fonts/Supplemental/NotoSansOsage-Regular.ttf\n",
      "Mishafi Gold /System/Library/Fonts/Supplemental/Mishafi Gold.ttf\n",
      "Tahoma /System/Library/Fonts/Supplemental/Tahoma.ttf\n",
      "Palatino /System/Library/Fonts/Palatino.ttc\n",
      "Noto Sans Vai /System/Library/Fonts/Supplemental/NotoSansVai-Regular.ttf\n",
      "Noto Sans Miao /System/Library/Fonts/Supplemental/NotoSansMiao-Regular.ttf\n",
      "Noto Sans Egyptian Hieroglyphs /System/Library/Fonts/Supplemental/NotoSansEgyptianHieroglyphs-Regular.ttf\n",
      "Zapf Dingbats /System/Library/Fonts/ZapfDingbats.ttf\n",
      "Hiragino Sans /System/Library/Fonts/ヒラギノ角ゴシック W3.ttc\n",
      "STIXIntegralsSm /System/Library/Fonts/Supplemental/STIXIntSmReg.otf\n",
      "Tsukushi B Round Gothic /System/Library/AssetsV2/com_apple_MobileAsset_Font7/10b097deccb3c6126d986e24b1980031ff7399da.asset/AssetData/TsukushiBMaruGothic.ttc\n",
      "Bangla MN /System/Library/Fonts/Supplemental/Bangla MN.ttc\n",
      "Shree Devanagari 714 /System/Library/Fonts/Supplemental/Shree714.ttc\n",
      "Toppan Bunkyu Gothic /System/Library/AssetsV2/com_apple_MobileAsset_Font7/0ab217c39c45c7c6acaddfa199fd32c55a7b4a19.asset/AssetData/ToppanBunkyuGothicPr6N.ttc\n",
      "Trebuchet MS /System/Library/Fonts/Supplemental/Trebuchet MS Italic.ttf\n",
      "Telugu Sangam MN /System/Library/Fonts/Supplemental/Telugu Sangam MN.ttc\n",
      "Al Bayan /System/Library/Fonts/Supplemental/AlBayan.ttc\n",
      "Hiragino Sans /System/Library/Fonts/ヒラギノ角ゴシック W7.ttc\n",
      "Times /System/Library/Fonts/Times.ttc\n",
      "Noto Sans Old Hungarian /System/Library/Fonts/Supplemental/NotoSansOldHungarian-Regular.ttf\n",
      ".SF Hebrew Rounded /System/Library/Fonts/SFHebrewRounded.ttf\n",
      "Noto Sans Old North Arabian /System/Library/Fonts/Supplemental/NotoSansOldNorthArabian-Regular.ttf\n",
      "Noto Sans Duployan /System/Library/Fonts/Supplemental/NotoSansDuployan-Regular.ttf\n",
      "Farah /System/Library/Fonts/Supplemental/Farah.ttc\n",
      "Noto Sans Gothic /System/Library/Fonts/Supplemental/NotoSansGothic-Regular.ttf\n",
      "STIX Two Math /System/Library/Fonts/Supplemental/STIXTwoMath.otf\n",
      "American Typewriter /System/Library/Fonts/Supplemental/AmericanTypewriter.ttc\n",
      "Noto Sans NKo /System/Library/Fonts/Supplemental/NotoSansNKo-Regular.ttf\n",
      "Canela Text /System/Library/AssetsV2/com_apple_MobileAsset_Font7/f4a323f5fbab983db00b98848520cbf5b353c8e9.asset/AssetData/CanelaText.ttc\n",
      "Arial Unicode MS /Library/Fonts/Arial Unicode.ttf\n",
      "Diwan Kufi /System/Library/Fonts/Supplemental/Diwan Kufi.ttc\n",
      "STHeiti /System/Library/AssetsV2/com_apple_MobileAsset_Font7/f0706a236683628e16427c6569e441423faaaa93.asset/AssetData/STXIHEI.ttf\n",
      "Noto Sans Adlam /System/Library/Fonts/Supplemental/NotoSansAdlam-Regular.ttf\n",
      "Gujarati Sangam MN /System/Library/Fonts/Supplemental/Gujarati Sangam MN.ttc\n",
      "Toppan Bunkyu Midashi Gothic /System/Library/AssetsV2/com_apple_MobileAsset_Font7/938fc4f0524ec9f143f1b39a4e63ff9585298376.asset/AssetData/ToppanBunkyuMidashiGothicStdN-ExtraBold.otf\n",
      "YuKyokasho Yoko /System/Library/AssetsV2/com_apple_MobileAsset_Font7/5b843781be7f58151ada774942a0eaa9ec79bd57.asset/AssetData/Kyokasho.ttc\n",
      "Noto Sans Takri /System/Library/Fonts/Supplemental/NotoSansTakri-Regular.ttf\n",
      "Verdana /System/Library/Fonts/Supplemental/Verdana Bold Italic.ttf\n",
      "Nanum Myeongjo /System/Library/AssetsV2/com_apple_MobileAsset_Font7/70816a43827731d40efe234b94feba96db91024f.asset/AssetData/NanumMyeongjo.ttc\n",
      "Krungthep /System/Library/Fonts/Supplemental/Krungthep.ttf\n",
      "BIZ UDGothic /System/Library/AssetsV2/com_apple_MobileAsset_Font7/d7d512f49387f96799ae9271c7fa8f8e9fef05d1.asset/AssetData/BIZ_UDGothic.ttc\n",
      "Noto Serif Yezidi /System/Library/Fonts/Supplemental/NotoSerifYezidi-Regular.otf\n",
      "Xingkai SC /System/Library/AssetsV2/com_apple_MobileAsset_Font7/aa99d0b2bad7f797f38b49d46cde28fd4b58876e.asset/AssetData/Xingkai.ttc\n",
      "LingWai TC /System/Library/AssetsV2/com_apple_MobileAsset_Font7/b8cf53b3591d6062cd536ba5129454cba899a078.asset/AssetData/LingWaiTC-Medium.otf\n",
      "DIN Alternate /System/Library/Fonts/Supplemental/DIN Alternate Bold.ttf\n",
      "Arial /System/Library/Fonts/Supplemental/Arial Bold.ttf\n",
      "Hiragino Sans /System/Library/Fonts/ヒラギノ角ゴシック W2.ttc\n",
      "Iowan Old Style /System/Library/Fonts/Supplemental/Iowan Old Style.ttc\n",
      "Seravek /System/Library/Fonts/Supplemental/Seravek.ttc\n",
      "STIX Two Text /System/Library/Fonts/Supplemental/STIXTwoText-Italic.ttf\n",
      "Snell Roundhand /System/Library/Fonts/Supplemental/SnellRoundhand.ttc\n",
      "Euphemia UCAS /System/Library/Fonts/Supplemental/EuphemiaCAS.ttc\n",
      "Courier /System/Library/Fonts/Courier.ttc\n",
      "Myanmar Sangam MN /System/Library/Fonts/Supplemental/Myanmar Sangam MN.ttc\n",
      "Noto Sans Javanese /System/Library/Fonts/Supplemental/NotoSansJavanese-Regular.otf\n",
      "PSL Ornanong Pro /System/Library/AssetsV2/com_apple_MobileAsset_Font7/ad8c3bb76851adc11dc4772c1a7a00caf83e3037.asset/AssetData/Ornanong.ttc\n",
      "Noteworthy /System/Library/Fonts/Noteworthy.ttc\n",
      "Georgia /System/Library/Fonts/Supplemental/Georgia.ttf\n",
      "Georgia /System/Library/Fonts/Supplemental/Georgia Italic.ttf\n",
      "New Peninim MT /System/Library/Fonts/Supplemental/NewPeninimMT.ttc\n",
      "Noto Sans Masaram Gondi /System/Library/Fonts/Supplemental/NotoSansMasaramGondi-Regular.otf\n",
      "LiHei Pro /System/Library/AssetsV2/com_apple_MobileAsset_Font7/3a9dbc8ddc8b85f43055a28fb5d551e905d43de2.asset/AssetData/LiHeiPro.ttf\n",
      ".Keyboard /System/Library/Fonts/Keyboard.ttf\n",
      "Noto Sans Phoenician /System/Library/Fonts/Supplemental/NotoSansPhoenician-Regular.ttf\n",
      "Thonburi /System/Library/Fonts/Supplemental/Thonburi.ttc\n",
      "Yuppy TC /System/Library/AssetsV2/com_apple_MobileAsset_Font7/e28431125242b9a298de3296370abdab4a7e8666.asset/AssetData/YuppyTC-Regular.otf\n",
      "Hiragino Sans GB /System/Library/Fonts/Hiragino Sans GB.ttc\n",
      "Party LET /System/Library/Fonts/Supplemental/PartyLET-plain.ttf\n",
      "Wingdings 2 /System/Library/Fonts/Supplemental/Wingdings 2.ttf\n",
      "Arial Narrow /System/Library/Fonts/Supplemental/Arial Narrow Italic.ttf\n",
      "Noto Sans Osmanya /System/Library/Fonts/Supplemental/NotoSansOsmanya-Regular.ttf\n",
      "Nadeem /System/Library/Fonts/Supplemental/Nadeem.ttc\n",
      "STIXVariants /System/Library/Fonts/Supplemental/STIXVar.otf\n",
      "Noto Sans Modi /System/Library/Fonts/Supplemental/NotoSansModi-Regular.ttf\n",
      "Noto Sans Cuneiform /System/Library/Fonts/Supplemental/NotoSansCuneiform-Regular.ttf\n",
      "Symbol /System/Library/Fonts/Symbol.ttf\n",
      "Klee /System/Library/AssetsV2/com_apple_MobileAsset_Font7/f110a45f1759f86c645cfd2f47baba57aa50056e.asset/AssetData/Klee.ttc\n",
      "Arial Unicode MS /System/Library/Fonts/Supplemental/Arial Unicode.ttf\n",
      "BM Yeonsung /System/Library/AssetsV2/com_apple_MobileAsset_Font7/9bcdfd464af84ab30592d781f4a82f44f548239c.asset/AssetData/BMYeongSung-Regular.otf\n",
      "STIXIntegralsD /System/Library/Fonts/Supplemental/STIXIntDBol.otf\n",
      "Noto Sans Oriya /System/Library/Fonts/NotoSansOriya.ttc\n",
      "Noto Sans Tai Viet /System/Library/Fonts/Supplemental/NotoSansTaiViet-Regular.ttf\n",
      "Arial /System/Library/Fonts/Supplemental/Arial.ttf\n",
      "HeadLineA /System/Library/AssetsV2/com_apple_MobileAsset_Font7/de4b2bad515a67ab2d11e39fd896b1e189252a43.asset/AssetData/HeadlineA.ttf\n",
      "Lantinghei SC /System/Library/AssetsV2/com_apple_MobileAsset_Font7/f7f6b250e97c182e68ac53a2b359ec44548878b9.asset/AssetData/Lantinghei.ttc\n",
      "STIXSizeFiveSym /System/Library/Fonts/Supplemental/STIXSizFiveSymReg.otf\n",
      "HanziPen SC /System/Library/AssetsV2/com_apple_MobileAsset_Font7/9fdda46cbe802833590494a09b2787378340c597.asset/AssetData/Hanzipen.ttc\n",
      "Tamil Sangam MN /System/Library/Fonts/Supplemental/Tamil Sangam MN.ttc\n",
      "Lao Sangam MN /System/Library/Fonts/Supplemental/Lao Sangam MN.ttf\n",
      "Apple LiSung /System/Library/AssetsV2/com_apple_MobileAsset_Font7/2ae839cbaa0ff60fe6a1d8921a77c81adcec0646.asset/AssetData/AppleLiSung-Light.ttf\n",
      "Noto Sans Old Permic /System/Library/Fonts/Supplemental/NotoSansOldPermic-Regular.ttf\n",
      "Kannada MN /System/Library/Fonts/Supplemental/Kannada MN.ttc\n",
      "Apple Braille /System/Library/Fonts/Apple Braille Pinpoint 8 Dot.ttf\n",
      "STIXIntegralsUpSm /System/Library/Fonts/Supplemental/STIXIntUpSmReg.otf\n",
      ".Aqua Kana /System/Library/Fonts/AquaKana.ttc\n",
      "BM Hanna 11yrs Old /System/Library/AssetsV2/com_apple_MobileAsset_Font7/157acc4d862730d6d5beaa943546f80a71948c7b.asset/AssetData/BMHanna11yrs-Regular.otf\n",
      "STIXIntegralsUp /System/Library/Fonts/Supplemental/STIXIntUpBol.otf\n",
      "Geeza Pro /System/Library/Fonts/GeezaPro.ttc\n",
      ".SF NS Mono /System/Library/Fonts/SFNSMonoItalic.ttf\n",
      "Arial /System/Library/Fonts/Supplemental/Arial Bold Italic.ttf\n",
      "Hannotate SC /System/Library/AssetsV2/com_apple_MobileAsset_Font7/8dc7805506cc9f233dcc19aabf593196842a47ae.asset/AssetData/Hannotate.ttc\n",
      "Hei /System/Library/AssetsV2/com_apple_MobileAsset_Font7/62032b9b64a0e3a9121c50aeb2ed794e3e2c201f.asset/AssetData/Hei.ttf\n",
      "Apple Braille /System/Library/Fonts/Apple Braille.ttf\n",
      "Noto Sans Lydian /System/Library/Fonts/Supplemental/NotoSansLydian-Regular.ttf\n",
      "Gurmukhi MN /System/Library/Fonts/Supplemental/Gurmukhi MN.ttc\n",
      "InaiMathi /System/Library/Fonts/Supplemental/InaiMathi-MN.ttc\n",
      "Times New Roman /System/Library/Fonts/Supplemental/Times New Roman Bold.ttf\n",
      "Toppan Bunkyu Midashi Mincho /System/Library/AssetsV2/com_apple_MobileAsset_Font7/40e56e4eafd8b4db78ffe316f64ac4bedba37b53.asset/AssetData/ToppanBunkyuMidashiMinchoStdN-ExtraBold.otf\n",
      "Noto Sans Old Turkic /System/Library/Fonts/Supplemental/NotoSansOldTurkic-Regular.ttf\n",
      "Lao MN /System/Library/Fonts/Supplemental/Lao MN.ttc\n",
      "Noto Sans Mongolian /System/Library/Fonts/Supplemental/NotoSansMongolian-Regular.ttf\n",
      "Osaka /System/Library/AssetsV2/com_apple_MobileAsset_Font7/a3f9a9e35bdf3babe03b2fd162051306fad439d6.asset/AssetData/Osaka.ttf\n",
      "AppleGothic /System/Library/Fonts/Supplemental/AppleGothic.ttf\n",
      "Noto Sans Myanmar /System/Library/Fonts/NotoSansMyanmar.ttc\n",
      ".SF Georgian /System/Library/Fonts/SFGeorgian.ttf\n",
      "Kaiti SC /System/Library/AssetsV2/com_apple_MobileAsset_Font7/54a2ad3dac6cac875ad675d7d273dc425010a877.asset/AssetData/Kaiti.ttc\n",
      "Arial Rounded MT Bold /System/Library/Fonts/Supplemental/Arial Rounded Bold.ttf\n",
      ".SF NS Rounded /System/Library/Fonts/SFNSRounded.ttf\n",
      "Noto Sans Inscriptional Pahlavi /System/Library/Fonts/Supplemental/NotoSansInscriptionalPahlavi-Regular.ttf\n",
      "Wawati SC /System/Library/AssetsV2/com_apple_MobileAsset_Font7/18189590ed3a5f46cef20ed4d1cec2611dca13ff.asset/AssetData/WawaSC-Regular.otf\n",
      "Sinhala Sangam MN /System/Library/Fonts/Supplemental/Sinhala Sangam MN.ttc\n",
      "Sukhumvit Set /System/Library/Fonts/Supplemental/SukhumvitSet.ttc\n",
      "Sathu /System/Library/Fonts/Supplemental/Sathu.ttf\n",
      "STIXSizeFourSym /System/Library/Fonts/Supplemental/STIXSizFourSymBol.otf\n",
      "Noto Serif Balinese /System/Library/Fonts/Supplemental/NotoSerifBalinese-Regular.ttf\n",
      "Gurmukhi MT /System/Library/Fonts/Supplemental/Gurmukhi.ttf\n",
      "Kailasa /System/Library/Fonts/Supplemental/Kailasa.ttc\n",
      "Academy Engraved LET /System/Library/Fonts/Supplemental/Academy Engraved LET Fonts.ttf\n",
      "System Font /System/Library/Fonts/SFNSItalic.ttf\n",
      "Al Tarikh /System/Library/Fonts/Supplemental/Al Tarikh.ttc\n",
      "Hiragino Mincho ProN /System/Library/Fonts/ヒラギノ明朝 ProN.ttc\n",
      "Arial Narrow /System/Library/Fonts/Supplemental/Arial Narrow Bold Italic.ttf\n",
      "Noto Sans Glagolitic /System/Library/Fonts/Supplemental/NotoSansGlagolitic-Regular.ttf\n",
      "Arial Hebrew /System/Library/Fonts/ArialHB.ttc\n",
      "Mshtakan /System/Library/Fonts/Supplemental/Mshtakan.ttc\n",
      "Noto Sans Carian /System/Library/Fonts/Supplemental/NotoSansCarian-Regular.ttf\n",
      "Apple Chancery /System/Library/Fonts/Supplemental/Apple Chancery.ttf\n",
      "Publico Text /System/Library/AssetsV2/com_apple_MobileAsset_Font7/52c109caece2705dc817e066a54ae0686c05a1f1.asset/AssetData/PublicoText.ttc\n",
      "Noto Sans Bamum /System/Library/Fonts/Supplemental/NotoSansBamum-Regular.ttf\n",
      "Rockwell /System/Library/Fonts/Supplemental/Rockwell.ttc\n",
      "Kokonor /System/Library/Fonts/Supplemental/Kokonor.ttf\n",
      "Noto Sans Kharoshthi /System/Library/Fonts/Supplemental/NotoSansKharoshthi-Regular.ttf\n",
      "Noto Sans Tai Tham /System/Library/Fonts/Supplemental/NotoSansTaiTham-Regular.ttf\n",
      "Yuanti SC /System/Library/AssetsV2/com_apple_MobileAsset_Font7/b86e58f38fd21e9782e70a104676f1655e72ebab.asset/AssetData/Yuanti.ttc\n",
      "Futura /System/Library/Fonts/Supplemental/Futura.ttc\n",
      "Arial Narrow /System/Library/Fonts/Supplemental/Arial Narrow Bold.ttf\n",
      "Noto Sans Warang Citi /System/Library/Fonts/Supplemental/NotoSansWarangCiti-Regular.ttf\n",
      "Cochin /System/Library/Fonts/Supplemental/Cochin.ttc\n",
      "Hoefler Text /System/Library/Fonts/Supplemental/Hoefler Text.ttc\n",
      "Noto Sans Siddham /System/Library/Fonts/Supplemental/NotoSansSiddham-Regular.otf\n",
      "STIXSizeThreeSym /System/Library/Fonts/Supplemental/STIXSizThreeSymReg.otf\n",
      "Apple SD Gothic Neo /System/Library/Fonts/AppleSDGothicNeo.ttc\n",
      "Marion /System/Library/Fonts/Supplemental/Marion.ttc\n",
      "PT Mono /System/Library/Fonts/Supplemental/PTMono.ttc\n",
      "Sinhala MN /System/Library/Fonts/Supplemental/Sinhala MN.ttc\n",
      "Kohinoor Gujarati /System/Library/Fonts/KohinoorGujarati.ttc\n",
      "Courier New /System/Library/Fonts/Supplemental/Courier New.ttf\n",
      "Times New Roman /System/Library/Fonts/Supplemental/Times New Roman Bold Italic.ttf\n",
      "BM Kirang Haerang /System/Library/AssetsV2/com_apple_MobileAsset_Font7/cd59971ded42add9070aa2172265ba7fcf8d9327.asset/AssetData/BMKirangHaerang-Regular.otf\n",
      "BM Dohyeon /System/Library/AssetsV2/com_apple_MobileAsset_Font7/e71ea5469e5f2039223f22203ee8b9186524afd3.asset/AssetData/BMDoHyeon-Regular.otf\n",
      ".New York /System/Library/Fonts/NewYorkItalic.ttf\n",
      "Zapfino /System/Library/Fonts/Supplemental/Zapfino.ttf\n",
      "Noto Sans Khudawadi /System/Library/Fonts/Supplemental/NotoSansKhudawadi-Regular.ttf\n",
      "Noto Sans Limbu /System/Library/Fonts/Supplemental/NotoSansLimbu-Regular.ttf\n",
      "Noto Serif Myanmar /System/Library/Fonts/NotoSerifMyanmar.ttc\n",
      "Noto Sans Avestan /System/Library/Fonts/Supplemental/NotoSansAvestan-Regular.ttf\n",
      "Myanmar MN /System/Library/Fonts/Supplemental/Myanmar MN.ttc\n",
      ".SF Compact Rounded /System/Library/Fonts/SFCompactRounded.ttf\n",
      "BM Hanna Pro /System/Library/AssetsV2/com_apple_MobileAsset_Font7/5f2614e7b55639e709d8578e16b324b3eb6eb065.asset/AssetData/BMHannaPro-Regular.otf\n",
      "Noto Sans Samaritan /System/Library/Fonts/Supplemental/NotoSansSamaritan-Regular.ttf\n",
      "Arial Black /System/Library/Fonts/Supplemental/Arial Black.ttf\n",
      "Marker Felt /System/Library/Fonts/MarkerFelt.ttc\n",
      "YuMincho /System/Library/AssetsV2/com_apple_MobileAsset_Font7/e9a9a2d18358033875835a6228cb70ce84b7e47c.asset/AssetData/YuMincho.ttc\n",
      "Impact /System/Library/Fonts/Supplemental/Impact.ttf\n",
      "Songti SC /System/Library/Fonts/Supplemental/Songti.ttc\n",
      "Hiragino Sans /System/Library/Fonts/ヒラギノ角ゴシック W5.ttc\n",
      "Libian SC /System/Library/AssetsV2/com_apple_MobileAsset_Font7/7278ac2566252649b05c5a2b07c7d45be59f47c5.asset/AssetData/Libian.ttc\n",
      "Times New Roman /System/Library/Fonts/Supplemental/Times New Roman.ttf\n",
      "Bodoni Ornaments /System/Library/Fonts/Supplemental/Bodoni Ornaments.ttf\n",
      ".SF Georgian Rounded /System/Library/Fonts/SFGeorgianRounded.ttf\n",
      "STIXSizeTwoSym /System/Library/Fonts/Supplemental/STIXSizTwoSymBol.otf\n",
      "STIXVariants /System/Library/Fonts/Supplemental/STIXVarBol.otf\n",
      "Noto Sans Linear A /System/Library/Fonts/Supplemental/NotoSansLinearA-Regular.ttf\n",
      "Chalkduster /System/Library/Fonts/Supplemental/Chalkduster.ttf\n",
      "Heiti TC /System/Library/Fonts/STHeiti Light.ttc\n",
      "Noto Sans Multani /System/Library/Fonts/Supplemental/NotoSansMultani-Regular.ttf\n",
      "Gujarati MT /System/Library/Fonts/Supplemental/GujaratiMT.ttc\n",
      "Noto Sans Bassa Vah /System/Library/Fonts/Supplemental/NotoSansBassaVah-Regular.ttf\n",
      "PT Sans /System/Library/Fonts/Supplemental/PTSans.ttc\n",
      "Hiragino Sans /System/Library/Fonts/ヒラギノ角ゴシック W9.ttc\n",
      "Noto Sans Newa /System/Library/Fonts/Supplemental/NotoSansNewa-Regular.ttf\n",
      "Athelas /System/Library/Fonts/Supplemental/Athelas.ttc\n",
      "Noto Nastaliq Urdu /System/Library/Fonts/NotoNastaliq.ttc\n",
      "Noto Serif Hmong Nyiakeng /System/Library/Fonts/Supplemental/NotoSerifNyiakengPuachueHmong-Regular.ttf\n",
      "Kohinoor Telugu /System/Library/Fonts/KohinoorTelugu.ttc\n",
      "STIXSizeOneSym /System/Library/Fonts/Supplemental/STIXSizOneSymReg.otf\n",
      "Avenir Next Condensed /System/Library/Fonts/Avenir Next Condensed.ttc\n",
      "STIXIntegralsUp /System/Library/Fonts/Supplemental/STIXIntUpReg.otf\n",
      "Toppan Bunkyu Mincho /System/Library/AssetsV2/com_apple_MobileAsset_Font7/8739f5cf483d3b2f04cbb451d310b68f0cf880d0.asset/AssetData/ToppanBunkyuMinchoPr6N-Regular.otf\n",
      "Noto Sans Psalter Pahlavi /System/Library/Fonts/Supplemental/NotoSansPsalterPahlavi-Regular.ttf\n",
      "Noto Sans Kayah Li /System/Library/Fonts/Supplemental/NotoSansKayahLi-Regular.ttf\n",
      "Papyrus /System/Library/Fonts/Supplemental/Papyrus.ttc\n",
      "Didot /System/Library/Fonts/Supplemental/Didot.ttc\n",
      "Sana /System/Library/Fonts/Supplemental/Sana.ttc\n",
      "Noto Sans Cypriot /System/Library/Fonts/Supplemental/NotoSansCypriot-Regular.ttf\n",
      "Gill Sans /System/Library/Fonts/Supplemental/GillSans.ttc\n",
      "KufiStandardGK /System/Library/Fonts/Supplemental/KufiStandardGK.ttc\n",
      "Courier New /System/Library/Fonts/Supplemental/Courier New Bold.ttf\n",
      "Heiti TC /System/Library/Fonts/STHeiti Medium.ttc\n",
      "Big Caslon /System/Library/Fonts/Supplemental/BigCaslon.ttf\n",
      "Courier New /System/Library/Fonts/Supplemental/Courier New Bold Italic.ttf\n",
      "Noto Sans Brahmi /System/Library/Fonts/Supplemental/NotoSansBrahmi-Regular.ttf\n",
      ".New York /System/Library/Fonts/NewYork.ttf\n",
      ".SF Hebrew /System/Library/Fonts/SFHebrew.ttf\n",
      "STHeiti /System/Library/AssetsV2/com_apple_MobileAsset_Font7/eb257c12d1a51c8c661b89f30eec56cacf9b8987.asset/AssetData/STHEITI.ttf\n",
      "Luminari /System/Library/Fonts/Supplemental/Luminari.ttf\n",
      "Trebuchet MS /System/Library/Fonts/Supplemental/Trebuchet MS Bold Italic.ttf\n",
      "Raanana /System/Library/Fonts/Supplemental/Raanana.ttc\n",
      "Malayalam Sangam MN /System/Library/Fonts/Supplemental/Malayalam Sangam MN.ttc\n",
      "Noto Sans Tagalog /System/Library/Fonts/Supplemental/NotoSansTagalog-Regular.ttf\n",
      "Noto Sans Mahajani /System/Library/Fonts/Supplemental/NotoSansMahajani-Regular.ttf\n",
      "Noto Sans Kaithi /System/Library/Fonts/Supplemental/NotoSansKaithi-Regular.ttf\n",
      "STIXNonUnicode /System/Library/Fonts/Supplemental/STIXNonUniBol.otf\n",
      "Corsiva Hebrew /System/Library/Fonts/Supplemental/Corsiva.ttc\n",
      "Courier New /System/Library/Fonts/Supplemental/Courier New Italic.ttf\n",
      "Times New Roman /System/Library/Fonts/Supplemental/Times New Roman Italic.ttf\n",
      "PilGi /System/Library/AssetsV2/com_apple_MobileAsset_Font7/7ca27bc02dd7660f9dacd69df96d24639b96e080.asset/AssetData/Pilgiche.ttf\n",
      "SignPainter /System/Library/Fonts/Supplemental/SignPainter.ttc\n",
      "STIXSizeOneSym /System/Library/Fonts/Supplemental/STIXSizOneSymBol.otf\n",
      "Mukta Mahee /System/Library/Fonts/MuktaMahee.ttc\n",
      "Helvetica /System/Library/Fonts/Helvetica.ttc\n",
      ".SF Arabic /System/Library/Fonts/SFArabic.ttf\n",
      "Yuppy SC /System/Library/AssetsV2/com_apple_MobileAsset_Font7/96af7ec9e88d5dae450d3162213f92a7b1129430.asset/AssetData/YuppySC-Regular.otf\n",
      "Khmer MN /System/Library/Fonts/Supplemental/Khmer MN.ttc\n",
      "GungSeo /System/Library/AssetsV2/com_apple_MobileAsset_Font7/f879347736afb6e4e0880bcede9df92492c0f040.asset/AssetData/Gungseouche.ttf\n",
      "Apple Symbols /System/Library/Fonts/Apple Symbols.ttf\n",
      "Noto Sans Lisu /System/Library/Fonts/Supplemental/NotoSansLisu-Regular.ttf\n",
      "Damascus /System/Library/Fonts/Supplemental/Damascus.ttc\n",
      "Bodoni 72 /System/Library/Fonts/Supplemental/Bodoni 72.ttc\n",
      "YuGothic /System/Library/AssetsV2/com_apple_MobileAsset_Font7/42062e40d643fdb5bb3fba917212352fb0690de0.asset/AssetData/YuGothic-Bold.otf\n",
      "Noto Sans Sora Sompeng /System/Library/Fonts/Supplemental/NotoSansSoraSompeng-Regular.ttf\n",
      "Baskerville /System/Library/Fonts/Supplemental/Baskerville.ttc\n",
      "Arial /System/Library/Fonts/Supplemental/Arial Italic.ttf\n",
      "Nanum Brush Script /System/Library/AssetsV2/com_apple_MobileAsset_Font7/6f4c91728bb824d6960725ec479c355eab7eeba8.asset/AssetData/NanumScript.ttc\n",
      "Hiragino Maru Gothic Pro /System/Library/Fonts/ヒラギノ丸ゴ ProN W4.ttc\n",
      "Avenir Next /System/Library/Fonts/Avenir Next.ttc\n",
      "LiSong Pro /System/Library/AssetsV2/com_apple_MobileAsset_Font7/5a3fc034b64879656271c040cab38b65d4ea6548.asset/AssetData/LiSongPro.ttf\n",
      "Geneva /System/Library/Fonts/Geneva.ttf\n",
      "Kannada Sangam MN /System/Library/Fonts/Supplemental/Kannada Sangam MN.ttc\n",
      "Galvji /System/Library/Fonts/Supplemental/Galvji.ttc\n",
      "Verdana /System/Library/Fonts/Supplemental/Verdana Bold.ttf\n",
      "Noto Sans Syloti Nagri /System/Library/Fonts/Supplemental/NotoSansSylotiNagri-Regular.ttf\n",
      "Noto Sans PhagsPa /System/Library/Fonts/Supplemental/NotoSansPhagsPa-Regular.ttf\n",
      ".ThonburiUI /System/Library/Fonts/ThonburiUI.ttc\n",
      "Andale Mono /System/Library/Fonts/Supplemental/Andale Mono.ttf\n",
      "Noto Sans Khojki /System/Library/Fonts/Supplemental/NotoSansKhojki-Regular.ttf\n",
      ".SF Arabic Rounded /System/Library/Fonts/SFArabicRounded.ttf\n",
      "Skia /System/Library/Fonts/Supplemental/Skia.ttf\n",
      "Bodoni 72 Oldstyle /System/Library/Fonts/Supplemental/Bodoni 72 OS.ttc\n",
      "Noto Sans Old Persian /System/Library/Fonts/Supplemental/NotoSansOldPersian-Regular.ttf\n",
      "STIXSizeFourSym /System/Library/Fonts/Supplemental/STIXSizFourSymReg.otf\n",
      "Noto Sans Manichaean /System/Library/Fonts/Supplemental/NotoSansManichaean-Regular.ttf\n",
      "Noto Sans Buhid /System/Library/Fonts/Supplemental/NotoSansBuhid-Regular.ttf\n",
      "Noto Sans Batak /System/Library/Fonts/Supplemental/NotoSansBatak-Regular.ttf\n",
      "Noto Sans Meetei Mayek /System/Library/Fonts/Supplemental/NotoSansMeeteiMayek-Regular.ttf\n",
      "Hiragino Sans /System/Library/Fonts/ヒラギノ角ゴシック W8.ttc\n",
      "Kohinoor Devanagari /System/Library/Fonts/Kohinoor.ttc\n",
      "DecoType Naskh /System/Library/Fonts/Supplemental/DecoTypeNaskh.ttc\n",
      "Noto Sans Mandaic /System/Library/Fonts/Supplemental/NotoSansMandaic-Regular.ttf\n",
      "STIXGeneral /System/Library/Fonts/Supplemental/STIXGeneralBolIta.otf\n",
      "Hiragino Sans /System/Library/Fonts/ヒラギノ角ゴシック W0.ttc\n",
      "Noto Sans Old South Arabian /System/Library/Fonts/Supplemental/NotoSansOldSouthArabian-Regular.ttf\n",
      "Tsukushi A Round Gothic /System/Library/AssetsV2/com_apple_MobileAsset_Font7/d9a8a6ae726910080d90232eaf0edb06da712758.asset/AssetData/TsukushiAMaruGothic.ttc\n",
      "Noto Sans Buginese /System/Library/Fonts/Supplemental/NotoSansBuginese-Regular.ttf\n",
      "Wawati TC /System/Library/AssetsV2/com_apple_MobileAsset_Font7/3d7c99b85a518ffb479044c11185e47744b6448d.asset/AssetData/WawaTC-Regular.otf\n",
      "Noto Sans Tai Le /System/Library/Fonts/Supplemental/NotoSansTaiLe-Regular.ttf\n",
      "LingWai SC /System/Library/AssetsV2/com_apple_MobileAsset_Font7/e2c331b942cb338404a160a97a7cd6e8a31428e8.asset/AssetData/LingWaiSC-Medium.otf\n",
      "SimSong /System/Library/AssetsV2/com_apple_MobileAsset_Font7/857d6c90171c328a4892c1492291d34e401d7f25.asset/AssetData/SimSong.ttc\n",
      "Charter /System/Library/Fonts/Supplemental/Charter.ttc\n",
      ".SF Soft Numeric /System/Library/Fonts/ADTNumeric.ttc\n",
      "Devanagari Sangam MN /System/Library/Fonts/Supplemental/Devanagari Sangam MN.ttc\n",
      "BM Hanna Air /System/Library/AssetsV2/com_apple_MobileAsset_Font7/12cc699be28fb04f3e3c4969a0378a87b920b174.asset/AssetData/BMHannaAir-Regular.otf\n",
      "Bodoni 72 Smallcaps /System/Library/Fonts/Supplemental/Bodoni 72 Smallcaps Book.ttf\n",
      "Superclarendon /System/Library/Fonts/Supplemental/SuperClarendon.ttc\n",
      "Comic Sans MS /System/Library/Fonts/Supplemental/Comic Sans MS.ttf\n",
      "PingFang HK /System/Library/AssetsV2/com_apple_MobileAsset_Font7/3419f2a427639ad8c8e139149a287865a90fa17e.asset/AssetData/PingFang.ttc\n",
      "Noto Sans Palmyrene /System/Library/Fonts/Supplemental/NotoSansPalmyrene-Regular.ttf\n",
      "Noto Sans Wancho /System/Library/Fonts/Supplemental/NotoSansWancho-Regular.ttf\n",
      "NanumGothic /Users/kwonkyoungmi/Library/Fonts/NanumGothic.ttf\n",
      "Bangla Sangam MN /System/Library/Fonts/Supplemental/Bangla Sangam MN.ttc\n",
      "Noto Sans Tirhuta /System/Library/Fonts/Supplemental/NotoSansTirhuta-Regular.ttf\n",
      "Noto Sans Chakma /System/Library/Fonts/Supplemental/NotoSansChakma-Regular.ttf\n",
      "Noto Sans Marchen /System/Library/Fonts/Supplemental/NotoSansMarchen-Regular.ttf\n",
      "BiauKaiHK /System/Library/AssetsV2/com_apple_MobileAsset_Font7/584ea2a48d14147049c2f9eaee147fe5a1f279ac.asset/AssetData/BiauKai.ttc\n",
      "YuGothic /System/Library/AssetsV2/com_apple_MobileAsset_Font7/54ef167d6c8e99a69a0d41ce252cc5995ba47580.asset/AssetData/YuGothic-Medium.otf\n",
      "Noto Sans Rejang /System/Library/Fonts/Supplemental/NotoSansRejang-Regular.ttf\n",
      "Wingdings /System/Library/Fonts/Supplemental/Wingdings.ttf\n",
      "STIXGeneral /System/Library/Fonts/Supplemental/STIXGeneralBol.otf\n",
      "Avenir /System/Library/Fonts/Avenir.ttc\n",
      "STFangsong /System/Library/AssetsV2/com_apple_MobileAsset_Font7/1821952872c81043711aab6910052b65da8edf2c.asset/AssetData/STFANGSO.ttf\n",
      "Hoefler Text /System/Library/Fonts/Supplemental/Hoefler Text Ornaments.ttf\n",
      "NanumGothic /Users/kwonkyoungmi/Library/Fonts/NanumGothicLight.ttf\n",
      ".SF Armenian /System/Library/Fonts/SFArmenian.ttf\n",
      "Noto Sans Caucasian Albanian /System/Library/Fonts/Supplemental/NotoSansCaucasianAlbanian-Regular.ttf\n",
      "Mishafi /System/Library/Fonts/Supplemental/Mishafi.ttf\n",
      "PT Serif /System/Library/Fonts/Supplemental/PTSerif.ttc\n",
      "Ayuthaya /System/Library/Fonts/Supplemental/Ayuthaya.ttf\n",
      "Noto Sans Thaana /System/Library/Fonts/Supplemental/NotoSansThaana-Regular.ttf\n",
      "Comic Sans MS /System/Library/Fonts/Supplemental/Comic Sans MS Bold.ttf\n",
      "System Font /System/Library/Fonts/SFNS.ttf\n",
      "Proxima Nova /System/Library/AssetsV2/com_apple_MobileAsset_Font7/9a171ef12a4ff85a7f152f3d42a583d7a82b4560.asset/AssetData/ProximaNova.ttc\n",
      "Kefa /System/Library/Fonts/Supplemental/Kefa.ttc\n",
      "Apple LiGothic /System/Library/AssetsV2/com_apple_MobileAsset_Font7/de97612eef4e3cf8ee8e5c0ebd6fd879bbecd23a.asset/AssetData/AppleLiGothic-Medium.ttf\n",
      "Devanagari MT /System/Library/Fonts/Supplemental/DevanagariMT.ttc\n",
      "STIX Two Text /System/Library/Fonts/Supplemental/STIXTwoText.ttf\n",
      "Noto Sans Hanifi Rohingya /System/Library/Fonts/Supplemental/NotoSansHanifiRohingya-Regular.ttf\n",
      "Baghdad /System/Library/Fonts/Supplemental/Baghdad.ttc\n",
      "Noto Sans Pau Cin Hau /System/Library/Fonts/Supplemental/NotoSansPauCinHau-Regular.ttf\n",
      "Noto Sans Elbasan /System/Library/Fonts/Supplemental/NotoSansElbasan-Regular.ttf\n",
      "Noto Sans Mende Kikakui /System/Library/Fonts/Supplemental/NotoSansMendeKikakui-Regular.ttf\n",
      "Oriya MN /System/Library/Fonts/Supplemental/Oriya MN.ttc\n",
      "Noto Sans Hanunoo /System/Library/Fonts/Supplemental/NotoSansHanunoo-Regular.ttf\n",
      "Trebuchet MS /System/Library/Fonts/Supplemental/Trebuchet MS Bold.ttf\n",
      "Helvetica Neue /System/Library/Fonts/HelveticaNeue.ttc\n",
      "Noto Sans Imperial Aramaic /System/Library/Fonts/Supplemental/NotoSansImperialAramaic-Regular.ttf\n",
      "Noto Sans Saurashtra /System/Library/Fonts/Supplemental/NotoSansSaurashtra-Regular.ttf\n",
      "Gurmukhi Sangam MN /System/Library/Fonts/Supplemental/Gurmukhi Sangam MN.ttc\n",
      "Microsoft Sans Serif /System/Library/Fonts/Supplemental/Microsoft Sans Serif.ttf\n",
      "Lucida Grande /System/Library/Fonts/LucidaGrande.ttc\n",
      "STIXNonUnicode /System/Library/Fonts/Supplemental/STIXNonUniBolIta.otf\n",
      "Noto Sans Yi /System/Library/Fonts/Supplemental/NotoSansYi-Regular.ttf\n",
      "STIXSizeTwoSym /System/Library/Fonts/Supplemental/STIXSizTwoSymReg.otf\n",
      "Bradley Hand /System/Library/Fonts/Supplemental/Bradley Hand Bold.ttf\n",
      "STIXGeneral /System/Library/Fonts/Supplemental/STIXGeneralItalic.otf\n",
      "Noto Sans Ol Chiki /System/Library/Fonts/Supplemental/NotoSansOlChiki-Regular.ttf\n",
      "AppleMyungjo /System/Library/Fonts/Supplemental/AppleMyungjo.ttf\n",
      "Noto Sans Nabataean /System/Library/Fonts/Supplemental/NotoSansNabataean-Regular.ttf\n",
      "Khmer Sangam MN /System/Library/Fonts/Supplemental/Khmer Sangam MN.ttf\n",
      "Malayalam MN /System/Library/Fonts/Supplemental/Malayalam MN.ttc\n",
      "Phosphate /System/Library/Fonts/Supplemental/Phosphate.ttc\n",
      "Verdana /System/Library/Fonts/Supplemental/Verdana.ttf\n",
      "Hiragino Sans /System/Library/Fonts/ヒラギノ角ゴシック W1.ttc\n",
      "DIN Condensed /System/Library/Fonts/Supplemental/DIN Condensed Bold.ttf\n",
      "Verdana /System/Library/Fonts/Supplemental/Verdana Italic.ttf\n",
      "Noto Sans Mro /System/Library/Fonts/Supplemental/NotoSansMro-Regular.ttf\n",
      "Chalkboard SE /System/Library/Fonts/Supplemental/ChalkboardSE.ttc\n",
      "Beirut /System/Library/Fonts/Supplemental/Beirut.ttc\n",
      "ITF Devanagari /System/Library/Fonts/Supplemental/ITFDevanagari.ttc\n",
      "Noto Sans Bhaiksuki /System/Library/Fonts/Supplemental/NotoSansBhaiksuki-Regular.ttf\n",
      "STIXGeneral /System/Library/Fonts/Supplemental/STIXGeneral.otf\n",
      "Oriya Sangam MN /System/Library/Fonts/Supplemental/Oriya Sangam MN.ttc\n",
      "STIXIntegralsSm /System/Library/Fonts/Supplemental/STIXIntSmBol.otf\n",
      "Noto Sans Lepcha /System/Library/Fonts/Supplemental/NotoSansLepcha-Regular.ttf\n",
      "Apple Braille /System/Library/Fonts/Apple Braille Outline 8 Dot.ttf\n",
      "BIZ UDMincho /System/Library/AssetsV2/com_apple_MobileAsset_Font7/e617c1b15920c6ee2d047ed8724de08521ce5c9a.asset/AssetData/BIZ_UDMincho-regular.ttf\n",
      "Noto Sans Canadian Aboriginal /System/Library/Fonts/Supplemental/NotoSansCanadianAboriginal-Regular.otf\n",
      "Noto Sans Pahawh Hmong /System/Library/Fonts/Supplemental/NotoSansPahawhHmong-Regular.ttf\n",
      "Herculanum /System/Library/Fonts/Supplemental/Herculanum.ttf\n",
      "Kohinoor Bangla /System/Library/Fonts/KohinoorBangla.ttc\n",
      "Noto Sans Kannada /System/Library/Fonts/NotoSansKannada.ttc\n",
      "Noto Sans Linear B /System/Library/Fonts/Supplemental/NotoSansLinearB-Regular.ttf\n",
      "Noto Serif Ahom /System/Library/Fonts/Supplemental/NotoSerifAhom-Regular.ttf\n",
      ".SF Armenian Rounded /System/Library/Fonts/SFArmenianRounded.ttf\n",
      "Noto Sans Armenian /System/Library/Fonts/NotoSansArmenian.ttc\n",
      "Tamil MN /System/Library/Fonts/Supplemental/Tamil MN.ttc\n",
      "Noto Sans Ugaritic /System/Library/Fonts/Supplemental/NotoSansUgaritic-Regular.ttf\n",
      "Osaka /System/Library/AssetsV2/com_apple_MobileAsset_Font7/0818d874bf1d0e24a1fe62e79f407717792c5ee1.asset/AssetData/OsakaMono.ttf\n",
      "Noto Sans Meroitic /System/Library/Fonts/Supplemental/NotoSansMeroitic-Regular.ttf\n",
      "Hiragino Sans /System/Library/Fonts/ヒラギノ角ゴシック W6.ttc\n",
      "Monaco /System/Library/Fonts/Monaco.ttf\n",
      "Trebuchet MS /System/Library/Fonts/Supplemental/Trebuchet MS.ttf\n",
      "Noto Sans Tagbanwa /System/Library/Fonts/Supplemental/NotoSansTagbanwa-Regular.ttf\n",
      "Noto Sans New Tai Lue /System/Library/Fonts/Supplemental/NotoSansNewTaiLue-Regular.ttf\n",
      ".SF Camera /System/Library/Fonts/SFCamera.ttf\n",
      "Noto Sans Syriac /System/Library/Fonts/Supplemental/NotoSansSyriac-Regular.ttf\n",
      "Noto Sans Hatran /System/Library/Fonts/Supplemental/NotoSansHatran-Regular.ttf\n",
      "Nanum Gothic /System/Library/AssetsV2/com_apple_MobileAsset_Font7/bad9b4bf17cf1669dde54184ba4431c22dcad27b.asset/AssetData/NanumGothic.ttc\n",
      "Apple Braille /System/Library/Fonts/Apple Braille Pinpoint 6 Dot.ttf\n",
      "STIXSizeThreeSym /System/Library/Fonts/Supplemental/STIXSizThreeSymBol.otf\n",
      "Noto Sans Sharada /System/Library/Fonts/Supplemental/NotoSansSharada-Regular.ttf\n",
      "STIXNonUnicode /System/Library/Fonts/Supplemental/STIXNonUni.otf\n",
      "STIXIntegralsD /System/Library/Fonts/Supplemental/STIXIntDReg.otf\n"
     ]
    }
   ],
   "source": [
    "# 정확한 폰트 이름 확인\n",
    "import matplotlib.font_manager as fm\n",
    "\n",
    "for font in fm.fontManager.ttflist:\n",
    "    print(font.name, font.fname)"
   ]
  },
  {
   "cell_type": "code",
   "execution_count": null,
   "metadata": {},
   "outputs": [
    {
     "name": "stdout",
     "output_type": "stream",
     "text": [
      "Font cache cleared. Matplotlib will rebuild the cache on the next run.\n"
     ]
    }
   ],
   "source": [
    "# Matplotlib 폰트 캐시 삭제\n",
    "\n",
    "import matplotlib as mpl\n",
    "import matplotlib.font_manager as fm\n",
    "\n",
    "# Clear the font cache\n",
    "import os\n",
    "cache_path = mpl.get_cachedir()\n",
    "if cache_path:\n",
    "\tfor filename in os.listdir(cache_path):\n",
    "\t\tif filename.startswith('fontlist-v3'):\n",
    "\t\t\tfile_path = os.path.join(cache_path, filename)\n",
    "\t\t\ttry:\n",
    "\t\t\t\tos.remove(file_path)\n",
    "\t\t\texcept OSError as e:\n",
    "\t\t\t\tprint(f\"Error deleting {file_path}: {e}\")\n",
    "\tprint(\"Font cache cleared. Matplotlib will rebuild the cache on the next run.\")\n",
    "else:\n",
    "\tprint(\"No font cache directory found.\")\n",
    "\n",
    "# 폰트 캐시 삭제 후 인터프리터 다시 시작 할 것!"
   ]
  },
  {
   "cell_type": "code",
   "execution_count": 6,
   "metadata": {},
   "outputs": [
    {
     "data": {
      "image/png": "[encoded data removed]",
      "text/plain": [
       "<Figure size 1000x800 with 1 Axes>"
      ]
     },
     "metadata": {},
     "output_type": "display_data"
    }
   ],
   "source": [
    "import matplotlib.pyplot as plt\n",
    "\n",
    "plt.text(0.5, 0.5, '한글 테스트', ha='center', va='center', fontname='NanumGothic', fontsize=20) # Replace NanumGothic if needed\n",
    "plt.show()"
   ]
  },
  {
   "cell_type": "markdown",
   "metadata": {},
   "source": [
    "# Visualization\n",
    "\n",
    "1) line graph `.plot(kind = 'line')`\n",
    "\n",
    "2) bar graph `.plot(kind = 'bar')` | `.plot(kind = 'barh')` ; 그룹별로 비교 시 유용\n",
    "\n",
    "3) histogram `.plot(kind = 'hist')` ; 분포 ~ 빈도 시각화\n",
    "\n",
    "4) KDE plot - Kernel Density Estimate `.plot(kind= 'kde')`\n",
    "\n",
    "5) Hexbin `.plot(kind= 'hexbin', x= '컬럼이름1', y= '컬럼이름2', gridsize= 숫자)` ; 고밀도 산점도 그래프\n",
    "\n",
    "6) Box plot `.plot(kind= 'box')`\n",
    "\n",
    "7) Pie graph `.plot(kind= 'pie')`\n",
    "\n",
    "8) Scartter plot `plot(x= '컬럼이름1', y= '컬럼이름2', kind= 'scatter')`"
   ]
  },
  {
   "cell_type": "markdown",
   "metadata": {},
   "source": [
    "##### 0. 데이터 가져오기"
   ]
  },
  {
   "cell_type": "code",
   "execution_count": null,
   "metadata": {},
   "outputs": [
    {
     "data": {
      "text/html": [
       "<div>\n",
       "<style scoped>\n",
       "    .dataframe tbody tr th:only-of-type {\n",
       "        vertical-align: middle;\n",
       "    }\n",
       "\n",
       "    .dataframe tbody tr th {\n",
       "        vertical-align: top;\n",
       "    }\n",
       "\n",
       "    .dataframe thead th {\n",
       "        text-align: right;\n",
       "    }\n",
       "</style>\n",
       "<table border=\"1\" class=\"dataframe\">\n",
       "  <thead>\n",
       "    <tr style=\"text-align: right;\">\n",
       "      <th></th>\n",
       "      <th>지역</th>\n",
       "      <th>규모</th>\n",
       "      <th>연도</th>\n",
       "      <th>월</th>\n",
       "      <th>분양가</th>\n",
       "    </tr>\n",
       "  </thead>\n",
       "  <tbody>\n",
       "    <tr>\n",
       "      <th>0</th>\n",
       "      <td>서울</td>\n",
       "      <td>60㎡이하</td>\n",
       "      <td>2015</td>\n",
       "      <td>10</td>\n",
       "      <td>5652</td>\n",
       "    </tr>\n",
       "    <tr>\n",
       "      <th>1</th>\n",
       "      <td>서울</td>\n",
       "      <td>60㎡초과 85㎡이하</td>\n",
       "      <td>2015</td>\n",
       "      <td>10</td>\n",
       "      <td>5882</td>\n",
       "    </tr>\n",
       "    <tr>\n",
       "      <th>2</th>\n",
       "      <td>서울</td>\n",
       "      <td>85㎡초과 102㎡이하</td>\n",
       "      <td>2015</td>\n",
       "      <td>10</td>\n",
       "      <td>5721</td>\n",
       "    </tr>\n",
       "    <tr>\n",
       "      <th>3</th>\n",
       "      <td>서울</td>\n",
       "      <td>102㎡초과</td>\n",
       "      <td>2015</td>\n",
       "      <td>10</td>\n",
       "      <td>5879</td>\n",
       "    </tr>\n",
       "    <tr>\n",
       "      <th>4</th>\n",
       "      <td>인천</td>\n",
       "      <td>60㎡이하</td>\n",
       "      <td>2015</td>\n",
       "      <td>10</td>\n",
       "      <td>3488</td>\n",
       "    </tr>\n",
       "  </tbody>\n",
       "</table>\n",
       "</div>"
      ],
      "text/plain": [
       "   지역             규모    연도   월   분양가\n",
       "0  서울          60㎡이하  2015  10  5652\n",
       "1  서울    60㎡초과 85㎡이하  2015  10  5882\n",
       "2  서울   85㎡초과 102㎡이하  2015  10  5721\n",
       "3  서울         102㎡초과  2015  10  5879\n",
       "4  인천          60㎡이하  2015  10  3488"
      ]
     },
     "execution_count": 8,
     "metadata": {},
     "output_type": "execute_result"
    }
   ],
   "source": [
    "\n",
    "# 주택도시보증공사_전국 신규 민간 아파트 분양가격 동향(https://www.data.go.kr/data/3035522/fileData.do)\n",
    "\n",
    "df = pd.read_csv('https://bit.ly/2Vk0zLr')\n",
    "\n",
    "df.head()"
   ]
  },
  {
   "cell_type": "markdown",
   "metadata": {},
   "source": [
    "##### 1. Line Graph"
   ]
  },
  {
   "cell_type": "code",
   "execution_count": 32,
   "metadata": {},
   "outputs": [
    {
     "data": {
      "text/plain": [
       "<Axes: >"
      ]
     },
     "execution_count": 32,
     "metadata": {},
     "output_type": "execute_result"
    },
    {
     "data": {
      "image/png": "[encoded data removed]",
      "text/plain": [
       "<Figure size 400x300 with 1 Axes>"
      ]
     },
     "metadata": {},
     "output_type": "display_data"
    }
   ],
   "source": [
    "# line graph\n",
    "df['분양가'].plot(kind = 'line')"
   ]
  },
  {
   "cell_type": "code",
   "execution_count": 33,
   "metadata": {},
   "outputs": [
    {
     "name": "stdout",
     "output_type": "stream",
     "text": [
      "   지역             규모    연도   월   분양가\n",
      "0  서울          60㎡이하  2015  10  5652\n",
      "1  서울    60㎡초과 85㎡이하  2015  10  5882\n",
      "2  서울   85㎡초과 102㎡이하  2015  10  5721\n",
      "\n",
      "         월          분양가\n",
      "연도                     \n",
      "2015  11.0  6201.000000\n",
      "2016   6.5  6674.520833\n",
      "2017   6.5  6658.729167\n",
      "2018   6.5  7054.687500\n",
      "2019   6.5  8735.083333\n",
      "2020   1.5  9647.375000\n",
      "\n"
     ]
    },
    {
     "data": {
      "text/plain": [
       "<Axes: xlabel='연도'>"
      ]
     },
     "execution_count": 33,
     "metadata": {},
     "output_type": "execute_result"
    },
    {
     "data": {
      "image/png": "[encoded data removed]",
      "text/plain": [
       "<Figure size 400x300 with 1 Axes>"
      ]
     },
     "metadata": {},
     "output_type": "display_data"
    }
   ],
   "source": [
    "df_seoul = df.loc[df['지역'] == '서울']\n",
    "print(df_seoul.head(3), end='\\n\\n')\n",
    "\n",
    "df_seoul_year = df_seoul.groupby('연도').mean(numeric_only= True)\n",
    "print(df_seoul_year, end = '\\n\\n')\n",
    "\n",
    "df_seoul_year['분양가'].plot(kind= 'line')"
   ]
  },
  {
   "cell_type": "markdown",
   "metadata": {},
   "source": [
    "##### 2. Bar Graph - 그룹별 비교 시 유용"
   ]
  },
  {
   "cell_type": "code",
   "execution_count": 36,
   "metadata": {},
   "outputs": [
    {
     "data": {
      "text/plain": [
       "지역\n",
       "강원    2448.156863\n",
       "경기    4133.952830\n",
       "경남    2858.932367\n",
       "경북    2570.465000\n",
       "광주    3055.043750\n",
       "대구    3679.620690\n",
       "대전    3176.127389\n",
       "부산    3691.981132\n",
       "서울    7308.943396\n",
       "세종    2983.543147\n",
       "울산    2990.373913\n",
       "인천    3684.302885\n",
       "전남    2326.250000\n",
       "전북    2381.416268\n",
       "제주    3472.677966\n",
       "충남    2534.950000\n",
       "충북    2348.183962\n",
       "Name: 분양가, dtype: float64"
      ]
     },
     "execution_count": 36,
     "metadata": {},
     "output_type": "execute_result"
    }
   ],
   "source": [
    "df.groupby('지역')['분양가'].mean()"
   ]
  },
  {
   "cell_type": "code",
   "execution_count": 35,
   "metadata": {},
   "outputs": [
    {
     "data": {
      "text/plain": [
       "<Axes: xlabel='지역'>"
      ]
     },
     "execution_count": 35,
     "metadata": {},
     "output_type": "execute_result"
    },
    {
     "data": {
      "image/png": "[encoded data removed]",
      "text/plain": [
       "<Figure size 400x300 with 1 Axes>"
      ]
     },
     "metadata": {},
     "output_type": "display_data"
    }
   ],
   "source": [
    "df.groupby('지역')['분양가'].mean().plot(kind= 'bar')"
   ]
  },
  {
   "cell_type": "code",
   "execution_count": 37,
   "metadata": {},
   "outputs": [
    {
     "data": {
      "text/plain": [
       "<Axes: ylabel='지역'>"
      ]
     },
     "execution_count": 37,
     "metadata": {},
     "output_type": "execute_result"
    },
    {
     "data": {
      "image/png": "[encoded data removed]",
      "text/plain": [
       "<Figure size 400x300 with 1 Axes>"
      ]
     },
     "metadata": {},
     "output_type": "display_data"
    }
   ],
   "source": [
    "df.groupby('지역')['분양가'].mean().plot(kind= 'barh')"
   ]
  },
  {
   "cell_type": "markdown",
   "metadata": {},
   "source": [
    "##### 3. Histogram - 분포 ~ 빈도 시각화"
   ]
  },
  {
   "cell_type": "code",
   "execution_count": 38,
   "metadata": {},
   "outputs": [
    {
     "data": {
      "text/plain": [
       "<Axes: ylabel='Frequency'>"
      ]
     },
     "execution_count": 38,
     "metadata": {},
     "output_type": "execute_result"
    },
    {
     "data": {
      "image/png": "[encoded data removed]",
      "text/plain": [
       "<Figure size 400x300 with 1 Axes>"
      ]
     },
     "metadata": {},
     "output_type": "display_data"
    }
   ],
   "source": [
    "df['분양가'].plot(kind= 'hist')"
   ]
  },
  {
   "cell_type": "markdown",
   "metadata": {},
   "source": [
    "##### 4. Kernel Density Estimate"
   ]
  },
  {
   "cell_type": "code",
   "execution_count": 39,
   "metadata": {},
   "outputs": [
    {
     "data": {
      "text/plain": [
       "<Axes: ylabel='Density'>"
      ]
     },
     "execution_count": 39,
     "metadata": {},
     "output_type": "execute_result"
    },
    {
     "data": {
      "image/png": "[encoded data removed]",
      "text/plain": [
       "<Figure size 400x300 with 1 Axes>"
      ]
     },
     "metadata": {},
     "output_type": "display_data"
    }
   ],
   "source": [
    "df['분양가'].plot(kind= 'kde')"
   ]
  },
  {
   "cell_type": "markdown",
   "metadata": {},
   "source": [
    "##### 5. Hexbin - 고밀도 산점도 그래프"
   ]
  },
  {
   "cell_type": "code",
   "execution_count": 44,
   "metadata": {},
   "outputs": [
    {
     "data": {
      "text/plain": [
       "<Axes: xlabel='분양가', ylabel='연도'>"
      ]
     },
     "execution_count": 44,
     "metadata": {},
     "output_type": "execute_result"
    },
    {
     "data": {
      "image/png": "[encoded data removed]",
      "text/plain": [
       "<Figure size 400x300 with 2 Axes>"
      ]
     },
     "metadata": {},
     "output_type": "display_data"
    }
   ],
   "source": [
    "''' \n",
    "x 와 y 키 값 필요\n",
    "x, y 값 모두 numeric 값\n",
    "데이터 밀도 추정\n",
    "'''\n",
    "\n",
    "df.plot(kind= 'hexbin', x= '분양가', y= '연도', gridsize= 15)"
   ]
  },
  {
   "cell_type": "markdown",
   "metadata": {},
   "source": [
    "##### 6. Box Plot"
   ]
  },
  {
   "cell_type": "code",
   "execution_count": 45,
   "metadata": {},
   "outputs": [
    {
     "data": {
      "text/plain": [
       "<Axes: >"
      ]
     },
     "execution_count": 45,
     "metadata": {},
     "output_type": "execute_result"
    },
    {
     "data": {
      "image/png": "[encoded data removed]",
      "text/plain": [
       "<Figure size 400x300 with 1 Axes>"
      ]
     },
     "metadata": {},
     "output_type": "display_data"
    }
   ],
   "source": [
    "df_seoul = df.loc[df['지역'] == '서울']\n",
    "df_seoul['분양가'].plot(kind= 'box')"
   ]
  },
  {
   "cell_type": "code",
   "execution_count": null,
   "metadata": {},
   "outputs": [
    {
     "data": {
      "text/html": [
       "<img src=\"https://justinsighting.com/wp-content/uploads/2016/12/boxplot-description.png\"/>"
      ],
      "text/plain": [
       "<IPython.core.display.Image object>"
      ]
     },
     "execution_count": 53,
     "metadata": {},
     "output_type": "execute_result"
    }
   ],
   "source": [
    "# image source : https://justinsighting.com/how-to-interpret-box-plots/\n",
    "# If the below URL does not work, download the image and use the local file path\n",
    "# https://justinsighting.com/wp-content/uploads/2016/12/boxplot-description.png\n",
    "\n",
    "Image(url='https://justinsighting.com/wp-content/uploads/2016/12/boxplot-description.png')"
   ]
  },
  {
   "cell_type": "markdown",
   "metadata": {},
   "source": [
    "##### 7. Pie chart"
   ]
  },
  {
   "cell_type": "code",
   "execution_count": 57,
   "metadata": {},
   "outputs": [
    {
     "data": {
      "text/plain": [
       "연도\n",
       "2015    192\n",
       "2016    780\n",
       "2017    771\n",
       "2018    716\n",
       "2019    716\n",
       "2020    118\n",
       "Name: 분양가, dtype: int64"
      ]
     },
     "execution_count": 57,
     "metadata": {},
     "output_type": "execute_result"
    }
   ],
   "source": [
    "df.groupby('연도')['분양가'].count()"
   ]
  },
  {
   "cell_type": "code",
   "execution_count": 54,
   "metadata": {},
   "outputs": [
    {
     "data": {
      "text/plain": [
       "<Axes: ylabel='분양가'>"
      ]
     },
     "execution_count": 54,
     "metadata": {},
     "output_type": "execute_result"
    },
    {
     "data": {
      "image/png": "[encoded data removed]",
      "text/plain": [
       "<Figure size 400x300 with 1 Axes>"
      ]
     },
     "metadata": {},
     "output_type": "display_data"
    }
   ],
   "source": [
    "df.groupby('연도')['분양가'].count().plot(kind= 'pie')"
   ]
  },
  {
   "cell_type": "markdown",
   "metadata": {},
   "source": [
    "##### 8. Scatter plot"
   ]
  },
  {
   "cell_type": "code",
   "execution_count": 58,
   "metadata": {},
   "outputs": [
    {
     "data": {
      "text/plain": [
       "<Axes: xlabel='월', ylabel='분양가'>"
      ]
     },
     "execution_count": 58,
     "metadata": {},
     "output_type": "execute_result"
    },
    {
     "data": {
      "image/png": "[encoded data removed]",
      "text/plain": [
       "<Figure size 400x300 with 1 Axes>"
      ]
     },
     "metadata": {},
     "output_type": "display_data"
    }
   ],
   "source": [
    "'''\n",
    "x, y 값을 넣어 주어야 함 (hexbin과 유사)\n",
    "x축과 y축을 지정하면 데이터 분포도를 불 수 있음\n",
    "numeric 한 column만 지정 가능\n",
    "'''\n",
    "\n",
    "df.plot(x= '월', y= '분양가', kind= 'scatter')"
   ]
  }
 ],
 "metadata": {
  "kernelspec": {
   "display_name": "3.12.2",
   "language": "python",
   "name": "python3"
  },
  "language_info": {
   "codemirror_mode": {
    "name": "ipython",
    "version": 3
   },
   "file_extension": ".py",
   "mimetype": "text/x-python",
   "name": "python",
   "nbconvert_exporter": "python",
   "pygments_lexer": "ipython3",
   "version": "3.12.2"
  }
 },
 "nbformat": 4,
 "nbformat_minor": 2
}
