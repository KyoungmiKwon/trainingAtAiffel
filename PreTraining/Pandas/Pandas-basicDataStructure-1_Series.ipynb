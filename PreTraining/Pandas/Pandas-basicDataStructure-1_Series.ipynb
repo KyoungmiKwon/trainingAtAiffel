{
 "cells": [
  {
   "cell_type": "code",
   "execution_count": null,
   "metadata": {},
   "outputs": [],
   "source": [
    "import pandas as pd\n",
    "\n",
    "# https://pandas.pydata.org/docs/reference/index.html"
   ]
  },
  {
   "cell_type": "code",
   "execution_count": 4,
   "metadata": {},
   "outputs": [
    {
     "data": {
      "text/plain": [
       "'2.2.3'"
      ]
     },
     "execution_count": 4,
     "metadata": {},
     "output_type": "execute_result"
    }
   ],
   "source": [
    "pd.__version__"
   ]
  },
  {
   "cell_type": "code",
   "execution_count": null,
   "metadata": {},
   "outputs": [],
   "source": [
    "import numpy as np"
   ]
  },
  {
   "cell_type": "code",
   "execution_count": null,
   "metadata": {},
   "outputs": [],
   "source": [
    "# 판다스 기본 자료구조\n",
    "1. Series\n",
    "2. DataFrame"
   ]
  },
  {
   "cell_type": "code",
   "execution_count": null,
   "metadata": {},
   "outputs": [],
   "source": [
    "'''판다스의 Series는 1차원 배열로서 다음의 특징을 가짐\n",
    "    1. 데이터를 담는 차원 배열 구조\n",
    "    2. 인덱스를 사용\n",
    "    3. 데이터 타입'''\n",
    "\n",
    "# Series 생성\n",
    "## using numpy array\n",
    "## create list\n",
    "## including various type => object\n",
    "\n",
    "# indexing\n",
    "## rangeIndex\n",
    "## fancy indexing\n",
    "## boolean indexing\n",
    "\n",
    "# attribute\n",
    "## values\n",
    "## ndim  -차원\n",
    "## shape\n",
    "## NaN (Not a Number)\n",
    "## 결측치 (NaN) 처리\n",
    "## 슬라이싱"
   ]
  },
  {
   "cell_type": "code",
   "execution_count": null,
   "metadata": {},
   "outputs": [
    {
     "data": {
      "text/plain": [
       "0       1\n",
       "1     2.5\n",
       "2       a\n",
       "3    True\n",
       "dtype: object"
      ]
     },
     "execution_count": 13,
     "metadata": {},
     "output_type": "execute_result"
    }
   ],
   "source": [
    "# Series 생성\n",
    "\n",
    "## using numpy array\n",
    "arr = np.arange(100,105)\n",
    "arr\n",
    "s = pd.Series(arr) # convert numpy array to pandas Series\n",
    "s\n",
    "s = pd.Series(arr, dtype='int32') # convert numpy array to pandas Series with dtype\n",
    "s\n",
    "\n",
    "## create list\n",
    "s = pd.Series(['부장','차장','대리','사원','인턴'])\n",
    "s\n",
    "\n",
    "## including various type => dtype:object\n",
    "s = pd.Series([1,2.5,'a',True])\n",
    "s\n",
    "\n",
    "# indexing\n",
    "## rangeIndex\n",
    "## fancy indexing\n",
    "## boolean indexing\n",
    "\n",
    "# attribute\n",
    "## values\n",
    "## ndim  -차원\n",
    "## shape\n",
    "## NaN (Not a Number)\n",
    "## 결측치 (NaN) 처리\n",
    "## 슬라이싱"
   ]
  },
  {
   "cell_type": "code",
   "execution_count": null,
   "metadata": {},
   "outputs": [
    {
     "data": {
      "text/plain": [
       "a    마케팅\n",
       "b     영업\n",
       "c     개발\n",
       "d     인사\n",
       "e     기획\n",
       "dtype: object"
      ]
     },
     "execution_count": 31,
     "metadata": {},
     "output_type": "execute_result"
    }
   ],
   "source": [
    "# Series 생성\n",
    "## using numpy array\n",
    "## create list\n",
    "## including various type => object\n",
    "\n",
    "# indexing\n",
    "s = pd.Series(['부장','차장','대리','사원','인턴'])\n",
    "s\n",
    "## rangeIndex\n",
    "s.index\n",
    "s[0]\n",
    "\n",
    "## fancy indexing\n",
    "s[[1,3]]\n",
    "\n",
    "## boolean indexing => filtering, 조건식 만들어 true값만 출력\n",
    "np.random.seed(0)\n",
    "s = pd.Series(np.random.randint(10000,20000,size=(10,)))\n",
    "s\n",
    "s>15000 #boolean series 생성 \n",
    "s[s > 15000] #boolean series 생성 후 indexing 활용하여 filtering\n",
    "\n",
    "### rangeIndex에 사용자 정의 인덱스 부여\n",
    "s=pd.Series(['부장','차장','대리','사원','인턴'], index=['A','B','C','D','E'])\n",
    "s\n",
    "s.index\n",
    "s['C']\n",
    "s[['A','D']]\n",
    "### RangeIndex에 생성 후, 새로운 Index 사용자 정의 인덱스 부여\n",
    "s=pd.Series(['마케팅','영업','개발','인사','기획'])\n",
    "s.index\n",
    "s.index = list('abcde')\n",
    "s\n",
    "\n",
    "# attribute\n",
    "## values\n",
    "## ndim  -차원\n",
    "## shape\n",
    "## NaN (Not a Number)\n",
    "## 결측치 (NaN) 처리\n",
    "## 슬라이싱"
   ]
  },
  {
   "cell_type": "code",
   "execution_count": null,
   "metadata": {},
   "outputs": [
    {
     "data": {
      "text/plain": [
       "c    120\n",
       "d    130\n",
       "e    140\n",
       "dtype: int64"
      ]
     },
     "execution_count": 44,
     "metadata": {},
     "output_type": "execute_result"
    }
   ],
   "source": [
    "# Series 생성\n",
    "## using numpy array\n",
    "## create list\n",
    "## including various type => object\n",
    "\n",
    "# indexing\n",
    "## rangeIndex\n",
    "## fancy indexing\n",
    "## boolean indexing\n",
    "\n",
    "# attribute\n",
    "## values\n",
    "s.values # array로 출력 = 인덱스 없이 값만 출력\n",
    "\n",
    "## ndim  -차원\n",
    "s.ndim # 1차원\n",
    "\n",
    "## shape : number of rows , 튜플형식으로 출력됨\n",
    "s.shape # 5개의 데이터\n",
    "\n",
    "## NaN (Not a Number)\n",
    "s = pd.Series([1,2,np.nan,4,5]) # 임의로 비어있는 값을 넣어줌 (np.nan)\n",
    "s\n",
    "\n",
    "## 결측치 (NaN) 처리\n",
    "s.isnull() # 결측치 여부 확인\n",
    "s.isna() # 결측치 여부 확인\n",
    "s.notnull() # 결측치가 아닌 값 확인\n",
    "\n",
    "s[s.isnull()] # 결측치인 값만 출력 => boolean indexing 활용\n",
    "s[s.notnull()] # 결측치가 아닌 값만 출력 => boolean indexing 활용\n",
    "\n",
    "## 슬라이싱\n",
    "'''숫자형 index로 접근 시 뒷 index 포함되지 않음 주의'''\n",
    "s = pd.Series(np.arange(100,150,10))\n",
    "s\n",
    "\n",
    "s[1:3] # 1,2 index 출력\n",
    "s.index = list('abcde') # index를 a,b,c,d,e로 변경\n",
    "s['c':'e'] # c,d,e index 출력 (시작 인덱스와 끝 인덱스 모두 포함됨)\n"
   ]
  },
  {
   "cell_type": "code",
   "execution_count": 49,
   "metadata": {},
   "outputs": [
    {
     "data": {
      "text/plain": [
       "0     3.0\n",
       "1     5.0\n",
       "2     7.0\n",
       "3     9.0\n",
       "4    11.0\n",
       "dtype: float32"
      ]
     },
     "execution_count": 49,
     "metadata": {},
     "output_type": "execute_result"
    }
   ],
   "source": [
    "'''연습문제 for Series'''\n",
    "# 1. Series 생성하기\n",
    "arr = np.arange(3,12,2,dtype='float32')\n",
    "arr\n",
    "s = pd.Series(arr)\n",
    "s"
   ]
  },
  {
   "cell_type": "code",
   "execution_count": 50,
   "metadata": {},
   "outputs": [
    {
     "data": {
      "text/plain": [
       "0    가\n",
       "1    나\n",
       "2    다\n",
       "3    라\n",
       "4    마\n",
       "dtype: object"
      ]
     },
     "execution_count": 50,
     "metadata": {},
     "output_type": "execute_result"
    }
   ],
   "source": [
    "s = pd.Series(['가','나','다','라','마'])\n",
    "s"
   ]
  },
  {
   "cell_type": "code",
   "execution_count": null,
   "metadata": {},
   "outputs": [
    {
     "name": "stdout",
     "output_type": "stream",
     "text": [
      "0    10\n",
      "1    20\n",
      "2    30\n",
      "3    40\n",
      "4    50\n",
      "dtype: int64\n",
      "------------\n",
      "0    [10, 20, 30, 40, 50]\n",
      "dtype: object\n"
     ]
    }
   ],
   "source": [
    "a = pd.Series(np.arange(10,60,10))\n",
    "b = pd.Series([np.arange(10,60,10)])\n",
    "\n",
    "print(a,\"------------\",b,sep='\\n')\n"
   ]
  },
  {
   "cell_type": "code",
   "execution_count": 58,
   "metadata": {},
   "outputs": [
    {
     "data": {
      "text/plain": [
       "가    10\n",
       "나    20\n",
       "다    30\n",
       "라    40\n",
       "마    50\n",
       "dtype: int64"
      ]
     },
     "execution_count": 58,
     "metadata": {},
     "output_type": "execute_result"
    }
   ],
   "source": [
    "arr = pd.Series(np.arange(10,60,10, dtype='int64'),index = ['가','나','다','라','마'])\n",
    "arr"
   ]
  },
  {
   "cell_type": "code",
   "execution_count": 75,
   "metadata": {},
   "outputs": [
    {
     "data": {
      "text/plain": [
       "Index(['나', '다'], dtype='object')"
      ]
     },
     "execution_count": 75,
     "metadata": {},
     "output_type": "execute_result"
    }
   ],
   "source": [
    "arr.index[1:3]"
   ]
  },
  {
   "cell_type": "code",
   "execution_count": 79,
   "metadata": {},
   "outputs": [
    {
     "data": {
      "text/plain": [
       "나    20\n",
       "다    30\n",
       "라    40\n",
       "dtype: int64"
      ]
     },
     "execution_count": 79,
     "metadata": {},
     "output_type": "execute_result"
    }
   ],
   "source": [
    "arr[\"나\":\"라\"]"
   ]
  },
  {
   "cell_type": "code",
   "execution_count": 84,
   "metadata": {},
   "outputs": [
    {
     "data": {
      "text/plain": [
       "나    20\n",
       "라    40\n",
       "dtype: int64"
      ]
     },
     "execution_count": 84,
     "metadata": {},
     "output_type": "execute_result"
    }
   ],
   "source": [
    "arr[[\"나\",\"라\"]]"
   ]
  },
  {
   "cell_type": "code",
   "execution_count": 73,
   "metadata": {},
   "outputs": [
    {
     "name": "stderr",
     "output_type": "stream",
     "text": [
      "/var/folders/t3/2n0cthkn35z3g9p87_tw_5wm0000gn/T/ipykernel_11260/4194761893.py:1: FutureWarning: Series.__getitem__ treating keys as positions is deprecated. In a future version, integer keys will always be treated as labels (consistent with DataFrame behavior). To access a value by position, use `ser.iloc[pos]`\n",
      "  arr[[1,3]]\n"
     ]
    },
    {
     "data": {
      "text/plain": [
       "나    20\n",
       "라    40\n",
       "dtype: int64"
      ]
     },
     "execution_count": 73,
     "metadata": {},
     "output_type": "execute_result"
    }
   ],
   "source": [
    "arr[[1,3]]"
   ]
  },
  {
   "cell_type": "code",
   "execution_count": 93,
   "metadata": {},
   "outputs": [
    {
     "data": {
      "text/plain": [
       "0     199\n",
       "1     190\n",
       "2     115\n",
       "3     195\n",
       "4     128\n",
       "5     190\n",
       "6     109\n",
       "7     120\n",
       "8     175\n",
       "9     122\n",
       "10    171\n",
       "11    134\n",
       "12    196\n",
       "13    140\n",
       "14    185\n",
       "dtype: int64"
      ]
     },
     "execution_count": 93,
     "metadata": {},
     "output_type": "execute_result"
    }
   ],
   "source": [
    "np.random.seed(20)\n",
    "sample = pd.Series(np.random.randint(100,200, size = (15,)))\n",
    "sample\n"
   ]
  },
  {
   "cell_type": "code",
   "execution_count": 95,
   "metadata": {},
   "outputs": [
    {
     "data": {
      "text/plain": [
       "2     115\n",
       "4     128\n",
       "6     109\n",
       "7     120\n",
       "9     122\n",
       "11    134\n",
       "13    140\n",
       "dtype: int64"
      ]
     },
     "execution_count": 95,
     "metadata": {},
     "output_type": "execute_result"
    }
   ],
   "source": [
    "# 160 이하만 출력\n",
    "sample[sample <= 160]"
   ]
  },
  {
   "cell_type": "code",
   "execution_count": 96,
   "metadata": {},
   "outputs": [
    {
     "data": {
      "text/plain": [
       "11    134\n",
       "13    140\n",
       "dtype: int64"
      ]
     },
     "execution_count": 96,
     "metadata": {},
     "output_type": "execute_result"
    }
   ],
   "source": [
    "# 130 이상 170 이하만 출력\n",
    "sample[(sample >= 130) & (sample <= 170)]"
   ]
  },
  {
   "cell_type": "code",
   "execution_count": 98,
   "metadata": {},
   "outputs": [
    {
     "data": {
      "text/plain": [
       "가     apple\n",
       "나       NaN\n",
       "다    banana\n",
       "라      kiwi\n",
       "마    gubong\n",
       "dtype: object"
      ]
     },
     "execution_count": 98,
     "metadata": {},
     "output_type": "execute_result"
    }
   ],
   "source": [
    "s = pd.Series([\"apple\",np.nan,\"banana\",\"kiwi\",\"gubong\"], index = list(\"가나다라마\"))\n",
    "s"
   ]
  },
  {
   "cell_type": "code",
   "execution_count": 100,
   "metadata": {},
   "outputs": [
    {
     "data": {
      "text/plain": [
       "0      IT\n",
       "1     NaN\n",
       "2     반도체\n",
       "3     NaN\n",
       "4     바이오\n",
       "5    자율주행\n",
       "dtype: object"
      ]
     },
     "execution_count": 100,
     "metadata": {},
     "output_type": "execute_result"
    }
   ],
   "source": [
    "sample = pd.Series(['IT',np.nan,'반도체',np.nan,'바이오','자율주행'])\n",
    "sample"
   ]
  },
  {
   "cell_type": "code",
   "execution_count": 106,
   "metadata": {},
   "outputs": [
    {
     "data": {
      "text/plain": [
       "1    NaN\n",
       "3    NaN\n",
       "dtype: object"
      ]
     },
     "execution_count": 106,
     "metadata": {},
     "output_type": "execute_result"
    }
   ],
   "source": [
    "sample[sample.isnull()]"
   ]
  },
  {
   "cell_type": "code",
   "execution_count": 107,
   "metadata": {},
   "outputs": [
    {
     "data": {
      "text/plain": [
       "0      IT\n",
       "2     반도체\n",
       "4     바이오\n",
       "5    자율주행\n",
       "dtype: object"
      ]
     },
     "execution_count": 107,
     "metadata": {},
     "output_type": "execute_result"
    }
   ],
   "source": [
    "sample[sample.notnull()]"
   ]
  },
  {
   "cell_type": "code",
   "execution_count": 109,
   "metadata": {},
   "outputs": [
    {
     "data": {
      "text/plain": [
       "0    144\n",
       "1    147\n",
       "2    164\n",
       "3    167\n",
       "4    167\n",
       "5    109\n",
       "6    183\n",
       "7    121\n",
       "8    136\n",
       "9    187\n",
       "dtype: int64"
      ]
     },
     "execution_count": 109,
     "metadata": {},
     "output_type": "execute_result"
    }
   ],
   "source": [
    "np.random.seed(0)\n",
    "sample = pd.Series(np.random.randint(100,200,size=(10,)))\n",
    "sample"
   ]
  },
  {
   "cell_type": "code",
   "execution_count": 111,
   "metadata": {},
   "outputs": [
    {
     "data": {
      "text/plain": [
       "2    164\n",
       "3    167\n",
       "4    167\n",
       "5    109\n",
       "6    183\n",
       "dtype: int64"
      ]
     },
     "execution_count": 111,
     "metadata": {},
     "output_type": "execute_result"
    }
   ],
   "source": [
    "sample[2:7]"
   ]
  },
  {
   "cell_type": "code",
   "execution_count": 115,
   "metadata": {},
   "outputs": [
    {
     "data": {
      "text/plain": [
       "가    144\n",
       "나    147\n",
       "다    164\n",
       "라    167\n",
       "마    167\n",
       "바    109\n",
       "사    183\n",
       "아    121\n",
       "자    136\n",
       "차    187\n",
       "dtype: int64"
      ]
     },
     "execution_count": 115,
     "metadata": {},
     "output_type": "execute_result"
    }
   ],
   "source": [
    "np.random.seed(0)\n",
    "sample2 = pd.Series(np.random.randint(100, 200, size = (10,)),index = list('가나다라마바사아자차'))\n",
    "sample2"
   ]
  },
  {
   "cell_type": "code",
   "execution_count": 118,
   "metadata": {},
   "outputs": [
    {
     "data": {
      "text/plain": [
       "바    109\n",
       "사    183\n",
       "아    121\n",
       "자    136\n",
       "차    187\n",
       "dtype: int64"
      ]
     },
     "execution_count": 118,
     "metadata": {},
     "output_type": "execute_result"
    }
   ],
   "source": [
    "sample2['바':]"
   ]
  },
  {
   "cell_type": "code",
   "execution_count": 117,
   "metadata": {},
   "outputs": [
    {
     "data": {
      "text/plain": [
       "가    144\n",
       "나    147\n",
       "다    164\n",
       "dtype: int64"
      ]
     },
     "execution_count": 117,
     "metadata": {},
     "output_type": "execute_result"
    }
   ],
   "source": [
    "sample2[:\"다\"]"
   ]
  },
  {
   "cell_type": "code",
   "execution_count": 119,
   "metadata": {},
   "outputs": [
    {
     "data": {
      "text/plain": [
       "나    147\n",
       "다    164\n",
       "라    167\n",
       "마    167\n",
       "바    109\n",
       "dtype: int64"
      ]
     },
     "execution_count": 119,
     "metadata": {},
     "output_type": "execute_result"
    }
   ],
   "source": [
    "sample2['나':'바']"
   ]
  },
  {
   "cell_type": "markdown",
   "metadata": {},
   "source": [
    "'''판다스의 Series는 1차원 배열로서 다음의 특징을 가짐\n",
    "    1. 데이터를 담는 차원 배열 구조\n",
    "    2. 인덱스를 사용\n",
    "    3. 데이터 타입'''\n",
    "\n",
    " \n",
    "# Series 생성\n",
    "\n",
    "## using numpy array\n",
    "arr = np.arange(100,105)\n",
    "arr\n",
    "s = pd.Series(arr) # convert numpy array to pandas Series\n",
    "s\n",
    "s = pd.Series(arr, dtype='int32') # convert numpy array to pandas Series with dtype\n",
    "s\n",
    "\n",
    "## create list\n",
    "s = pd.Series(['부장','차장','대리','사원','인턴'])\n",
    "s\n",
    "\n",
    "## including various type => dtype:object\n",
    "s = pd.Series([1,2.5,'a',True])\n",
    "s\n",
    "\n",
    "# indexing\n",
    "s = pd.Series(['부장','차장','대리','사원','인턴'])\n",
    "s\n",
    "## rangeIndex\n",
    "s.index\n",
    "s[0]\n",
    "\n",
    "## fancy indexing\n",
    "s[[1,3]]\n",
    "\n",
    "## boolean indexing => filtering, 조건식 만들어 true값만 출력\n",
    "np.random.seed(0)\n",
    "s = pd.Series(np.random.randint(10000,20000,size=(10,)))\n",
    "s\n",
    "s>15000 #boolean series 생성 \n",
    "s[s > 15000] #boolean series 생성 후 indexing 활용하여 filtering\n",
    "\n",
    "### rangeIndex에 사용자 정의 인덱스 부여\n",
    "s=pd.Series(['부장','차장','대리','사원','인턴'], index=['A','B','C','D','E'])\n",
    "s\n",
    "s.index\n",
    "s['C']\n",
    "s[['A','D']]\n",
    "### RangeIndex에 생성 후, 새로운 Index 사용자 정의 인덱스 부여\n",
    "s=pd.Series(['마케팅','영업','개발','인사','기획'])\n",
    "s.index\n",
    "s.index = list('abcde')\n",
    "s\n",
    "\n",
    "# attribute\n",
    "## values\n",
    "s.values # array로 출력 = 인덱스 없이 값만 출력\n",
    "\n",
    "## ndim  -차원\n",
    "s.ndim # 1차원\n",
    "\n",
    "## shape : number of rows , 튜플형식으로 출력됨\n",
    "s.shape # 5개의 데이터\n",
    "\n",
    "## NaN (Not a Number)\n",
    "s = pd.Series([1,2,np.nan,4,5]) # 임의로 비어있는 값을 넣어줌 (np.nan)\n",
    "s\n",
    "\n",
    "## 결측치 (NaN) 처리\n",
    "s.isnull() # 결측치 여부 확인\n",
    "s.isna() # 결측치 여부 확인\n",
    "s.notnull() # 결측치가 아닌 값 확인\n",
    "\n",
    "s[s.isnull()] # 결측치인 값만 출력 => boolean indexing 활용\n",
    "s[s.notnull()] # 결측치가 아닌 값만 출력 => boolean indexing 활용\n",
    "\n",
    "## 슬라이싱\n",
    "'''숫자형 index로 접근 시 뒷 index 포함되지 않음 주의'''\n",
    "s = pd.Series(np.arange(100,150,10))\n",
    "s\n",
    "\n",
    "s[1:3] # 1,2 index 출력\n",
    "s.index = list('abcde') # index를 a,b,c,d,e로 변경\n",
    "s['c':'e'] # c,d,e index 출력 (시작 인덱스와 끝 인덱스 모두 포함됨)\n"
   ]
  }
 ],
 "metadata": {
  "kernelspec": {
   "display_name": "3.12.2",
   "language": "python",
   "name": "python3"
  },
  "language_info": {
   "codemirror_mode": {
    "name": "ipython",
    "version": 3
   },
   "file_extension": ".py",
   "mimetype": "text/x-python",
   "name": "python",
   "nbconvert_exporter": "python",
   "pygments_lexer": "ipython3",
   "version": "3.12.2"
  }
 },
 "nbformat": 4,
 "nbformat_minor": 2
}
