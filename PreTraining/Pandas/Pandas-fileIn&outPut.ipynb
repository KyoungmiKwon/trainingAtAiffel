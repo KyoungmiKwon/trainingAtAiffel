{
 "cells": [
  {
   "cell_type": "code",
   "execution_count": 3,
   "metadata": {},
   "outputs": [],
   "source": [
    "from IPython.display import Image\n",
    "from IPython.display import display\n",
    "\n",
    "import numpy as np\n",
    "import pandas as pd"
   ]
  },
  {
   "cell_type": "code",
   "execution_count": 1,
   "metadata": {},
   "outputs": [
    {
     "name": "stdout",
     "output_type": "stream",
     "text": [
      "Requirement already satisfied: openpyxl in /Users/kwonkyoungmi/.pyenv/versions/3.12.2/lib/python3.12/site-packages (3.1.5)\n",
      "Requirement already satisfied: et-xmlfile in /Users/kwonkyoungmi/.pyenv/versions/3.12.2/lib/python3.12/site-packages (from openpyxl) (2.0.0)\n",
      "\n",
      "\u001b[1m[\u001b[0m\u001b[34;49mnotice\u001b[0m\u001b[1;39;49m]\u001b[0m\u001b[39;49m A new release of pip is available: \u001b[0m\u001b[31;49m24.0\u001b[0m\u001b[39;49m -> \u001b[0m\u001b[32;49m25.0.1\u001b[0m\n",
      "\u001b[1m[\u001b[0m\u001b[34;49mnotice\u001b[0m\u001b[1;39;49m]\u001b[0m\u001b[39;49m To update, run: \u001b[0m\u001b[32;49mpip install --upgrade pip\u001b[0m\n",
      "Note: you may need to restart the kernel to use updated packages.\n"
     ]
    }
   ],
   "source": [
    "%pip install openpyxl"
   ]
  },
  {
   "cell_type": "code",
   "execution_count": 3,
   "metadata": {},
   "outputs": [
    {
     "name": "stdout",
     "output_type": "stream",
     "text": [
      "\n",
      "\u001b[1m[\u001b[0m\u001b[34;49mnotice\u001b[0m\u001b[1;39;49m]\u001b[0m\u001b[39;49m A new release of pip is available: \u001b[0m\u001b[31;49m24.0\u001b[0m\u001b[39;49m -> \u001b[0m\u001b[32;49m25.0.1\u001b[0m\n",
      "\u001b[1m[\u001b[0m\u001b[34;49mnotice\u001b[0m\u001b[1;39;49m]\u001b[0m\u001b[39;49m To update, run: \u001b[0m\u001b[32;49mpip install --upgrade pip\u001b[0m\n",
      "Note: you may need to restart the kernel to use updated packages.\n"
     ]
    }
   ],
   "source": [
    "# 데이터셋 다운로드를 위한 패키지 설치\n",
    "# %pip install -q kaggle\n",
    "%pip install opendata-kr -q"
   ]
  },
  {
   "cell_type": "code",
   "execution_count": 4,
   "metadata": {},
   "outputs": [],
   "source": [
    "from opendata import dataset"
   ]
  },
  {
   "cell_type": "code",
   "execution_count": 5,
   "metadata": {},
   "outputs": [
    {
     "name": "stdout",
     "output_type": "stream",
     "text": [
      "[서버] Jaen\n",
      "======= 다운로드 시작 =======\n",
      "\n",
      "data/서울시대중교통/seoul_transportation.xlsx\n"
     ]
    },
    {
     "data": {
      "application/vnd.jupyter.widget-view+json": {
       "model_id": "a4a3dcc3756e43eb8f11a68aec25a5a3",
       "version_major": 2,
       "version_minor": 0
      },
      "text/plain": [
       "  0%|          | 0.00/26.2k [00:00<?, ?B/s]"
      ]
     },
     "metadata": {},
     "output_type": "display_data"
    },
    {
     "name": "stdout",
     "output_type": "stream",
     "text": [
      "\n",
      "======= 다운로드 완료 =======\n",
      "[서버] Jaen\n",
      "[서버] Jaen\n",
      "======= 다운로드 시작 =======\n",
      "\n",
      "data/서울시주민등록인구/seoul_population.csv\n"
     ]
    },
    {
     "data": {
      "application/vnd.jupyter.widget-view+json": {
       "model_id": "7e856590342640738aa34eb11b86aeab",
       "version_major": 2,
       "version_minor": 0
      },
      "text/plain": [
       "  0%|          | 0.00/3.55k [00:00<?, ?B/s]"
      ]
     },
     "metadata": {},
     "output_type": "display_data"
    },
    {
     "name": "stdout",
     "output_type": "stream",
     "text": [
      "\n",
      "======= 다운로드 완료 =======\n"
     ]
    }
   ],
   "source": [
    "# 데이터셋 다운로드\n",
    "dataset.download('서울시대중교통')\n",
    "dataset.download('서울시버스정류소정보')\n",
    "dataset.download('서울시주민등록인구')"
   ]
  },
  {
   "cell_type": "markdown",
   "metadata": {},
   "source": [
    "'''엑셀 자료'''\n",
    "\n",
    "# Excel 파일 읽기\n",
    "## /Users/kwonkyoungmi/workspace_Python/data/서울시대중교통/seoul_transportation.xlsx\n",
    "df = pd.read_excel('data/서울시대중교통/seoul_transportation.xlsx',sheet_name='철도') # engine='openpyxl : 에러가 나면 사용\n",
    "## Sheet_name 을 None으로 설정하면 모든 시트를 읽어서 딕셔너리 형태로 저장\n",
    "excel = pd.read_excel('data/서울시대중교통/seoul_transportation.xlsx', sheet_name=None)\n",
    "\n",
    "### others\n",
    "excel.keys() # 시트 이름 확인\n",
    "df.head() # 자료 확인 ; 시트가 하나인 데이터 프레임\n",
    "excel['철도'].head() # 특정시트의 자료 확인\n",
    "\n",
    "# Excel 파일 저장\n",
    "## 별도의 시트명 없이 저장\n",
    "df.to_excel('data/sample.xlsx', index = True) # index=True : 인덱스도 저장\n",
    "## 별도의 시트명으로 저장 (예시: 샘플)\n",
    "df.to_excel('data/sample.xlsx', sheet_name='셈플', index = True)\n",
    "\n",
    "\n",
    "\n",
    "\n",
    "'''CSV 자료'''\n",
    "\n",
    "# CSV 파일 읽기\n",
    "## /Users/kwonkyoungmi/workspace_Python/data/서울시주민등록인구/seoul_population.csv\n",
    "df = pd.read_csv('data/서울시주민등록인구/seoul_population.csv') # encoding='cp949' : 한글이 깨질 경우\n",
    "\n",
    "# CSV 파일 저장 - 엑셀과 유사 / sheet_name은 없음\n",
    "## 읽어들인 엑셀 파일도 csv로 저장 가능\n",
    "df.to_csv('data/sample.csv', index = True) # index=True : 인덱스도 저장\n",
    "\n"
   ]
  },
  {
   "cell_type": "code",
   "execution_count": null,
   "metadata": {},
   "outputs": [],
   "source": [
    "'''엑셀 자료'''\n",
    "\n",
    "# Excel 파일 읽기\n",
    "## /Users/kwonkyoungmi/workspace_Python/data/서울시대중교통/seoul_transportation.xlsx\n",
    "\n",
    "df = pd.read_excel('data/서울시대중교통/seoul_transportation.xlsx',sheet_name='철도')\n",
    "\n",
    "# Sheet_name 을 None으로 설정하면 모든 시트를 읽어서 딕셔너리 형태로 저장\n",
    "excel = pd.read_excel('data/서울시대중교통/seoul_transportation.xlsx', sheet_name=None)\n"
   ]
  },
  {
   "cell_type": "code",
   "execution_count": null,
   "metadata": {},
   "outputs": [],
   "source": [
    "# Excel 파일 저장\n",
    "## 별도의 시트명 없이 저장\n",
    "df.to_excel('data/sample.xlsx', index = True) # index=True : 인덱스도 저장\n",
    "## 별도의 시트명으로 저장 (예시: 샘플)\n",
    "df.to_excel('data/sample.xlsx', sheet_name='셈플', index = True)\n"
   ]
  },
  {
   "cell_type": "code",
   "execution_count": null,
   "metadata": {},
   "outputs": [
    {
     "data": {
      "text/plain": [
       "Index(['대중교통구분', '노선명', '년월', '승차총승객수'], dtype='object')"
      ]
     },
     "execution_count": 6,
     "metadata": {},
     "output_type": "execute_result"
    }
   ],
   "source": [
    "df.keys() # Sheet가 하나여서 index가 나옴"
   ]
  },
  {
   "cell_type": "code",
   "execution_count": null,
   "metadata": {},
   "outputs": [
    {
     "data": {
      "text/plain": [
       "dict_keys(['철도', '버스'])"
      ]
     },
     "execution_count": 8,
     "metadata": {},
     "output_type": "execute_result"
    }
   ],
   "source": [
    "excel.keys() # 시트 이름 확인"
   ]
  },
  {
   "cell_type": "code",
   "execution_count": 5,
   "metadata": {},
   "outputs": [
    {
     "data": {
      "text/html": [
       "<div>\n",
       "<style scoped>\n",
       "    .dataframe tbody tr th:only-of-type {\n",
       "        vertical-align: middle;\n",
       "    }\n",
       "\n",
       "    .dataframe tbody tr th {\n",
       "        vertical-align: top;\n",
       "    }\n",
       "\n",
       "    .dataframe thead th {\n",
       "        text-align: right;\n",
       "    }\n",
       "</style>\n",
       "<table border=\"1\" class=\"dataframe\">\n",
       "  <thead>\n",
       "    <tr style=\"text-align: right;\">\n",
       "      <th></th>\n",
       "      <th>대중교통구분</th>\n",
       "      <th>노선명</th>\n",
       "      <th>년월</th>\n",
       "      <th>승차총승객수</th>\n",
       "    </tr>\n",
       "  </thead>\n",
       "  <tbody>\n",
       "    <tr>\n",
       "      <th>0</th>\n",
       "      <td>지하철</td>\n",
       "      <td>1호선</td>\n",
       "      <td>201711</td>\n",
       "      <td>8633618</td>\n",
       "    </tr>\n",
       "    <tr>\n",
       "      <th>1</th>\n",
       "      <td>지하철</td>\n",
       "      <td>1호선</td>\n",
       "      <td>201712</td>\n",
       "      <td>8737235</td>\n",
       "    </tr>\n",
       "    <tr>\n",
       "      <th>2</th>\n",
       "      <td>지하철</td>\n",
       "      <td>1호선</td>\n",
       "      <td>201801</td>\n",
       "      <td>8145989</td>\n",
       "    </tr>\n",
       "    <tr>\n",
       "      <th>3</th>\n",
       "      <td>지하철</td>\n",
       "      <td>1호선</td>\n",
       "      <td>201802</td>\n",
       "      <td>7273309</td>\n",
       "    </tr>\n",
       "    <tr>\n",
       "      <th>4</th>\n",
       "      <td>지하철</td>\n",
       "      <td>1호선</td>\n",
       "      <td>201803</td>\n",
       "      <td>8692551</td>\n",
       "    </tr>\n",
       "  </tbody>\n",
       "</table>\n",
       "</div>"
      ],
      "text/plain": [
       "  대중교통구분  노선명      년월   승차총승객수\n",
       "0    지하철  1호선  201711  8633618\n",
       "1    지하철  1호선  201712  8737235\n",
       "2    지하철  1호선  201801  8145989\n",
       "3    지하철  1호선  201802  7273309\n",
       "4    지하철  1호선  201803  8692551"
      ]
     },
     "execution_count": 5,
     "metadata": {},
     "output_type": "execute_result"
    }
   ],
   "source": [
    "df.head()"
   ]
  },
  {
   "cell_type": "code",
   "execution_count": 9,
   "metadata": {},
   "outputs": [
    {
     "data": {
      "text/html": [
       "<div>\n",
       "<style scoped>\n",
       "    .dataframe tbody tr th:only-of-type {\n",
       "        vertical-align: middle;\n",
       "    }\n",
       "\n",
       "    .dataframe tbody tr th {\n",
       "        vertical-align: top;\n",
       "    }\n",
       "\n",
       "    .dataframe thead th {\n",
       "        text-align: right;\n",
       "    }\n",
       "</style>\n",
       "<table border=\"1\" class=\"dataframe\">\n",
       "  <thead>\n",
       "    <tr style=\"text-align: right;\">\n",
       "      <th></th>\n",
       "      <th>대중교통구분</th>\n",
       "      <th>노선명</th>\n",
       "      <th>년월</th>\n",
       "      <th>승차총승객수</th>\n",
       "    </tr>\n",
       "  </thead>\n",
       "  <tbody>\n",
       "    <tr>\n",
       "      <th>0</th>\n",
       "      <td>지하철</td>\n",
       "      <td>1호선</td>\n",
       "      <td>201711</td>\n",
       "      <td>8633618</td>\n",
       "    </tr>\n",
       "    <tr>\n",
       "      <th>1</th>\n",
       "      <td>지하철</td>\n",
       "      <td>1호선</td>\n",
       "      <td>201712</td>\n",
       "      <td>8737235</td>\n",
       "    </tr>\n",
       "    <tr>\n",
       "      <th>2</th>\n",
       "      <td>지하철</td>\n",
       "      <td>1호선</td>\n",
       "      <td>201801</td>\n",
       "      <td>8145989</td>\n",
       "    </tr>\n",
       "    <tr>\n",
       "      <th>3</th>\n",
       "      <td>지하철</td>\n",
       "      <td>1호선</td>\n",
       "      <td>201802</td>\n",
       "      <td>7273309</td>\n",
       "    </tr>\n",
       "    <tr>\n",
       "      <th>4</th>\n",
       "      <td>지하철</td>\n",
       "      <td>1호선</td>\n",
       "      <td>201803</td>\n",
       "      <td>8692551</td>\n",
       "    </tr>\n",
       "  </tbody>\n",
       "</table>\n",
       "</div>"
      ],
      "text/plain": [
       "  대중교통구분  노선명      년월   승차총승객수\n",
       "0    지하철  1호선  201711  8633618\n",
       "1    지하철  1호선  201712  8737235\n",
       "2    지하철  1호선  201801  8145989\n",
       "3    지하철  1호선  201802  7273309\n",
       "4    지하철  1호선  201803  8692551"
      ]
     },
     "execution_count": 9,
     "metadata": {},
     "output_type": "execute_result"
    }
   ],
   "source": [
    "excel['철도'].head()"
   ]
  },
  {
   "cell_type": "code",
   "execution_count": null,
   "metadata": {},
   "outputs": [],
   "source": [
    "'''CSV 자료\n",
    "한 줄이 한 개의 행에 해당하며, 열 사이에는 쉼표(,)를 넣어 구분합니다. \n",
    "- Excel보다는 훨씬 가볍고 차지하는 용량이 적기 때문에 대부분의 파일데이터는 csv 형태로 제공'''\n",
    "\n",
    "# CSV 파일 읽기\n",
    "## /Users/kwonkyoungmi/workspace_Python/data/서울시주민등록인구/seoul_population.csv\n",
    "# df = pd.read_csv('data/서울시주민등록인구/seoul_population.csv') # encoding='cp949' : 한글이 깨질 경우\n",
    "\n",
    "# CSV 파일 저장 - 엑셀과 유사 / sheet_name은 없음\n",
    "## 읽어들인 엑셀 파일도 csv로 저장 가능\n",
    "df.to_csv('data/sample.csv', index = True) # index=True : 인덱스도 저장\n",
    "\n"
   ]
  },
  {
   "cell_type": "code",
   "execution_count": 13,
   "metadata": {},
   "outputs": [
    {
     "data": {
      "text/html": [
       "<div>\n",
       "<style scoped>\n",
       "    .dataframe tbody tr th:only-of-type {\n",
       "        vertical-align: middle;\n",
       "    }\n",
       "\n",
       "    .dataframe tbody tr th {\n",
       "        vertical-align: top;\n",
       "    }\n",
       "\n",
       "    .dataframe thead th {\n",
       "        text-align: right;\n",
       "    }\n",
       "</style>\n",
       "<table border=\"1\" class=\"dataframe\">\n",
       "  <thead>\n",
       "    <tr style=\"text-align: right;\">\n",
       "      <th></th>\n",
       "      <th>연도</th>\n",
       "      <th>자치구</th>\n",
       "      <th>세대수</th>\n",
       "      <th>인구 합계</th>\n",
       "      <th>남자 인구 합계</th>\n",
       "      <th>여자 인구 합계</th>\n",
       "      <th>한국인 인구 합계</th>\n",
       "      <th>한국인 남자 인구수</th>\n",
       "      <th>한국인 여자 인구수</th>\n",
       "      <th>등록 외국인 인구 합계</th>\n",
       "      <th>등록 외국인 인구 남자수</th>\n",
       "      <th>등록 외국인 인구 여자수</th>\n",
       "      <th>세대당 인구</th>\n",
       "      <th>65세 이상 고령자 수</th>\n",
       "    </tr>\n",
       "  </thead>\n",
       "  <tbody>\n",
       "    <tr>\n",
       "      <th>0</th>\n",
       "      <td>2020</td>\n",
       "      <td>합계</td>\n",
       "      <td>4,417,954</td>\n",
       "      <td>9,911,088</td>\n",
       "      <td>4,816,522</td>\n",
       "      <td>5,094,566</td>\n",
       "      <td>9,668,465</td>\n",
       "      <td>4,701,723</td>\n",
       "      <td>4,966,742</td>\n",
       "      <td>242,623</td>\n",
       "      <td>114,799</td>\n",
       "      <td>127,824</td>\n",
       "      <td>2.19</td>\n",
       "      <td>1,568,331</td>\n",
       "    </tr>\n",
       "    <tr>\n",
       "      <th>1</th>\n",
       "      <td>2020</td>\n",
       "      <td>종로구</td>\n",
       "      <td>75,003</td>\n",
       "      <td>158,996</td>\n",
       "      <td>76,876</td>\n",
       "      <td>82,120</td>\n",
       "      <td>149,384</td>\n",
       "      <td>72,635</td>\n",
       "      <td>76,749</td>\n",
       "      <td>9,612</td>\n",
       "      <td>4,241</td>\n",
       "      <td>5,371</td>\n",
       "      <td>1.99</td>\n",
       "      <td>28,507</td>\n",
       "    </tr>\n",
       "    <tr>\n",
       "      <th>2</th>\n",
       "      <td>2020</td>\n",
       "      <td>중구</td>\n",
       "      <td>63,686</td>\n",
       "      <td>134,635</td>\n",
       "      <td>65,776</td>\n",
       "      <td>68,859</td>\n",
       "      <td>125,240</td>\n",
       "      <td>61,222</td>\n",
       "      <td>64,018</td>\n",
       "      <td>9,395</td>\n",
       "      <td>4,554</td>\n",
       "      <td>4,841</td>\n",
       "      <td>1.97</td>\n",
       "      <td>24,495</td>\n",
       "    </tr>\n",
       "    <tr>\n",
       "      <th>3</th>\n",
       "      <td>2020</td>\n",
       "      <td>용산구</td>\n",
       "      <td>113,093</td>\n",
       "      <td>244,645</td>\n",
       "      <td>118,835</td>\n",
       "      <td>125,810</td>\n",
       "      <td>230,040</td>\n",
       "      <td>110,722</td>\n",
       "      <td>119,318</td>\n",
       "      <td>14,605</td>\n",
       "      <td>8,113</td>\n",
       "      <td>6,492</td>\n",
       "      <td>2.03</td>\n",
       "      <td>40,247</td>\n",
       "    </tr>\n",
       "    <tr>\n",
       "      <th>4</th>\n",
       "      <td>2020</td>\n",
       "      <td>성동구</td>\n",
       "      <td>135,870</td>\n",
       "      <td>300,505</td>\n",
       "      <td>146,424</td>\n",
       "      <td>154,081</td>\n",
       "      <td>293,556</td>\n",
       "      <td>143,387</td>\n",
       "      <td>150,169</td>\n",
       "      <td>6,949</td>\n",
       "      <td>3,037</td>\n",
       "      <td>3,912</td>\n",
       "      <td>2.16</td>\n",
       "      <td>45,603</td>\n",
       "    </tr>\n",
       "  </tbody>\n",
       "</table>\n",
       "</div>"
      ],
      "text/plain": [
       "     연도  자치구        세대수      인구 합계   남자 인구 합계   여자 인구 합계  한국인 인구 합계  \\\n",
       "0  2020   합계  4,417,954  9,911,088  4,816,522  5,094,566  9,668,465   \n",
       "1  2020  종로구     75,003    158,996     76,876     82,120    149,384   \n",
       "2  2020   중구     63,686    134,635     65,776     68,859    125,240   \n",
       "3  2020  용산구    113,093    244,645    118,835    125,810    230,040   \n",
       "4  2020  성동구    135,870    300,505    146,424    154,081    293,556   \n",
       "\n",
       "  한국인 남자 인구수 한국인 여자 인구수 등록 외국인 인구 합계 등록 외국인 인구 남자수 등록 외국인 인구 여자수  세대당 인구  \\\n",
       "0  4,701,723  4,966,742      242,623       114,799       127,824    2.19   \n",
       "1     72,635     76,749        9,612         4,241         5,371    1.99   \n",
       "2     61,222     64,018        9,395         4,554         4,841    1.97   \n",
       "3    110,722    119,318       14,605         8,113         6,492    2.03   \n",
       "4    143,387    150,169        6,949         3,037         3,912    2.16   \n",
       "\n",
       "  65세 이상 고령자 수  \n",
       "0    1,568,331  \n",
       "1       28,507  \n",
       "2       24,495  \n",
       "3       40,247  \n",
       "4       45,603  "
      ]
     },
     "execution_count": 13,
     "metadata": {},
     "output_type": "execute_result"
    }
   ],
   "source": [
    "df.head()"
   ]
  },
  {
   "cell_type": "code",
   "execution_count": null,
   "metadata": {},
   "outputs": [],
   "source": []
  }
 ],
 "metadata": {
  "kernelspec": {
   "display_name": "3.12.2",
   "language": "python",
   "name": "python3"
  },
  "language_info": {
   "codemirror_mode": {
    "name": "ipython",
    "version": 3
   },
   "file_extension": ".py",
   "mimetype": "text/x-python",
   "name": "python",
   "nbconvert_exporter": "python",
   "pygments_lexer": "ipython3",
   "version": "3.12.2"
  }
 },
 "nbformat": 4,
 "nbformat_minor": 2
}
