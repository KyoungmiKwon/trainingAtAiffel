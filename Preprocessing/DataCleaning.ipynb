{
 "cells": [
  {
   "cell_type": "markdown",
   "metadata": {},
   "source": [
    "# DataCleaning\n",
    "\n",
    "\n",
    "- 결측치 처리가능\n",
    ">> Data columns / Missing Value\n",
    "- 이상치 판단 처리\n",
    ">> Outlier / Duplicated Data\n",
    "- 시간 데이터 및 텍스트형 데이터를 자유롭게 변환\n",
    ">> Text Data / Datetime\n",
    "\n",
    "[판다스 홈페이지](https://pandas.pydata.org/docs/reference/general_functions.html)      \n",
    "[Seaborn 링크](https://seaborn.pydata.org/index.html)       \n",
    "[파이썬DateTime](https://docs.python.org/ko/3/library/datetime.html)        \n"
   ]
  },
  {
   "cell_type": "code",
   "execution_count": 141,
   "metadata": {},
   "outputs": [],
   "source": [
    "# 라이브러리 불러오기\n",
    "import os\n",
    "import sys\n",
    "import time\n",
    "import pandas as pd\n",
    "import numpy as np\n",
    "import matplotlib.pyplot as plt\n",
    "import seaborn as sns\n",
    "from datetime import datetime"
   ]
  },
  {
   "cell_type": "code",
   "execution_count": 61,
   "metadata": {},
   "outputs": [],
   "source": [
    "# 데이터 가져오기\n",
    "# /Users/kwonkyoungmi/workspaces/workspace_Python/data/titanic.csv\n",
    "\n",
    "df = pd.read_csv('/Users/kwonkyoungmi/workspaces/workspace_Python/data/titanic.csv')\n",
    "data = df.copy()"
   ]
  },
  {
   "cell_type": "markdown",
   "metadata": {},
   "source": [
    "## 데이터 탐색하기"
   ]
  },
  {
   "cell_type": "markdown",
   "metadata": {},
   "source": [
    "- data.head()     \n",
    "\n",
    "- data.tail()     \n",
    "- data.info() ; null 값, data type 확인       \n",
    "- data.describe()     \n",
    "- pd.DataFrame(data) ; data frame으로 변환        \n",
    "- pd.Series(<데이터프레임>)(<[컬럼이름]>) ; 데이터프레임을 시리즈로 타입으로 변환     \n",
    "- np.array(data)"
   ]
  },
  {
   "cell_type": "markdown",
   "metadata": {},
   "source": [
    "1.  `.describe()`\tDataFrame 또는 Series 객체에 대한 요약 통계를 제공합니다. 이 메소드는 데이터의 중심 경향, 분포 및 형태 등을 빠르게 이해하는 데 도움이 됩니다.\n",
    "2.\t`.apply()`\t함수를 데이터프레임의 열 또는 행에 적용 합니다.<예시> 데이터 프레임의 모든 수치 데이터에 2를 곱합니다.\n",
    "3.\t`.sort_values()`\tDataFrame 또는 Series 내의 값에 따라 데이터를 정렬하는 데 사용됩니다. 데이터를 오름차순 또는 내림차순으로 정렬할 수 있으며, 복수의 열을 기준으로 정렬하는 것도 가능합니다.\n",
    "4.\t`.tail()`\tDataFrame 또는 Series 객체의 끝에서부터 지정된 수의 행을 반환합니다. 최신 데이터셋을 확인할 때 유용한데 데이터 크기가 큰 경우에 전체 데이터를 로드하지 않고도 빠른 데이터 검토를 할 수 있도록 도와줍니다.\n",
    "5.\t`.replace()`\t특정 값을 다른 값으로 대체 <예시> 데이터 프레임의 'A' 열에서 'apple'을 'orange'로 바꿉니다.\n",
    "6.\t`pd.to_numeric()`\t문자열이나 다른 타입의 데이터를 숫자형(정수형 또는 부동소수점형)으로 변환하는 데 사용됩니다.\n",
    "7.\t`.get_dummies()`\t주어진 범주형 열의 각 고유 범주를 대표하는 새로운 이진(0 또는 1) 열을 생성합니다.\n",
    "8.\t`Aggregation`\t여러 데이터 포인트를 요약하고, 그룹화하여 새로운 통계 또는 정보를 추출하는 과정입니다. `groupby()`, 집계 함수, `std()`, `agg()`등\n",
    "9.\t`.merge()`\t두 개 이상의 데이터 프레임을 특정 공통 열 또는 인덱스를 기준으로 병합하는 데 사용됩니다. SQL의 JOIN과 유사한 기능을 제공합니다.\n",
    "10.\t`.value_counts()`\t범주형 데이터를 요약하는 데이터 분석 작업에 자주 사용됩니다."
   ]
  },
  {
   "cell_type": "code",
   "execution_count": 65,
   "metadata": {},
   "outputs": [
    {
     "data": {
      "text/html": [
       "<div>\n",
       "<style scoped>\n",
       "    .dataframe tbody tr th:only-of-type {\n",
       "        vertical-align: middle;\n",
       "    }\n",
       "\n",
       "    .dataframe tbody tr th {\n",
       "        vertical-align: top;\n",
       "    }\n",
       "\n",
       "    .dataframe thead th {\n",
       "        text-align: right;\n",
       "    }\n",
       "</style>\n",
       "<table border=\"1\" class=\"dataframe\">\n",
       "  <thead>\n",
       "    <tr style=\"text-align: right;\">\n",
       "      <th></th>\n",
       "      <th>Pclass</th>\n",
       "      <th>Name</th>\n",
       "      <th>Gendr</th>\n",
       "      <th>Age</th>\n",
       "      <th>SibSp</th>\n",
       "      <th>Parch</th>\n",
       "      <th>Ticket</th>\n",
       "      <th>Embarked</th>\n",
       "      <th>Survived</th>\n",
       "      <th>ticket_date</th>\n",
       "    </tr>\n",
       "  </thead>\n",
       "  <tbody>\n",
       "    <tr>\n",
       "      <th>0</th>\n",
       "      <td>3</td>\n",
       "      <td>Braund, Mr. Owen Harris</td>\n",
       "      <td>male</td>\n",
       "      <td>22.0</td>\n",
       "      <td>1</td>\n",
       "      <td>0</td>\n",
       "      <td>A/5 21171</td>\n",
       "      <td>S</td>\n",
       "      <td>0</td>\n",
       "      <td>1912-01-12</td>\n",
       "    </tr>\n",
       "    <tr>\n",
       "      <th>1</th>\n",
       "      <td>1</td>\n",
       "      <td>Cumings, Mrs. John Bradley (Florence Briggs Th...</td>\n",
       "      <td>female</td>\n",
       "      <td>38.0</td>\n",
       "      <td>1</td>\n",
       "      <td>0</td>\n",
       "      <td>PC 17599</td>\n",
       "      <td>C</td>\n",
       "      <td>1</td>\n",
       "      <td>1912-03-29</td>\n",
       "    </tr>\n",
       "    <tr>\n",
       "      <th>2</th>\n",
       "      <td>3</td>\n",
       "      <td>Heikkinen, Miss. Laina</td>\n",
       "      <td>female</td>\n",
       "      <td>26.0</td>\n",
       "      <td>0</td>\n",
       "      <td>0</td>\n",
       "      <td>STON/O2. 3101282</td>\n",
       "      <td>S</td>\n",
       "      <td>1</td>\n",
       "      <td>1912-02-23</td>\n",
       "    </tr>\n",
       "    <tr>\n",
       "      <th>3</th>\n",
       "      <td>1</td>\n",
       "      <td>Futrelle, Mrs. Jacques Heath (Lily May Peel)</td>\n",
       "      <td>female</td>\n",
       "      <td>NaN</td>\n",
       "      <td>1</td>\n",
       "      <td>0</td>\n",
       "      <td>113803</td>\n",
       "      <td>S</td>\n",
       "      <td>1</td>\n",
       "      <td>1912-03-28</td>\n",
       "    </tr>\n",
       "    <tr>\n",
       "      <th>4</th>\n",
       "      <td>3</td>\n",
       "      <td>Allen, Mr. William Henry</td>\n",
       "      <td>male</td>\n",
       "      <td>35.0</td>\n",
       "      <td>0</td>\n",
       "      <td>0</td>\n",
       "      <td>373450</td>\n",
       "      <td>S</td>\n",
       "      <td>0</td>\n",
       "      <td>1912-04-03</td>\n",
       "    </tr>\n",
       "  </tbody>\n",
       "</table>\n",
       "</div>"
      ],
      "text/plain": [
       "   Pclass                                               Name   Gendr   Age  \\\n",
       "0       3                            Braund, Mr. Owen Harris    male  22.0   \n",
       "1       1  Cumings, Mrs. John Bradley (Florence Briggs Th...  female  38.0   \n",
       "2       3                             Heikkinen, Miss. Laina  female  26.0   \n",
       "3       1       Futrelle, Mrs. Jacques Heath (Lily May Peel)  female   NaN   \n",
       "4       3                           Allen, Mr. William Henry    male  35.0   \n",
       "\n",
       "   SibSp  Parch            Ticket Embarked  Survived ticket_date  \n",
       "0      1      0         A/5 21171        S         0  1912-01-12  \n",
       "1      1      0          PC 17599        C         1  1912-03-29  \n",
       "2      0      0  STON/O2. 3101282        S         1  1912-02-23  \n",
       "3      1      0            113803        S         1  1912-03-28  \n",
       "4      0      0            373450        S         0  1912-04-03  "
      ]
     },
     "execution_count": 65,
     "metadata": {},
     "output_type": "execute_result"
    }
   ],
   "source": [
    "data.head()"
   ]
  },
  {
   "cell_type": "code",
   "execution_count": 66,
   "metadata": {},
   "outputs": [
    {
     "name": "stdout",
     "output_type": "stream",
     "text": [
      "<class 'pandas.core.frame.DataFrame'>\n",
      "Index: 882 entries, 0 to 884\n",
      "Data columns (total 10 columns):\n",
      " #   Column       Non-Null Count  Dtype  \n",
      "---  ------       --------------  -----  \n",
      " 0   Pclass       882 non-null    int64  \n",
      " 1   Name         882 non-null    object \n",
      " 2   Gendr        882 non-null    object \n",
      " 3   Age          876 non-null    float64\n",
      " 4   SibSp        882 non-null    int64  \n",
      " 5   Parch        882 non-null    int64  \n",
      " 6   Ticket       882 non-null    object \n",
      " 7   Embarked     880 non-null    object \n",
      " 8   Survived     882 non-null    int64  \n",
      " 9   ticket_date  882 non-null    object \n",
      "dtypes: float64(1), int64(4), object(5)\n",
      "memory usage: 75.8+ KB\n"
     ]
    }
   ],
   "source": [
    "data.info()"
   ]
  },
  {
   "cell_type": "code",
   "execution_count": 67,
   "metadata": {},
   "outputs": [
    {
     "data": {
      "text/html": [
       "<div>\n",
       "<style scoped>\n",
       "    .dataframe tbody tr th:only-of-type {\n",
       "        vertical-align: middle;\n",
       "    }\n",
       "\n",
       "    .dataframe tbody tr th {\n",
       "        vertical-align: top;\n",
       "    }\n",
       "\n",
       "    .dataframe thead th {\n",
       "        text-align: right;\n",
       "    }\n",
       "</style>\n",
       "<table border=\"1\" class=\"dataframe\">\n",
       "  <thead>\n",
       "    <tr style=\"text-align: right;\">\n",
       "      <th></th>\n",
       "      <th>Pclass</th>\n",
       "      <th>Age</th>\n",
       "      <th>SibSp</th>\n",
       "      <th>Parch</th>\n",
       "      <th>Survived</th>\n",
       "    </tr>\n",
       "  </thead>\n",
       "  <tbody>\n",
       "    <tr>\n",
       "      <th>count</th>\n",
       "      <td>882.000000</td>\n",
       "      <td>876.000000</td>\n",
       "      <td>882.000000</td>\n",
       "      <td>882.000000</td>\n",
       "      <td>882.000000</td>\n",
       "    </tr>\n",
       "    <tr>\n",
       "      <th>mean</th>\n",
       "      <td>2.311791</td>\n",
       "      <td>29.718037</td>\n",
       "      <td>0.520408</td>\n",
       "      <td>0.375283</td>\n",
       "      <td>0.377551</td>\n",
       "    </tr>\n",
       "    <tr>\n",
       "      <th>std</th>\n",
       "      <td>0.835681</td>\n",
       "      <td>13.542098</td>\n",
       "      <td>1.105210</td>\n",
       "      <td>0.804909</td>\n",
       "      <td>0.485049</td>\n",
       "    </tr>\n",
       "    <tr>\n",
       "      <th>min</th>\n",
       "      <td>1.000000</td>\n",
       "      <td>1.000000</td>\n",
       "      <td>0.000000</td>\n",
       "      <td>0.000000</td>\n",
       "      <td>0.000000</td>\n",
       "    </tr>\n",
       "    <tr>\n",
       "      <th>25%</th>\n",
       "      <td>2.000000</td>\n",
       "      <td>22.000000</td>\n",
       "      <td>0.000000</td>\n",
       "      <td>0.000000</td>\n",
       "      <td>0.000000</td>\n",
       "    </tr>\n",
       "    <tr>\n",
       "      <th>50%</th>\n",
       "      <td>3.000000</td>\n",
       "      <td>28.000000</td>\n",
       "      <td>0.000000</td>\n",
       "      <td>0.000000</td>\n",
       "      <td>0.000000</td>\n",
       "    </tr>\n",
       "    <tr>\n",
       "      <th>75%</th>\n",
       "      <td>3.000000</td>\n",
       "      <td>35.000000</td>\n",
       "      <td>1.000000</td>\n",
       "      <td>0.000000</td>\n",
       "      <td>1.000000</td>\n",
       "    </tr>\n",
       "    <tr>\n",
       "      <th>max</th>\n",
       "      <td>3.000000</td>\n",
       "      <td>145.000000</td>\n",
       "      <td>8.000000</td>\n",
       "      <td>6.000000</td>\n",
       "      <td>1.000000</td>\n",
       "    </tr>\n",
       "  </tbody>\n",
       "</table>\n",
       "</div>"
      ],
      "text/plain": [
       "           Pclass         Age       SibSp       Parch    Survived\n",
       "count  882.000000  876.000000  882.000000  882.000000  882.000000\n",
       "mean     2.311791   29.718037    0.520408    0.375283    0.377551\n",
       "std      0.835681   13.542098    1.105210    0.804909    0.485049\n",
       "min      1.000000    1.000000    0.000000    0.000000    0.000000\n",
       "25%      2.000000   22.000000    0.000000    0.000000    0.000000\n",
       "50%      3.000000   28.000000    0.000000    0.000000    0.000000\n",
       "75%      3.000000   35.000000    1.000000    0.000000    1.000000\n",
       "max      3.000000  145.000000    8.000000    6.000000    1.000000"
      ]
     },
     "execution_count": 67,
     "metadata": {},
     "output_type": "execute_result"
    }
   ],
   "source": [
    "data.describe()"
   ]
  },
  {
   "cell_type": "markdown",
   "metadata": {},
   "source": [
    "## 중복데이터 제거하기 \n",
    "-> 상세 함수는 아래에 후술"
   ]
  },
  {
   "cell_type": "markdown",
   "metadata": {},
   "source": [
    "## Dropping Columns, Missing Values \n",
    " 불필요한 컬럼 삭제 및 누락 결측치 처리"
   ]
  },
  {
   "cell_type": "markdown",
   "metadata": {},
   "source": [
    "1. 그냥 결측치가 있는 행을 다 지운다. ; data.dropna(axis = 0)\n",
    "\n",
    "2. 평균치나, 최빈값으로 대체한다. : data[['컬럼이름']].fillna(<'값'>)       \n",
    "\n",
    "3. 결측치가 너무 많은 컬럼이 있다면 해당 컬럼을 삭제한다. ; data.dropna(axis = 1)\n",
    "\n",
    "- data[['컬럼이름']].isna()[.index] ; Null 값 확인      \n",
    "\n",
    "- data.dropna()     \n",
    "\n",
    "- data[['컬럼이름']].fillna(<'값'>) : Null 을 대체 해 '값' 넣기"
   ]
  },
  {
   "cell_type": "markdown",
   "metadata": {},
   "source": [
    ".dropna() 주요 매개변수\n",
    "\n",
    "- axis:\n",
    ">    axis=0 (기본값): 결측값이 있는 행을 제거합니다.        \n",
    ">    axis=1: 결측값이 있는 열을 제거합니다.\n",
    "\n",
    "- how:\n",
    ">'any' (기본값): 결측값이 하나라도 있으면 해당 행 또는 열을 제거합니다.     \n",
    ">'all': 모든 값이 결측값인 경우에만 해당 행 또는 열을 제거합니다.\n",
    "\n",
    "- thresh:\n",
    "> 최소한 유효한 값의 개수를 지정합니다. 이 개수보다 적으면 해당 행 또는 열이 제거됩니다.\n",
    "\n",
    "- subset:\n",
    "> 특정 열만 고려하여 결측값을 확인합니다.\n",
    "\n",
    "- inplace:\n",
    "\n",
    ">True: 원본 데이터프레임을 직접 수정합니다.\n",
    ">False (기본값): 수정된 데이터프레임을 반환합니다.\n",
    "\n",
    "\n",
    "\n",
    "- 결측값을 제거하는 대신 대체하려면 data.fillna()를 사용할 수 있습니다.\n"
   ]
  },
  {
   "cell_type": "code",
   "execution_count": 68,
   "metadata": {},
   "outputs": [],
   "source": [
    "data.drop('Name', axis = 1, inplace = True) #remove column 'Name' (기본적으로 행기준 axis=0으로 되어 있으므로 axis=1로 설정)"
   ]
  },
  {
   "cell_type": "code",
   "execution_count": 69,
   "metadata": {},
   "outputs": [
    {
     "data": {
      "text/html": [
       "<div>\n",
       "<style scoped>\n",
       "    .dataframe tbody tr th:only-of-type {\n",
       "        vertical-align: middle;\n",
       "    }\n",
       "\n",
       "    .dataframe tbody tr th {\n",
       "        vertical-align: top;\n",
       "    }\n",
       "\n",
       "    .dataframe thead th {\n",
       "        text-align: right;\n",
       "    }\n",
       "</style>\n",
       "<table border=\"1\" class=\"dataframe\">\n",
       "  <thead>\n",
       "    <tr style=\"text-align: right;\">\n",
       "      <th></th>\n",
       "      <th>Gendr</th>\n",
       "      <th>SibSp</th>\n",
       "      <th>Parch</th>\n",
       "      <th>Ticket</th>\n",
       "      <th>Embarked</th>\n",
       "      <th>Survived</th>\n",
       "      <th>ticket_date</th>\n",
       "    </tr>\n",
       "  </thead>\n",
       "  <tbody>\n",
       "    <tr>\n",
       "      <th>0</th>\n",
       "      <td>male</td>\n",
       "      <td>1</td>\n",
       "      <td>0</td>\n",
       "      <td>A/5 21171</td>\n",
       "      <td>S</td>\n",
       "      <td>0</td>\n",
       "      <td>1912-01-12</td>\n",
       "    </tr>\n",
       "    <tr>\n",
       "      <th>1</th>\n",
       "      <td>female</td>\n",
       "      <td>1</td>\n",
       "      <td>0</td>\n",
       "      <td>PC 17599</td>\n",
       "      <td>C</td>\n",
       "      <td>1</td>\n",
       "      <td>1912-03-29</td>\n",
       "    </tr>\n",
       "    <tr>\n",
       "      <th>2</th>\n",
       "      <td>female</td>\n",
       "      <td>0</td>\n",
       "      <td>0</td>\n",
       "      <td>STON/O2. 3101282</td>\n",
       "      <td>S</td>\n",
       "      <td>1</td>\n",
       "      <td>1912-02-23</td>\n",
       "    </tr>\n",
       "    <tr>\n",
       "      <th>3</th>\n",
       "      <td>female</td>\n",
       "      <td>1</td>\n",
       "      <td>0</td>\n",
       "      <td>113803</td>\n",
       "      <td>S</td>\n",
       "      <td>1</td>\n",
       "      <td>1912-03-28</td>\n",
       "    </tr>\n",
       "    <tr>\n",
       "      <th>4</th>\n",
       "      <td>male</td>\n",
       "      <td>0</td>\n",
       "      <td>0</td>\n",
       "      <td>373450</td>\n",
       "      <td>S</td>\n",
       "      <td>0</td>\n",
       "      <td>1912-04-03</td>\n",
       "    </tr>\n",
       "    <tr>\n",
       "      <th>...</th>\n",
       "      <td>...</td>\n",
       "      <td>...</td>\n",
       "      <td>...</td>\n",
       "      <td>...</td>\n",
       "      <td>...</td>\n",
       "      <td>...</td>\n",
       "      <td>...</td>\n",
       "    </tr>\n",
       "    <tr>\n",
       "      <th>880</th>\n",
       "      <td>male</td>\n",
       "      <td>0</td>\n",
       "      <td>0</td>\n",
       "      <td>211536</td>\n",
       "      <td>S</td>\n",
       "      <td>0</td>\n",
       "      <td>1912-01-29</td>\n",
       "    </tr>\n",
       "    <tr>\n",
       "      <th>881</th>\n",
       "      <td>female</td>\n",
       "      <td>0</td>\n",
       "      <td>0</td>\n",
       "      <td>112053</td>\n",
       "      <td>S</td>\n",
       "      <td>1</td>\n",
       "      <td>1912-03-30</td>\n",
       "    </tr>\n",
       "    <tr>\n",
       "      <th>882</th>\n",
       "      <td>female</td>\n",
       "      <td>1</td>\n",
       "      <td>2</td>\n",
       "      <td>W./C. 6607</td>\n",
       "      <td>S</td>\n",
       "      <td>0</td>\n",
       "      <td>1912-04-07</td>\n",
       "    </tr>\n",
       "    <tr>\n",
       "      <th>883</th>\n",
       "      <td>male</td>\n",
       "      <td>0</td>\n",
       "      <td>0</td>\n",
       "      <td>111369</td>\n",
       "      <td>C</td>\n",
       "      <td>1</td>\n",
       "      <td>1912-03-01</td>\n",
       "    </tr>\n",
       "    <tr>\n",
       "      <th>884</th>\n",
       "      <td>male</td>\n",
       "      <td>0</td>\n",
       "      <td>0</td>\n",
       "      <td>370376</td>\n",
       "      <td>Q</td>\n",
       "      <td>0</td>\n",
       "      <td>1912-03-05</td>\n",
       "    </tr>\n",
       "  </tbody>\n",
       "</table>\n",
       "<p>882 rows × 7 columns</p>\n",
       "</div>"
      ],
      "text/plain": [
       "      Gendr  SibSp  Parch            Ticket Embarked  Survived ticket_date\n",
       "0      male      1      0         A/5 21171        S         0  1912-01-12\n",
       "1    female      1      0          PC 17599        C         1  1912-03-29\n",
       "2    female      0      0  STON/O2. 3101282        S         1  1912-02-23\n",
       "3    female      1      0            113803        S         1  1912-03-28\n",
       "4      male      0      0            373450        S         0  1912-04-03\n",
       "..      ...    ...    ...               ...      ...       ...         ...\n",
       "880    male      0      0            211536        S         0  1912-01-29\n",
       "881  female      0      0            112053        S         1  1912-03-30\n",
       "882  female      1      2        W./C. 6607        S         0  1912-04-07\n",
       "883    male      0      0            111369        C         1  1912-03-01\n",
       "884    male      0      0            370376        Q         0  1912-03-05\n",
       "\n",
       "[882 rows x 7 columns]"
      ]
     },
     "execution_count": 69,
     "metadata": {},
     "output_type": "execute_result"
    }
   ],
   "source": [
    "data.drop(['Pclass','Age'], axis = 1)"
   ]
  },
  {
   "cell_type": "code",
   "execution_count": 70,
   "metadata": {},
   "outputs": [
    {
     "data": {
      "text/html": [
       "<div>\n",
       "<style scoped>\n",
       "    .dataframe tbody tr th:only-of-type {\n",
       "        vertical-align: middle;\n",
       "    }\n",
       "\n",
       "    .dataframe tbody tr th {\n",
       "        vertical-align: top;\n",
       "    }\n",
       "\n",
       "    .dataframe thead th {\n",
       "        text-align: right;\n",
       "    }\n",
       "</style>\n",
       "<table border=\"1\" class=\"dataframe\">\n",
       "  <thead>\n",
       "    <tr style=\"text-align: right;\">\n",
       "      <th></th>\n",
       "      <th>Pclass</th>\n",
       "      <th>Gendr</th>\n",
       "      <th>Age</th>\n",
       "      <th>SibSp</th>\n",
       "      <th>Parch</th>\n",
       "      <th>Ticket</th>\n",
       "      <th>Embarked</th>\n",
       "      <th>Survived</th>\n",
       "      <th>ticket_date</th>\n",
       "    </tr>\n",
       "  </thead>\n",
       "  <tbody>\n",
       "    <tr>\n",
       "      <th>4</th>\n",
       "      <td>3</td>\n",
       "      <td>male</td>\n",
       "      <td>35.0</td>\n",
       "      <td>0</td>\n",
       "      <td>0</td>\n",
       "      <td>373450</td>\n",
       "      <td>S</td>\n",
       "      <td>0</td>\n",
       "      <td>1912-04-03</td>\n",
       "    </tr>\n",
       "    <tr>\n",
       "      <th>5</th>\n",
       "      <td>3</td>\n",
       "      <td>male</td>\n",
       "      <td>28.0</td>\n",
       "      <td>0</td>\n",
       "      <td>0</td>\n",
       "      <td>330877</td>\n",
       "      <td>Q</td>\n",
       "      <td>0</td>\n",
       "      <td>1912-03-30</td>\n",
       "    </tr>\n",
       "    <tr>\n",
       "      <th>6</th>\n",
       "      <td>1</td>\n",
       "      <td>male</td>\n",
       "      <td>54.0</td>\n",
       "      <td>0</td>\n",
       "      <td>0</td>\n",
       "      <td>17463</td>\n",
       "      <td>S</td>\n",
       "      <td>0</td>\n",
       "      <td>1912-03-14</td>\n",
       "    </tr>\n",
       "  </tbody>\n",
       "</table>\n",
       "</div>"
      ],
      "text/plain": [
       "   Pclass Gendr   Age  SibSp  Parch  Ticket Embarked  Survived ticket_date\n",
       "4       3  male  35.0      0      0  373450        S         0  1912-04-03\n",
       "5       3  male  28.0      0      0  330877        Q         0  1912-03-30\n",
       "6       1  male  54.0      0      0   17463        S         0  1912-03-14"
      ]
     },
     "execution_count": 70,
     "metadata": {},
     "output_type": "execute_result"
    }
   ],
   "source": [
    "data.loc[4:]      # index 이름으로 슬라이싱\n",
    "data.loc[[4,5,6]]"
   ]
  },
  {
   "cell_type": "code",
   "execution_count": 71,
   "metadata": {},
   "outputs": [
    {
     "data": {
      "text/html": [
       "<div>\n",
       "<style scoped>\n",
       "    .dataframe tbody tr th:only-of-type {\n",
       "        vertical-align: middle;\n",
       "    }\n",
       "\n",
       "    .dataframe tbody tr th {\n",
       "        vertical-align: top;\n",
       "    }\n",
       "\n",
       "    .dataframe thead th {\n",
       "        text-align: right;\n",
       "    }\n",
       "</style>\n",
       "<table border=\"1\" class=\"dataframe\">\n",
       "  <thead>\n",
       "    <tr style=\"text-align: right;\">\n",
       "      <th></th>\n",
       "      <th>Gendr</th>\n",
       "      <th>Age</th>\n",
       "    </tr>\n",
       "  </thead>\n",
       "  <tbody>\n",
       "    <tr>\n",
       "      <th>4</th>\n",
       "      <td>male</td>\n",
       "      <td>35.0</td>\n",
       "    </tr>\n",
       "    <tr>\n",
       "      <th>5</th>\n",
       "      <td>male</td>\n",
       "      <td>28.0</td>\n",
       "    </tr>\n",
       "    <tr>\n",
       "      <th>6</th>\n",
       "      <td>male</td>\n",
       "      <td>54.0</td>\n",
       "    </tr>\n",
       "    <tr>\n",
       "      <th>7</th>\n",
       "      <td>male</td>\n",
       "      <td>2.0</td>\n",
       "    </tr>\n",
       "    <tr>\n",
       "      <th>8</th>\n",
       "      <td>female</td>\n",
       "      <td>27.0</td>\n",
       "    </tr>\n",
       "    <tr>\n",
       "      <th>9</th>\n",
       "      <td>female</td>\n",
       "      <td>14.0</td>\n",
       "    </tr>\n",
       "  </tbody>\n",
       "</table>\n",
       "</div>"
      ],
      "text/plain": [
       "    Gendr   Age\n",
       "4    male  35.0\n",
       "5    male  28.0\n",
       "6    male  54.0\n",
       "7    male   2.0\n",
       "8  female  27.0\n",
       "9  female  14.0"
      ]
     },
     "execution_count": 71,
     "metadata": {},
     "output_type": "execute_result"
    }
   ],
   "source": [
    "data.iloc[4:]      # index 번호로 슬라이싱\n",
    "data.iloc[[4,5,6]] \n",
    "data.iloc[4:10, 1:3] # 4~9행, 1~2열"
   ]
  },
  {
   "cell_type": "code",
   "execution_count": 72,
   "metadata": {},
   "outputs": [
    {
     "data": {
      "text/plain": [
       "Pclass         0\n",
       "Gendr          0\n",
       "Age            6\n",
       "SibSp          0\n",
       "Parch          0\n",
       "Ticket         0\n",
       "Embarked       2\n",
       "Survived       0\n",
       "ticket_date    0\n",
       "dtype: int64"
      ]
     },
     "execution_count": 72,
     "metadata": {},
     "output_type": "execute_result"
    }
   ],
   "source": [
    "data.isna().sum() # 결측치 갯수 확인 (null값이면 true (1)로 변환됨)"
   ]
  },
  {
   "cell_type": "code",
   "execution_count": 73,
   "metadata": {},
   "outputs": [
    {
     "data": {
      "text/plain": [
       "Pclass         0.000000\n",
       "Gendr          0.000000\n",
       "Age            0.006803\n",
       "SibSp          0.000000\n",
       "Parch          0.000000\n",
       "Ticket         0.000000\n",
       "Embarked       0.002268\n",
       "Survived       0.000000\n",
       "ticket_date    0.000000\n",
       "dtype: float64"
      ]
     },
     "execution_count": 73,
     "metadata": {},
     "output_type": "execute_result"
    }
   ],
   "source": [
    "data.isna().mean() # 각 열의 결측치 비율 확인"
   ]
  },
  {
   "cell_type": "code",
   "execution_count": null,
   "metadata": {},
   "outputs": [],
   "source": [
    "data[data['Age']].isna() # Age 열의 결측치 확인"
   ]
  },
  {
   "cell_type": "code",
   "execution_count": 10,
   "metadata": {},
   "outputs": [
    {
     "name": "stdout",
     "output_type": "stream",
     "text": [
      "Index([3, 106, 156, 185, 213, 241], dtype='int64')\n"
     ]
    }
   ],
   "source": [
    "data[data['Age'].isna()].index # Age 열의 결측치 index 확인\n",
    "age_na_index = data[data['Age'].isna()].index\n",
    "print(age_na_index)"
   ]
  },
  {
   "cell_type": "code",
   "execution_count": 75,
   "metadata": {},
   "outputs": [
    {
     "name": "stdout",
     "output_type": "stream",
     "text": [
      "Index([15, 322], dtype='int64')\n"
     ]
    }
   ],
   "source": [
    "data[data['Embarked'].isna()].index # Age 열의 결측치 index 확인\n",
    "embarked_na_index = data[data['Embarked'].isna()].index\n",
    "print(embarked_na_index)"
   ]
  },
  {
   "cell_type": "code",
   "execution_count": 76,
   "metadata": {},
   "outputs": [
    {
     "data": {
      "text/html": [
       "<div>\n",
       "<style scoped>\n",
       "    .dataframe tbody tr th:only-of-type {\n",
       "        vertical-align: middle;\n",
       "    }\n",
       "\n",
       "    .dataframe tbody tr th {\n",
       "        vertical-align: top;\n",
       "    }\n",
       "\n",
       "    .dataframe thead th {\n",
       "        text-align: right;\n",
       "    }\n",
       "</style>\n",
       "<table border=\"1\" class=\"dataframe\">\n",
       "  <thead>\n",
       "    <tr style=\"text-align: right;\">\n",
       "      <th></th>\n",
       "      <th>Pclass</th>\n",
       "      <th>Gendr</th>\n",
       "      <th>Age</th>\n",
       "      <th>SibSp</th>\n",
       "      <th>Parch</th>\n",
       "      <th>Ticket</th>\n",
       "      <th>Embarked</th>\n",
       "      <th>Survived</th>\n",
       "      <th>ticket_date</th>\n",
       "    </tr>\n",
       "  </thead>\n",
       "  <tbody>\n",
       "    <tr>\n",
       "      <th>15</th>\n",
       "      <td>2</td>\n",
       "      <td>female</td>\n",
       "      <td>55.0</td>\n",
       "      <td>0</td>\n",
       "      <td>0</td>\n",
       "      <td>248706</td>\n",
       "      <td>NaN</td>\n",
       "      <td>1</td>\n",
       "      <td>1912-03-05</td>\n",
       "    </tr>\n",
       "    <tr>\n",
       "      <th>322</th>\n",
       "      <td>3</td>\n",
       "      <td>male</td>\n",
       "      <td>28.0</td>\n",
       "      <td>8</td>\n",
       "      <td>2</td>\n",
       "      <td>CA. 2343</td>\n",
       "      <td>NaN</td>\n",
       "      <td>0</td>\n",
       "      <td>1912-03-26</td>\n",
       "    </tr>\n",
       "  </tbody>\n",
       "</table>\n",
       "</div>"
      ],
      "text/plain": [
       "     Pclass   Gendr   Age  SibSp  Parch    Ticket Embarked  Survived  \\\n",
       "15        2  female  55.0      0      0    248706      NaN         1   \n",
       "322       3    male  28.0      8      2  CA. 2343      NaN         0   \n",
       "\n",
       "    ticket_date  \n",
       "15   1912-03-05  \n",
       "322  1912-03-26  "
      ]
     },
     "execution_count": 76,
     "metadata": {},
     "output_type": "execute_result"
    }
   ],
   "source": [
    "data.loc[embarked_na_index]"
   ]
  },
  {
   "cell_type": "code",
   "execution_count": 77,
   "metadata": {},
   "outputs": [
    {
     "data": {
      "text/html": [
       "<div>\n",
       "<style scoped>\n",
       "    .dataframe tbody tr th:only-of-type {\n",
       "        vertical-align: middle;\n",
       "    }\n",
       "\n",
       "    .dataframe tbody tr th {\n",
       "        vertical-align: top;\n",
       "    }\n",
       "\n",
       "    .dataframe thead th {\n",
       "        text-align: right;\n",
       "    }\n",
       "</style>\n",
       "<table border=\"1\" class=\"dataframe\">\n",
       "  <thead>\n",
       "    <tr style=\"text-align: right;\">\n",
       "      <th></th>\n",
       "      <th>Pclass</th>\n",
       "      <th>Gendr</th>\n",
       "      <th>Age</th>\n",
       "      <th>SibSp</th>\n",
       "      <th>Parch</th>\n",
       "      <th>Ticket</th>\n",
       "      <th>Embarked</th>\n",
       "      <th>Survived</th>\n",
       "      <th>ticket_date</th>\n",
       "    </tr>\n",
       "  </thead>\n",
       "  <tbody>\n",
       "    <tr>\n",
       "      <th>0</th>\n",
       "      <td>3</td>\n",
       "      <td>male</td>\n",
       "      <td>22.0</td>\n",
       "      <td>1</td>\n",
       "      <td>0</td>\n",
       "      <td>A/5 21171</td>\n",
       "      <td>S</td>\n",
       "      <td>0</td>\n",
       "      <td>1912-01-12</td>\n",
       "    </tr>\n",
       "    <tr>\n",
       "      <th>1</th>\n",
       "      <td>1</td>\n",
       "      <td>female</td>\n",
       "      <td>38.0</td>\n",
       "      <td>1</td>\n",
       "      <td>0</td>\n",
       "      <td>PC 17599</td>\n",
       "      <td>C</td>\n",
       "      <td>1</td>\n",
       "      <td>1912-03-29</td>\n",
       "    </tr>\n",
       "    <tr>\n",
       "      <th>2</th>\n",
       "      <td>3</td>\n",
       "      <td>female</td>\n",
       "      <td>26.0</td>\n",
       "      <td>0</td>\n",
       "      <td>0</td>\n",
       "      <td>STON/O2. 3101282</td>\n",
       "      <td>S</td>\n",
       "      <td>1</td>\n",
       "      <td>1912-02-23</td>\n",
       "    </tr>\n",
       "    <tr>\n",
       "      <th>4</th>\n",
       "      <td>3</td>\n",
       "      <td>male</td>\n",
       "      <td>35.0</td>\n",
       "      <td>0</td>\n",
       "      <td>0</td>\n",
       "      <td>373450</td>\n",
       "      <td>S</td>\n",
       "      <td>0</td>\n",
       "      <td>1912-04-03</td>\n",
       "    </tr>\n",
       "    <tr>\n",
       "      <th>5</th>\n",
       "      <td>3</td>\n",
       "      <td>male</td>\n",
       "      <td>28.0</td>\n",
       "      <td>0</td>\n",
       "      <td>0</td>\n",
       "      <td>330877</td>\n",
       "      <td>Q</td>\n",
       "      <td>0</td>\n",
       "      <td>1912-03-30</td>\n",
       "    </tr>\n",
       "    <tr>\n",
       "      <th>...</th>\n",
       "      <td>...</td>\n",
       "      <td>...</td>\n",
       "      <td>...</td>\n",
       "      <td>...</td>\n",
       "      <td>...</td>\n",
       "      <td>...</td>\n",
       "      <td>...</td>\n",
       "      <td>...</td>\n",
       "      <td>...</td>\n",
       "    </tr>\n",
       "    <tr>\n",
       "      <th>880</th>\n",
       "      <td>2</td>\n",
       "      <td>male</td>\n",
       "      <td>27.0</td>\n",
       "      <td>0</td>\n",
       "      <td>0</td>\n",
       "      <td>211536</td>\n",
       "      <td>S</td>\n",
       "      <td>0</td>\n",
       "      <td>1912-01-29</td>\n",
       "    </tr>\n",
       "    <tr>\n",
       "      <th>881</th>\n",
       "      <td>1</td>\n",
       "      <td>female</td>\n",
       "      <td>19.0</td>\n",
       "      <td>0</td>\n",
       "      <td>0</td>\n",
       "      <td>112053</td>\n",
       "      <td>S</td>\n",
       "      <td>1</td>\n",
       "      <td>1912-03-30</td>\n",
       "    </tr>\n",
       "    <tr>\n",
       "      <th>882</th>\n",
       "      <td>3</td>\n",
       "      <td>female</td>\n",
       "      <td>28.0</td>\n",
       "      <td>1</td>\n",
       "      <td>2</td>\n",
       "      <td>W./C. 6607</td>\n",
       "      <td>S</td>\n",
       "      <td>0</td>\n",
       "      <td>1912-04-07</td>\n",
       "    </tr>\n",
       "    <tr>\n",
       "      <th>883</th>\n",
       "      <td>1</td>\n",
       "      <td>male</td>\n",
       "      <td>26.0</td>\n",
       "      <td>0</td>\n",
       "      <td>0</td>\n",
       "      <td>111369</td>\n",
       "      <td>C</td>\n",
       "      <td>1</td>\n",
       "      <td>1912-03-01</td>\n",
       "    </tr>\n",
       "    <tr>\n",
       "      <th>884</th>\n",
       "      <td>3</td>\n",
       "      <td>male</td>\n",
       "      <td>32.0</td>\n",
       "      <td>0</td>\n",
       "      <td>0</td>\n",
       "      <td>370376</td>\n",
       "      <td>Q</td>\n",
       "      <td>0</td>\n",
       "      <td>1912-03-05</td>\n",
       "    </tr>\n",
       "  </tbody>\n",
       "</table>\n",
       "<p>874 rows × 9 columns</p>\n",
       "</div>"
      ],
      "text/plain": [
       "     Pclass   Gendr   Age  SibSp  Parch            Ticket Embarked  Survived  \\\n",
       "0         3    male  22.0      1      0         A/5 21171        S         0   \n",
       "1         1  female  38.0      1      0          PC 17599        C         1   \n",
       "2         3  female  26.0      0      0  STON/O2. 3101282        S         1   \n",
       "4         3    male  35.0      0      0            373450        S         0   \n",
       "5         3    male  28.0      0      0            330877        Q         0   \n",
       "..      ...     ...   ...    ...    ...               ...      ...       ...   \n",
       "880       2    male  27.0      0      0            211536        S         0   \n",
       "881       1  female  19.0      0      0            112053        S         1   \n",
       "882       3  female  28.0      1      2        W./C. 6607        S         0   \n",
       "883       1    male  26.0      0      0            111369        C         1   \n",
       "884       3    male  32.0      0      0            370376        Q         0   \n",
       "\n",
       "    ticket_date  \n",
       "0    1912-01-12  \n",
       "1    1912-03-29  \n",
       "2    1912-02-23  \n",
       "4    1912-04-03  \n",
       "5    1912-03-30  \n",
       "..          ...  \n",
       "880  1912-01-29  \n",
       "881  1912-03-30  \n",
       "882  1912-04-07  \n",
       "883  1912-03-01  \n",
       "884  1912-03-05  \n",
       "\n",
       "[874 rows x 9 columns]"
      ]
     },
     "execution_count": 77,
     "metadata": {},
     "output_type": "execute_result"
    }
   ],
   "source": [
    "data.dropna() # 결측값이 있는 행을 삭제 (axis=0이 기본값) inplace = False가 기본값이기 때문에 데이터프레임이 바뀌지 않음"
   ]
  },
  {
   "cell_type": "code",
   "execution_count": 78,
   "metadata": {},
   "outputs": [
    {
     "data": {
      "text/html": [
       "<div>\n",
       "<style scoped>\n",
       "    .dataframe tbody tr th:only-of-type {\n",
       "        vertical-align: middle;\n",
       "    }\n",
       "\n",
       "    .dataframe tbody tr th {\n",
       "        vertical-align: top;\n",
       "    }\n",
       "\n",
       "    .dataframe thead th {\n",
       "        text-align: right;\n",
       "    }\n",
       "</style>\n",
       "<table border=\"1\" class=\"dataframe\">\n",
       "  <thead>\n",
       "    <tr style=\"text-align: right;\">\n",
       "      <th></th>\n",
       "      <th>Pclass</th>\n",
       "      <th>Gendr</th>\n",
       "      <th>Age</th>\n",
       "      <th>SibSp</th>\n",
       "      <th>Parch</th>\n",
       "      <th>Ticket</th>\n",
       "      <th>Embarked</th>\n",
       "      <th>Survived</th>\n",
       "      <th>ticket_date</th>\n",
       "    </tr>\n",
       "  </thead>\n",
       "  <tbody>\n",
       "    <tr>\n",
       "      <th>0</th>\n",
       "      <td>3</td>\n",
       "      <td>male</td>\n",
       "      <td>22.0</td>\n",
       "      <td>1</td>\n",
       "      <td>0</td>\n",
       "      <td>A/5 21171</td>\n",
       "      <td>S</td>\n",
       "      <td>0</td>\n",
       "      <td>1912-01-12</td>\n",
       "    </tr>\n",
       "    <tr>\n",
       "      <th>1</th>\n",
       "      <td>1</td>\n",
       "      <td>female</td>\n",
       "      <td>38.0</td>\n",
       "      <td>1</td>\n",
       "      <td>0</td>\n",
       "      <td>PC 17599</td>\n",
       "      <td>C</td>\n",
       "      <td>1</td>\n",
       "      <td>1912-03-29</td>\n",
       "    </tr>\n",
       "    <tr>\n",
       "      <th>2</th>\n",
       "      <td>3</td>\n",
       "      <td>female</td>\n",
       "      <td>26.0</td>\n",
       "      <td>0</td>\n",
       "      <td>0</td>\n",
       "      <td>STON/O2. 3101282</td>\n",
       "      <td>S</td>\n",
       "      <td>1</td>\n",
       "      <td>1912-02-23</td>\n",
       "    </tr>\n",
       "    <tr>\n",
       "      <th>3</th>\n",
       "      <td>1</td>\n",
       "      <td>female</td>\n",
       "      <td>NaN</td>\n",
       "      <td>1</td>\n",
       "      <td>0</td>\n",
       "      <td>113803</td>\n",
       "      <td>S</td>\n",
       "      <td>1</td>\n",
       "      <td>1912-03-28</td>\n",
       "    </tr>\n",
       "    <tr>\n",
       "      <th>4</th>\n",
       "      <td>3</td>\n",
       "      <td>male</td>\n",
       "      <td>35.0</td>\n",
       "      <td>0</td>\n",
       "      <td>0</td>\n",
       "      <td>373450</td>\n",
       "      <td>S</td>\n",
       "      <td>0</td>\n",
       "      <td>1912-04-03</td>\n",
       "    </tr>\n",
       "    <tr>\n",
       "      <th>...</th>\n",
       "      <td>...</td>\n",
       "      <td>...</td>\n",
       "      <td>...</td>\n",
       "      <td>...</td>\n",
       "      <td>...</td>\n",
       "      <td>...</td>\n",
       "      <td>...</td>\n",
       "      <td>...</td>\n",
       "      <td>...</td>\n",
       "    </tr>\n",
       "    <tr>\n",
       "      <th>880</th>\n",
       "      <td>2</td>\n",
       "      <td>male</td>\n",
       "      <td>27.0</td>\n",
       "      <td>0</td>\n",
       "      <td>0</td>\n",
       "      <td>211536</td>\n",
       "      <td>S</td>\n",
       "      <td>0</td>\n",
       "      <td>1912-01-29</td>\n",
       "    </tr>\n",
       "    <tr>\n",
       "      <th>881</th>\n",
       "      <td>1</td>\n",
       "      <td>female</td>\n",
       "      <td>19.0</td>\n",
       "      <td>0</td>\n",
       "      <td>0</td>\n",
       "      <td>112053</td>\n",
       "      <td>S</td>\n",
       "      <td>1</td>\n",
       "      <td>1912-03-30</td>\n",
       "    </tr>\n",
       "    <tr>\n",
       "      <th>882</th>\n",
       "      <td>3</td>\n",
       "      <td>female</td>\n",
       "      <td>28.0</td>\n",
       "      <td>1</td>\n",
       "      <td>2</td>\n",
       "      <td>W./C. 6607</td>\n",
       "      <td>S</td>\n",
       "      <td>0</td>\n",
       "      <td>1912-04-07</td>\n",
       "    </tr>\n",
       "    <tr>\n",
       "      <th>883</th>\n",
       "      <td>1</td>\n",
       "      <td>male</td>\n",
       "      <td>26.0</td>\n",
       "      <td>0</td>\n",
       "      <td>0</td>\n",
       "      <td>111369</td>\n",
       "      <td>C</td>\n",
       "      <td>1</td>\n",
       "      <td>1912-03-01</td>\n",
       "    </tr>\n",
       "    <tr>\n",
       "      <th>884</th>\n",
       "      <td>3</td>\n",
       "      <td>male</td>\n",
       "      <td>32.0</td>\n",
       "      <td>0</td>\n",
       "      <td>0</td>\n",
       "      <td>370376</td>\n",
       "      <td>Q</td>\n",
       "      <td>0</td>\n",
       "      <td>1912-03-05</td>\n",
       "    </tr>\n",
       "  </tbody>\n",
       "</table>\n",
       "<p>880 rows × 9 columns</p>\n",
       "</div>"
      ],
      "text/plain": [
       "     Pclass   Gendr   Age  SibSp  Parch            Ticket Embarked  Survived  \\\n",
       "0         3    male  22.0      1      0         A/5 21171        S         0   \n",
       "1         1  female  38.0      1      0          PC 17599        C         1   \n",
       "2         3  female  26.0      0      0  STON/O2. 3101282        S         1   \n",
       "3         1  female   NaN      1      0            113803        S         1   \n",
       "4         3    male  35.0      0      0            373450        S         0   \n",
       "..      ...     ...   ...    ...    ...               ...      ...       ...   \n",
       "880       2    male  27.0      0      0            211536        S         0   \n",
       "881       1  female  19.0      0      0            112053        S         1   \n",
       "882       3  female  28.0      1      2        W./C. 6607        S         0   \n",
       "883       1    male  26.0      0      0            111369        C         1   \n",
       "884       3    male  32.0      0      0            370376        Q         0   \n",
       "\n",
       "    ticket_date  \n",
       "0    1912-01-12  \n",
       "1    1912-03-29  \n",
       "2    1912-02-23  \n",
       "3    1912-03-28  \n",
       "4    1912-04-03  \n",
       "..          ...  \n",
       "880  1912-01-29  \n",
       "881  1912-03-30  \n",
       "882  1912-04-07  \n",
       "883  1912-03-01  \n",
       "884  1912-03-05  \n",
       "\n",
       "[880 rows x 9 columns]"
      ]
     },
     "execution_count": 78,
     "metadata": {},
     "output_type": "execute_result"
    }
   ],
   "source": [
    "data.dropna(subset = ['Embarked']) # Embarked 열에 결측값이 있는 행을 삭제 (axis=0이 기본값) inplace = False가 기본값이기 때문에 데이터프레임이 바뀌지 않음"
   ]
  },
  {
   "cell_type": "code",
   "execution_count": null,
   "metadata": {},
   "outputs": [],
   "source": [
    "data.fillna(999) # 모든 결측값을 999로 대체 (axis=0이 기본값) "
   ]
  },
  {
   "cell_type": "code",
   "execution_count": 18,
   "metadata": {},
   "outputs": [],
   "source": [
    "data['Age'].fillna(data['Age'].median()) # Age 열의 결측값을 중앙값으로 대체 (outlier 때문에 중앙값 선호)\n",
    "data['Age'] = data['Age'].fillna(data['Age'].median()) \n",
    "# data['Age'].fillna(data['Age'].median(), inplace = True) # inplace = True로 설정하면 원본 데이터프레임이 바뀌나 더이상 작동 하지 않다고 하는 에러 날 수도 있음 "
   ]
  },
  {
   "cell_type": "code",
   "execution_count": 19,
   "metadata": {},
   "outputs": [
    {
     "data": {
      "text/html": [
       "<div>\n",
       "<style scoped>\n",
       "    .dataframe tbody tr th:only-of-type {\n",
       "        vertical-align: middle;\n",
       "    }\n",
       "\n",
       "    .dataframe tbody tr th {\n",
       "        vertical-align: top;\n",
       "    }\n",
       "\n",
       "    .dataframe thead th {\n",
       "        text-align: right;\n",
       "    }\n",
       "</style>\n",
       "<table border=\"1\" class=\"dataframe\">\n",
       "  <thead>\n",
       "    <tr style=\"text-align: right;\">\n",
       "      <th></th>\n",
       "      <th>Pclass</th>\n",
       "      <th>Name</th>\n",
       "      <th>Gendr</th>\n",
       "      <th>Age</th>\n",
       "      <th>SibSp</th>\n",
       "      <th>Parch</th>\n",
       "      <th>Ticket</th>\n",
       "      <th>Embarked</th>\n",
       "      <th>Survived</th>\n",
       "      <th>ticket_date</th>\n",
       "    </tr>\n",
       "  </thead>\n",
       "  <tbody>\n",
       "    <tr>\n",
       "      <th>3</th>\n",
       "      <td>1</td>\n",
       "      <td>Futrelle, Mrs. Jacques Heath (Lily May Peel)</td>\n",
       "      <td>female</td>\n",
       "      <td>28.0</td>\n",
       "      <td>1</td>\n",
       "      <td>0</td>\n",
       "      <td>113803</td>\n",
       "      <td>S</td>\n",
       "      <td>1</td>\n",
       "      <td>1912-03-28</td>\n",
       "    </tr>\n",
       "    <tr>\n",
       "      <th>106</th>\n",
       "      <td>3</td>\n",
       "      <td>Moss, Mr. Albert Johan</td>\n",
       "      <td>male</td>\n",
       "      <td>28.0</td>\n",
       "      <td>0</td>\n",
       "      <td>0</td>\n",
       "      <td>312991</td>\n",
       "      <td>S</td>\n",
       "      <td>1</td>\n",
       "      <td>1912-01-27</td>\n",
       "    </tr>\n",
       "    <tr>\n",
       "      <th>156</th>\n",
       "      <td>3</td>\n",
       "      <td>Corn, Mr. Harry</td>\n",
       "      <td>male</td>\n",
       "      <td>28.0</td>\n",
       "      <td>0</td>\n",
       "      <td>0</td>\n",
       "      <td>SOTON/OQ 392090</td>\n",
       "      <td>S</td>\n",
       "      <td>0</td>\n",
       "      <td>1912-04-01</td>\n",
       "    </tr>\n",
       "    <tr>\n",
       "      <th>185</th>\n",
       "      <td>3</td>\n",
       "      <td>O'Brien, Mrs. Thomas (Johanna \"Hannah\" Godfrey)</td>\n",
       "      <td>female</td>\n",
       "      <td>28.0</td>\n",
       "      <td>1</td>\n",
       "      <td>0</td>\n",
       "      <td>370365</td>\n",
       "      <td>Q</td>\n",
       "      <td>1</td>\n",
       "      <td>1912-03-25</td>\n",
       "    </tr>\n",
       "    <tr>\n",
       "      <th>213</th>\n",
       "      <td>3</td>\n",
       "      <td>Kiernan, Mr. Philip</td>\n",
       "      <td>male</td>\n",
       "      <td>28.0</td>\n",
       "      <td>1</td>\n",
       "      <td>0</td>\n",
       "      <td>367229</td>\n",
       "      <td>Q</td>\n",
       "      <td>0</td>\n",
       "      <td>1912-02-12</td>\n",
       "    </tr>\n",
       "    <tr>\n",
       "      <th>241</th>\n",
       "      <td>2</td>\n",
       "      <td>Coleridge, Mr. Reginald Charles</td>\n",
       "      <td>male</td>\n",
       "      <td>28.0</td>\n",
       "      <td>0</td>\n",
       "      <td>0</td>\n",
       "      <td>W./C. 14263</td>\n",
       "      <td>S</td>\n",
       "      <td>0</td>\n",
       "      <td>1912-01-31</td>\n",
       "    </tr>\n",
       "  </tbody>\n",
       "</table>\n",
       "</div>"
      ],
      "text/plain": [
       "     Pclass                                             Name   Gendr   Age  \\\n",
       "3         1     Futrelle, Mrs. Jacques Heath (Lily May Peel)  female  28.0   \n",
       "106       3                           Moss, Mr. Albert Johan    male  28.0   \n",
       "156       3                                  Corn, Mr. Harry    male  28.0   \n",
       "185       3  O'Brien, Mrs. Thomas (Johanna \"Hannah\" Godfrey)  female  28.0   \n",
       "213       3                              Kiernan, Mr. Philip    male  28.0   \n",
       "241       2                  Coleridge, Mr. Reginald Charles    male  28.0   \n",
       "\n",
       "     SibSp  Parch           Ticket Embarked  Survived ticket_date  \n",
       "3        1      0           113803        S         1  1912-03-28  \n",
       "106      0      0           312991        S         1  1912-01-27  \n",
       "156      0      0  SOTON/OQ 392090        S         0  1912-04-01  \n",
       "185      1      0           370365        Q         1  1912-03-25  \n",
       "213      1      0           367229        Q         0  1912-02-12  \n",
       "241      0      0      W./C. 14263        S         0  1912-01-31  "
      ]
     },
     "execution_count": 19,
     "metadata": {},
     "output_type": "execute_result"
    }
   ],
   "source": [
    "data.loc[age_na_index]"
   ]
  },
  {
   "cell_type": "code",
   "execution_count": 79,
   "metadata": {},
   "outputs": [
    {
     "data": {
      "text/plain": [
       "Embarked\n",
       "S    638\n",
       "C    165\n",
       "Q     77\n",
       "Name: count, dtype: int64"
      ]
     },
     "execution_count": 79,
     "metadata": {},
     "output_type": "execute_result"
    }
   ],
   "source": [
    "data['Embarked'].value_counts()"
   ]
  },
  {
   "cell_type": "code",
   "execution_count": 80,
   "metadata": {},
   "outputs": [
    {
     "data": {
      "text/html": [
       "<div>\n",
       "<style scoped>\n",
       "    .dataframe tbody tr th:only-of-type {\n",
       "        vertical-align: middle;\n",
       "    }\n",
       "\n",
       "    .dataframe tbody tr th {\n",
       "        vertical-align: top;\n",
       "    }\n",
       "\n",
       "    .dataframe thead th {\n",
       "        text-align: right;\n",
       "    }\n",
       "</style>\n",
       "<table border=\"1\" class=\"dataframe\">\n",
       "  <thead>\n",
       "    <tr style=\"text-align: right;\">\n",
       "      <th></th>\n",
       "      <th>Pclass</th>\n",
       "      <th>Gendr</th>\n",
       "      <th>Age</th>\n",
       "      <th>SibSp</th>\n",
       "      <th>Parch</th>\n",
       "      <th>Ticket</th>\n",
       "      <th>Embarked</th>\n",
       "      <th>Survived</th>\n",
       "      <th>ticket_date</th>\n",
       "    </tr>\n",
       "  </thead>\n",
       "  <tbody>\n",
       "    <tr>\n",
       "      <th>15</th>\n",
       "      <td>2</td>\n",
       "      <td>female</td>\n",
       "      <td>55.0</td>\n",
       "      <td>0</td>\n",
       "      <td>0</td>\n",
       "      <td>248706</td>\n",
       "      <td>S</td>\n",
       "      <td>1</td>\n",
       "      <td>1912-03-05</td>\n",
       "    </tr>\n",
       "    <tr>\n",
       "      <th>322</th>\n",
       "      <td>3</td>\n",
       "      <td>male</td>\n",
       "      <td>28.0</td>\n",
       "      <td>8</td>\n",
       "      <td>2</td>\n",
       "      <td>CA. 2343</td>\n",
       "      <td>S</td>\n",
       "      <td>0</td>\n",
       "      <td>1912-03-26</td>\n",
       "    </tr>\n",
       "  </tbody>\n",
       "</table>\n",
       "</div>"
      ],
      "text/plain": [
       "     Pclass   Gendr   Age  SibSp  Parch    Ticket Embarked  Survived  \\\n",
       "15        2  female  55.0      0      0    248706        S         1   \n",
       "322       3    male  28.0      8      2  CA. 2343        S         0   \n",
       "\n",
       "    ticket_date  \n",
       "15   1912-03-05  \n",
       "322  1912-03-26  "
      ]
     },
     "execution_count": 80,
     "metadata": {},
     "output_type": "execute_result"
    }
   ],
   "source": [
    "data['Embarked'].fillna('S') # Embarked 열의 결측값을 'S'로 대체 ; 최빈값으로 대체\n",
    "# data['Embarked'] = data['Embarked'].fillna('N/A') # Embarked 열의 결측값을 'N/A'로 명시하기도 함 ; 에러방지 위해서\n",
    "data['Embarked'] = data['Embarked'].fillna('S')\n",
    "data.loc[embarked_na_index]\n"
   ]
  },
  {
   "cell_type": "markdown",
   "metadata": {},
   "source": [
    "## Outliers - 이상치 탐지 및 처리\n",
    "\n"
   ]
  },
  {
   "cell_type": "markdown",
   "metadata": {},
   "source": [
    "주요 함수 모음 \n",
    "\n",
    ">data.describe() # 통계량 확인      \n",
    ">\n",
    ">data['Age'].sort_values()  \n",
    "\n",
    "\n",
    ">sns.displot(data['Age']) # Age 열의 분포 확인          \n",
    ">\n",
    ">sns.scatterplot(x = data.index , y = 'Age', data = data)           \n",
    ">\n",
    ">sns.boxplot(data['Age'])        \n",
    "\n",
    ">data[data['Age'] <= 100] # Age가 100세 이하인 데이터만 추출    \n",
    ">     \n",
    ">data['Age'].apply(lambda x: 75 if x > 75 else x).sort_values() # Age 열의 75세 이상을 75으로 대체       "
   ]
  },
  {
   "cell_type": "code",
   "execution_count": 81,
   "metadata": {},
   "outputs": [
    {
     "data": {
      "text/html": [
       "<div>\n",
       "<style scoped>\n",
       "    .dataframe tbody tr th:only-of-type {\n",
       "        vertical-align: middle;\n",
       "    }\n",
       "\n",
       "    .dataframe tbody tr th {\n",
       "        vertical-align: top;\n",
       "    }\n",
       "\n",
       "    .dataframe thead th {\n",
       "        text-align: right;\n",
       "    }\n",
       "</style>\n",
       "<table border=\"1\" class=\"dataframe\">\n",
       "  <thead>\n",
       "    <tr style=\"text-align: right;\">\n",
       "      <th></th>\n",
       "      <th>Pclass</th>\n",
       "      <th>Age</th>\n",
       "      <th>SibSp</th>\n",
       "      <th>Parch</th>\n",
       "      <th>Survived</th>\n",
       "    </tr>\n",
       "  </thead>\n",
       "  <tbody>\n",
       "    <tr>\n",
       "      <th>count</th>\n",
       "      <td>882.000000</td>\n",
       "      <td>876.000000</td>\n",
       "      <td>882.000000</td>\n",
       "      <td>882.000000</td>\n",
       "      <td>882.000000</td>\n",
       "    </tr>\n",
       "    <tr>\n",
       "      <th>mean</th>\n",
       "      <td>2.311791</td>\n",
       "      <td>29.718037</td>\n",
       "      <td>0.520408</td>\n",
       "      <td>0.375283</td>\n",
       "      <td>0.377551</td>\n",
       "    </tr>\n",
       "    <tr>\n",
       "      <th>std</th>\n",
       "      <td>0.835681</td>\n",
       "      <td>13.542098</td>\n",
       "      <td>1.105210</td>\n",
       "      <td>0.804909</td>\n",
       "      <td>0.485049</td>\n",
       "    </tr>\n",
       "    <tr>\n",
       "      <th>min</th>\n",
       "      <td>1.000000</td>\n",
       "      <td>1.000000</td>\n",
       "      <td>0.000000</td>\n",
       "      <td>0.000000</td>\n",
       "      <td>0.000000</td>\n",
       "    </tr>\n",
       "    <tr>\n",
       "      <th>25%</th>\n",
       "      <td>2.000000</td>\n",
       "      <td>22.000000</td>\n",
       "      <td>0.000000</td>\n",
       "      <td>0.000000</td>\n",
       "      <td>0.000000</td>\n",
       "    </tr>\n",
       "    <tr>\n",
       "      <th>50%</th>\n",
       "      <td>3.000000</td>\n",
       "      <td>28.000000</td>\n",
       "      <td>0.000000</td>\n",
       "      <td>0.000000</td>\n",
       "      <td>0.000000</td>\n",
       "    </tr>\n",
       "    <tr>\n",
       "      <th>75%</th>\n",
       "      <td>3.000000</td>\n",
       "      <td>35.000000</td>\n",
       "      <td>1.000000</td>\n",
       "      <td>0.000000</td>\n",
       "      <td>1.000000</td>\n",
       "    </tr>\n",
       "    <tr>\n",
       "      <th>max</th>\n",
       "      <td>3.000000</td>\n",
       "      <td>145.000000</td>\n",
       "      <td>8.000000</td>\n",
       "      <td>6.000000</td>\n",
       "      <td>1.000000</td>\n",
       "    </tr>\n",
       "  </tbody>\n",
       "</table>\n",
       "</div>"
      ],
      "text/plain": [
       "           Pclass         Age       SibSp       Parch    Survived\n",
       "count  882.000000  876.000000  882.000000  882.000000  882.000000\n",
       "mean     2.311791   29.718037    0.520408    0.375283    0.377551\n",
       "std      0.835681   13.542098    1.105210    0.804909    0.485049\n",
       "min      1.000000    1.000000    0.000000    0.000000    0.000000\n",
       "25%      2.000000   22.000000    0.000000    0.000000    0.000000\n",
       "50%      3.000000   28.000000    0.000000    0.000000    0.000000\n",
       "75%      3.000000   35.000000    1.000000    0.000000    1.000000\n",
       "max      3.000000  145.000000    8.000000    6.000000    1.000000"
      ]
     },
     "execution_count": 81,
     "metadata": {},
     "output_type": "execute_result"
    }
   ],
   "source": [
    "data.describe() # 통계량 확인"
   ]
  },
  {
   "cell_type": "code",
   "execution_count": 82,
   "metadata": {},
   "outputs": [
    {
     "data": {
      "text/plain": [
       "785    1.0\n",
       "163    1.0\n",
       "379    1.0\n",
       "182    1.0\n",
       "384    1.0\n",
       "      ... \n",
       "106    NaN\n",
       "156    NaN\n",
       "185    NaN\n",
       "213    NaN\n",
       "241    NaN\n",
       "Name: Age, Length: 882, dtype: float64"
      ]
     },
     "execution_count": 82,
     "metadata": {},
     "output_type": "execute_result"
    }
   ],
   "source": [
    "data['Age'].sort_values()"
   ]
  },
  {
   "cell_type": "code",
   "execution_count": 83,
   "metadata": {},
   "outputs": [
    {
     "data": {
      "text/plain": [
       "<seaborn.axisgrid.FacetGrid at 0x11ea705c0>"
      ]
     },
     "execution_count": 83,
     "metadata": {},
     "output_type": "execute_result"
    },
    {
     "data": {
      "image/png": "[encoded data removed]",
      "text/plain": [
       "<Figure size 500x500 with 1 Axes>"
      ]
     },
     "metadata": {},
     "output_type": "display_data"
    }
   ],
   "source": [
    "sns.displot(data['Age']) # Age 열의 분포 확인"
   ]
  },
  {
   "cell_type": "code",
   "execution_count": 84,
   "metadata": {},
   "outputs": [
    {
     "data": {
      "text/plain": [
       "<Axes: xlabel='None', ylabel='Age'>"
      ]
     },
     "execution_count": 84,
     "metadata": {},
     "output_type": "execute_result"
    },
    {
     "data": {
      "image/png": "[encoded data removed]",
      "text/plain": [
       "<Figure size 640x480 with 1 Axes>"
      ]
     },
     "metadata": {},
     "output_type": "display_data"
    }
   ],
   "source": [
    "sns.scatterplot(x = data.index , y = 'Age', data = data)"
   ]
  },
  {
   "cell_type": "code",
   "execution_count": 85,
   "metadata": {},
   "outputs": [
    {
     "data": {
      "text/plain": [
       "<Axes: ylabel='Age'>"
      ]
     },
     "execution_count": 85,
     "metadata": {},
     "output_type": "execute_result"
    },
    {
     "data": {
      "image/png": "[encoded data removed]",
      "text/plain": [
       "<Figure size 640x480 with 1 Axes>"
      ]
     },
     "metadata": {},
     "output_type": "display_data"
    }
   ],
   "source": [
    "sns.boxplot(data['Age'])"
   ]
  },
  {
   "cell_type": "markdown",
   "metadata": {},
   "source": [
    "IQR = 75% - 25%         \n",
    "IQR * 1.5"
   ]
  },
  {
   "cell_type": "code",
   "execution_count": 86,
   "metadata": {},
   "outputs": [
    {
     "data": {
      "text/plain": [
       "683    4\n",
       "163    4\n",
       "844    4\n",
       "71     5\n",
       "60     5\n",
       "477    5\n",
       "384    5\n",
       "680    5\n",
       "840    8\n",
       "158    8\n",
       "322    8\n",
       "789    8\n",
       "200    8\n",
       "179    8\n",
       "857    8\n",
       "Name: SibSp, dtype: int64"
      ]
     },
     "execution_count": 86,
     "metadata": {},
     "output_type": "execute_result"
    }
   ],
   "source": [
    "data['SibSp'].sort_values().tail(15)"
   ]
  },
  {
   "cell_type": "code",
   "execution_count": 87,
   "metadata": {},
   "outputs": [
    {
     "data": {
      "text/plain": [
       "<seaborn.axisgrid.FacetGrid at 0x11f130890>"
      ]
     },
     "execution_count": 87,
     "metadata": {},
     "output_type": "execute_result"
    },
    {
     "data": {
      "image/png": "[encoded data removed]",
      "text/plain": [
       "<Figure size 500x500 with 1 Axes>"
      ]
     },
     "metadata": {},
     "output_type": "display_data"
    }
   ],
   "source": [
    "sns.displot(data['SibSp'])"
   ]
  },
  {
   "cell_type": "code",
   "execution_count": 88,
   "metadata": {},
   "outputs": [
    {
     "data": {
      "text/plain": [
       "<Axes: xlabel='None', ylabel='SibSp'>"
      ]
     },
     "execution_count": 88,
     "metadata": {},
     "output_type": "execute_result"
    },
    {
     "data": {
      "image/png": "[encoded data removed]",
      "text/plain": [
       "<Figure size 640x480 with 1 Axes>"
      ]
     },
     "metadata": {},
     "output_type": "display_data"
    }
   ],
   "source": [
    "sns.scatterplot(x = data.index , y = 'SibSp', data = data) # Age와 Fare의 관계 확인"
   ]
  },
  {
   "cell_type": "code",
   "execution_count": 89,
   "metadata": {},
   "outputs": [],
   "source": [
    "data['Age'] <= 100\n",
    "data[data['Age'] <= 100] # Age가 100세 이하인 데이터만 추출\n",
    "data = data[data['Age'] <= 100] # Age가 100세 이하인 데이터만 추출\n"
   ]
  },
  {
   "cell_type": "code",
   "execution_count": 90,
   "metadata": {},
   "outputs": [
    {
     "data": {
      "text/plain": [
       "480    63.0\n",
       "274    63.0\n",
       "542    64.0\n",
       "436    64.0\n",
       "55     65.0\n",
       "454    65.0\n",
       "34     66.0\n",
       "743    70.0\n",
       "669    70.0\n",
       "115    70.5\n",
       "490    71.0\n",
       "95     71.0\n",
       "845    74.0\n",
       "627    80.0\n",
       "279    97.0\n",
       "Name: Age, dtype: float64"
      ]
     },
     "execution_count": 90,
     "metadata": {},
     "output_type": "execute_result"
    }
   ],
   "source": [
    "data['Age'].sort_values().tail(15)"
   ]
  },
  {
   "cell_type": "code",
   "execution_count": 91,
   "metadata": {},
   "outputs": [
    {
     "data": {
      "text/plain": [
       "480    63.0\n",
       "274    63.0\n",
       "542    64.0\n",
       "436    64.0\n",
       "55     65.0\n",
       "454    65.0\n",
       "34     66.0\n",
       "743    70.0\n",
       "669    70.0\n",
       "115    70.5\n",
       "490    71.0\n",
       "95     71.0\n",
       "845    74.0\n",
       "279    80.0\n",
       "627    80.0\n",
       "Name: Age, dtype: float64"
      ]
     },
     "execution_count": 91,
     "metadata": {},
     "output_type": "execute_result"
    }
   ],
   "source": [
    "def age_func(x):\n",
    "    if x > 80 :\n",
    "        return 80\n",
    "    else:\n",
    "        return x\n",
    "# lambda x: 80 if x > 80 else x\n",
    "# Age 열의 80세 이상을 80으로 대체\n",
    "\n",
    "data['Age'].apply(age_func)\n",
    "\n",
    "data['Age'].apply(age_func).sort_values().tail(15)"
   ]
  },
  {
   "cell_type": "code",
   "execution_count": 92,
   "metadata": {},
   "outputs": [
    {
     "data": {
      "text/plain": [
       "454    65.0\n",
       "34     66.0\n",
       "743    70.0\n",
       "669    70.0\n",
       "115    70.5\n",
       "490    71.0\n",
       "95     71.0\n",
       "845    74.0\n",
       "279    75.0\n",
       "627    75.0\n",
       "Name: Age, dtype: float64"
      ]
     },
     "execution_count": 92,
     "metadata": {},
     "output_type": "execute_result"
    }
   ],
   "source": [
    "data['Age'].apply(lambda x: 75 if x > 75 else x) # Age 열의 75세 이상을 75으로 대체\n",
    "data['Age'].apply(lambda x: 75 if x > 75 else x).sort_values().tail(10) # Age 열의 75세 이상을 75으로 대체"
   ]
  },
  {
   "cell_type": "code",
   "execution_count": 95,
   "metadata": {},
   "outputs": [],
   "source": [
    "data.loc[:,'Age'] = data['Age'].apply(age_func)"
   ]
  },
  {
   "cell_type": "markdown",
   "metadata": {},
   "source": [
    "## Removing duplicate data, apply, map, replace, rename\n",
    "중복 데이터 처리 및 데이터 형태 변환처리"
   ]
  },
  {
   "cell_type": "markdown",
   "metadata": {},
   "source": [
    "주요 함수 모음\n",
    "\n",
    "data.duplicated() # 중복된 행 확인 => True/False로 반환 \n",
    "\n",
    "data[data.duplicated()] # 중복된 행 확인    \n",
    "\n",
    "data.drop_duplicates() # 중복된 행 삭제     \n",
    "\n",
    "data.rename({'Gendr' : 'Gender'}, axis = 1) # 컬럼 (axis = 1) 이름 변경    \n",
    "\n",
    "data.rename({ 0 : 'a', 1 : 'b', 2 : 'c'}) # 행 이름 변경 (index 이름 변경)      \n",
    "\n",
    "data.replace({0: 999}) # 모든 0을 999로 변경        \n",
    "\n",
    "data['Embarked'].replace({'S' : 'Southampton', 'C' : 'Cherbourg', 'Q' : 'Queenstown'}) \n",
    ">>  Embarked 열의 값을 변경; Series,DataFrame        \n",
    "\n",
    "data['Embarked'].map({'S' : 'Southampton', 'C' : 'Cherbourg', 'Q' : 'Queenstown'}) \n",
    ">> Embarked 열의 값을 변경; replace와 유사하나, `pandas series` 에만 적용됨 \n",
    ">> `.map(함수)` 사용하여 함수 적용 가능 => apply(함수)와 유사 (차이점: apply는 DataFrame에도 사용가능)\n",
    "\n",
    "\n",
    "\n"
   ]
  },
  {
   "cell_type": "markdown",
   "metadata": {},
   "source": [
    "#### replace / map / apply\n",
    "replace, map, apply는 모두 Pandas에서 데이터 변환 및 처리를 위해 사용되는 메서드\n",
    "\n",
    "`replace`\n",
    ">목적: 특정 값 또는 패턴을 다른 값으로 대체.        \n",
    ">적용 범위: 데이터프레임 전체 또는 특정 열/시리즈.      \n",
    "> 특징: 값 또는 값의 집합을 다른 값으로 대체. 정규 표현식 지원 가능(regex=True).        \n",
    "\n",
    "`map`\n",
    ">목적: 시리즈의 각 요소를 함수, 딕셔너리, 또는 시리즈를 사용해 변환.        \n",
    ">적용 범위: 시리즈에만 적용 가능.       \n",
    ">특징: 딕셔너리를 사용해 값 매핑 가능. 함수를 사용해 각 요소를 변환 가능.       \n",
    "\n",
    "`apply`\n",
    ">목적: 데이터프레임 또는 시리즈의 각 요소에 함수를 적용.        \n",
    ">적용 범위: 시리즈 또는 데이터프레임.       \n",
    "특징: (시리즈) 각 요소에 함수 적용. (데이터프레임) 행(axis=1) 또는 열(axis=0) 단위로 함수 적용.     "
   ]
  },
  {
   "cell_type": "markdown",
   "metadata": {},
   "source": [
    "### 중복 데이터 처리"
   ]
  },
  {
   "cell_type": "code",
   "execution_count": 62,
   "metadata": {},
   "outputs": [
    {
     "data": {
      "text/html": [
       "<div>\n",
       "<style scoped>\n",
       "    .dataframe tbody tr th:only-of-type {\n",
       "        vertical-align: middle;\n",
       "    }\n",
       "\n",
       "    .dataframe tbody tr th {\n",
       "        vertical-align: top;\n",
       "    }\n",
       "\n",
       "    .dataframe thead th {\n",
       "        text-align: right;\n",
       "    }\n",
       "</style>\n",
       "<table border=\"1\" class=\"dataframe\">\n",
       "  <thead>\n",
       "    <tr style=\"text-align: right;\">\n",
       "      <th></th>\n",
       "      <th>Pclass</th>\n",
       "      <th>Name</th>\n",
       "      <th>Gendr</th>\n",
       "      <th>Age</th>\n",
       "      <th>SibSp</th>\n",
       "      <th>Parch</th>\n",
       "      <th>Ticket</th>\n",
       "      <th>Embarked</th>\n",
       "      <th>Survived</th>\n",
       "      <th>ticket_date</th>\n",
       "    </tr>\n",
       "  </thead>\n",
       "  <tbody>\n",
       "    <tr>\n",
       "      <th>25</th>\n",
       "      <td>3</td>\n",
       "      <td>Palsson, Miss. Torborg Danira</td>\n",
       "      <td>female</td>\n",
       "      <td>8.0</td>\n",
       "      <td>3</td>\n",
       "      <td>1</td>\n",
       "      <td>349909</td>\n",
       "      <td>S</td>\n",
       "      <td>0</td>\n",
       "      <td>1912-03-14</td>\n",
       "    </tr>\n",
       "    <tr>\n",
       "      <th>632</th>\n",
       "      <td>3</td>\n",
       "      <td>Skoog, Miss. Mabel</td>\n",
       "      <td>female</td>\n",
       "      <td>9.0</td>\n",
       "      <td>3</td>\n",
       "      <td>2</td>\n",
       "      <td>347088</td>\n",
       "      <td>S</td>\n",
       "      <td>0</td>\n",
       "      <td>1912-03-16</td>\n",
       "    </tr>\n",
       "    <tr>\n",
       "      <th>714</th>\n",
       "      <td>1</td>\n",
       "      <td>Endres, Miss. Caroline Louise</td>\n",
       "      <td>female</td>\n",
       "      <td>38.0</td>\n",
       "      <td>0</td>\n",
       "      <td>0</td>\n",
       "      <td>PC 17757</td>\n",
       "      <td>C</td>\n",
       "      <td>1</td>\n",
       "      <td>1912-03-14</td>\n",
       "    </tr>\n",
       "  </tbody>\n",
       "</table>\n",
       "</div>"
      ],
      "text/plain": [
       "     Pclass                           Name   Gendr   Age  SibSp  Parch  \\\n",
       "25        3  Palsson, Miss. Torborg Danira  female   8.0      3      1   \n",
       "632       3             Skoog, Miss. Mabel  female   9.0      3      2   \n",
       "714       1  Endres, Miss. Caroline Louise  female  38.0      0      0   \n",
       "\n",
       "       Ticket Embarked  Survived ticket_date  \n",
       "25     349909        S         0  1912-03-14  \n",
       "632    347088        S         0  1912-03-16  \n",
       "714  PC 17757        C         1  1912-03-14  "
      ]
     },
     "execution_count": 62,
     "metadata": {},
     "output_type": "execute_result"
    }
   ],
   "source": [
    "data.duplicated() # 중복된 행 확인 => True/False로 반환\n",
    "data[data.duplicated()] # 중복된 행 확인"
   ]
  },
  {
   "cell_type": "code",
   "execution_count": 63,
   "metadata": {},
   "outputs": [
    {
     "data": {
      "text/html": [
       "<div>\n",
       "<style scoped>\n",
       "    .dataframe tbody tr th:only-of-type {\n",
       "        vertical-align: middle;\n",
       "    }\n",
       "\n",
       "    .dataframe tbody tr th {\n",
       "        vertical-align: top;\n",
       "    }\n",
       "\n",
       "    .dataframe thead th {\n",
       "        text-align: right;\n",
       "    }\n",
       "</style>\n",
       "<table border=\"1\" class=\"dataframe\">\n",
       "  <thead>\n",
       "    <tr style=\"text-align: right;\">\n",
       "      <th></th>\n",
       "      <th>Pclass</th>\n",
       "      <th>Name</th>\n",
       "      <th>Gendr</th>\n",
       "      <th>Age</th>\n",
       "      <th>SibSp</th>\n",
       "      <th>Parch</th>\n",
       "      <th>Ticket</th>\n",
       "      <th>Embarked</th>\n",
       "      <th>Survived</th>\n",
       "      <th>ticket_date</th>\n",
       "    </tr>\n",
       "  </thead>\n",
       "  <tbody>\n",
       "    <tr>\n",
       "      <th>24</th>\n",
       "      <td>3</td>\n",
       "      <td>Palsson, Miss. Torborg Danira</td>\n",
       "      <td>female</td>\n",
       "      <td>8.0</td>\n",
       "      <td>3</td>\n",
       "      <td>1</td>\n",
       "      <td>349909</td>\n",
       "      <td>S</td>\n",
       "      <td>0</td>\n",
       "      <td>1912-03-14</td>\n",
       "    </tr>\n",
       "    <tr>\n",
       "      <th>25</th>\n",
       "      <td>3</td>\n",
       "      <td>Palsson, Miss. Torborg Danira</td>\n",
       "      <td>female</td>\n",
       "      <td>8.0</td>\n",
       "      <td>3</td>\n",
       "      <td>1</td>\n",
       "      <td>349909</td>\n",
       "      <td>S</td>\n",
       "      <td>0</td>\n",
       "      <td>1912-03-14</td>\n",
       "    </tr>\n",
       "  </tbody>\n",
       "</table>\n",
       "</div>"
      ],
      "text/plain": [
       "    Pclass                           Name   Gendr  Age  SibSp  Parch  Ticket  \\\n",
       "24       3  Palsson, Miss. Torborg Danira  female  8.0      3      1  349909   \n",
       "25       3  Palsson, Miss. Torborg Danira  female  8.0      3      1  349909   \n",
       "\n",
       "   Embarked  Survived ticket_date  \n",
       "24        S         0  1912-03-14  \n",
       "25        S         0  1912-03-14  "
      ]
     },
     "execution_count": 63,
     "metadata": {},
     "output_type": "execute_result"
    }
   ],
   "source": [
    "data[data['Name'] == 'Palsson, Miss. Torborg Danira'] # 중복된 행 확인"
   ]
  },
  {
   "cell_type": "code",
   "execution_count": 64,
   "metadata": {},
   "outputs": [],
   "source": [
    "data.drop_duplicates() # 중복된 행 삭제\n",
    "data = data.drop_duplicates() # 중복된 행 삭제"
   ]
  },
  {
   "cell_type": "markdown",
   "metadata": {},
   "source": [
    "### 변경하기 (컬럼이름/인덱스이름/데이터)"
   ]
  },
  {
   "cell_type": "code",
   "execution_count": 99,
   "metadata": {},
   "outputs": [],
   "source": [
    "# 컬럼 이름 변경\n",
    "data.rename({'Gendr' : 'Gender'}, axis = 1) # 컬럼 이름 변경\n",
    "# data.rename(columns = {'Pclass':'Passenger Class', 'SibSp':'Siblings/Spouses', 'Parch':'Parents/Children'} ) # 열 이름 변경\n",
    "data = data.rename({'Gendr' : 'Gender'}, axis = 1)"
   ]
  },
  {
   "cell_type": "code",
   "execution_count": null,
   "metadata": {},
   "outputs": [
    {
     "data": {
      "text/html": [
       "<div>\n",
       "<style scoped>\n",
       "    .dataframe tbody tr th:only-of-type {\n",
       "        vertical-align: middle;\n",
       "    }\n",
       "\n",
       "    .dataframe tbody tr th {\n",
       "        vertical-align: top;\n",
       "    }\n",
       "\n",
       "    .dataframe thead th {\n",
       "        text-align: right;\n",
       "    }\n",
       "</style>\n",
       "<table border=\"1\" class=\"dataframe\">\n",
       "  <thead>\n",
       "    <tr style=\"text-align: right;\">\n",
       "      <th></th>\n",
       "      <th>Pclass</th>\n",
       "      <th>Gender</th>\n",
       "      <th>Age</th>\n",
       "      <th>SibSp</th>\n",
       "      <th>Parch</th>\n",
       "      <th>Ticket</th>\n",
       "      <th>Embarked</th>\n",
       "      <th>Survived</th>\n",
       "      <th>ticket_date</th>\n",
       "    </tr>\n",
       "  </thead>\n",
       "  <tbody>\n",
       "    <tr>\n",
       "      <th>a</th>\n",
       "      <td>3</td>\n",
       "      <td>male</td>\n",
       "      <td>22.0</td>\n",
       "      <td>1</td>\n",
       "      <td>0</td>\n",
       "      <td>A/5 21171</td>\n",
       "      <td>S</td>\n",
       "      <td>0</td>\n",
       "      <td>1912-01-12</td>\n",
       "    </tr>\n",
       "    <tr>\n",
       "      <th>b</th>\n",
       "      <td>1</td>\n",
       "      <td>female</td>\n",
       "      <td>38.0</td>\n",
       "      <td>1</td>\n",
       "      <td>0</td>\n",
       "      <td>PC 17599</td>\n",
       "      <td>C</td>\n",
       "      <td>1</td>\n",
       "      <td>1912-03-29</td>\n",
       "    </tr>\n",
       "    <tr>\n",
       "      <th>c</th>\n",
       "      <td>3</td>\n",
       "      <td>female</td>\n",
       "      <td>26.0</td>\n",
       "      <td>0</td>\n",
       "      <td>0</td>\n",
       "      <td>STON/O2. 3101282</td>\n",
       "      <td>S</td>\n",
       "      <td>1</td>\n",
       "      <td>1912-02-23</td>\n",
       "    </tr>\n",
       "    <tr>\n",
       "      <th>4</th>\n",
       "      <td>3</td>\n",
       "      <td>male</td>\n",
       "      <td>35.0</td>\n",
       "      <td>0</td>\n",
       "      <td>0</td>\n",
       "      <td>373450</td>\n",
       "      <td>S</td>\n",
       "      <td>0</td>\n",
       "      <td>1912-04-03</td>\n",
       "    </tr>\n",
       "    <tr>\n",
       "      <th>5</th>\n",
       "      <td>3</td>\n",
       "      <td>male</td>\n",
       "      <td>28.0</td>\n",
       "      <td>0</td>\n",
       "      <td>0</td>\n",
       "      <td>330877</td>\n",
       "      <td>Q</td>\n",
       "      <td>0</td>\n",
       "      <td>1912-03-30</td>\n",
       "    </tr>\n",
       "    <tr>\n",
       "      <th>...</th>\n",
       "      <td>...</td>\n",
       "      <td>...</td>\n",
       "      <td>...</td>\n",
       "      <td>...</td>\n",
       "      <td>...</td>\n",
       "      <td>...</td>\n",
       "      <td>...</td>\n",
       "      <td>...</td>\n",
       "      <td>...</td>\n",
       "    </tr>\n",
       "    <tr>\n",
       "      <th>880</th>\n",
       "      <td>2</td>\n",
       "      <td>male</td>\n",
       "      <td>27.0</td>\n",
       "      <td>0</td>\n",
       "      <td>0</td>\n",
       "      <td>211536</td>\n",
       "      <td>S</td>\n",
       "      <td>0</td>\n",
       "      <td>1912-01-29</td>\n",
       "    </tr>\n",
       "    <tr>\n",
       "      <th>881</th>\n",
       "      <td>1</td>\n",
       "      <td>female</td>\n",
       "      <td>19.0</td>\n",
       "      <td>0</td>\n",
       "      <td>0</td>\n",
       "      <td>112053</td>\n",
       "      <td>S</td>\n",
       "      <td>1</td>\n",
       "      <td>1912-03-30</td>\n",
       "    </tr>\n",
       "    <tr>\n",
       "      <th>882</th>\n",
       "      <td>3</td>\n",
       "      <td>female</td>\n",
       "      <td>28.0</td>\n",
       "      <td>1</td>\n",
       "      <td>2</td>\n",
       "      <td>W./C. 6607</td>\n",
       "      <td>S</td>\n",
       "      <td>0</td>\n",
       "      <td>1912-04-07</td>\n",
       "    </tr>\n",
       "    <tr>\n",
       "      <th>883</th>\n",
       "      <td>1</td>\n",
       "      <td>male</td>\n",
       "      <td>26.0</td>\n",
       "      <td>0</td>\n",
       "      <td>0</td>\n",
       "      <td>111369</td>\n",
       "      <td>C</td>\n",
       "      <td>1</td>\n",
       "      <td>1912-03-01</td>\n",
       "    </tr>\n",
       "    <tr>\n",
       "      <th>884</th>\n",
       "      <td>3</td>\n",
       "      <td>male</td>\n",
       "      <td>32.0</td>\n",
       "      <td>0</td>\n",
       "      <td>0</td>\n",
       "      <td>370376</td>\n",
       "      <td>Q</td>\n",
       "      <td>0</td>\n",
       "      <td>1912-03-05</td>\n",
       "    </tr>\n",
       "  </tbody>\n",
       "</table>\n",
       "<p>875 rows × 9 columns</p>\n",
       "</div>"
      ],
      "text/plain": [
       "     Pclass  Gender   Age  SibSp  Parch            Ticket Embarked  Survived  \\\n",
       "a         3    male  22.0      1      0         A/5 21171        S         0   \n",
       "b         1  female  38.0      1      0          PC 17599        C         1   \n",
       "c         3  female  26.0      0      0  STON/O2. 3101282        S         1   \n",
       "4         3    male  35.0      0      0            373450        S         0   \n",
       "5         3    male  28.0      0      0            330877        Q         0   \n",
       "..      ...     ...   ...    ...    ...               ...      ...       ...   \n",
       "880       2    male  27.0      0      0            211536        S         0   \n",
       "881       1  female  19.0      0      0            112053        S         1   \n",
       "882       3  female  28.0      1      2        W./C. 6607        S         0   \n",
       "883       1    male  26.0      0      0            111369        C         1   \n",
       "884       3    male  32.0      0      0            370376        Q         0   \n",
       "\n",
       "    ticket_date  \n",
       "a    1912-01-12  \n",
       "b    1912-03-29  \n",
       "c    1912-02-23  \n",
       "4    1912-04-03  \n",
       "5    1912-03-30  \n",
       "..          ...  \n",
       "880  1912-01-29  \n",
       "881  1912-03-30  \n",
       "882  1912-04-07  \n",
       "883  1912-03-01  \n",
       "884  1912-03-05  \n",
       "\n",
       "[875 rows x 9 columns]"
      ]
     },
     "execution_count": 100,
     "metadata": {},
     "output_type": "execute_result"
    }
   ],
   "source": [
    "data.rename({ 0 : 'a', 1 : 'b', 2 : 'c'}) # 행 이름 변경 (index 이름 변경)\n",
    "# data.rename({ 0 : 'a', 1 : 'b', 2 : 'c'}, axis = 0) # 행 이름 변경 (index 이름 변경)"
   ]
  },
  {
   "cell_type": "code",
   "execution_count": 101,
   "metadata": {},
   "outputs": [
    {
     "data": {
      "text/plain": [
       "0      Southampton\n",
       "1        Cherbourg\n",
       "2      Southampton\n",
       "4      Southampton\n",
       "5       Queenstown\n",
       "          ...     \n",
       "880    Southampton\n",
       "881    Southampton\n",
       "882    Southampton\n",
       "883      Cherbourg\n",
       "884     Queenstown\n",
       "Name: Embarked, Length: 875, dtype: object"
      ]
     },
     "execution_count": 101,
     "metadata": {},
     "output_type": "execute_result"
    }
   ],
   "source": [
    "data['Embarked'].replace({'S' : 'Southampton', 'C' : 'Cherbourg', 'Q' : 'Queenstown'}) # Embarked 열의 값을 변경"
   ]
  },
  {
   "cell_type": "code",
   "execution_count": 102,
   "metadata": {},
   "outputs": [
    {
     "data": {
      "text/html": [
       "<div>\n",
       "<style scoped>\n",
       "    .dataframe tbody tr th:only-of-type {\n",
       "        vertical-align: middle;\n",
       "    }\n",
       "\n",
       "    .dataframe tbody tr th {\n",
       "        vertical-align: top;\n",
       "    }\n",
       "\n",
       "    .dataframe thead th {\n",
       "        text-align: right;\n",
       "    }\n",
       "</style>\n",
       "<table border=\"1\" class=\"dataframe\">\n",
       "  <thead>\n",
       "    <tr style=\"text-align: right;\">\n",
       "      <th></th>\n",
       "      <th>Pclass</th>\n",
       "      <th>Gender</th>\n",
       "      <th>Age</th>\n",
       "      <th>SibSp</th>\n",
       "      <th>Parch</th>\n",
       "      <th>Ticket</th>\n",
       "      <th>Embarked</th>\n",
       "      <th>Survived</th>\n",
       "      <th>ticket_date</th>\n",
       "    </tr>\n",
       "  </thead>\n",
       "  <tbody>\n",
       "    <tr>\n",
       "      <th>0</th>\n",
       "      <td>3</td>\n",
       "      <td>male</td>\n",
       "      <td>22.0</td>\n",
       "      <td>1</td>\n",
       "      <td>999</td>\n",
       "      <td>A/5 21171</td>\n",
       "      <td>S</td>\n",
       "      <td>999</td>\n",
       "      <td>1912-01-12</td>\n",
       "    </tr>\n",
       "    <tr>\n",
       "      <th>1</th>\n",
       "      <td>1</td>\n",
       "      <td>female</td>\n",
       "      <td>38.0</td>\n",
       "      <td>1</td>\n",
       "      <td>999</td>\n",
       "      <td>PC 17599</td>\n",
       "      <td>C</td>\n",
       "      <td>1</td>\n",
       "      <td>1912-03-29</td>\n",
       "    </tr>\n",
       "    <tr>\n",
       "      <th>2</th>\n",
       "      <td>3</td>\n",
       "      <td>female</td>\n",
       "      <td>26.0</td>\n",
       "      <td>999</td>\n",
       "      <td>999</td>\n",
       "      <td>STON/O2. 3101282</td>\n",
       "      <td>S</td>\n",
       "      <td>1</td>\n",
       "      <td>1912-02-23</td>\n",
       "    </tr>\n",
       "    <tr>\n",
       "      <th>4</th>\n",
       "      <td>3</td>\n",
       "      <td>male</td>\n",
       "      <td>35.0</td>\n",
       "      <td>999</td>\n",
       "      <td>999</td>\n",
       "      <td>373450</td>\n",
       "      <td>S</td>\n",
       "      <td>999</td>\n",
       "      <td>1912-04-03</td>\n",
       "    </tr>\n",
       "    <tr>\n",
       "      <th>5</th>\n",
       "      <td>3</td>\n",
       "      <td>male</td>\n",
       "      <td>28.0</td>\n",
       "      <td>999</td>\n",
       "      <td>999</td>\n",
       "      <td>330877</td>\n",
       "      <td>Q</td>\n",
       "      <td>999</td>\n",
       "      <td>1912-03-30</td>\n",
       "    </tr>\n",
       "    <tr>\n",
       "      <th>...</th>\n",
       "      <td>...</td>\n",
       "      <td>...</td>\n",
       "      <td>...</td>\n",
       "      <td>...</td>\n",
       "      <td>...</td>\n",
       "      <td>...</td>\n",
       "      <td>...</td>\n",
       "      <td>...</td>\n",
       "      <td>...</td>\n",
       "    </tr>\n",
       "    <tr>\n",
       "      <th>880</th>\n",
       "      <td>2</td>\n",
       "      <td>male</td>\n",
       "      <td>27.0</td>\n",
       "      <td>999</td>\n",
       "      <td>999</td>\n",
       "      <td>211536</td>\n",
       "      <td>S</td>\n",
       "      <td>999</td>\n",
       "      <td>1912-01-29</td>\n",
       "    </tr>\n",
       "    <tr>\n",
       "      <th>881</th>\n",
       "      <td>1</td>\n",
       "      <td>female</td>\n",
       "      <td>19.0</td>\n",
       "      <td>999</td>\n",
       "      <td>999</td>\n",
       "      <td>112053</td>\n",
       "      <td>S</td>\n",
       "      <td>1</td>\n",
       "      <td>1912-03-30</td>\n",
       "    </tr>\n",
       "    <tr>\n",
       "      <th>882</th>\n",
       "      <td>3</td>\n",
       "      <td>female</td>\n",
       "      <td>28.0</td>\n",
       "      <td>1</td>\n",
       "      <td>2</td>\n",
       "      <td>W./C. 6607</td>\n",
       "      <td>S</td>\n",
       "      <td>999</td>\n",
       "      <td>1912-04-07</td>\n",
       "    </tr>\n",
       "    <tr>\n",
       "      <th>883</th>\n",
       "      <td>1</td>\n",
       "      <td>male</td>\n",
       "      <td>26.0</td>\n",
       "      <td>999</td>\n",
       "      <td>999</td>\n",
       "      <td>111369</td>\n",
       "      <td>C</td>\n",
       "      <td>1</td>\n",
       "      <td>1912-03-01</td>\n",
       "    </tr>\n",
       "    <tr>\n",
       "      <th>884</th>\n",
       "      <td>3</td>\n",
       "      <td>male</td>\n",
       "      <td>32.0</td>\n",
       "      <td>999</td>\n",
       "      <td>999</td>\n",
       "      <td>370376</td>\n",
       "      <td>Q</td>\n",
       "      <td>999</td>\n",
       "      <td>1912-03-05</td>\n",
       "    </tr>\n",
       "  </tbody>\n",
       "</table>\n",
       "<p>875 rows × 9 columns</p>\n",
       "</div>"
      ],
      "text/plain": [
       "     Pclass  Gender   Age  SibSp  Parch            Ticket Embarked  Survived  \\\n",
       "0         3    male  22.0      1    999         A/5 21171        S       999   \n",
       "1         1  female  38.0      1    999          PC 17599        C         1   \n",
       "2         3  female  26.0    999    999  STON/O2. 3101282        S         1   \n",
       "4         3    male  35.0    999    999            373450        S       999   \n",
       "5         3    male  28.0    999    999            330877        Q       999   \n",
       "..      ...     ...   ...    ...    ...               ...      ...       ...   \n",
       "880       2    male  27.0    999    999            211536        S       999   \n",
       "881       1  female  19.0    999    999            112053        S         1   \n",
       "882       3  female  28.0      1      2        W./C. 6607        S       999   \n",
       "883       1    male  26.0    999    999            111369        C         1   \n",
       "884       3    male  32.0    999    999            370376        Q       999   \n",
       "\n",
       "    ticket_date  \n",
       "0    1912-01-12  \n",
       "1    1912-03-29  \n",
       "2    1912-02-23  \n",
       "4    1912-04-03  \n",
       "5    1912-03-30  \n",
       "..          ...  \n",
       "880  1912-01-29  \n",
       "881  1912-03-30  \n",
       "882  1912-04-07  \n",
       "883  1912-03-01  \n",
       "884  1912-03-05  \n",
       "\n",
       "[875 rows x 9 columns]"
      ]
     },
     "execution_count": 102,
     "metadata": {},
     "output_type": "execute_result"
    }
   ],
   "source": [
    "data.replace({0: 999}) # 모든 0을 999로 변경"
   ]
  },
  {
   "cell_type": "code",
   "execution_count": 103,
   "metadata": {},
   "outputs": [
    {
     "data": {
      "text/plain": [
       "0      Southampton\n",
       "1        Cherbourg\n",
       "2      Southampton\n",
       "4      Southampton\n",
       "5       Queenstown\n",
       "          ...     \n",
       "880    Southampton\n",
       "881    Southampton\n",
       "882    Southampton\n",
       "883      Cherbourg\n",
       "884     Queenstown\n",
       "Name: Embarked, Length: 875, dtype: object"
      ]
     },
     "execution_count": 103,
     "metadata": {},
     "output_type": "execute_result"
    }
   ],
   "source": [
    "data['Embarked'].map({'S' : 'Southampton', 'C' : 'Cherbourg', 'Q' : 'Queenstown'})"
   ]
  },
  {
   "cell_type": "code",
   "execution_count": 104,
   "metadata": {},
   "outputs": [
    {
     "data": {
      "text/plain": [
       "0      1\n",
       "1      1\n",
       "2      1\n",
       "4      1\n",
       "5      1\n",
       "      ..\n",
       "880    1\n",
       "881    1\n",
       "882    1\n",
       "883    1\n",
       "884    1\n",
       "Name: Embarked, Length: 875, dtype: int64"
      ]
     },
     "execution_count": 104,
     "metadata": {},
     "output_type": "execute_result"
    }
   ],
   "source": [
    "data['Embarked'].map(len) # Embarked 열의 길이 확인"
   ]
  },
  {
   "cell_type": "code",
   "execution_count": 105,
   "metadata": {},
   "outputs": [
    {
     "data": {
      "text/plain": [
       "0      1\n",
       "1      1\n",
       "2      1\n",
       "4      1\n",
       "5      1\n",
       "      ..\n",
       "880    1\n",
       "881    1\n",
       "882    1\n",
       "883    1\n",
       "884    1\n",
       "Name: Embarked, Length: 875, dtype: int64"
      ]
     },
     "execution_count": 105,
     "metadata": {},
     "output_type": "execute_result"
    }
   ],
   "source": [
    "data['Embarked'].apply(len) # Embarked 열의 길이 확인"
   ]
  },
  {
   "cell_type": "code",
   "execution_count": 106,
   "metadata": {},
   "outputs": [
    {
     "data": {
      "text/plain": [
       "Pclass         875\n",
       "Gender         875\n",
       "Age            875\n",
       "SibSp          875\n",
       "Parch          875\n",
       "Ticket         875\n",
       "Embarked       875\n",
       "Survived       875\n",
       "ticket_date    875\n",
       "dtype: int64"
      ]
     },
     "execution_count": 106,
     "metadata": {},
     "output_type": "execute_result"
    }
   ],
   "source": [
    "data.apply(len)"
   ]
  },
  {
   "cell_type": "code",
   "execution_count": 108,
   "metadata": {},
   "outputs": [
    {
     "data": {
      "text/plain": [
       "875"
      ]
     },
     "execution_count": 108,
     "metadata": {},
     "output_type": "execute_result"
    }
   ],
   "source": [
    "len(data) # 데이터프레임의 길이 확인"
   ]
  },
  {
   "cell_type": "markdown",
   "metadata": {},
   "source": [
    "## Text Data Handling - 텍스트 데이터 처리"
   ]
  },
  {
   "cell_type": "markdown",
   "metadata": {},
   "source": [
    "Text Slicing\n",
    "\n",
    "sample_txt[0:3] # 0~2까지 슬라이싱      \n",
    "sample_txt[:3] # 0~2까지 슬라이싱       \n",
    "sample_txt[4:11] # 3~끝까지 슬라이싱        \n",
    "sample_txt[4:] # 3~끝까지 슬라이싱      \n",
    "sample_txt[-5:] # -5부터 끝까지 슬라이싱        \n",
    "\n",
    "Text treatment\n",
    "\n",
    "sample_txt.lower() # 소문자로 변환      \n",
    "sample_txt.upper() # 대문자로 변환      \n",
    "sample_txt.title() # 첫글자만 대문자로 변환     \n",
    "sample_txt.capitalize() # 첫글자만 대문자로 변환        \n",
    "sample_txt.strip() # 양쪽 공백 제거     \n",
    "sample_txt.lstrip() # 왼쪽 공백 제거        \n",
    "sample_txt.rstrip() # 오른쪽 공백 제거      \n",
    "sample_txt.split('/') # '/'로 나누기        \n",
    "sample_txt.split() # 공백으로 나누기        \n",
    "sample_txt.split()[1] # 공백으로 나누고 1번째 요소 출력     \n",
    "sample_txt.split()[-1]\n",
    "\n",
    "txt_a.isdigit() # 숫자인지 확인\n",
    "\n",
    "data['Ticket'].str[-5:] # Ticket 열의 마지막 5글자 확인\n",
    "data['Ticket'].str.split(expand = True) # Ticket 열을 공백으로 나누고 데이터프레임으로 변환     \n",
    "data[~data['n_ticket'].str.isdigit()] # 숫자가 아닌 행 슬라이싱     \n",
    "data['n_ticket'] = data['n_ticket'].replace({'LINE' : 999999}) # 'LINE'을 999999로 변경\n",
    "data['n_ticket'] = data['n_ticket'].astype('int') # n_ticket 열을 int로 변경 데이터 프레임에 반영\n",
    "pd.to_numeric(data['n_ticket'], errors = 'coerce') # n_ticket 열을 int로 변경 (숫자가 아닌 것은 NaN으로 변경)"
   ]
  },
  {
   "cell_type": "code",
   "execution_count": 113,
   "metadata": {},
   "outputs": [
    {
     "name": "stdout",
     "output_type": "stream",
     "text": [
      "sample_txt : A/5 21171\n",
      "sample_txt[0:3] : A/5\n",
      "sample_txt[:3] : A/5\n",
      "sample_txt[4:11] : 21171\n",
      "sample_txt[4:] : 21171\n",
      "sample_txt[-5:] : 21171\n"
     ]
    }
   ],
   "source": [
    "sample_txt = 'A/5 21171'\n",
    "\n",
    "print('sample_txt :',sample_txt)\n",
    "print('sample_txt[0:3] :',sample_txt[0:3]) # 0~2까지 슬라이싱\n",
    "print('sample_txt[:3] :',sample_txt[:3]) # 0~2까지 슬라이싱\n",
    "print('sample_txt[4:11] :',sample_txt[4:11]) # 3~끝까지 슬라이싱\n",
    "print('sample_txt[4:] :',sample_txt[4:]) # 3~끝까지 슬라이싱\n",
    "print('sample_txt[-5:] :',sample_txt[-5:]) # -5부터 끝까지 슬라이싱"
   ]
  },
  {
   "cell_type": "code",
   "execution_count": null,
   "metadata": {},
   "outputs": [
    {
     "name": "stdout",
     "output_type": "stream",
     "text": [
      "a/5 21171\n",
      "A/5 21171\n",
      "A/5 21171\n",
      "A/5 21171\n",
      "A/5 21171\n",
      "A/5 21171\n",
      "A/5 21171\n",
      "['A', '5 21171']\n",
      "['A/5', '21171']\n",
      "21171\n",
      "21171\n"
     ]
    }
   ],
   "source": [
    "print(sample_txt.lower()) # 소문자로 변환\n",
    "print(sample_txt.upper()) # 대문자로 변환\n",
    "print(sample_txt.title()) # 첫글자만 대문자로 변환\n",
    "print(sample_txt.capitalize()) # 첫글자만 대문자로 변환\n",
    "print(sample_txt.strip()) # 양쪽 공백 제거\n",
    "print(sample_txt.lstrip()) # 왼쪽 공백 제거\n",
    "print(sample_txt.rstrip()) # 오른쪽 공백 제거\n",
    "print(sample_txt.split('/')) # '/'로 나누기\n",
    "print(sample_txt.split()) # 공백으로 나누기\n",
    "print(sample_txt.split()[1]) # 공백으로 나누고 1번째 요소 출력\n",
    "print(sample_txt.split()[-1])"
   ]
  },
  {
   "cell_type": "code",
   "execution_count": 126,
   "metadata": {},
   "outputs": [],
   "source": [
    "txt_a = '123'\n",
    "txt_b = 'abc'\n",
    "txt_c = '12a'"
   ]
  },
  {
   "cell_type": "code",
   "execution_count": 127,
   "metadata": {},
   "outputs": [
    {
     "data": {
      "text/plain": [
       "False"
      ]
     },
     "execution_count": 127,
     "metadata": {},
     "output_type": "execute_result"
    }
   ],
   "source": [
    "txt_a.isdigit() # 숫자인지 확인\n",
    "txt_b.isdigit() # 숫자인지 확인\n",
    "txt_c.isdigit() # 숫자인지 확인"
   ]
  },
  {
   "cell_type": "code",
   "execution_count": 117,
   "metadata": {},
   "outputs": [
    {
     "data": {
      "text/plain": [
       "0             A/5 21171\n",
       "1              PC 17599\n",
       "2      STON/O2. 3101282\n",
       "4                373450\n",
       "5                330877\n",
       "             ...       \n",
       "880              211536\n",
       "881              112053\n",
       "882          W./C. 6607\n",
       "883              111369\n",
       "884              370376\n",
       "Name: Ticket, Length: 875, dtype: object"
      ]
     },
     "execution_count": 117,
     "metadata": {},
     "output_type": "execute_result"
    }
   ],
   "source": [
    "data['Ticket']"
   ]
  },
  {
   "cell_type": "code",
   "execution_count": 118,
   "metadata": {},
   "outputs": [
    {
     "data": {
      "text/plain": [
       "0      21171\n",
       "1      17599\n",
       "2      01282\n",
       "4      73450\n",
       "5      30877\n",
       "       ...  \n",
       "880    11536\n",
       "881    12053\n",
       "882     6607\n",
       "883    11369\n",
       "884    70376\n",
       "Name: Ticket, Length: 875, dtype: object"
      ]
     },
     "execution_count": 118,
     "metadata": {},
     "output_type": "execute_result"
    }
   ],
   "source": [
    "# 컬럼의 값 : data['Ticket'].str\n",
    "data['Ticket'].str[-5:] # Ticket 열의 마지막 5글자 확인\n"
   ]
  },
  {
   "cell_type": "code",
   "execution_count": 119,
   "metadata": {},
   "outputs": [
    {
     "data": {
      "text/plain": [
       "0             [A/5, 21171]\n",
       "1              [PC, 17599]\n",
       "2      [STON/O2., 3101282]\n",
       "4                 [373450]\n",
       "5                 [330877]\n",
       "              ...         \n",
       "880               [211536]\n",
       "881               [112053]\n",
       "882          [W./C., 6607]\n",
       "883               [111369]\n",
       "884               [370376]\n",
       "Name: Ticket, Length: 875, dtype: object"
      ]
     },
     "execution_count": 119,
     "metadata": {},
     "output_type": "execute_result"
    }
   ],
   "source": [
    "data['Ticket'].str.split() # Ticket 열을 공백으로 나누기"
   ]
  },
  {
   "cell_type": "code",
   "execution_count": 121,
   "metadata": {},
   "outputs": [
    {
     "data": {
      "text/html": [
       "<div>\n",
       "<style scoped>\n",
       "    .dataframe tbody tr th:only-of-type {\n",
       "        vertical-align: middle;\n",
       "    }\n",
       "\n",
       "    .dataframe tbody tr th {\n",
       "        vertical-align: top;\n",
       "    }\n",
       "\n",
       "    .dataframe thead th {\n",
       "        text-align: right;\n",
       "    }\n",
       "</style>\n",
       "<table border=\"1\" class=\"dataframe\">\n",
       "  <thead>\n",
       "    <tr style=\"text-align: right;\">\n",
       "      <th></th>\n",
       "      <th>0</th>\n",
       "      <th>1</th>\n",
       "      <th>2</th>\n",
       "    </tr>\n",
       "  </thead>\n",
       "  <tbody>\n",
       "    <tr>\n",
       "      <th>0</th>\n",
       "      <td>A/5</td>\n",
       "      <td>21171</td>\n",
       "      <td>None</td>\n",
       "    </tr>\n",
       "    <tr>\n",
       "      <th>1</th>\n",
       "      <td>PC</td>\n",
       "      <td>17599</td>\n",
       "      <td>None</td>\n",
       "    </tr>\n",
       "    <tr>\n",
       "      <th>2</th>\n",
       "      <td>STON/O2.</td>\n",
       "      <td>3101282</td>\n",
       "      <td>None</td>\n",
       "    </tr>\n",
       "    <tr>\n",
       "      <th>4</th>\n",
       "      <td>373450</td>\n",
       "      <td>None</td>\n",
       "      <td>None</td>\n",
       "    </tr>\n",
       "    <tr>\n",
       "      <th>5</th>\n",
       "      <td>330877</td>\n",
       "      <td>None</td>\n",
       "      <td>None</td>\n",
       "    </tr>\n",
       "    <tr>\n",
       "      <th>...</th>\n",
       "      <td>...</td>\n",
       "      <td>...</td>\n",
       "      <td>...</td>\n",
       "    </tr>\n",
       "    <tr>\n",
       "      <th>880</th>\n",
       "      <td>211536</td>\n",
       "      <td>None</td>\n",
       "      <td>None</td>\n",
       "    </tr>\n",
       "    <tr>\n",
       "      <th>881</th>\n",
       "      <td>112053</td>\n",
       "      <td>None</td>\n",
       "      <td>None</td>\n",
       "    </tr>\n",
       "    <tr>\n",
       "      <th>882</th>\n",
       "      <td>W./C.</td>\n",
       "      <td>6607</td>\n",
       "      <td>None</td>\n",
       "    </tr>\n",
       "    <tr>\n",
       "      <th>883</th>\n",
       "      <td>111369</td>\n",
       "      <td>None</td>\n",
       "      <td>None</td>\n",
       "    </tr>\n",
       "    <tr>\n",
       "      <th>884</th>\n",
       "      <td>370376</td>\n",
       "      <td>None</td>\n",
       "      <td>None</td>\n",
       "    </tr>\n",
       "  </tbody>\n",
       "</table>\n",
       "<p>875 rows × 3 columns</p>\n",
       "</div>"
      ],
      "text/plain": [
       "            0        1     2\n",
       "0         A/5    21171  None\n",
       "1          PC    17599  None\n",
       "2    STON/O2.  3101282  None\n",
       "4      373450     None  None\n",
       "5      330877     None  None\n",
       "..        ...      ...   ...\n",
       "880    211536     None  None\n",
       "881    112053     None  None\n",
       "882     W./C.     6607  None\n",
       "883    111369     None  None\n",
       "884    370376     None  None\n",
       "\n",
       "[875 rows x 3 columns]"
      ]
     },
     "execution_count": 121,
     "metadata": {},
     "output_type": "execute_result"
    }
   ],
   "source": [
    "data['Ticket'].str.split(expand = True) # Ticket 열을 공백으로 나누고 데이터프레임으로 변환\n",
    "# data['Ticket'].str.split(expand = True)[0] # Ticket 열을 공백으로 나누고 첫번째 요소 확인"
   ]
  },
  {
   "cell_type": "code",
   "execution_count": 123,
   "metadata": {},
   "outputs": [
    {
     "data": {
      "text/plain": [
       "0        21171\n",
       "1        17599\n",
       "2      3101282\n",
       "4       373450\n",
       "5       330877\n",
       "        ...   \n",
       "880     211536\n",
       "881     112053\n",
       "882       6607\n",
       "883     111369\n",
       "884     370376\n",
       "Name: Ticket, Length: 875, dtype: object"
      ]
     },
     "execution_count": 123,
     "metadata": {},
     "output_type": "execute_result"
    }
   ],
   "source": [
    "data['Ticket'].str.split().apply(lambda x : x[-1])  # Ticket 열을 공백으로 나누고 마지막 요소 확인\n"
   ]
  },
  {
   "cell_type": "code",
   "execution_count": 124,
   "metadata": {},
   "outputs": [
    {
     "name": "stdout",
     "output_type": "stream",
     "text": [
      "<class 'pandas.core.frame.DataFrame'>\n",
      "Index: 875 entries, 0 to 884\n",
      "Data columns (total 10 columns):\n",
      " #   Column       Non-Null Count  Dtype  \n",
      "---  ------       --------------  -----  \n",
      " 0   Pclass       875 non-null    int64  \n",
      " 1   Gender       875 non-null    object \n",
      " 2   Age          875 non-null    float64\n",
      " 3   SibSp        875 non-null    int64  \n",
      " 4   Parch        875 non-null    int64  \n",
      " 5   Ticket       875 non-null    object \n",
      " 6   Embarked     875 non-null    object \n",
      " 7   Survived     875 non-null    int64  \n",
      " 8   ticket_date  875 non-null    object \n",
      " 9   n_ticket     875 non-null    object \n",
      "dtypes: float64(1), int64(4), object(5)\n",
      "memory usage: 107.5+ KB\n"
     ]
    }
   ],
   "source": [
    "data['n_ticket'] = data['Ticket'].str.split().apply(lambda x : x[-1])\n",
    "\n",
    "data.info()"
   ]
  },
  {
   "cell_type": "code",
   "execution_count": 129,
   "metadata": {},
   "outputs": [
    {
     "data": {
      "text/plain": [
       "0      True\n",
       "1      True\n",
       "2      True\n",
       "4      True\n",
       "5      True\n",
       "       ... \n",
       "880    True\n",
       "881    True\n",
       "882    True\n",
       "883    True\n",
       "884    True\n",
       "Name: n_ticket, Length: 875, dtype: bool"
      ]
     },
     "execution_count": 129,
     "metadata": {},
     "output_type": "execute_result"
    }
   ],
   "source": [
    "data['n_ticket'].str.isdigit() # 숫자인지 확인"
   ]
  },
  {
   "cell_type": "code",
   "execution_count": null,
   "metadata": {},
   "outputs": [
    {
     "data": {
      "text/plain": [
       "871"
      ]
     },
     "execution_count": 131,
     "metadata": {},
     "output_type": "execute_result"
    }
   ],
   "source": [
    "data['n_ticket'].str.isdigit().sum() # 숫자인거 갯수 확인"
   ]
  },
  {
   "cell_type": "code",
   "execution_count": 132,
   "metadata": {},
   "outputs": [
    {
     "data": {
      "text/html": [
       "<div>\n",
       "<style scoped>\n",
       "    .dataframe tbody tr th:only-of-type {\n",
       "        vertical-align: middle;\n",
       "    }\n",
       "\n",
       "    .dataframe tbody tr th {\n",
       "        vertical-align: top;\n",
       "    }\n",
       "\n",
       "    .dataframe thead th {\n",
       "        text-align: right;\n",
       "    }\n",
       "</style>\n",
       "<table border=\"1\" class=\"dataframe\">\n",
       "  <thead>\n",
       "    <tr style=\"text-align: right;\">\n",
       "      <th></th>\n",
       "      <th>Pclass</th>\n",
       "      <th>Gender</th>\n",
       "      <th>Age</th>\n",
       "      <th>SibSp</th>\n",
       "      <th>Parch</th>\n",
       "      <th>Ticket</th>\n",
       "      <th>Embarked</th>\n",
       "      <th>Survived</th>\n",
       "      <th>ticket_date</th>\n",
       "      <th>n_ticket</th>\n",
       "    </tr>\n",
       "  </thead>\n",
       "  <tbody>\n",
       "    <tr>\n",
       "      <th>0</th>\n",
       "      <td>3</td>\n",
       "      <td>male</td>\n",
       "      <td>22.0</td>\n",
       "      <td>1</td>\n",
       "      <td>0</td>\n",
       "      <td>A/5 21171</td>\n",
       "      <td>S</td>\n",
       "      <td>0</td>\n",
       "      <td>1912-01-12</td>\n",
       "      <td>21171</td>\n",
       "    </tr>\n",
       "    <tr>\n",
       "      <th>1</th>\n",
       "      <td>1</td>\n",
       "      <td>female</td>\n",
       "      <td>38.0</td>\n",
       "      <td>1</td>\n",
       "      <td>0</td>\n",
       "      <td>PC 17599</td>\n",
       "      <td>C</td>\n",
       "      <td>1</td>\n",
       "      <td>1912-03-29</td>\n",
       "      <td>17599</td>\n",
       "    </tr>\n",
       "    <tr>\n",
       "      <th>2</th>\n",
       "      <td>3</td>\n",
       "      <td>female</td>\n",
       "      <td>26.0</td>\n",
       "      <td>0</td>\n",
       "      <td>0</td>\n",
       "      <td>STON/O2. 3101282</td>\n",
       "      <td>S</td>\n",
       "      <td>1</td>\n",
       "      <td>1912-02-23</td>\n",
       "      <td>3101282</td>\n",
       "    </tr>\n",
       "    <tr>\n",
       "      <th>4</th>\n",
       "      <td>3</td>\n",
       "      <td>male</td>\n",
       "      <td>35.0</td>\n",
       "      <td>0</td>\n",
       "      <td>0</td>\n",
       "      <td>373450</td>\n",
       "      <td>S</td>\n",
       "      <td>0</td>\n",
       "      <td>1912-04-03</td>\n",
       "      <td>373450</td>\n",
       "    </tr>\n",
       "    <tr>\n",
       "      <th>5</th>\n",
       "      <td>3</td>\n",
       "      <td>male</td>\n",
       "      <td>28.0</td>\n",
       "      <td>0</td>\n",
       "      <td>0</td>\n",
       "      <td>330877</td>\n",
       "      <td>Q</td>\n",
       "      <td>0</td>\n",
       "      <td>1912-03-30</td>\n",
       "      <td>330877</td>\n",
       "    </tr>\n",
       "    <tr>\n",
       "      <th>...</th>\n",
       "      <td>...</td>\n",
       "      <td>...</td>\n",
       "      <td>...</td>\n",
       "      <td>...</td>\n",
       "      <td>...</td>\n",
       "      <td>...</td>\n",
       "      <td>...</td>\n",
       "      <td>...</td>\n",
       "      <td>...</td>\n",
       "      <td>...</td>\n",
       "    </tr>\n",
       "    <tr>\n",
       "      <th>880</th>\n",
       "      <td>2</td>\n",
       "      <td>male</td>\n",
       "      <td>27.0</td>\n",
       "      <td>0</td>\n",
       "      <td>0</td>\n",
       "      <td>211536</td>\n",
       "      <td>S</td>\n",
       "      <td>0</td>\n",
       "      <td>1912-01-29</td>\n",
       "      <td>211536</td>\n",
       "    </tr>\n",
       "    <tr>\n",
       "      <th>881</th>\n",
       "      <td>1</td>\n",
       "      <td>female</td>\n",
       "      <td>19.0</td>\n",
       "      <td>0</td>\n",
       "      <td>0</td>\n",
       "      <td>112053</td>\n",
       "      <td>S</td>\n",
       "      <td>1</td>\n",
       "      <td>1912-03-30</td>\n",
       "      <td>112053</td>\n",
       "    </tr>\n",
       "    <tr>\n",
       "      <th>882</th>\n",
       "      <td>3</td>\n",
       "      <td>female</td>\n",
       "      <td>28.0</td>\n",
       "      <td>1</td>\n",
       "      <td>2</td>\n",
       "      <td>W./C. 6607</td>\n",
       "      <td>S</td>\n",
       "      <td>0</td>\n",
       "      <td>1912-04-07</td>\n",
       "      <td>6607</td>\n",
       "    </tr>\n",
       "    <tr>\n",
       "      <th>883</th>\n",
       "      <td>1</td>\n",
       "      <td>male</td>\n",
       "      <td>26.0</td>\n",
       "      <td>0</td>\n",
       "      <td>0</td>\n",
       "      <td>111369</td>\n",
       "      <td>C</td>\n",
       "      <td>1</td>\n",
       "      <td>1912-03-01</td>\n",
       "      <td>111369</td>\n",
       "    </tr>\n",
       "    <tr>\n",
       "      <th>884</th>\n",
       "      <td>3</td>\n",
       "      <td>male</td>\n",
       "      <td>32.0</td>\n",
       "      <td>0</td>\n",
       "      <td>0</td>\n",
       "      <td>370376</td>\n",
       "      <td>Q</td>\n",
       "      <td>0</td>\n",
       "      <td>1912-03-05</td>\n",
       "      <td>370376</td>\n",
       "    </tr>\n",
       "  </tbody>\n",
       "</table>\n",
       "<p>871 rows × 10 columns</p>\n",
       "</div>"
      ],
      "text/plain": [
       "     Pclass  Gender   Age  SibSp  Parch            Ticket Embarked  Survived  \\\n",
       "0         3    male  22.0      1      0         A/5 21171        S         0   \n",
       "1         1  female  38.0      1      0          PC 17599        C         1   \n",
       "2         3  female  26.0      0      0  STON/O2. 3101282        S         1   \n",
       "4         3    male  35.0      0      0            373450        S         0   \n",
       "5         3    male  28.0      0      0            330877        Q         0   \n",
       "..      ...     ...   ...    ...    ...               ...      ...       ...   \n",
       "880       2    male  27.0      0      0            211536        S         0   \n",
       "881       1  female  19.0      0      0            112053        S         1   \n",
       "882       3  female  28.0      1      2        W./C. 6607        S         0   \n",
       "883       1    male  26.0      0      0            111369        C         1   \n",
       "884       3    male  32.0      0      0            370376        Q         0   \n",
       "\n",
       "    ticket_date n_ticket  \n",
       "0    1912-01-12    21171  \n",
       "1    1912-03-29    17599  \n",
       "2    1912-02-23  3101282  \n",
       "4    1912-04-03   373450  \n",
       "5    1912-03-30   330877  \n",
       "..          ...      ...  \n",
       "880  1912-01-29   211536  \n",
       "881  1912-03-30   112053  \n",
       "882  1912-04-07     6607  \n",
       "883  1912-03-01   111369  \n",
       "884  1912-03-05   370376  \n",
       "\n",
       "[871 rows x 10 columns]"
      ]
     },
     "execution_count": 132,
     "metadata": {},
     "output_type": "execute_result"
    }
   ],
   "source": [
    "data[data['n_ticket'].str.isdigit()] # 숫자인 record 확인"
   ]
  },
  {
   "cell_type": "code",
   "execution_count": null,
   "metadata": {},
   "outputs": [
    {
     "data": {
      "text/plain": [
       "0      False\n",
       "1      False\n",
       "2      False\n",
       "4      False\n",
       "5      False\n",
       "       ...  \n",
       "880    False\n",
       "881    False\n",
       "882    False\n",
       "883    False\n",
       "884    False\n",
       "Name: n_ticket, Length: 875, dtype: bool"
      ]
     },
     "execution_count": 133,
     "metadata": {},
     "output_type": "execute_result"
    }
   ],
   "source": [
    "~data['n_ticket'].str.isdigit() # 숫자 아닌 것 확인 (숫자가 아닌 것이 True)"
   ]
  },
  {
   "cell_type": "code",
   "execution_count": 136,
   "metadata": {},
   "outputs": [
    {
     "data": {
      "text/html": [
       "<div>\n",
       "<style scoped>\n",
       "    .dataframe tbody tr th:only-of-type {\n",
       "        vertical-align: middle;\n",
       "    }\n",
       "\n",
       "    .dataframe tbody tr th {\n",
       "        vertical-align: top;\n",
       "    }\n",
       "\n",
       "    .dataframe thead th {\n",
       "        text-align: right;\n",
       "    }\n",
       "</style>\n",
       "<table border=\"1\" class=\"dataframe\">\n",
       "  <thead>\n",
       "    <tr style=\"text-align: right;\">\n",
       "      <th></th>\n",
       "      <th>Pclass</th>\n",
       "      <th>Gender</th>\n",
       "      <th>Age</th>\n",
       "      <th>SibSp</th>\n",
       "      <th>Parch</th>\n",
       "      <th>Ticket</th>\n",
       "      <th>Embarked</th>\n",
       "      <th>Survived</th>\n",
       "      <th>ticket_date</th>\n",
       "      <th>n_ticket</th>\n",
       "    </tr>\n",
       "  </thead>\n",
       "  <tbody>\n",
       "    <tr>\n",
       "      <th>178</th>\n",
       "      <td>3</td>\n",
       "      <td>male</td>\n",
       "      <td>36.0</td>\n",
       "      <td>0</td>\n",
       "      <td>0</td>\n",
       "      <td>LINE</td>\n",
       "      <td>S</td>\n",
       "      <td>0</td>\n",
       "      <td>1912-04-08</td>\n",
       "      <td>LINE</td>\n",
       "    </tr>\n",
       "    <tr>\n",
       "      <th>270</th>\n",
       "      <td>3</td>\n",
       "      <td>male</td>\n",
       "      <td>25.0</td>\n",
       "      <td>0</td>\n",
       "      <td>0</td>\n",
       "      <td>LINE</td>\n",
       "      <td>S</td>\n",
       "      <td>1</td>\n",
       "      <td>1912-04-08</td>\n",
       "      <td>LINE</td>\n",
       "    </tr>\n",
       "    <tr>\n",
       "      <th>301</th>\n",
       "      <td>3</td>\n",
       "      <td>male</td>\n",
       "      <td>19.0</td>\n",
       "      <td>0</td>\n",
       "      <td>0</td>\n",
       "      <td>LINE</td>\n",
       "      <td>S</td>\n",
       "      <td>0</td>\n",
       "      <td>1912-04-08</td>\n",
       "      <td>LINE</td>\n",
       "    </tr>\n",
       "    <tr>\n",
       "      <th>594</th>\n",
       "      <td>3</td>\n",
       "      <td>male</td>\n",
       "      <td>49.0</td>\n",
       "      <td>0</td>\n",
       "      <td>0</td>\n",
       "      <td>LINE</td>\n",
       "      <td>S</td>\n",
       "      <td>0</td>\n",
       "      <td>1912-04-08</td>\n",
       "      <td>LINE</td>\n",
       "    </tr>\n",
       "  </tbody>\n",
       "</table>\n",
       "</div>"
      ],
      "text/plain": [
       "     Pclass Gender   Age  SibSp  Parch Ticket Embarked  Survived ticket_date  \\\n",
       "178       3   male  36.0      0      0   LINE        S         0  1912-04-08   \n",
       "270       3   male  25.0      0      0   LINE        S         1  1912-04-08   \n",
       "301       3   male  19.0      0      0   LINE        S         0  1912-04-08   \n",
       "594       3   male  49.0      0      0   LINE        S         0  1912-04-08   \n",
       "\n",
       "    n_ticket  \n",
       "178     LINE  \n",
       "270     LINE  \n",
       "301     LINE  \n",
       "594     LINE  "
      ]
     },
     "execution_count": 136,
     "metadata": {},
     "output_type": "execute_result"
    }
   ],
   "source": [
    "data[~data['n_ticket'].str.isdigit()] # 숫자가 아닌 행 슬라이싱"
   ]
  },
  {
   "cell_type": "code",
   "execution_count": 137,
   "metadata": {},
   "outputs": [],
   "source": [
    "data['n_ticket'] = data['n_ticket'].replace({'LINE' : 999999}) # 'LINE'을 999999로 변경"
   ]
  },
  {
   "cell_type": "code",
   "execution_count": null,
   "metadata": {},
   "outputs": [],
   "source": [
    "data['n_ticket'].astype('int') # n_ticket 열을 int로 변경\n",
    "data['n_ticket'] = data['n_ticket'].astype('int') # n_ticket 열을 int로 변경 데이터 프레임에 반영\n",
    "# pd.to_numeric(data['n_ticket'], errors = 'coerce') # n_ticket 열을 int로 변경 (숫자가 아닌 것은 NaN으로 변경)"
   ]
  },
  {
   "cell_type": "code",
   "execution_count": 139,
   "metadata": {},
   "outputs": [
    {
     "name": "stdout",
     "output_type": "stream",
     "text": [
      "<class 'pandas.core.frame.DataFrame'>\n",
      "Index: 875 entries, 0 to 884\n",
      "Data columns (total 10 columns):\n",
      " #   Column       Non-Null Count  Dtype  \n",
      "---  ------       --------------  -----  \n",
      " 0   Pclass       875 non-null    int64  \n",
      " 1   Gender       875 non-null    object \n",
      " 2   Age          875 non-null    float64\n",
      " 3   SibSp        875 non-null    int64  \n",
      " 4   Parch        875 non-null    int64  \n",
      " 5   Ticket       875 non-null    object \n",
      " 6   Embarked     875 non-null    object \n",
      " 7   Survived     875 non-null    int64  \n",
      " 8   ticket_date  875 non-null    object \n",
      " 9   n_ticket     875 non-null    int64  \n",
      "dtypes: float64(1), int64(5), object(4)\n",
      "memory usage: 107.5+ KB\n"
     ]
    }
   ],
   "source": [
    "data.info()"
   ]
  },
  {
   "cell_type": "markdown",
   "metadata": {},
   "source": [
    "## DateTime - 날짜 및 시간 데이터 처리"
   ]
  },
  {
   "cell_type": "markdown",
   "metadata": {},
   "source": [
    "\n",
    ">datetime.strptime('2023-10-01', '%Y-%m-%d') # 문자열을 datetime으로 변환 ;str'p'time  \n",
    ">\n",
    ">datetime.strftime(sample_date, '%Y-%b-%d') # datetime을 문자열로 변환 ; str'f'time      \n",
    "\n",
    ">data['ticket_date'] = pd.to_datetime(data['ticket_date']) # 문자열을 datetime으로 변환      \n",
    ">\n",
    ">data['ticket_date'].dt.year # n_ticket 열을 연도로 변경     \n",
    ">\n",
    ">data['buy_before_acc'] = data['buy_before_acc'].dt.days # 날짜 차이를 일수로 변경 => data['buy_before_acc'] 열 int로 변경       "
   ]
  },
  {
   "cell_type": "code",
   "execution_count": 140,
   "metadata": {},
   "outputs": [
    {
     "data": {
      "text/html": [
       "<div>\n",
       "<style scoped>\n",
       "    .dataframe tbody tr th:only-of-type {\n",
       "        vertical-align: middle;\n",
       "    }\n",
       "\n",
       "    .dataframe tbody tr th {\n",
       "        vertical-align: top;\n",
       "    }\n",
       "\n",
       "    .dataframe thead th {\n",
       "        text-align: right;\n",
       "    }\n",
       "</style>\n",
       "<table border=\"1\" class=\"dataframe\">\n",
       "  <thead>\n",
       "    <tr style=\"text-align: right;\">\n",
       "      <th></th>\n",
       "      <th>Pclass</th>\n",
       "      <th>Gender</th>\n",
       "      <th>Age</th>\n",
       "      <th>SibSp</th>\n",
       "      <th>Parch</th>\n",
       "      <th>Ticket</th>\n",
       "      <th>Embarked</th>\n",
       "      <th>Survived</th>\n",
       "      <th>ticket_date</th>\n",
       "      <th>n_ticket</th>\n",
       "    </tr>\n",
       "  </thead>\n",
       "  <tbody>\n",
       "    <tr>\n",
       "      <th>0</th>\n",
       "      <td>3</td>\n",
       "      <td>male</td>\n",
       "      <td>22.0</td>\n",
       "      <td>1</td>\n",
       "      <td>0</td>\n",
       "      <td>A/5 21171</td>\n",
       "      <td>S</td>\n",
       "      <td>0</td>\n",
       "      <td>1912-01-12</td>\n",
       "      <td>21171</td>\n",
       "    </tr>\n",
       "    <tr>\n",
       "      <th>1</th>\n",
       "      <td>1</td>\n",
       "      <td>female</td>\n",
       "      <td>38.0</td>\n",
       "      <td>1</td>\n",
       "      <td>0</td>\n",
       "      <td>PC 17599</td>\n",
       "      <td>C</td>\n",
       "      <td>1</td>\n",
       "      <td>1912-03-29</td>\n",
       "      <td>17599</td>\n",
       "    </tr>\n",
       "    <tr>\n",
       "      <th>2</th>\n",
       "      <td>3</td>\n",
       "      <td>female</td>\n",
       "      <td>26.0</td>\n",
       "      <td>0</td>\n",
       "      <td>0</td>\n",
       "      <td>STON/O2. 3101282</td>\n",
       "      <td>S</td>\n",
       "      <td>1</td>\n",
       "      <td>1912-02-23</td>\n",
       "      <td>3101282</td>\n",
       "    </tr>\n",
       "    <tr>\n",
       "      <th>4</th>\n",
       "      <td>3</td>\n",
       "      <td>male</td>\n",
       "      <td>35.0</td>\n",
       "      <td>0</td>\n",
       "      <td>0</td>\n",
       "      <td>373450</td>\n",
       "      <td>S</td>\n",
       "      <td>0</td>\n",
       "      <td>1912-04-03</td>\n",
       "      <td>373450</td>\n",
       "    </tr>\n",
       "    <tr>\n",
       "      <th>5</th>\n",
       "      <td>3</td>\n",
       "      <td>male</td>\n",
       "      <td>28.0</td>\n",
       "      <td>0</td>\n",
       "      <td>0</td>\n",
       "      <td>330877</td>\n",
       "      <td>Q</td>\n",
       "      <td>0</td>\n",
       "      <td>1912-03-30</td>\n",
       "      <td>330877</td>\n",
       "    </tr>\n",
       "  </tbody>\n",
       "</table>\n",
       "</div>"
      ],
      "text/plain": [
       "   Pclass  Gender   Age  SibSp  Parch            Ticket Embarked  Survived  \\\n",
       "0       3    male  22.0      1      0         A/5 21171        S         0   \n",
       "1       1  female  38.0      1      0          PC 17599        C         1   \n",
       "2       3  female  26.0      0      0  STON/O2. 3101282        S         1   \n",
       "4       3    male  35.0      0      0            373450        S         0   \n",
       "5       3    male  28.0      0      0            330877        Q         0   \n",
       "\n",
       "  ticket_date  n_ticket  \n",
       "0  1912-01-12     21171  \n",
       "1  1912-03-29     17599  \n",
       "2  1912-02-23   3101282  \n",
       "4  1912-04-03    373450  \n",
       "5  1912-03-30    330877  "
      ]
     },
     "execution_count": 140,
     "metadata": {},
     "output_type": "execute_result"
    }
   ],
   "source": [
    "data.head()"
   ]
  },
  {
   "cell_type": "code",
   "execution_count": 143,
   "metadata": {},
   "outputs": [],
   "source": [
    "sample_date = datetime.strptime('2023-10-01', '%Y-%m-%d') # 문자열을 datetime으로 변환"
   ]
  },
  {
   "cell_type": "code",
   "execution_count": 144,
   "metadata": {},
   "outputs": [
    {
     "data": {
      "text/plain": [
       "datetime.datetime(2023, 10, 1, 0, 0)"
      ]
     },
     "execution_count": 144,
     "metadata": {},
     "output_type": "execute_result"
    }
   ],
   "source": [
    "datetime.strptime('23-10-01', '%y-%m-%d')"
   ]
  },
  {
   "cell_type": "code",
   "execution_count": 145,
   "metadata": {},
   "outputs": [
    {
     "data": {
      "text/plain": [
       "datetime.datetime(2023, 1, 1, 0, 0)"
      ]
     },
     "execution_count": 145,
     "metadata": {},
     "output_type": "execute_result"
    }
   ],
   "source": [
    "datetime.strptime('2023-Jan-01', '%Y-%b-%d')"
   ]
  },
  {
   "cell_type": "code",
   "execution_count": 146,
   "metadata": {},
   "outputs": [
    {
     "data": {
      "text/plain": [
       "'2023-Oct-01'"
      ]
     },
     "execution_count": 146,
     "metadata": {},
     "output_type": "execute_result"
    }
   ],
   "source": [
    "datetime.strftime(sample_date, '%Y-%b-%d') # datetime을 문자열로 변환"
   ]
  },
  {
   "cell_type": "code",
   "execution_count": 147,
   "metadata": {},
   "outputs": [
    {
     "data": {
      "text/plain": [
       "2023"
      ]
     },
     "execution_count": 147,
     "metadata": {},
     "output_type": "execute_result"
    }
   ],
   "source": [
    "sample_date.year"
   ]
  },
  {
   "cell_type": "code",
   "execution_count": 149,
   "metadata": {},
   "outputs": [],
   "source": [
    "next_date = datetime.strptime('2023-05-05', '%Y-%m-%d')"
   ]
  },
  {
   "cell_type": "code",
   "execution_count": 150,
   "metadata": {},
   "outputs": [
    {
     "data": {
      "text/plain": [
       "datetime.timedelta(days=-149)"
      ]
     },
     "execution_count": 150,
     "metadata": {},
     "output_type": "execute_result"
    }
   ],
   "source": [
    "next_date - sample_date # 날짜 차이 계산"
   ]
  },
  {
   "cell_type": "code",
   "execution_count": 154,
   "metadata": {},
   "outputs": [
    {
     "name": "stdout",
     "output_type": "stream",
     "text": [
      "<class 'pandas.core.frame.DataFrame'>\n",
      "Index: 875 entries, 0 to 884\n",
      "Data columns (total 10 columns):\n",
      " #   Column       Non-Null Count  Dtype  \n",
      "---  ------       --------------  -----  \n",
      " 0   Pclass       875 non-null    int64  \n",
      " 1   Gender       875 non-null    object \n",
      " 2   Age          875 non-null    float64\n",
      " 3   SibSp        875 non-null    int64  \n",
      " 4   Parch        875 non-null    int64  \n",
      " 5   Ticket       875 non-null    object \n",
      " 6   Embarked     875 non-null    object \n",
      " 7   Survived     875 non-null    int64  \n",
      " 8   ticket_date  875 non-null    object \n",
      " 9   n_ticket     875 non-null    int64  \n",
      "dtypes: float64(1), int64(5), object(4)\n",
      "memory usage: 107.5+ KB\n"
     ]
    }
   ],
   "source": [
    "data.info()"
   ]
  },
  {
   "cell_type": "code",
   "execution_count": 155,
   "metadata": {},
   "outputs": [],
   "source": [
    "data['ticket_date'] = pd.to_datetime(data['ticket_date']) # 문자열을 datetime으로 변환"
   ]
  },
  {
   "cell_type": "code",
   "execution_count": 156,
   "metadata": {},
   "outputs": [
    {
     "name": "stdout",
     "output_type": "stream",
     "text": [
      "<class 'pandas.core.frame.DataFrame'>\n",
      "Index: 875 entries, 0 to 884\n",
      "Data columns (total 10 columns):\n",
      " #   Column       Non-Null Count  Dtype         \n",
      "---  ------       --------------  -----         \n",
      " 0   Pclass       875 non-null    int64         \n",
      " 1   Gender       875 non-null    object        \n",
      " 2   Age          875 non-null    float64       \n",
      " 3   SibSp        875 non-null    int64         \n",
      " 4   Parch        875 non-null    int64         \n",
      " 5   Ticket       875 non-null    object        \n",
      " 6   Embarked     875 non-null    object        \n",
      " 7   Survived     875 non-null    int64         \n",
      " 8   ticket_date  875 non-null    datetime64[ns]\n",
      " 9   n_ticket     875 non-null    int64         \n",
      "dtypes: datetime64[ns](1), float64(1), int64(5), object(3)\n",
      "memory usage: 107.5+ KB\n"
     ]
    }
   ],
   "source": [
    "data.info()"
   ]
  },
  {
   "cell_type": "code",
   "execution_count": 158,
   "metadata": {},
   "outputs": [
    {
     "data": {
      "text/plain": [
       "0      1912\n",
       "1      1912\n",
       "2      1912\n",
       "4      1912\n",
       "5      1912\n",
       "       ... \n",
       "880    1912\n",
       "881    1912\n",
       "882    1912\n",
       "883    1912\n",
       "884    1912\n",
       "Name: ticket_date, Length: 875, dtype: int32"
      ]
     },
     "execution_count": 158,
     "metadata": {},
     "output_type": "execute_result"
    }
   ],
   "source": [
    "data['ticket_date'].dt.year # n_ticket 열을 연도로 변경"
   ]
  },
  {
   "cell_type": "code",
   "execution_count": 159,
   "metadata": {},
   "outputs": [],
   "source": [
    "acc = datetime.strptime('1912-04-15', '%Y-%m-%d')"
   ]
  },
  {
   "cell_type": "code",
   "execution_count": null,
   "metadata": {},
   "outputs": [],
   "source": [
    "data['buy_before_acc'] = acc - data['ticket_date'] # 사고 전 구매한 날짜 계산\n",
    "# data['buy_before_acc'] = data['buy_before_acc'].dt.days # 날짜 차이를 일수로 변경"
   ]
  },
  {
   "cell_type": "code",
   "execution_count": 161,
   "metadata": {},
   "outputs": [
    {
     "name": "stdout",
     "output_type": "stream",
     "text": [
      "<class 'pandas.core.frame.DataFrame'>\n",
      "Index: 875 entries, 0 to 884\n",
      "Data columns (total 11 columns):\n",
      " #   Column          Non-Null Count  Dtype          \n",
      "---  ------          --------------  -----          \n",
      " 0   Pclass          875 non-null    int64          \n",
      " 1   Gender          875 non-null    object         \n",
      " 2   Age             875 non-null    float64        \n",
      " 3   SibSp           875 non-null    int64          \n",
      " 4   Parch           875 non-null    int64          \n",
      " 5   Ticket          875 non-null    object         \n",
      " 6   Embarked        875 non-null    object         \n",
      " 7   Survived        875 non-null    int64          \n",
      " 8   ticket_date     875 non-null    datetime64[ns] \n",
      " 9   n_ticket        875 non-null    int64          \n",
      " 10  buy_before_acc  875 non-null    timedelta64[ns]\n",
      "dtypes: datetime64[ns](1), float64(1), int64(5), object(3), timedelta64[ns](1)\n",
      "memory usage: 114.3+ KB\n"
     ]
    }
   ],
   "source": [
    "data.info()"
   ]
  },
  {
   "cell_type": "code",
   "execution_count": 163,
   "metadata": {},
   "outputs": [
    {
     "data": {
      "text/html": [
       "<div>\n",
       "<style scoped>\n",
       "    .dataframe tbody tr th:only-of-type {\n",
       "        vertical-align: middle;\n",
       "    }\n",
       "\n",
       "    .dataframe tbody tr th {\n",
       "        vertical-align: top;\n",
       "    }\n",
       "\n",
       "    .dataframe thead th {\n",
       "        text-align: right;\n",
       "    }\n",
       "</style>\n",
       "<table border=\"1\" class=\"dataframe\">\n",
       "  <thead>\n",
       "    <tr style=\"text-align: right;\">\n",
       "      <th></th>\n",
       "      <th>Pclass</th>\n",
       "      <th>Gender</th>\n",
       "      <th>Age</th>\n",
       "      <th>SibSp</th>\n",
       "      <th>Parch</th>\n",
       "      <th>Ticket</th>\n",
       "      <th>Embarked</th>\n",
       "      <th>Survived</th>\n",
       "      <th>ticket_date</th>\n",
       "      <th>n_ticket</th>\n",
       "      <th>buy_before_acc</th>\n",
       "    </tr>\n",
       "  </thead>\n",
       "  <tbody>\n",
       "    <tr>\n",
       "      <th>0</th>\n",
       "      <td>3</td>\n",
       "      <td>male</td>\n",
       "      <td>22.0</td>\n",
       "      <td>1</td>\n",
       "      <td>0</td>\n",
       "      <td>A/5 21171</td>\n",
       "      <td>S</td>\n",
       "      <td>0</td>\n",
       "      <td>1912-01-12</td>\n",
       "      <td>21171</td>\n",
       "      <td>94 days</td>\n",
       "    </tr>\n",
       "    <tr>\n",
       "      <th>1</th>\n",
       "      <td>1</td>\n",
       "      <td>female</td>\n",
       "      <td>38.0</td>\n",
       "      <td>1</td>\n",
       "      <td>0</td>\n",
       "      <td>PC 17599</td>\n",
       "      <td>C</td>\n",
       "      <td>1</td>\n",
       "      <td>1912-03-29</td>\n",
       "      <td>17599</td>\n",
       "      <td>17 days</td>\n",
       "    </tr>\n",
       "    <tr>\n",
       "      <th>2</th>\n",
       "      <td>3</td>\n",
       "      <td>female</td>\n",
       "      <td>26.0</td>\n",
       "      <td>0</td>\n",
       "      <td>0</td>\n",
       "      <td>STON/O2. 3101282</td>\n",
       "      <td>S</td>\n",
       "      <td>1</td>\n",
       "      <td>1912-02-23</td>\n",
       "      <td>3101282</td>\n",
       "      <td>52 days</td>\n",
       "    </tr>\n",
       "    <tr>\n",
       "      <th>4</th>\n",
       "      <td>3</td>\n",
       "      <td>male</td>\n",
       "      <td>35.0</td>\n",
       "      <td>0</td>\n",
       "      <td>0</td>\n",
       "      <td>373450</td>\n",
       "      <td>S</td>\n",
       "      <td>0</td>\n",
       "      <td>1912-04-03</td>\n",
       "      <td>373450</td>\n",
       "      <td>12 days</td>\n",
       "    </tr>\n",
       "    <tr>\n",
       "      <th>5</th>\n",
       "      <td>3</td>\n",
       "      <td>male</td>\n",
       "      <td>28.0</td>\n",
       "      <td>0</td>\n",
       "      <td>0</td>\n",
       "      <td>330877</td>\n",
       "      <td>Q</td>\n",
       "      <td>0</td>\n",
       "      <td>1912-03-30</td>\n",
       "      <td>330877</td>\n",
       "      <td>16 days</td>\n",
       "    </tr>\n",
       "  </tbody>\n",
       "</table>\n",
       "</div>"
      ],
      "text/plain": [
       "   Pclass  Gender   Age  SibSp  Parch            Ticket Embarked  Survived  \\\n",
       "0       3    male  22.0      1      0         A/5 21171        S         0   \n",
       "1       1  female  38.0      1      0          PC 17599        C         1   \n",
       "2       3  female  26.0      0      0  STON/O2. 3101282        S         1   \n",
       "4       3    male  35.0      0      0            373450        S         0   \n",
       "5       3    male  28.0      0      0            330877        Q         0   \n",
       "\n",
       "  ticket_date  n_ticket buy_before_acc  \n",
       "0  1912-01-12     21171        94 days  \n",
       "1  1912-03-29     17599        17 days  \n",
       "2  1912-02-23   3101282        52 days  \n",
       "4  1912-04-03    373450        12 days  \n",
       "5  1912-03-30    330877        16 days  "
      ]
     },
     "execution_count": 163,
     "metadata": {},
     "output_type": "execute_result"
    }
   ],
   "source": [
    "data.head()"
   ]
  },
  {
   "cell_type": "code",
   "execution_count": null,
   "metadata": {},
   "outputs": [],
   "source": [
    "data['buy_before_acc'] = data['buy_before_acc'].dt.days # 날짜 차이를 일수로 변경 => data['buy_before_acc'] 열이 int로 변경됨"
   ]
  },
  {
   "cell_type": "code",
   "execution_count": 165,
   "metadata": {},
   "outputs": [
    {
     "name": "stdout",
     "output_type": "stream",
     "text": [
      "<class 'pandas.core.frame.DataFrame'>\n",
      "Index: 875 entries, 0 to 884\n",
      "Data columns (total 11 columns):\n",
      " #   Column          Non-Null Count  Dtype         \n",
      "---  ------          --------------  -----         \n",
      " 0   Pclass          875 non-null    int64         \n",
      " 1   Gender          875 non-null    object        \n",
      " 2   Age             875 non-null    float64       \n",
      " 3   SibSp           875 non-null    int64         \n",
      " 4   Parch           875 non-null    int64         \n",
      " 5   Ticket          875 non-null    object        \n",
      " 6   Embarked        875 non-null    object        \n",
      " 7   Survived        875 non-null    int64         \n",
      " 8   ticket_date     875 non-null    datetime64[ns]\n",
      " 9   n_ticket        875 non-null    int64         \n",
      " 10  buy_before_acc  875 non-null    int64         \n",
      "dtypes: datetime64[ns](1), float64(1), int64(6), object(3)\n",
      "memory usage: 114.3+ KB\n"
     ]
    }
   ],
   "source": [
    "data.info()"
   ]
  },
  {
   "cell_type": "code",
   "execution_count": 166,
   "metadata": {},
   "outputs": [
    {
     "data": {
      "text/plain": [
       "0      104\n",
       "1       27\n",
       "2       62\n",
       "4       22\n",
       "5       26\n",
       "      ... \n",
       "880     87\n",
       "881     26\n",
       "882     18\n",
       "883     55\n",
       "884     51\n",
       "Name: buy_before_acc, Length: 875, dtype: int64"
      ]
     },
     "execution_count": 166,
     "metadata": {},
     "output_type": "execute_result"
    }
   ],
   "source": [
    "data['buy_before_acc'] + 10 # 10일 더하기"
   ]
  }
 ],
 "metadata": {
  "kernelspec": {
   "display_name": "3.12.2",
   "language": "python",
   "name": "python3"
  },
  "language_info": {
   "codemirror_mode": {
    "name": "ipython",
    "version": 3
   },
   "file_extension": ".py",
   "mimetype": "text/x-python",
   "name": "python",
   "nbconvert_exporter": "python",
   "pygments_lexer": "ipython3",
   "version": "3.12.2"
  }
 },
 "nbformat": 4,
 "nbformat_minor": 2
}
